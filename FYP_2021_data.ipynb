{
  "nbformat": 4,
  "nbformat_minor": 0,
  "metadata": {
    "colab": {
      "provenance": [],
      "authorship_tag": "ABX9TyNrWA2MyupP2c1f8NHp4P3D",
      "include_colab_link": true
    },
    "kernelspec": {
      "name": "python3",
      "display_name": "Python 3"
    },
    "language_info": {
      "name": "python"
    }
  },
  "cells": [
    {
      "cell_type": "markdown",
      "metadata": {
        "id": "view-in-github",
        "colab_type": "text"
      },
      "source": [
        "<a href=\"https://colab.research.google.com/github/Aelamin19/Business-Analytics/blob/main/FYP_2021_data.ipynb\" target=\"_parent\"><img src=\"https://colab.research.google.com/assets/colab-badge.svg\" alt=\"Open In Colab\"/></a>"
      ]
    },
    {
      "cell_type": "code",
      "source": [
        "import pandas as pd\n",
        "import matplotlib.pyplot as plt\n",
        "import numpy as np\n",
        "import xgboost as xgb\n",
        "from xgboost import XGBRegressor\n",
        "from xgboost import XGBRFRegressor"
      ],
      "metadata": {
        "id": "hvOd_2pZyGak"
      },
      "execution_count": 55,
      "outputs": []
    },
    {
      "cell_type": "code",
      "execution_count": 56,
      "metadata": {
        "id": "_lpeNACYx8LM"
      },
      "outputs": [],
      "source": [
        "rent_df = pd.read_csv(\"/content/avg monthly rent 2008-2022.csv\")\n",
        "d_i_df = pd.read_csv(\"/content/Disposable income 2021.csv\")\n",
        "h_p_df = pd.read_csv(\"/content/House purchases.csv\")\n",
        "crime_df = pd.read_csv('/content/recorded_crime_ireland.csv')"
      ]
    },
    {
      "cell_type": "markdown",
      "source": [
        "#Data preprocessing - Rent df"
      ],
      "metadata": {
        "id": "AEvgNNaewSoU"
      }
    },
    {
      "cell_type": "code",
      "source": [
        "rent_df"
      ],
      "metadata": {
        "id": "m3_ubfm-yBXl",
        "colab": {
          "base_uri": "https://localhost:8080/",
          "height": 614
        },
        "outputId": "da65810e-0db5-4826-be42-c41ad2abdd17"
      },
      "execution_count": 57,
      "outputs": [
        {
          "output_type": "execute_result",
          "data": {
            "text/plain": [
              "                        STATISTIC Label  Year Number of Bedrooms  \\\n",
              "0       RTB Average Monthly Rent Report  2008            One bed   \n",
              "1       RTB Average Monthly Rent Report  2008            One bed   \n",
              "2       RTB Average Monthly Rent Report  2008            One bed   \n",
              "3       RTB Average Monthly Rent Report  2008            One bed   \n",
              "4       RTB Average Monthly Rent Report  2008            One bed   \n",
              "...                                 ...   ...                ...   \n",
              "200695  RTB Average Monthly Rent Report  2022      Four plus bed   \n",
              "200696  RTB Average Monthly Rent Report  2022      Four plus bed   \n",
              "200697  RTB Average Monthly Rent Report  2022      Four plus bed   \n",
              "200698  RTB Average Monthly Rent Report  2022      Four plus bed   \n",
              "200699  RTB Average Monthly Rent Report  2022      Four plus bed   \n",
              "\n",
              "         Property Type                      Location  UNIT  VALUE  \n",
              "0       Detached house                        Carlow  Euro    NaN  \n",
              "1       Detached house                   Carlow Town  Euro    NaN  \n",
              "2       Detached house         Graiguecullen, Carlow  Euro    NaN  \n",
              "3       Detached house                Tullow, Carlow  Euro    NaN  \n",
              "4       Detached house                         Cavan  Euro    NaN  \n",
              "...                ...                           ...   ...    ...  \n",
              "200695     Other flats              Delgany, Wicklow  Euro    NaN  \n",
              "200696     Other flats           Greystones, Wicklow  Euro    NaN  \n",
              "200697     Other flats             Kilcoole, Wicklow  Euro    NaN  \n",
              "200698     Other flats  Newtownmountkennedy, Wicklow  Euro    NaN  \n",
              "200699     Other flats              Rathnew, Wicklow  Euro    NaN  \n",
              "\n",
              "[200700 rows x 7 columns]"
            ],
            "text/html": [
              "\n",
              "  <div id=\"df-7b89b214-7ef5-4024-8666-54ea2299dc7b\" class=\"colab-df-container\">\n",
              "    <div>\n",
              "<style scoped>\n",
              "    .dataframe tbody tr th:only-of-type {\n",
              "        vertical-align: middle;\n",
              "    }\n",
              "\n",
              "    .dataframe tbody tr th {\n",
              "        vertical-align: top;\n",
              "    }\n",
              "\n",
              "    .dataframe thead th {\n",
              "        text-align: right;\n",
              "    }\n",
              "</style>\n",
              "<table border=\"1\" class=\"dataframe\">\n",
              "  <thead>\n",
              "    <tr style=\"text-align: right;\">\n",
              "      <th></th>\n",
              "      <th>STATISTIC Label</th>\n",
              "      <th>Year</th>\n",
              "      <th>Number of Bedrooms</th>\n",
              "      <th>Property Type</th>\n",
              "      <th>Location</th>\n",
              "      <th>UNIT</th>\n",
              "      <th>VALUE</th>\n",
              "    </tr>\n",
              "  </thead>\n",
              "  <tbody>\n",
              "    <tr>\n",
              "      <th>0</th>\n",
              "      <td>RTB Average Monthly Rent Report</td>\n",
              "      <td>2008</td>\n",
              "      <td>One bed</td>\n",
              "      <td>Detached house</td>\n",
              "      <td>Carlow</td>\n",
              "      <td>Euro</td>\n",
              "      <td>NaN</td>\n",
              "    </tr>\n",
              "    <tr>\n",
              "      <th>1</th>\n",
              "      <td>RTB Average Monthly Rent Report</td>\n",
              "      <td>2008</td>\n",
              "      <td>One bed</td>\n",
              "      <td>Detached house</td>\n",
              "      <td>Carlow Town</td>\n",
              "      <td>Euro</td>\n",
              "      <td>NaN</td>\n",
              "    </tr>\n",
              "    <tr>\n",
              "      <th>2</th>\n",
              "      <td>RTB Average Monthly Rent Report</td>\n",
              "      <td>2008</td>\n",
              "      <td>One bed</td>\n",
              "      <td>Detached house</td>\n",
              "      <td>Graiguecullen, Carlow</td>\n",
              "      <td>Euro</td>\n",
              "      <td>NaN</td>\n",
              "    </tr>\n",
              "    <tr>\n",
              "      <th>3</th>\n",
              "      <td>RTB Average Monthly Rent Report</td>\n",
              "      <td>2008</td>\n",
              "      <td>One bed</td>\n",
              "      <td>Detached house</td>\n",
              "      <td>Tullow, Carlow</td>\n",
              "      <td>Euro</td>\n",
              "      <td>NaN</td>\n",
              "    </tr>\n",
              "    <tr>\n",
              "      <th>4</th>\n",
              "      <td>RTB Average Monthly Rent Report</td>\n",
              "      <td>2008</td>\n",
              "      <td>One bed</td>\n",
              "      <td>Detached house</td>\n",
              "      <td>Cavan</td>\n",
              "      <td>Euro</td>\n",
              "      <td>NaN</td>\n",
              "    </tr>\n",
              "    <tr>\n",
              "      <th>...</th>\n",
              "      <td>...</td>\n",
              "      <td>...</td>\n",
              "      <td>...</td>\n",
              "      <td>...</td>\n",
              "      <td>...</td>\n",
              "      <td>...</td>\n",
              "      <td>...</td>\n",
              "    </tr>\n",
              "    <tr>\n",
              "      <th>200695</th>\n",
              "      <td>RTB Average Monthly Rent Report</td>\n",
              "      <td>2022</td>\n",
              "      <td>Four plus bed</td>\n",
              "      <td>Other flats</td>\n",
              "      <td>Delgany, Wicklow</td>\n",
              "      <td>Euro</td>\n",
              "      <td>NaN</td>\n",
              "    </tr>\n",
              "    <tr>\n",
              "      <th>200696</th>\n",
              "      <td>RTB Average Monthly Rent Report</td>\n",
              "      <td>2022</td>\n",
              "      <td>Four plus bed</td>\n",
              "      <td>Other flats</td>\n",
              "      <td>Greystones, Wicklow</td>\n",
              "      <td>Euro</td>\n",
              "      <td>NaN</td>\n",
              "    </tr>\n",
              "    <tr>\n",
              "      <th>200697</th>\n",
              "      <td>RTB Average Monthly Rent Report</td>\n",
              "      <td>2022</td>\n",
              "      <td>Four plus bed</td>\n",
              "      <td>Other flats</td>\n",
              "      <td>Kilcoole, Wicklow</td>\n",
              "      <td>Euro</td>\n",
              "      <td>NaN</td>\n",
              "    </tr>\n",
              "    <tr>\n",
              "      <th>200698</th>\n",
              "      <td>RTB Average Monthly Rent Report</td>\n",
              "      <td>2022</td>\n",
              "      <td>Four plus bed</td>\n",
              "      <td>Other flats</td>\n",
              "      <td>Newtownmountkennedy, Wicklow</td>\n",
              "      <td>Euro</td>\n",
              "      <td>NaN</td>\n",
              "    </tr>\n",
              "    <tr>\n",
              "      <th>200699</th>\n",
              "      <td>RTB Average Monthly Rent Report</td>\n",
              "      <td>2022</td>\n",
              "      <td>Four plus bed</td>\n",
              "      <td>Other flats</td>\n",
              "      <td>Rathnew, Wicklow</td>\n",
              "      <td>Euro</td>\n",
              "      <td>NaN</td>\n",
              "    </tr>\n",
              "  </tbody>\n",
              "</table>\n",
              "<p>200700 rows × 7 columns</p>\n",
              "</div>\n",
              "    <div class=\"colab-df-buttons\">\n",
              "\n",
              "  <div class=\"colab-df-container\">\n",
              "    <button class=\"colab-df-convert\" onclick=\"convertToInteractive('df-7b89b214-7ef5-4024-8666-54ea2299dc7b')\"\n",
              "            title=\"Convert this dataframe to an interactive table.\"\n",
              "            style=\"display:none;\">\n",
              "\n",
              "  <svg xmlns=\"http://www.w3.org/2000/svg\" height=\"24px\" viewBox=\"0 -960 960 960\">\n",
              "    <path d=\"M120-120v-720h720v720H120Zm60-500h600v-160H180v160Zm220 220h160v-160H400v160Zm0 220h160v-160H400v160ZM180-400h160v-160H180v160Zm440 0h160v-160H620v160ZM180-180h160v-160H180v160Zm440 0h160v-160H620v160Z\"/>\n",
              "  </svg>\n",
              "    </button>\n",
              "\n",
              "  <style>\n",
              "    .colab-df-container {\n",
              "      display:flex;\n",
              "      gap: 12px;\n",
              "    }\n",
              "\n",
              "    .colab-df-convert {\n",
              "      background-color: #E8F0FE;\n",
              "      border: none;\n",
              "      border-radius: 50%;\n",
              "      cursor: pointer;\n",
              "      display: none;\n",
              "      fill: #1967D2;\n",
              "      height: 32px;\n",
              "      padding: 0 0 0 0;\n",
              "      width: 32px;\n",
              "    }\n",
              "\n",
              "    .colab-df-convert:hover {\n",
              "      background-color: #E2EBFA;\n",
              "      box-shadow: 0px 1px 2px rgba(60, 64, 67, 0.3), 0px 1px 3px 1px rgba(60, 64, 67, 0.15);\n",
              "      fill: #174EA6;\n",
              "    }\n",
              "\n",
              "    .colab-df-buttons div {\n",
              "      margin-bottom: 4px;\n",
              "    }\n",
              "\n",
              "    [theme=dark] .colab-df-convert {\n",
              "      background-color: #3B4455;\n",
              "      fill: #D2E3FC;\n",
              "    }\n",
              "\n",
              "    [theme=dark] .colab-df-convert:hover {\n",
              "      background-color: #434B5C;\n",
              "      box-shadow: 0px 1px 3px 1px rgba(0, 0, 0, 0.15);\n",
              "      filter: drop-shadow(0px 1px 2px rgba(0, 0, 0, 0.3));\n",
              "      fill: #FFFFFF;\n",
              "    }\n",
              "  </style>\n",
              "\n",
              "    <script>\n",
              "      const buttonEl =\n",
              "        document.querySelector('#df-7b89b214-7ef5-4024-8666-54ea2299dc7b button.colab-df-convert');\n",
              "      buttonEl.style.display =\n",
              "        google.colab.kernel.accessAllowed ? 'block' : 'none';\n",
              "\n",
              "      async function convertToInteractive(key) {\n",
              "        const element = document.querySelector('#df-7b89b214-7ef5-4024-8666-54ea2299dc7b');\n",
              "        const dataTable =\n",
              "          await google.colab.kernel.invokeFunction('convertToInteractive',\n",
              "                                                    [key], {});\n",
              "        if (!dataTable) return;\n",
              "\n",
              "        const docLinkHtml = 'Like what you see? Visit the ' +\n",
              "          '<a target=\"_blank\" href=https://colab.research.google.com/notebooks/data_table.ipynb>data table notebook</a>'\n",
              "          + ' to learn more about interactive tables.';\n",
              "        element.innerHTML = '';\n",
              "        dataTable['output_type'] = 'display_data';\n",
              "        await google.colab.output.renderOutput(dataTable, element);\n",
              "        const docLink = document.createElement('div');\n",
              "        docLink.innerHTML = docLinkHtml;\n",
              "        element.appendChild(docLink);\n",
              "      }\n",
              "    </script>\n",
              "  </div>\n",
              "\n",
              "\n",
              "<div id=\"df-498760bd-f3c8-473a-b45d-eb5562beac74\">\n",
              "  <button class=\"colab-df-quickchart\" onclick=\"quickchart('df-498760bd-f3c8-473a-b45d-eb5562beac74')\"\n",
              "            title=\"Suggest charts\"\n",
              "            style=\"display:none;\">\n",
              "\n",
              "<svg xmlns=\"http://www.w3.org/2000/svg\" height=\"24px\"viewBox=\"0 0 24 24\"\n",
              "     width=\"24px\">\n",
              "    <g>\n",
              "        <path d=\"M19 3H5c-1.1 0-2 .9-2 2v14c0 1.1.9 2 2 2h14c1.1 0 2-.9 2-2V5c0-1.1-.9-2-2-2zM9 17H7v-7h2v7zm4 0h-2V7h2v10zm4 0h-2v-4h2v4z\"/>\n",
              "    </g>\n",
              "</svg>\n",
              "  </button>\n",
              "\n",
              "<style>\n",
              "  .colab-df-quickchart {\n",
              "      --bg-color: #E8F0FE;\n",
              "      --fill-color: #1967D2;\n",
              "      --hover-bg-color: #E2EBFA;\n",
              "      --hover-fill-color: #174EA6;\n",
              "      --disabled-fill-color: #AAA;\n",
              "      --disabled-bg-color: #DDD;\n",
              "  }\n",
              "\n",
              "  [theme=dark] .colab-df-quickchart {\n",
              "      --bg-color: #3B4455;\n",
              "      --fill-color: #D2E3FC;\n",
              "      --hover-bg-color: #434B5C;\n",
              "      --hover-fill-color: #FFFFFF;\n",
              "      --disabled-bg-color: #3B4455;\n",
              "      --disabled-fill-color: #666;\n",
              "  }\n",
              "\n",
              "  .colab-df-quickchart {\n",
              "    background-color: var(--bg-color);\n",
              "    border: none;\n",
              "    border-radius: 50%;\n",
              "    cursor: pointer;\n",
              "    display: none;\n",
              "    fill: var(--fill-color);\n",
              "    height: 32px;\n",
              "    padding: 0;\n",
              "    width: 32px;\n",
              "  }\n",
              "\n",
              "  .colab-df-quickchart:hover {\n",
              "    background-color: var(--hover-bg-color);\n",
              "    box-shadow: 0 1px 2px rgba(60, 64, 67, 0.3), 0 1px 3px 1px rgba(60, 64, 67, 0.15);\n",
              "    fill: var(--button-hover-fill-color);\n",
              "  }\n",
              "\n",
              "  .colab-df-quickchart-complete:disabled,\n",
              "  .colab-df-quickchart-complete:disabled:hover {\n",
              "    background-color: var(--disabled-bg-color);\n",
              "    fill: var(--disabled-fill-color);\n",
              "    box-shadow: none;\n",
              "  }\n",
              "\n",
              "  .colab-df-spinner {\n",
              "    border: 2px solid var(--fill-color);\n",
              "    border-color: transparent;\n",
              "    border-bottom-color: var(--fill-color);\n",
              "    animation:\n",
              "      spin 1s steps(1) infinite;\n",
              "  }\n",
              "\n",
              "  @keyframes spin {\n",
              "    0% {\n",
              "      border-color: transparent;\n",
              "      border-bottom-color: var(--fill-color);\n",
              "      border-left-color: var(--fill-color);\n",
              "    }\n",
              "    20% {\n",
              "      border-color: transparent;\n",
              "      border-left-color: var(--fill-color);\n",
              "      border-top-color: var(--fill-color);\n",
              "    }\n",
              "    30% {\n",
              "      border-color: transparent;\n",
              "      border-left-color: var(--fill-color);\n",
              "      border-top-color: var(--fill-color);\n",
              "      border-right-color: var(--fill-color);\n",
              "    }\n",
              "    40% {\n",
              "      border-color: transparent;\n",
              "      border-right-color: var(--fill-color);\n",
              "      border-top-color: var(--fill-color);\n",
              "    }\n",
              "    60% {\n",
              "      border-color: transparent;\n",
              "      border-right-color: var(--fill-color);\n",
              "    }\n",
              "    80% {\n",
              "      border-color: transparent;\n",
              "      border-right-color: var(--fill-color);\n",
              "      border-bottom-color: var(--fill-color);\n",
              "    }\n",
              "    90% {\n",
              "      border-color: transparent;\n",
              "      border-bottom-color: var(--fill-color);\n",
              "    }\n",
              "  }\n",
              "</style>\n",
              "\n",
              "  <script>\n",
              "    async function quickchart(key) {\n",
              "      const quickchartButtonEl =\n",
              "        document.querySelector('#' + key + ' button');\n",
              "      quickchartButtonEl.disabled = true;  // To prevent multiple clicks.\n",
              "      quickchartButtonEl.classList.add('colab-df-spinner');\n",
              "      try {\n",
              "        const charts = await google.colab.kernel.invokeFunction(\n",
              "            'suggestCharts', [key], {});\n",
              "      } catch (error) {\n",
              "        console.error('Error during call to suggestCharts:', error);\n",
              "      }\n",
              "      quickchartButtonEl.classList.remove('colab-df-spinner');\n",
              "      quickchartButtonEl.classList.add('colab-df-quickchart-complete');\n",
              "    }\n",
              "    (() => {\n",
              "      let quickchartButtonEl =\n",
              "        document.querySelector('#df-498760bd-f3c8-473a-b45d-eb5562beac74 button');\n",
              "      quickchartButtonEl.style.display =\n",
              "        google.colab.kernel.accessAllowed ? 'block' : 'none';\n",
              "    })();\n",
              "  </script>\n",
              "</div>\n",
              "    </div>\n",
              "  </div>\n"
            ],
            "application/vnd.google.colaboratory.intrinsic+json": {
              "type": "dataframe",
              "variable_name": "rent_df"
            }
          },
          "metadata": {},
          "execution_count": 57
        }
      ]
    },
    {
      "cell_type": "code",
      "source": [
        "#The 'All properties' value is not needed, so it will be removed\n",
        "rent_df = rent_df.drop(rent_df[rent_df['Property Type'] == 'All property types'].index)"
      ],
      "metadata": {
        "id": "5jaQicFuvZwr"
      },
      "execution_count": 58,
      "outputs": []
    },
    {
      "cell_type": "code",
      "source": [
        "#Now, unnecessary columns will be removed\n",
        "rent_df = rent_df.drop(\"STATISTIC Label\", axis = \"columns\")\n",
        "rent_df = rent_df.drop(\"UNIT\", axis = \"columns\")"
      ],
      "metadata": {
        "id": "sItokGkFvesV"
      },
      "execution_count": 59,
      "outputs": []
    },
    {
      "cell_type": "code",
      "source": [
        "#The rows with null values will be removed\n",
        "rent_df.dropna(subset=[\"VALUE\"], inplace=True)"
      ],
      "metadata": {
        "id": "Rr81c9Ujmk1v"
      },
      "execution_count": 60,
      "outputs": []
    },
    {
      "cell_type": "markdown",
      "source": [
        "##creating a \"regions\" column"
      ],
      "metadata": {
        "id": "4gOOuuZlvreb"
      }
    },
    {
      "cell_type": "code",
      "source": [
        "#try with * if not working\n",
        "def get_region(county, region):\n",
        "    if county in region[\"Dublin\"]:\n",
        "        return 'Dublin'\n",
        "    if county in region[\"Border\"]:\n",
        "        return 'Border'\n",
        "    elif county in region[\"West\"]:\n",
        "        return 'West'\n",
        "    elif county in region[\"Mid_West\"]:\n",
        "        return 'Mid_West'\n",
        "    elif county in region[\"Mid_East\"]:\n",
        "        return 'Mid_East'\n",
        "    elif county in region[\"South_East\"]:\n",
        "        return 'South_East'\n",
        "    elif county in region[\"South_West\"]:\n",
        "        return 'South_West'\n",
        "    elif county in region[\"Midland\"]:\n",
        "        return \"Midland\"\n",
        "    else:\n",
        "        return None"
      ],
      "metadata": {
        "id": "kjEo32ISvo1k"
      },
      "execution_count": 61,
      "outputs": []
    },
    {
      "cell_type": "code",
      "source": [
        "Dublin = [\"Dublin\", \"Dún Laoghaire-Rathdown\", \"South-Dublin\", \"Fingal\"]\n",
        "Border = [\"Cavan\", \"Donegal\", \"Leitrim\", \"Monaghan\", \"Sligo\"]\n",
        "West = [\"Mayo\", \"Roscommon\", \"Galway\"]\n",
        "Mid_West = [\"Clare\", \"Tipperary\", \"Limerick\"]\n",
        "Mid_East = [\"Kildare\", \"Louth\", \"Meath\", \"Wicklow\"]\n",
        "South_East = [\"Carlow\", \"Kilkenny\", \"Wexford\", \"Waterford\"]\n",
        "South_West = [\"Kerry\", \"Cork\"]\n",
        "Midland = [\"Laois\", \"Longford\", \"Offaly\", \"Westmeath\"]"
      ],
      "metadata": {
        "id": "_cfxAuP-v0Cm"
      },
      "execution_count": 62,
      "outputs": []
    },
    {
      "cell_type": "code",
      "source": [
        "region = {\"Dublin\": Dublin, \"Border\": Border, \"West\": West, \"Mid_West\": Mid_West, \"Mid_East\": Mid_East, \"South_East\": South_East, \"South_West\": South_West, \"Midland\": Midland}\n",
        "rent_df['region'] = rent_df[\"Location\"].apply(get_region, args=(region,))\n",
        "rent_df.head(10)"
      ],
      "metadata": {
        "colab": {
          "base_uri": "https://localhost:8080/",
          "height": 363
        },
        "id": "6SFhRtBWv2vp",
        "outputId": "0e152ad0-c023-460d-f176-474405f466e0"
      },
      "execution_count": 63,
      "outputs": [
        {
          "output_type": "execute_result",
          "data": {
            "text/plain": [
              "     Year Number of Bedrooms        Property Type   Location    VALUE  \\\n",
              "20   2008            One bed       Detached house       Cork   556.54   \n",
              "71   2008            One bed       Detached house     Dublin  1031.97   \n",
              "238  2008            One bed       Detached house     Galway   518.02   \n",
              "466  2008            One bed  Semi detached house       Cork   624.69   \n",
              "467  2008            One bed  Semi detached house  Cork City   680.40   \n",
              "517  2008            One bed  Semi detached house     Dublin   855.05   \n",
              "561  2008            One bed  Semi detached house   Dublin 3   745.08   \n",
              "570  2008            One bed  Semi detached house   Dublin 4   911.54   \n",
              "582  2008            One bed  Semi detached house   Dublin 6   801.92   \n",
              "594  2008            One bed  Semi detached house   Dublin 7   642.81   \n",
              "\n",
              "         region  \n",
              "20   South_West  \n",
              "71       Dublin  \n",
              "238        West  \n",
              "466  South_West  \n",
              "467        None  \n",
              "517      Dublin  \n",
              "561        None  \n",
              "570        None  \n",
              "582        None  \n",
              "594        None  "
            ],
            "text/html": [
              "\n",
              "  <div id=\"df-5033dbc0-9e9e-4fde-8ce9-39577509a0a1\" class=\"colab-df-container\">\n",
              "    <div>\n",
              "<style scoped>\n",
              "    .dataframe tbody tr th:only-of-type {\n",
              "        vertical-align: middle;\n",
              "    }\n",
              "\n",
              "    .dataframe tbody tr th {\n",
              "        vertical-align: top;\n",
              "    }\n",
              "\n",
              "    .dataframe thead th {\n",
              "        text-align: right;\n",
              "    }\n",
              "</style>\n",
              "<table border=\"1\" class=\"dataframe\">\n",
              "  <thead>\n",
              "    <tr style=\"text-align: right;\">\n",
              "      <th></th>\n",
              "      <th>Year</th>\n",
              "      <th>Number of Bedrooms</th>\n",
              "      <th>Property Type</th>\n",
              "      <th>Location</th>\n",
              "      <th>VALUE</th>\n",
              "      <th>region</th>\n",
              "    </tr>\n",
              "  </thead>\n",
              "  <tbody>\n",
              "    <tr>\n",
              "      <th>20</th>\n",
              "      <td>2008</td>\n",
              "      <td>One bed</td>\n",
              "      <td>Detached house</td>\n",
              "      <td>Cork</td>\n",
              "      <td>556.54</td>\n",
              "      <td>South_West</td>\n",
              "    </tr>\n",
              "    <tr>\n",
              "      <th>71</th>\n",
              "      <td>2008</td>\n",
              "      <td>One bed</td>\n",
              "      <td>Detached house</td>\n",
              "      <td>Dublin</td>\n",
              "      <td>1031.97</td>\n",
              "      <td>Dublin</td>\n",
              "    </tr>\n",
              "    <tr>\n",
              "      <th>238</th>\n",
              "      <td>2008</td>\n",
              "      <td>One bed</td>\n",
              "      <td>Detached house</td>\n",
              "      <td>Galway</td>\n",
              "      <td>518.02</td>\n",
              "      <td>West</td>\n",
              "    </tr>\n",
              "    <tr>\n",
              "      <th>466</th>\n",
              "      <td>2008</td>\n",
              "      <td>One bed</td>\n",
              "      <td>Semi detached house</td>\n",
              "      <td>Cork</td>\n",
              "      <td>624.69</td>\n",
              "      <td>South_West</td>\n",
              "    </tr>\n",
              "    <tr>\n",
              "      <th>467</th>\n",
              "      <td>2008</td>\n",
              "      <td>One bed</td>\n",
              "      <td>Semi detached house</td>\n",
              "      <td>Cork City</td>\n",
              "      <td>680.40</td>\n",
              "      <td>None</td>\n",
              "    </tr>\n",
              "    <tr>\n",
              "      <th>517</th>\n",
              "      <td>2008</td>\n",
              "      <td>One bed</td>\n",
              "      <td>Semi detached house</td>\n",
              "      <td>Dublin</td>\n",
              "      <td>855.05</td>\n",
              "      <td>Dublin</td>\n",
              "    </tr>\n",
              "    <tr>\n",
              "      <th>561</th>\n",
              "      <td>2008</td>\n",
              "      <td>One bed</td>\n",
              "      <td>Semi detached house</td>\n",
              "      <td>Dublin 3</td>\n",
              "      <td>745.08</td>\n",
              "      <td>None</td>\n",
              "    </tr>\n",
              "    <tr>\n",
              "      <th>570</th>\n",
              "      <td>2008</td>\n",
              "      <td>One bed</td>\n",
              "      <td>Semi detached house</td>\n",
              "      <td>Dublin 4</td>\n",
              "      <td>911.54</td>\n",
              "      <td>None</td>\n",
              "    </tr>\n",
              "    <tr>\n",
              "      <th>582</th>\n",
              "      <td>2008</td>\n",
              "      <td>One bed</td>\n",
              "      <td>Semi detached house</td>\n",
              "      <td>Dublin 6</td>\n",
              "      <td>801.92</td>\n",
              "      <td>None</td>\n",
              "    </tr>\n",
              "    <tr>\n",
              "      <th>594</th>\n",
              "      <td>2008</td>\n",
              "      <td>One bed</td>\n",
              "      <td>Semi detached house</td>\n",
              "      <td>Dublin 7</td>\n",
              "      <td>642.81</td>\n",
              "      <td>None</td>\n",
              "    </tr>\n",
              "  </tbody>\n",
              "</table>\n",
              "</div>\n",
              "    <div class=\"colab-df-buttons\">\n",
              "\n",
              "  <div class=\"colab-df-container\">\n",
              "    <button class=\"colab-df-convert\" onclick=\"convertToInteractive('df-5033dbc0-9e9e-4fde-8ce9-39577509a0a1')\"\n",
              "            title=\"Convert this dataframe to an interactive table.\"\n",
              "            style=\"display:none;\">\n",
              "\n",
              "  <svg xmlns=\"http://www.w3.org/2000/svg\" height=\"24px\" viewBox=\"0 -960 960 960\">\n",
              "    <path d=\"M120-120v-720h720v720H120Zm60-500h600v-160H180v160Zm220 220h160v-160H400v160Zm0 220h160v-160H400v160ZM180-400h160v-160H180v160Zm440 0h160v-160H620v160ZM180-180h160v-160H180v160Zm440 0h160v-160H620v160Z\"/>\n",
              "  </svg>\n",
              "    </button>\n",
              "\n",
              "  <style>\n",
              "    .colab-df-container {\n",
              "      display:flex;\n",
              "      gap: 12px;\n",
              "    }\n",
              "\n",
              "    .colab-df-convert {\n",
              "      background-color: #E8F0FE;\n",
              "      border: none;\n",
              "      border-radius: 50%;\n",
              "      cursor: pointer;\n",
              "      display: none;\n",
              "      fill: #1967D2;\n",
              "      height: 32px;\n",
              "      padding: 0 0 0 0;\n",
              "      width: 32px;\n",
              "    }\n",
              "\n",
              "    .colab-df-convert:hover {\n",
              "      background-color: #E2EBFA;\n",
              "      box-shadow: 0px 1px 2px rgba(60, 64, 67, 0.3), 0px 1px 3px 1px rgba(60, 64, 67, 0.15);\n",
              "      fill: #174EA6;\n",
              "    }\n",
              "\n",
              "    .colab-df-buttons div {\n",
              "      margin-bottom: 4px;\n",
              "    }\n",
              "\n",
              "    [theme=dark] .colab-df-convert {\n",
              "      background-color: #3B4455;\n",
              "      fill: #D2E3FC;\n",
              "    }\n",
              "\n",
              "    [theme=dark] .colab-df-convert:hover {\n",
              "      background-color: #434B5C;\n",
              "      box-shadow: 0px 1px 3px 1px rgba(0, 0, 0, 0.15);\n",
              "      filter: drop-shadow(0px 1px 2px rgba(0, 0, 0, 0.3));\n",
              "      fill: #FFFFFF;\n",
              "    }\n",
              "  </style>\n",
              "\n",
              "    <script>\n",
              "      const buttonEl =\n",
              "        document.querySelector('#df-5033dbc0-9e9e-4fde-8ce9-39577509a0a1 button.colab-df-convert');\n",
              "      buttonEl.style.display =\n",
              "        google.colab.kernel.accessAllowed ? 'block' : 'none';\n",
              "\n",
              "      async function convertToInteractive(key) {\n",
              "        const element = document.querySelector('#df-5033dbc0-9e9e-4fde-8ce9-39577509a0a1');\n",
              "        const dataTable =\n",
              "          await google.colab.kernel.invokeFunction('convertToInteractive',\n",
              "                                                    [key], {});\n",
              "        if (!dataTable) return;\n",
              "\n",
              "        const docLinkHtml = 'Like what you see? Visit the ' +\n",
              "          '<a target=\"_blank\" href=https://colab.research.google.com/notebooks/data_table.ipynb>data table notebook</a>'\n",
              "          + ' to learn more about interactive tables.';\n",
              "        element.innerHTML = '';\n",
              "        dataTable['output_type'] = 'display_data';\n",
              "        await google.colab.output.renderOutput(dataTable, element);\n",
              "        const docLink = document.createElement('div');\n",
              "        docLink.innerHTML = docLinkHtml;\n",
              "        element.appendChild(docLink);\n",
              "      }\n",
              "    </script>\n",
              "  </div>\n",
              "\n",
              "\n",
              "<div id=\"df-65b9901c-29af-447c-93b0-0c07fd847a96\">\n",
              "  <button class=\"colab-df-quickchart\" onclick=\"quickchart('df-65b9901c-29af-447c-93b0-0c07fd847a96')\"\n",
              "            title=\"Suggest charts\"\n",
              "            style=\"display:none;\">\n",
              "\n",
              "<svg xmlns=\"http://www.w3.org/2000/svg\" height=\"24px\"viewBox=\"0 0 24 24\"\n",
              "     width=\"24px\">\n",
              "    <g>\n",
              "        <path d=\"M19 3H5c-1.1 0-2 .9-2 2v14c0 1.1.9 2 2 2h14c1.1 0 2-.9 2-2V5c0-1.1-.9-2-2-2zM9 17H7v-7h2v7zm4 0h-2V7h2v10zm4 0h-2v-4h2v4z\"/>\n",
              "    </g>\n",
              "</svg>\n",
              "  </button>\n",
              "\n",
              "<style>\n",
              "  .colab-df-quickchart {\n",
              "      --bg-color: #E8F0FE;\n",
              "      --fill-color: #1967D2;\n",
              "      --hover-bg-color: #E2EBFA;\n",
              "      --hover-fill-color: #174EA6;\n",
              "      --disabled-fill-color: #AAA;\n",
              "      --disabled-bg-color: #DDD;\n",
              "  }\n",
              "\n",
              "  [theme=dark] .colab-df-quickchart {\n",
              "      --bg-color: #3B4455;\n",
              "      --fill-color: #D2E3FC;\n",
              "      --hover-bg-color: #434B5C;\n",
              "      --hover-fill-color: #FFFFFF;\n",
              "      --disabled-bg-color: #3B4455;\n",
              "      --disabled-fill-color: #666;\n",
              "  }\n",
              "\n",
              "  .colab-df-quickchart {\n",
              "    background-color: var(--bg-color);\n",
              "    border: none;\n",
              "    border-radius: 50%;\n",
              "    cursor: pointer;\n",
              "    display: none;\n",
              "    fill: var(--fill-color);\n",
              "    height: 32px;\n",
              "    padding: 0;\n",
              "    width: 32px;\n",
              "  }\n",
              "\n",
              "  .colab-df-quickchart:hover {\n",
              "    background-color: var(--hover-bg-color);\n",
              "    box-shadow: 0 1px 2px rgba(60, 64, 67, 0.3), 0 1px 3px 1px rgba(60, 64, 67, 0.15);\n",
              "    fill: var(--button-hover-fill-color);\n",
              "  }\n",
              "\n",
              "  .colab-df-quickchart-complete:disabled,\n",
              "  .colab-df-quickchart-complete:disabled:hover {\n",
              "    background-color: var(--disabled-bg-color);\n",
              "    fill: var(--disabled-fill-color);\n",
              "    box-shadow: none;\n",
              "  }\n",
              "\n",
              "  .colab-df-spinner {\n",
              "    border: 2px solid var(--fill-color);\n",
              "    border-color: transparent;\n",
              "    border-bottom-color: var(--fill-color);\n",
              "    animation:\n",
              "      spin 1s steps(1) infinite;\n",
              "  }\n",
              "\n",
              "  @keyframes spin {\n",
              "    0% {\n",
              "      border-color: transparent;\n",
              "      border-bottom-color: var(--fill-color);\n",
              "      border-left-color: var(--fill-color);\n",
              "    }\n",
              "    20% {\n",
              "      border-color: transparent;\n",
              "      border-left-color: var(--fill-color);\n",
              "      border-top-color: var(--fill-color);\n",
              "    }\n",
              "    30% {\n",
              "      border-color: transparent;\n",
              "      border-left-color: var(--fill-color);\n",
              "      border-top-color: var(--fill-color);\n",
              "      border-right-color: var(--fill-color);\n",
              "    }\n",
              "    40% {\n",
              "      border-color: transparent;\n",
              "      border-right-color: var(--fill-color);\n",
              "      border-top-color: var(--fill-color);\n",
              "    }\n",
              "    60% {\n",
              "      border-color: transparent;\n",
              "      border-right-color: var(--fill-color);\n",
              "    }\n",
              "    80% {\n",
              "      border-color: transparent;\n",
              "      border-right-color: var(--fill-color);\n",
              "      border-bottom-color: var(--fill-color);\n",
              "    }\n",
              "    90% {\n",
              "      border-color: transparent;\n",
              "      border-bottom-color: var(--fill-color);\n",
              "    }\n",
              "  }\n",
              "</style>\n",
              "\n",
              "  <script>\n",
              "    async function quickchart(key) {\n",
              "      const quickchartButtonEl =\n",
              "        document.querySelector('#' + key + ' button');\n",
              "      quickchartButtonEl.disabled = true;  // To prevent multiple clicks.\n",
              "      quickchartButtonEl.classList.add('colab-df-spinner');\n",
              "      try {\n",
              "        const charts = await google.colab.kernel.invokeFunction(\n",
              "            'suggestCharts', [key], {});\n",
              "      } catch (error) {\n",
              "        console.error('Error during call to suggestCharts:', error);\n",
              "      }\n",
              "      quickchartButtonEl.classList.remove('colab-df-spinner');\n",
              "      quickchartButtonEl.classList.add('colab-df-quickchart-complete');\n",
              "    }\n",
              "    (() => {\n",
              "      let quickchartButtonEl =\n",
              "        document.querySelector('#df-65b9901c-29af-447c-93b0-0c07fd847a96 button');\n",
              "      quickchartButtonEl.style.display =\n",
              "        google.colab.kernel.accessAllowed ? 'block' : 'none';\n",
              "    })();\n",
              "  </script>\n",
              "</div>\n",
              "    </div>\n",
              "  </div>\n"
            ],
            "application/vnd.google.colaboratory.intrinsic+json": {
              "type": "dataframe",
              "variable_name": "rent_df",
              "summary": "{\n  \"name\": \"rent_df\",\n  \"rows\": 48533,\n  \"fields\": [\n    {\n      \"column\": \"Year\",\n      \"properties\": {\n        \"dtype\": \"number\",\n        \"std\": 4,\n        \"min\": 2008,\n        \"max\": 2022,\n        \"num_unique_values\": 15,\n        \"samples\": [\n          2017,\n          2019,\n          2008\n        ],\n        \"semantic_type\": \"\",\n        \"description\": \"\"\n      }\n    },\n    {\n      \"column\": \"Number of Bedrooms\",\n      \"properties\": {\n        \"dtype\": \"category\",\n        \"num_unique_values\": 6,\n        \"samples\": [\n          \"One bed\",\n          \"Two bed\",\n          \"Four plus bed\"\n        ],\n        \"semantic_type\": \"\",\n        \"description\": \"\"\n      }\n    },\n    {\n      \"column\": \"Property Type\",\n      \"properties\": {\n        \"dtype\": \"category\",\n        \"num_unique_values\": 5,\n        \"samples\": [\n          \"Semi detached house\",\n          \"Other flats\",\n          \"Terrace house\"\n        ],\n        \"semantic_type\": \"\",\n        \"description\": \"\"\n      }\n    },\n    {\n      \"column\": \"Location\",\n      \"properties\": {\n        \"dtype\": \"category\",\n        \"num_unique_values\": 420,\n        \"samples\": [\n          \"Portlaoise, Laois\",\n          \"Mountmellick, Laois\",\n          \"Saggart, Dublin\"\n        ],\n        \"semantic_type\": \"\",\n        \"description\": \"\"\n      }\n    },\n    {\n      \"column\": \"VALUE\",\n      \"properties\": {\n        \"dtype\": \"number\",\n        \"std\": 456.2269884267387,\n        \"min\": 233.67,\n        \"max\": 6385.74,\n        \"num_unique_values\": 39952,\n        \"samples\": [\n          616.0,\n          582.1,\n          984.05\n        ],\n        \"semantic_type\": \"\",\n        \"description\": \"\"\n      }\n    },\n    {\n      \"column\": \"region\",\n      \"properties\": {\n        \"dtype\": \"category\",\n        \"num_unique_values\": 8,\n        \"samples\": [\n          \"Dublin\",\n          \"South_East\",\n          \"South_West\"\n        ],\n        \"semantic_type\": \"\",\n        \"description\": \"\"\n      }\n    }\n  ]\n}"
            }
          },
          "metadata": {},
          "execution_count": 63
        }
      ]
    },
    {
      "cell_type": "code",
      "source": [
        "rent_df['region'].unique()"
      ],
      "metadata": {
        "colab": {
          "base_uri": "https://localhost:8080/"
        },
        "id": "N4zbmU3WWA3J",
        "outputId": "f1b8bc31-91eb-45db-f9a2-0142fdd4b859"
      },
      "execution_count": 64,
      "outputs": [
        {
          "output_type": "execute_result",
          "data": {
            "text/plain": [
              "array(['South_West', 'Dublin', 'West', None, 'Mid_East', 'Mid_West',\n",
              "       'South_East', 'Border', 'Midland'], dtype=object)"
            ]
          },
          "metadata": {},
          "execution_count": 64
        }
      ]
    },
    {
      "cell_type": "code",
      "source": [
        "rent_df.rename(columns = {\"VALUE\": \"rent_value\"},\n",
        "          inplace = True)"
      ],
      "metadata": {
        "id": "qusJeCdOv43G"
      },
      "execution_count": 65,
      "outputs": []
    },
    {
      "cell_type": "code",
      "source": [
        "#The columns with counties will now be removed because the regions are much better to work with\n",
        "rent_df = rent_df.drop(\"Location\", axis = \"columns\")"
      ],
      "metadata": {
        "id": "X4UcumcBv75y"
      },
      "execution_count": 66,
      "outputs": []
    },
    {
      "cell_type": "markdown",
      "source": [
        "##Changing categorical columns to become useful"
      ],
      "metadata": {
        "id": "frxCoC6UwD7n"
      }
    },
    {
      "cell_type": "code",
      "source": [
        "rent_df = rent_df.drop(rent_df[rent_df['Number of Bedrooms'] == '1 to 2 bed'].index)\n",
        "rent_df = rent_df.drop(rent_df[rent_df['Number of Bedrooms'] == '1 to 3 bed'].index)\n",
        "#Lets now assign weights for the number of bedrooms\n",
        "rent_df[\"Number of Bedrooms\"] = rent_df[\"Number of Bedrooms\"].map({\"Four plus bed\": 4,\n",
        "                                                                   \"Three bed\": 3,\n",
        "                                                                   \"Two bed\": 2,\n",
        "                                                                   \"One bed\": 1})"
      ],
      "metadata": {
        "id": "4G0mUyh8v-WW"
      },
      "execution_count": 67,
      "outputs": []
    },
    {
      "cell_type": "code",
      "source": [
        "#rent_df = rent_df.join(pd.get_dummies(rent_df[\"Number of Bedrooms\"])).drop([\"Number of Bedrooms\"], axis=1)\n",
        "rent_df = rent_df.join(pd.get_dummies(rent_df[\"Property Type\"])).drop([\"Property Type\"], axis=1)"
      ],
      "metadata": {
        "id": "dU_smNEqwDBd"
      },
      "execution_count": 68,
      "outputs": []
    },
    {
      "cell_type": "code",
      "source": [
        "rent_df = rent_df.replace({True: 1, False: 0})"
      ],
      "metadata": {
        "id": "PcLgJIMmmLwM"
      },
      "execution_count": 69,
      "outputs": []
    },
    {
      "cell_type": "markdown",
      "source": [
        "#Data Preprocessing - Disposable Income"
      ],
      "metadata": {
        "id": "I252NUZFjYUD"
      }
    },
    {
      "cell_type": "code",
      "source": [
        "#Now, unnecessary columns will be removed\n",
        "d_i_df = d_i_df.drop(\"Statistic Label\", axis = \"columns\")\n",
        "d_i_df = d_i_df.drop(\"UNIT\", axis = \"columns\")"
      ],
      "metadata": {
        "id": "LnLdSl5njZul"
      },
      "execution_count": 70,
      "outputs": []
    },
    {
      "cell_type": "code",
      "source": [
        "d_i_df.rename(columns = {\"VALUE\": \"avg_disposable_income\"},\n",
        "          inplace = True)"
      ],
      "metadata": {
        "id": "PX22K1Gujdcr"
      },
      "execution_count": 71,
      "outputs": []
    },
    {
      "cell_type": "code",
      "source": [
        "d_i_df.rename(columns = {'NUTS 3 Region':'region'}, inplace = True)"
      ],
      "metadata": {
        "id": "naOJG6o-sLLi"
      },
      "execution_count": 72,
      "outputs": []
    },
    {
      "cell_type": "code",
      "source": [
        "d_i_df"
      ],
      "metadata": {
        "colab": {
          "base_uri": "https://localhost:8080/",
          "height": 300
        },
        "id": "6c357rrpr83p",
        "outputId": "29e020f5-f04c-4d88-90c7-eecd23812e92"
      },
      "execution_count": 73,
      "outputs": [
        {
          "output_type": "execute_result",
          "data": {
            "text/plain": [
              "   Year      region  avg_disposable_income\n",
              "0  2021      Border                8450.09\n",
              "1  2021     Midland                6699.88\n",
              "2  2021        West               10783.13\n",
              "3  2021      Dublin               39684.85\n",
              "4  2021    Mid-East               17434.03\n",
              "5  2021    Mid-West               11853.13\n",
              "6  2021  South-East                9980.96\n",
              "7  2021  South-West               17448.48"
            ],
            "text/html": [
              "\n",
              "  <div id=\"df-20272f59-de08-4b0c-8fce-4d2876ed3904\" class=\"colab-df-container\">\n",
              "    <div>\n",
              "<style scoped>\n",
              "    .dataframe tbody tr th:only-of-type {\n",
              "        vertical-align: middle;\n",
              "    }\n",
              "\n",
              "    .dataframe tbody tr th {\n",
              "        vertical-align: top;\n",
              "    }\n",
              "\n",
              "    .dataframe thead th {\n",
              "        text-align: right;\n",
              "    }\n",
              "</style>\n",
              "<table border=\"1\" class=\"dataframe\">\n",
              "  <thead>\n",
              "    <tr style=\"text-align: right;\">\n",
              "      <th></th>\n",
              "      <th>Year</th>\n",
              "      <th>region</th>\n",
              "      <th>avg_disposable_income</th>\n",
              "    </tr>\n",
              "  </thead>\n",
              "  <tbody>\n",
              "    <tr>\n",
              "      <th>0</th>\n",
              "      <td>2021</td>\n",
              "      <td>Border</td>\n",
              "      <td>8450.09</td>\n",
              "    </tr>\n",
              "    <tr>\n",
              "      <th>1</th>\n",
              "      <td>2021</td>\n",
              "      <td>Midland</td>\n",
              "      <td>6699.88</td>\n",
              "    </tr>\n",
              "    <tr>\n",
              "      <th>2</th>\n",
              "      <td>2021</td>\n",
              "      <td>West</td>\n",
              "      <td>10783.13</td>\n",
              "    </tr>\n",
              "    <tr>\n",
              "      <th>3</th>\n",
              "      <td>2021</td>\n",
              "      <td>Dublin</td>\n",
              "      <td>39684.85</td>\n",
              "    </tr>\n",
              "    <tr>\n",
              "      <th>4</th>\n",
              "      <td>2021</td>\n",
              "      <td>Mid-East</td>\n",
              "      <td>17434.03</td>\n",
              "    </tr>\n",
              "    <tr>\n",
              "      <th>5</th>\n",
              "      <td>2021</td>\n",
              "      <td>Mid-West</td>\n",
              "      <td>11853.13</td>\n",
              "    </tr>\n",
              "    <tr>\n",
              "      <th>6</th>\n",
              "      <td>2021</td>\n",
              "      <td>South-East</td>\n",
              "      <td>9980.96</td>\n",
              "    </tr>\n",
              "    <tr>\n",
              "      <th>7</th>\n",
              "      <td>2021</td>\n",
              "      <td>South-West</td>\n",
              "      <td>17448.48</td>\n",
              "    </tr>\n",
              "  </tbody>\n",
              "</table>\n",
              "</div>\n",
              "    <div class=\"colab-df-buttons\">\n",
              "\n",
              "  <div class=\"colab-df-container\">\n",
              "    <button class=\"colab-df-convert\" onclick=\"convertToInteractive('df-20272f59-de08-4b0c-8fce-4d2876ed3904')\"\n",
              "            title=\"Convert this dataframe to an interactive table.\"\n",
              "            style=\"display:none;\">\n",
              "\n",
              "  <svg xmlns=\"http://www.w3.org/2000/svg\" height=\"24px\" viewBox=\"0 -960 960 960\">\n",
              "    <path d=\"M120-120v-720h720v720H120Zm60-500h600v-160H180v160Zm220 220h160v-160H400v160Zm0 220h160v-160H400v160ZM180-400h160v-160H180v160Zm440 0h160v-160H620v160ZM180-180h160v-160H180v160Zm440 0h160v-160H620v160Z\"/>\n",
              "  </svg>\n",
              "    </button>\n",
              "\n",
              "  <style>\n",
              "    .colab-df-container {\n",
              "      display:flex;\n",
              "      gap: 12px;\n",
              "    }\n",
              "\n",
              "    .colab-df-convert {\n",
              "      background-color: #E8F0FE;\n",
              "      border: none;\n",
              "      border-radius: 50%;\n",
              "      cursor: pointer;\n",
              "      display: none;\n",
              "      fill: #1967D2;\n",
              "      height: 32px;\n",
              "      padding: 0 0 0 0;\n",
              "      width: 32px;\n",
              "    }\n",
              "\n",
              "    .colab-df-convert:hover {\n",
              "      background-color: #E2EBFA;\n",
              "      box-shadow: 0px 1px 2px rgba(60, 64, 67, 0.3), 0px 1px 3px 1px rgba(60, 64, 67, 0.15);\n",
              "      fill: #174EA6;\n",
              "    }\n",
              "\n",
              "    .colab-df-buttons div {\n",
              "      margin-bottom: 4px;\n",
              "    }\n",
              "\n",
              "    [theme=dark] .colab-df-convert {\n",
              "      background-color: #3B4455;\n",
              "      fill: #D2E3FC;\n",
              "    }\n",
              "\n",
              "    [theme=dark] .colab-df-convert:hover {\n",
              "      background-color: #434B5C;\n",
              "      box-shadow: 0px 1px 3px 1px rgba(0, 0, 0, 0.15);\n",
              "      filter: drop-shadow(0px 1px 2px rgba(0, 0, 0, 0.3));\n",
              "      fill: #FFFFFF;\n",
              "    }\n",
              "  </style>\n",
              "\n",
              "    <script>\n",
              "      const buttonEl =\n",
              "        document.querySelector('#df-20272f59-de08-4b0c-8fce-4d2876ed3904 button.colab-df-convert');\n",
              "      buttonEl.style.display =\n",
              "        google.colab.kernel.accessAllowed ? 'block' : 'none';\n",
              "\n",
              "      async function convertToInteractive(key) {\n",
              "        const element = document.querySelector('#df-20272f59-de08-4b0c-8fce-4d2876ed3904');\n",
              "        const dataTable =\n",
              "          await google.colab.kernel.invokeFunction('convertToInteractive',\n",
              "                                                    [key], {});\n",
              "        if (!dataTable) return;\n",
              "\n",
              "        const docLinkHtml = 'Like what you see? Visit the ' +\n",
              "          '<a target=\"_blank\" href=https://colab.research.google.com/notebooks/data_table.ipynb>data table notebook</a>'\n",
              "          + ' to learn more about interactive tables.';\n",
              "        element.innerHTML = '';\n",
              "        dataTable['output_type'] = 'display_data';\n",
              "        await google.colab.output.renderOutput(dataTable, element);\n",
              "        const docLink = document.createElement('div');\n",
              "        docLink.innerHTML = docLinkHtml;\n",
              "        element.appendChild(docLink);\n",
              "      }\n",
              "    </script>\n",
              "  </div>\n",
              "\n",
              "\n",
              "<div id=\"df-19071f22-2f26-4e98-b9ea-9b059ba69259\">\n",
              "  <button class=\"colab-df-quickchart\" onclick=\"quickchart('df-19071f22-2f26-4e98-b9ea-9b059ba69259')\"\n",
              "            title=\"Suggest charts\"\n",
              "            style=\"display:none;\">\n",
              "\n",
              "<svg xmlns=\"http://www.w3.org/2000/svg\" height=\"24px\"viewBox=\"0 0 24 24\"\n",
              "     width=\"24px\">\n",
              "    <g>\n",
              "        <path d=\"M19 3H5c-1.1 0-2 .9-2 2v14c0 1.1.9 2 2 2h14c1.1 0 2-.9 2-2V5c0-1.1-.9-2-2-2zM9 17H7v-7h2v7zm4 0h-2V7h2v10zm4 0h-2v-4h2v4z\"/>\n",
              "    </g>\n",
              "</svg>\n",
              "  </button>\n",
              "\n",
              "<style>\n",
              "  .colab-df-quickchart {\n",
              "      --bg-color: #E8F0FE;\n",
              "      --fill-color: #1967D2;\n",
              "      --hover-bg-color: #E2EBFA;\n",
              "      --hover-fill-color: #174EA6;\n",
              "      --disabled-fill-color: #AAA;\n",
              "      --disabled-bg-color: #DDD;\n",
              "  }\n",
              "\n",
              "  [theme=dark] .colab-df-quickchart {\n",
              "      --bg-color: #3B4455;\n",
              "      --fill-color: #D2E3FC;\n",
              "      --hover-bg-color: #434B5C;\n",
              "      --hover-fill-color: #FFFFFF;\n",
              "      --disabled-bg-color: #3B4455;\n",
              "      --disabled-fill-color: #666;\n",
              "  }\n",
              "\n",
              "  .colab-df-quickchart {\n",
              "    background-color: var(--bg-color);\n",
              "    border: none;\n",
              "    border-radius: 50%;\n",
              "    cursor: pointer;\n",
              "    display: none;\n",
              "    fill: var(--fill-color);\n",
              "    height: 32px;\n",
              "    padding: 0;\n",
              "    width: 32px;\n",
              "  }\n",
              "\n",
              "  .colab-df-quickchart:hover {\n",
              "    background-color: var(--hover-bg-color);\n",
              "    box-shadow: 0 1px 2px rgba(60, 64, 67, 0.3), 0 1px 3px 1px rgba(60, 64, 67, 0.15);\n",
              "    fill: var(--button-hover-fill-color);\n",
              "  }\n",
              "\n",
              "  .colab-df-quickchart-complete:disabled,\n",
              "  .colab-df-quickchart-complete:disabled:hover {\n",
              "    background-color: var(--disabled-bg-color);\n",
              "    fill: var(--disabled-fill-color);\n",
              "    box-shadow: none;\n",
              "  }\n",
              "\n",
              "  .colab-df-spinner {\n",
              "    border: 2px solid var(--fill-color);\n",
              "    border-color: transparent;\n",
              "    border-bottom-color: var(--fill-color);\n",
              "    animation:\n",
              "      spin 1s steps(1) infinite;\n",
              "  }\n",
              "\n",
              "  @keyframes spin {\n",
              "    0% {\n",
              "      border-color: transparent;\n",
              "      border-bottom-color: var(--fill-color);\n",
              "      border-left-color: var(--fill-color);\n",
              "    }\n",
              "    20% {\n",
              "      border-color: transparent;\n",
              "      border-left-color: var(--fill-color);\n",
              "      border-top-color: var(--fill-color);\n",
              "    }\n",
              "    30% {\n",
              "      border-color: transparent;\n",
              "      border-left-color: var(--fill-color);\n",
              "      border-top-color: var(--fill-color);\n",
              "      border-right-color: var(--fill-color);\n",
              "    }\n",
              "    40% {\n",
              "      border-color: transparent;\n",
              "      border-right-color: var(--fill-color);\n",
              "      border-top-color: var(--fill-color);\n",
              "    }\n",
              "    60% {\n",
              "      border-color: transparent;\n",
              "      border-right-color: var(--fill-color);\n",
              "    }\n",
              "    80% {\n",
              "      border-color: transparent;\n",
              "      border-right-color: var(--fill-color);\n",
              "      border-bottom-color: var(--fill-color);\n",
              "    }\n",
              "    90% {\n",
              "      border-color: transparent;\n",
              "      border-bottom-color: var(--fill-color);\n",
              "    }\n",
              "  }\n",
              "</style>\n",
              "\n",
              "  <script>\n",
              "    async function quickchart(key) {\n",
              "      const quickchartButtonEl =\n",
              "        document.querySelector('#' + key + ' button');\n",
              "      quickchartButtonEl.disabled = true;  // To prevent multiple clicks.\n",
              "      quickchartButtonEl.classList.add('colab-df-spinner');\n",
              "      try {\n",
              "        const charts = await google.colab.kernel.invokeFunction(\n",
              "            'suggestCharts', [key], {});\n",
              "      } catch (error) {\n",
              "        console.error('Error during call to suggestCharts:', error);\n",
              "      }\n",
              "      quickchartButtonEl.classList.remove('colab-df-spinner');\n",
              "      quickchartButtonEl.classList.add('colab-df-quickchart-complete');\n",
              "    }\n",
              "    (() => {\n",
              "      let quickchartButtonEl =\n",
              "        document.querySelector('#df-19071f22-2f26-4e98-b9ea-9b059ba69259 button');\n",
              "      quickchartButtonEl.style.display =\n",
              "        google.colab.kernel.accessAllowed ? 'block' : 'none';\n",
              "    })();\n",
              "  </script>\n",
              "</div>\n",
              "    </div>\n",
              "  </div>\n"
            ],
            "application/vnd.google.colaboratory.intrinsic+json": {
              "type": "dataframe",
              "variable_name": "d_i_df",
              "summary": "{\n  \"name\": \"d_i_df\",\n  \"rows\": 8,\n  \"fields\": [\n    {\n      \"column\": \"Year\",\n      \"properties\": {\n        \"dtype\": \"number\",\n        \"std\": 0,\n        \"min\": 2021,\n        \"max\": 2021,\n        \"num_unique_values\": 1,\n        \"samples\": [\n          2021\n        ],\n        \"semantic_type\": \"\",\n        \"description\": \"\"\n      }\n    },\n    {\n      \"column\": \"region\",\n      \"properties\": {\n        \"dtype\": \"string\",\n        \"num_unique_values\": 8,\n        \"samples\": [\n          \"Midland\"\n        ],\n        \"semantic_type\": \"\",\n        \"description\": \"\"\n      }\n    },\n    {\n      \"column\": \"avg_disposable_income\",\n      \"properties\": {\n        \"dtype\": \"number\",\n        \"std\": 10591.431640373185,\n        \"min\": 6699.88,\n        \"max\": 39684.85,\n        \"num_unique_values\": 8,\n        \"samples\": [\n          6699.88\n        ],\n        \"semantic_type\": \"\",\n        \"description\": \"\"\n      }\n    }\n  ]\n}"
            }
          },
          "metadata": {},
          "execution_count": 73
        }
      ]
    },
    {
      "cell_type": "code",
      "source": [
        "d_i_df['region'].replace('Mid-East', 'Mid_East', inplace=True)\n",
        "d_i_df['region'].replace('Mid-West', 'Mid_West', inplace=True)\n",
        "d_i_df['region'].replace('South-East', 'South_East', inplace=True)\n",
        "d_i_df['region'].replace('South-West', 'South_West', inplace=True)"
      ],
      "metadata": {
        "id": "lsnNb608Wjzf"
      },
      "execution_count": 74,
      "outputs": []
    },
    {
      "cell_type": "markdown",
      "source": [
        "#Data Preprocessing - House Purchases"
      ],
      "metadata": {
        "id": "N6WxYBgbj2_E"
      }
    },
    {
      "cell_type": "code",
      "source": [
        "h_p_df = h_p_df.drop(\"Statistic Label\", axis = \"columns\")\n",
        "h_p_df = h_p_df.drop(\"UNIT\", axis = \"columns\")"
      ],
      "metadata": {
        "id": "mkhdpI61j3oV"
      },
      "execution_count": 75,
      "outputs": []
    },
    {
      "cell_type": "code",
      "source": [
        "#removing the letters from the month column to make it a year column\n",
        "h_p_df['Month'] = h_p_df['Month'].str.replace('\\D', '', regex=True)"
      ],
      "metadata": {
        "id": "kf-szcyFj6RD"
      },
      "execution_count": 76,
      "outputs": []
    },
    {
      "cell_type": "code",
      "source": [
        "h_p_df.rename(columns = {\"Month\": \"Year\"},\n",
        "          inplace = True)"
      ],
      "metadata": {
        "id": "XB8_Fb_Mj7jk"
      },
      "execution_count": 77,
      "outputs": []
    },
    {
      "cell_type": "code",
      "source": [
        "h_p_df.rename(columns = {\"VALUE\": \"house_purchase_price\"},\n",
        "          inplace = True)"
      ],
      "metadata": {
        "id": "9COsUAe_j8rD"
      },
      "execution_count": 78,
      "outputs": []
    },
    {
      "cell_type": "code",
      "source": [
        "h_p_df.rename(columns = {\"RPPI Region\": \"County\"},\n",
        "          inplace = True)"
      ],
      "metadata": {
        "id": "6s8BGlmLkAN7"
      },
      "execution_count": 79,
      "outputs": []
    },
    {
      "cell_type": "code",
      "source": [
        "h_p_df['Year'] = h_p_df['Year'].astype('int')"
      ],
      "metadata": {
        "id": "SWTHEbSlkBKD"
      },
      "execution_count": 80,
      "outputs": []
    },
    {
      "cell_type": "markdown",
      "source": [
        "##creating a \"regions\" column"
      ],
      "metadata": {
        "id": "bnfhNCdZkGPV"
      }
    },
    {
      "cell_type": "code",
      "source": [
        "#The dataset has counties as well as regions\n",
        "#The regions will be removed because the counties differ from my created regions\n",
        "h_p_df = h_p_df.drop(h_p_df[h_p_df['County'] == 'Border Excluding Louth'].index)\n",
        "h_p_df = h_p_df.drop(h_p_df[h_p_df['County'] == 'South-East excluding South Tipperary'].index)\n",
        "h_p_df = h_p_df.drop(h_p_df[h_p_df['County'] == 'West'].index)\n",
        "h_p_df = h_p_df.drop(h_p_df[h_p_df['County'] == 'Mid-East including Louth'].index)\n",
        "h_p_df = h_p_df.drop(h_p_df[h_p_df['County'] == 'Mid-West including South Tipperary'].index)\n",
        "h_p_df = h_p_df.drop(h_p_df[h_p_df['County'] == 'South-East excluding South Tipperary'].index)\n",
        "h_p_df = h_p_df.drop(h_p_df[h_p_df['County'] == 'South-West'].index)\n",
        "h_p_df = h_p_df.drop(h_p_df[h_p_df['County'] == 'Midland'].index)"
      ],
      "metadata": {
        "id": "1wlBGr6ukGvd"
      },
      "execution_count": 81,
      "outputs": []
    },
    {
      "cell_type": "code",
      "source": [
        "h_p_df[\"County\"] = h_p_df[\"County\"].str.replace(' City', '')\n",
        "h_p_df[\"County\"] = h_p_df[\"County\"].str.replace(' County', '')"
      ],
      "metadata": {
        "id": "zSEoVqWDkRAL"
      },
      "execution_count": 82,
      "outputs": []
    },
    {
      "cell_type": "code",
      "source": [
        "region = {\"Dublin\": Dublin, \"Border\": Border, \"West\": West, \"Mid_West\": Mid_West, \"Mid_East\": Mid_East, \"South_East\": South_East, \"South_West\": South_West, \"Midland\": Midland}\n",
        "h_p_df['region'] = h_p_df[\"County\"].apply(get_region, args=(region,))\n",
        "h_p_df.head(10)"
      ],
      "metadata": {
        "colab": {
          "base_uri": "https://localhost:8080/",
          "height": 380
        },
        "id": "9_IqcP9fkSRq",
        "outputId": "d6d6c5b9-9c3b-40ad-9ea3-9464d0b44ec7"
      },
      "execution_count": 83,
      "outputs": [
        {
          "output_type": "execute_result",
          "data": {
            "text/plain": [
              "    Year Type of Dwelling Dwelling Status Stamp Duty Event     County  \\\n",
              "1   2010        Apartment             New          Filings      Cavan   \n",
              "2   2010        Apartment             New          Filings    Donegal   \n",
              "3   2010        Apartment             New          Filings    Leitrim   \n",
              "4   2010        Apartment             New          Filings   Monaghan   \n",
              "5   2010        Apartment             New          Filings      Sligo   \n",
              "7   2010        Apartment             New          Filings      Laois   \n",
              "8   2010        Apartment             New          Filings   Longford   \n",
              "9   2010        Apartment             New          Filings     Offaly   \n",
              "10  2010        Apartment             New          Filings  Westmeath   \n",
              "12  2010        Apartment             New          Filings     Galway   \n",
              "\n",
              "    house_purchase_price   region  \n",
              "1                    NaN   Border  \n",
              "2                    NaN   Border  \n",
              "3                    NaN   Border  \n",
              "4                    NaN   Border  \n",
              "5               170250.0   Border  \n",
              "7               199995.0  Midland  \n",
              "8                    NaN  Midland  \n",
              "9                    NaN  Midland  \n",
              "10              256061.0  Midland  \n",
              "12              490000.0     West  "
            ],
            "text/html": [
              "\n",
              "  <div id=\"df-d0d0d520-d1b1-4064-abe5-a2d1849c8b78\" class=\"colab-df-container\">\n",
              "    <div>\n",
              "<style scoped>\n",
              "    .dataframe tbody tr th:only-of-type {\n",
              "        vertical-align: middle;\n",
              "    }\n",
              "\n",
              "    .dataframe tbody tr th {\n",
              "        vertical-align: top;\n",
              "    }\n",
              "\n",
              "    .dataframe thead th {\n",
              "        text-align: right;\n",
              "    }\n",
              "</style>\n",
              "<table border=\"1\" class=\"dataframe\">\n",
              "  <thead>\n",
              "    <tr style=\"text-align: right;\">\n",
              "      <th></th>\n",
              "      <th>Year</th>\n",
              "      <th>Type of Dwelling</th>\n",
              "      <th>Dwelling Status</th>\n",
              "      <th>Stamp Duty Event</th>\n",
              "      <th>County</th>\n",
              "      <th>house_purchase_price</th>\n",
              "      <th>region</th>\n",
              "    </tr>\n",
              "  </thead>\n",
              "  <tbody>\n",
              "    <tr>\n",
              "      <th>1</th>\n",
              "      <td>2010</td>\n",
              "      <td>Apartment</td>\n",
              "      <td>New</td>\n",
              "      <td>Filings</td>\n",
              "      <td>Cavan</td>\n",
              "      <td>NaN</td>\n",
              "      <td>Border</td>\n",
              "    </tr>\n",
              "    <tr>\n",
              "      <th>2</th>\n",
              "      <td>2010</td>\n",
              "      <td>Apartment</td>\n",
              "      <td>New</td>\n",
              "      <td>Filings</td>\n",
              "      <td>Donegal</td>\n",
              "      <td>NaN</td>\n",
              "      <td>Border</td>\n",
              "    </tr>\n",
              "    <tr>\n",
              "      <th>3</th>\n",
              "      <td>2010</td>\n",
              "      <td>Apartment</td>\n",
              "      <td>New</td>\n",
              "      <td>Filings</td>\n",
              "      <td>Leitrim</td>\n",
              "      <td>NaN</td>\n",
              "      <td>Border</td>\n",
              "    </tr>\n",
              "    <tr>\n",
              "      <th>4</th>\n",
              "      <td>2010</td>\n",
              "      <td>Apartment</td>\n",
              "      <td>New</td>\n",
              "      <td>Filings</td>\n",
              "      <td>Monaghan</td>\n",
              "      <td>NaN</td>\n",
              "      <td>Border</td>\n",
              "    </tr>\n",
              "    <tr>\n",
              "      <th>5</th>\n",
              "      <td>2010</td>\n",
              "      <td>Apartment</td>\n",
              "      <td>New</td>\n",
              "      <td>Filings</td>\n",
              "      <td>Sligo</td>\n",
              "      <td>170250.0</td>\n",
              "      <td>Border</td>\n",
              "    </tr>\n",
              "    <tr>\n",
              "      <th>7</th>\n",
              "      <td>2010</td>\n",
              "      <td>Apartment</td>\n",
              "      <td>New</td>\n",
              "      <td>Filings</td>\n",
              "      <td>Laois</td>\n",
              "      <td>199995.0</td>\n",
              "      <td>Midland</td>\n",
              "    </tr>\n",
              "    <tr>\n",
              "      <th>8</th>\n",
              "      <td>2010</td>\n",
              "      <td>Apartment</td>\n",
              "      <td>New</td>\n",
              "      <td>Filings</td>\n",
              "      <td>Longford</td>\n",
              "      <td>NaN</td>\n",
              "      <td>Midland</td>\n",
              "    </tr>\n",
              "    <tr>\n",
              "      <th>9</th>\n",
              "      <td>2010</td>\n",
              "      <td>Apartment</td>\n",
              "      <td>New</td>\n",
              "      <td>Filings</td>\n",
              "      <td>Offaly</td>\n",
              "      <td>NaN</td>\n",
              "      <td>Midland</td>\n",
              "    </tr>\n",
              "    <tr>\n",
              "      <th>10</th>\n",
              "      <td>2010</td>\n",
              "      <td>Apartment</td>\n",
              "      <td>New</td>\n",
              "      <td>Filings</td>\n",
              "      <td>Westmeath</td>\n",
              "      <td>256061.0</td>\n",
              "      <td>Midland</td>\n",
              "    </tr>\n",
              "    <tr>\n",
              "      <th>12</th>\n",
              "      <td>2010</td>\n",
              "      <td>Apartment</td>\n",
              "      <td>New</td>\n",
              "      <td>Filings</td>\n",
              "      <td>Galway</td>\n",
              "      <td>490000.0</td>\n",
              "      <td>West</td>\n",
              "    </tr>\n",
              "  </tbody>\n",
              "</table>\n",
              "</div>\n",
              "    <div class=\"colab-df-buttons\">\n",
              "\n",
              "  <div class=\"colab-df-container\">\n",
              "    <button class=\"colab-df-convert\" onclick=\"convertToInteractive('df-d0d0d520-d1b1-4064-abe5-a2d1849c8b78')\"\n",
              "            title=\"Convert this dataframe to an interactive table.\"\n",
              "            style=\"display:none;\">\n",
              "\n",
              "  <svg xmlns=\"http://www.w3.org/2000/svg\" height=\"24px\" viewBox=\"0 -960 960 960\">\n",
              "    <path d=\"M120-120v-720h720v720H120Zm60-500h600v-160H180v160Zm220 220h160v-160H400v160Zm0 220h160v-160H400v160ZM180-400h160v-160H180v160Zm440 0h160v-160H620v160ZM180-180h160v-160H180v160Zm440 0h160v-160H620v160Z\"/>\n",
              "  </svg>\n",
              "    </button>\n",
              "\n",
              "  <style>\n",
              "    .colab-df-container {\n",
              "      display:flex;\n",
              "      gap: 12px;\n",
              "    }\n",
              "\n",
              "    .colab-df-convert {\n",
              "      background-color: #E8F0FE;\n",
              "      border: none;\n",
              "      border-radius: 50%;\n",
              "      cursor: pointer;\n",
              "      display: none;\n",
              "      fill: #1967D2;\n",
              "      height: 32px;\n",
              "      padding: 0 0 0 0;\n",
              "      width: 32px;\n",
              "    }\n",
              "\n",
              "    .colab-df-convert:hover {\n",
              "      background-color: #E2EBFA;\n",
              "      box-shadow: 0px 1px 2px rgba(60, 64, 67, 0.3), 0px 1px 3px 1px rgba(60, 64, 67, 0.15);\n",
              "      fill: #174EA6;\n",
              "    }\n",
              "\n",
              "    .colab-df-buttons div {\n",
              "      margin-bottom: 4px;\n",
              "    }\n",
              "\n",
              "    [theme=dark] .colab-df-convert {\n",
              "      background-color: #3B4455;\n",
              "      fill: #D2E3FC;\n",
              "    }\n",
              "\n",
              "    [theme=dark] .colab-df-convert:hover {\n",
              "      background-color: #434B5C;\n",
              "      box-shadow: 0px 1px 3px 1px rgba(0, 0, 0, 0.15);\n",
              "      filter: drop-shadow(0px 1px 2px rgba(0, 0, 0, 0.3));\n",
              "      fill: #FFFFFF;\n",
              "    }\n",
              "  </style>\n",
              "\n",
              "    <script>\n",
              "      const buttonEl =\n",
              "        document.querySelector('#df-d0d0d520-d1b1-4064-abe5-a2d1849c8b78 button.colab-df-convert');\n",
              "      buttonEl.style.display =\n",
              "        google.colab.kernel.accessAllowed ? 'block' : 'none';\n",
              "\n",
              "      async function convertToInteractive(key) {\n",
              "        const element = document.querySelector('#df-d0d0d520-d1b1-4064-abe5-a2d1849c8b78');\n",
              "        const dataTable =\n",
              "          await google.colab.kernel.invokeFunction('convertToInteractive',\n",
              "                                                    [key], {});\n",
              "        if (!dataTable) return;\n",
              "\n",
              "        const docLinkHtml = 'Like what you see? Visit the ' +\n",
              "          '<a target=\"_blank\" href=https://colab.research.google.com/notebooks/data_table.ipynb>data table notebook</a>'\n",
              "          + ' to learn more about interactive tables.';\n",
              "        element.innerHTML = '';\n",
              "        dataTable['output_type'] = 'display_data';\n",
              "        await google.colab.output.renderOutput(dataTable, element);\n",
              "        const docLink = document.createElement('div');\n",
              "        docLink.innerHTML = docLinkHtml;\n",
              "        element.appendChild(docLink);\n",
              "      }\n",
              "    </script>\n",
              "  </div>\n",
              "\n",
              "\n",
              "<div id=\"df-a4c46c27-e47a-4dba-b285-394bb1dcaf6d\">\n",
              "  <button class=\"colab-df-quickchart\" onclick=\"quickchart('df-a4c46c27-e47a-4dba-b285-394bb1dcaf6d')\"\n",
              "            title=\"Suggest charts\"\n",
              "            style=\"display:none;\">\n",
              "\n",
              "<svg xmlns=\"http://www.w3.org/2000/svg\" height=\"24px\"viewBox=\"0 0 24 24\"\n",
              "     width=\"24px\">\n",
              "    <g>\n",
              "        <path d=\"M19 3H5c-1.1 0-2 .9-2 2v14c0 1.1.9 2 2 2h14c1.1 0 2-.9 2-2V5c0-1.1-.9-2-2-2zM9 17H7v-7h2v7zm4 0h-2V7h2v10zm4 0h-2v-4h2v4z\"/>\n",
              "    </g>\n",
              "</svg>\n",
              "  </button>\n",
              "\n",
              "<style>\n",
              "  .colab-df-quickchart {\n",
              "      --bg-color: #E8F0FE;\n",
              "      --fill-color: #1967D2;\n",
              "      --hover-bg-color: #E2EBFA;\n",
              "      --hover-fill-color: #174EA6;\n",
              "      --disabled-fill-color: #AAA;\n",
              "      --disabled-bg-color: #DDD;\n",
              "  }\n",
              "\n",
              "  [theme=dark] .colab-df-quickchart {\n",
              "      --bg-color: #3B4455;\n",
              "      --fill-color: #D2E3FC;\n",
              "      --hover-bg-color: #434B5C;\n",
              "      --hover-fill-color: #FFFFFF;\n",
              "      --disabled-bg-color: #3B4455;\n",
              "      --disabled-fill-color: #666;\n",
              "  }\n",
              "\n",
              "  .colab-df-quickchart {\n",
              "    background-color: var(--bg-color);\n",
              "    border: none;\n",
              "    border-radius: 50%;\n",
              "    cursor: pointer;\n",
              "    display: none;\n",
              "    fill: var(--fill-color);\n",
              "    height: 32px;\n",
              "    padding: 0;\n",
              "    width: 32px;\n",
              "  }\n",
              "\n",
              "  .colab-df-quickchart:hover {\n",
              "    background-color: var(--hover-bg-color);\n",
              "    box-shadow: 0 1px 2px rgba(60, 64, 67, 0.3), 0 1px 3px 1px rgba(60, 64, 67, 0.15);\n",
              "    fill: var(--button-hover-fill-color);\n",
              "  }\n",
              "\n",
              "  .colab-df-quickchart-complete:disabled,\n",
              "  .colab-df-quickchart-complete:disabled:hover {\n",
              "    background-color: var(--disabled-bg-color);\n",
              "    fill: var(--disabled-fill-color);\n",
              "    box-shadow: none;\n",
              "  }\n",
              "\n",
              "  .colab-df-spinner {\n",
              "    border: 2px solid var(--fill-color);\n",
              "    border-color: transparent;\n",
              "    border-bottom-color: var(--fill-color);\n",
              "    animation:\n",
              "      spin 1s steps(1) infinite;\n",
              "  }\n",
              "\n",
              "  @keyframes spin {\n",
              "    0% {\n",
              "      border-color: transparent;\n",
              "      border-bottom-color: var(--fill-color);\n",
              "      border-left-color: var(--fill-color);\n",
              "    }\n",
              "    20% {\n",
              "      border-color: transparent;\n",
              "      border-left-color: var(--fill-color);\n",
              "      border-top-color: var(--fill-color);\n",
              "    }\n",
              "    30% {\n",
              "      border-color: transparent;\n",
              "      border-left-color: var(--fill-color);\n",
              "      border-top-color: var(--fill-color);\n",
              "      border-right-color: var(--fill-color);\n",
              "    }\n",
              "    40% {\n",
              "      border-color: transparent;\n",
              "      border-right-color: var(--fill-color);\n",
              "      border-top-color: var(--fill-color);\n",
              "    }\n",
              "    60% {\n",
              "      border-color: transparent;\n",
              "      border-right-color: var(--fill-color);\n",
              "    }\n",
              "    80% {\n",
              "      border-color: transparent;\n",
              "      border-right-color: var(--fill-color);\n",
              "      border-bottom-color: var(--fill-color);\n",
              "    }\n",
              "    90% {\n",
              "      border-color: transparent;\n",
              "      border-bottom-color: var(--fill-color);\n",
              "    }\n",
              "  }\n",
              "</style>\n",
              "\n",
              "  <script>\n",
              "    async function quickchart(key) {\n",
              "      const quickchartButtonEl =\n",
              "        document.querySelector('#' + key + ' button');\n",
              "      quickchartButtonEl.disabled = true;  // To prevent multiple clicks.\n",
              "      quickchartButtonEl.classList.add('colab-df-spinner');\n",
              "      try {\n",
              "        const charts = await google.colab.kernel.invokeFunction(\n",
              "            'suggestCharts', [key], {});\n",
              "      } catch (error) {\n",
              "        console.error('Error during call to suggestCharts:', error);\n",
              "      }\n",
              "      quickchartButtonEl.classList.remove('colab-df-spinner');\n",
              "      quickchartButtonEl.classList.add('colab-df-quickchart-complete');\n",
              "    }\n",
              "    (() => {\n",
              "      let quickchartButtonEl =\n",
              "        document.querySelector('#df-a4c46c27-e47a-4dba-b285-394bb1dcaf6d button');\n",
              "      quickchartButtonEl.style.display =\n",
              "        google.colab.kernel.accessAllowed ? 'block' : 'none';\n",
              "    })();\n",
              "  </script>\n",
              "</div>\n",
              "    </div>\n",
              "  </div>\n"
            ],
            "application/vnd.google.colaboratory.intrinsic+json": {
              "type": "dataframe",
              "variable_name": "h_p_df",
              "summary": "{\n  \"name\": \"h_p_df\",\n  \"rows\": 42432,\n  \"fields\": [\n    {\n      \"column\": \"Year\",\n      \"properties\": {\n        \"dtype\": \"number\",\n        \"std\": 3,\n        \"min\": 2010,\n        \"max\": 2022,\n        \"num_unique_values\": 13,\n        \"samples\": [\n          2021,\n          2019,\n          2010\n        ],\n        \"semantic_type\": \"\",\n        \"description\": \"\"\n      }\n    },\n    {\n      \"column\": \"Type of Dwelling\",\n      \"properties\": {\n        \"dtype\": \"category\",\n        \"num_unique_values\": 2,\n        \"samples\": [\n          \"House\",\n          \"Apartment\"\n        ],\n        \"semantic_type\": \"\",\n        \"description\": \"\"\n      }\n    },\n    {\n      \"column\": \"Dwelling Status\",\n      \"properties\": {\n        \"dtype\": \"category\",\n        \"num_unique_values\": 2,\n        \"samples\": [\n          \"Existing\",\n          \"New\"\n        ],\n        \"semantic_type\": \"\",\n        \"description\": \"\"\n      }\n    },\n    {\n      \"column\": \"Stamp Duty Event\",\n      \"properties\": {\n        \"dtype\": \"category\",\n        \"num_unique_values\": 2,\n        \"samples\": [\n          \"Executions\",\n          \"Filings\"\n        ],\n        \"semantic_type\": \"\",\n        \"description\": \"\"\n      }\n    },\n    {\n      \"column\": \"County\",\n      \"properties\": {\n        \"dtype\": \"category\",\n        \"num_unique_values\": 29,\n        \"samples\": [\n          \"Cork\",\n          \"Kildare\"\n        ],\n        \"semantic_type\": \"\",\n        \"description\": \"\"\n      }\n    },\n    {\n      \"column\": \"house_purchase_price\",\n      \"properties\": {\n        \"dtype\": \"number\",\n        \"std\": 137957.4393254437,\n        \"min\": 8513.0,\n        \"max\": 2326750.0,\n        \"num_unique_values\": 27200,\n        \"samples\": [\n          148087.0,\n          291317.0\n        ],\n        \"semantic_type\": \"\",\n        \"description\": \"\"\n      }\n    },\n    {\n      \"column\": \"region\",\n      \"properties\": {\n        \"dtype\": \"category\",\n        \"num_unique_values\": 8,\n        \"samples\": [\n          \"Midland\",\n          \"Mid_West\"\n        ],\n        \"semantic_type\": \"\",\n        \"description\": \"\"\n      }\n    }\n  ]\n}"
            }
          },
          "metadata": {},
          "execution_count": 83
        }
      ]
    },
    {
      "cell_type": "code",
      "source": [
        "h_p_df['region'].unique()"
      ],
      "metadata": {
        "colab": {
          "base_uri": "https://localhost:8080/"
        },
        "id": "7Da49PpQVe42",
        "outputId": "fa506792-41ed-4511-aecd-44ecb19e20a4"
      },
      "execution_count": 84,
      "outputs": [
        {
          "output_type": "execute_result",
          "data": {
            "text/plain": [
              "array(['Border', 'Midland', 'West', 'Dublin', None, 'Mid_East',\n",
              "       'Mid_West', 'South_East', 'South_West'], dtype=object)"
            ]
          },
          "metadata": {},
          "execution_count": 84
        }
      ]
    },
    {
      "cell_type": "code",
      "source": [
        "#The columns with counties will now be removed because the regions are much better to work with\n",
        "h_p_df = h_p_df.drop(\"County\", axis = \"columns\")"
      ],
      "metadata": {
        "id": "zYWrNOYYkUs7"
      },
      "execution_count": 85,
      "outputs": []
    },
    {
      "cell_type": "code",
      "source": [
        "#The rows with null values will be removed\n",
        "h_p_df.dropna(subset=[\"house_purchase_price\"], inplace=True)\n",
        "h_p_df.dropna(subset=[\"region\"], inplace=True)"
      ],
      "metadata": {
        "id": "7zjitGxOkXXf"
      },
      "execution_count": 86,
      "outputs": []
    },
    {
      "cell_type": "markdown",
      "source": [
        "#Data Preprocessing - Crime df"
      ],
      "metadata": {
        "id": "yTI8YVI6kWfd"
      }
    },
    {
      "cell_type": "code",
      "source": [
        "year = []\n",
        "for i in crime_df['Quarter']:\n",
        "  year.append(i[:4])"
      ],
      "metadata": {
        "id": "7Bomt8UJp7_o"
      },
      "execution_count": 87,
      "outputs": []
    },
    {
      "cell_type": "code",
      "source": [
        "crime_df['Year'] = year"
      ],
      "metadata": {
        "id": "wPbtQ9PUp9Vv"
      },
      "execution_count": 88,
      "outputs": []
    },
    {
      "cell_type": "code",
      "source": [
        "crime_df.rename(columns = {'VALUE':'Number_of_Crimes'}, inplace = True)"
      ],
      "metadata": {
        "id": "5GWFhAouqAfY"
      },
      "execution_count": 89,
      "outputs": []
    },
    {
      "cell_type": "markdown",
      "source": [
        "##creating a \"regions\" column"
      ],
      "metadata": {
        "id": "ke-rHHQSqF2B"
      }
    },
    {
      "cell_type": "code",
      "source": [
        "Dublin = [\"D.M.R. South Central Garda Division\", \"D.M.R. North Central Garda Division\", \"D.M.R. Northern Garda Division\", \"D.M.R. Southern Garda Division\", \"D.M.R. Eastern Garda Division\", \"D.M.R. Western Garda Division\"]\n",
        "Border = [\"Cavan/Monaghan Garda Division\", \"Donegal Garda Division\", \"Sligo/Leitrim Garda Division\"]\n",
        "West = [\"Mayo Garda Division\", \"Roscommon/Longford Garda Division\", \"Galway Garda Division\"]\n",
        "Mid_West = [\"Clare Garda Division\", \"Tipperary Garda Division\", \"Limerick Garda Division\"]\n",
        "Mid_East = [\"Kildare Garda Division\", \"Louth Garda Division\", \"Meath Garda Division\", \"Wicklow Garda Division\"]\n",
        "South_East = [\"Kilkenny/Carlow Garda Division\", \"Wexford Garda Division\", \"Waterford Garda Division\"]\n",
        "South_West = [\"Kerry Garda Division\", \"Cork City Garda Division\", \"Cork West Garda Division\"]\n",
        "Midland = [\"Laois/Offaly Garda Division\", \"Westmeath Garda Division\"]"
      ],
      "metadata": {
        "id": "rHGrUo97qFah"
      },
      "execution_count": 90,
      "outputs": []
    },
    {
      "cell_type": "code",
      "source": [
        "region = {\"Dublin\": Dublin, \"Border\": Border, \"West\": West, \"Mid_West\": Mid_West, \"Mid_East\": Mid_East, \"South_East\": South_East, \"South_West\": South_West, \"Midland\": Midland}\n",
        "crime_df['region'] = crime_df[\"Garda Division\"].apply(get_region, args=(region,))"
      ],
      "metadata": {
        "id": "G1C6rVPHqCg_"
      },
      "execution_count": 91,
      "outputs": []
    },
    {
      "cell_type": "markdown",
      "source": [
        "##Adding all crimes of each type for each region"
      ],
      "metadata": {
        "id": "0ujryB3sqP0Z"
      }
    },
    {
      "cell_type": "code",
      "source": [
        "crime_df_2 = crime_df.groupby([\"Type of Offence\", \"Year\", \"region\"])[\"Number_of_Crimes\"].sum().reset_index()"
      ],
      "metadata": {
        "id": "A5sek5KyqQUJ"
      },
      "execution_count": 92,
      "outputs": []
    },
    {
      "cell_type": "markdown",
      "source": [
        "**Crimes of lower severity are removed**"
      ],
      "metadata": {
        "id": "Sc8jXWOZqWXy"
      }
    },
    {
      "cell_type": "code",
      "source": [
        "crime_df_2 = crime_df_2.drop(crime_df_2[crime_df_2['Type of Offence'] == 'Litter offences'].index)\n",
        "crime_df_2 = crime_df_2.drop(crime_df_2[crime_df_2['Type of Offence'] == 'False alarm/interference with aircraft or air transport facilities'].index)\n",
        "crime_df_2 = crime_df_2.drop(crime_df_2[crime_df_2['Type of Offence'] == 'Disorderly conduct'].index)"
      ],
      "metadata": {
        "id": "JpJT_ZIOqYIa"
      },
      "execution_count": 93,
      "outputs": []
    },
    {
      "cell_type": "code",
      "source": [
        "crime_df_2 = crime_df_2.drop(['Type of Offence'], axis=1)"
      ],
      "metadata": {
        "id": "thhuzVWyqaNY"
      },
      "execution_count": 94,
      "outputs": []
    },
    {
      "cell_type": "markdown",
      "source": [
        "#Merging the dataframes into 1 dataframe"
      ],
      "metadata": {
        "id": "FysQGFF7rE8Y"
      }
    },
    {
      "cell_type": "markdown",
      "source": [
        "##Data preprocessing - combined df"
      ],
      "metadata": {
        "id": "rPwbkoBSrHBX"
      }
    },
    {
      "cell_type": "code",
      "source": [
        "cb_df = pd.merge(rent_df, d_i_df, on= ['Year', \"region\"])\n",
        "cb_df = pd.merge(cb_df, h_p_df, on= ['Year', \"region\"])"
      ],
      "metadata": {
        "id": "LH0btYE9rEnl"
      },
      "execution_count": 95,
      "outputs": []
    },
    {
      "cell_type": "code",
      "source": [
        "crime_df_2 = crime_df.groupby([\"Year\", \"region\"])[\"Number_of_Crimes\"].sum().reset_index()"
      ],
      "metadata": {
        "id": "WBwoIBtvkH_x"
      },
      "execution_count": 96,
      "outputs": []
    },
    {
      "cell_type": "code",
      "source": [
        "cb_df['Year'].dtypes"
      ],
      "metadata": {
        "colab": {
          "base_uri": "https://localhost:8080/"
        },
        "id": "DPU03SYmrLzK",
        "outputId": "895ea142-fefd-4221-830d-80587af81e24"
      },
      "execution_count": 97,
      "outputs": [
        {
          "output_type": "execute_result",
          "data": {
            "text/plain": [
              "dtype('int64')"
            ]
          },
          "metadata": {},
          "execution_count": 97
        }
      ]
    },
    {
      "cell_type": "code",
      "source": [
        "crime_df_2['Year'].dtypes"
      ],
      "metadata": {
        "colab": {
          "base_uri": "https://localhost:8080/"
        },
        "id": "va-7x7arrOHJ",
        "outputId": "5422c95a-da0d-4f1e-b71c-d82bef3c900c"
      },
      "execution_count": 98,
      "outputs": [
        {
          "output_type": "execute_result",
          "data": {
            "text/plain": [
              "dtype('O')"
            ]
          },
          "metadata": {},
          "execution_count": 98
        }
      ]
    },
    {
      "cell_type": "code",
      "source": [
        "crime_df_2[\"Year\"] = crime_df_2[\"Year\"].astype(int)"
      ],
      "metadata": {
        "id": "91R9AiySrPkJ"
      },
      "execution_count": 99,
      "outputs": []
    },
    {
      "cell_type": "code",
      "source": [
        "cb_df = cb_df.drop(\"Type of Dwelling\", axis = \"columns\")\n",
        "cb_df = cb_df.drop(\"Dwelling Status\", axis = \"columns\")\n",
        "cb_df = cb_df.drop(\"Stamp Duty Event\", axis = \"columns\")"
      ],
      "metadata": {
        "id": "RcpnSKE9rRo3"
      },
      "execution_count": 100,
      "outputs": []
    },
    {
      "cell_type": "markdown",
      "source": [
        "###Sample of the dataset taken"
      ],
      "metadata": {
        "id": "3rwzqclqrXhh"
      }
    },
    {
      "cell_type": "markdown",
      "source": [
        "The full combined dataset is too large to be combined with the crime dataset (not enough RAM in my device) so a sample will be taken"
      ],
      "metadata": {
        "id": "o-yW0_MjrZ8P"
      }
    },
    {
      "cell_type": "code",
      "source": [
        "#The merged dataset is too large, so a sample is taken\n",
        "cb_sample_df = cb_df.sample(frac=0.4)"
      ],
      "metadata": {
        "id": "Ice74WBhrbMQ"
      },
      "execution_count": 101,
      "outputs": []
    },
    {
      "cell_type": "code",
      "source": [
        "cb_sample_df = cb_sample_df.sort_values('Year')"
      ],
      "metadata": {
        "id": "we_c5p1YrcGo"
      },
      "execution_count": 102,
      "outputs": []
    },
    {
      "cell_type": "code",
      "source": [
        "cb_sample_df = pd.merge(cb_sample_df, crime_df_2, on= ['Year', \"region\"])"
      ],
      "metadata": {
        "id": "7MK0bwtNriq_"
      },
      "execution_count": 103,
      "outputs": []
    },
    {
      "cell_type": "code",
      "source": [
        "cb_sample_df"
      ],
      "metadata": {
        "colab": {
          "base_uri": "https://localhost:8080/",
          "height": 478
        },
        "id": "FnSy770Vsx5n",
        "outputId": "21dfceb0-42a6-4377-bd95-05f301e77e4f"
      },
      "execution_count": 104,
      "outputs": [
        {
          "output_type": "execute_result",
          "data": {
            "text/plain": [
              "       Year  Number of Bedrooms  rent_value      region  Apartment  \\\n",
              "0      2021                   1      932.03    Mid_East          0   \n",
              "1      2021                   4     1704.17    Mid_East          0   \n",
              "2      2021                   4     1767.75    Mid_East          0   \n",
              "3      2021                   1      914.85    Mid_East          1   \n",
              "4      2021                   2     1216.72    Mid_East          0   \n",
              "...     ...                 ...         ...         ...        ...   \n",
              "43347  2021                   2     1201.37  South_West          1   \n",
              "43348  2021                   3     1404.15  South_West          1   \n",
              "43349  2021                   2     1133.53  South_West          0   \n",
              "43350  2021                   2      850.61  South_West          1   \n",
              "43351  2021                   4     1443.52  South_West          0   \n",
              "\n",
              "       Detached house  Other flats  Semi detached house  Terrace house  \\\n",
              "0                   1            0                    0              0   \n",
              "1                   0            0                    0              1   \n",
              "2                   1            0                    0              0   \n",
              "3                   0            0                    0              0   \n",
              "4                   1            0                    0              0   \n",
              "...               ...          ...                  ...            ...   \n",
              "43347               0            0                    0              0   \n",
              "43348               0            0                    0              0   \n",
              "43349               0            0                    0              1   \n",
              "43350               0            0                    0              0   \n",
              "43351               0            0                    1              0   \n",
              "\n",
              "       avg_disposable_income  house_purchase_price  Number_of_Crimes  \n",
              "0                   17434.03              219472.0             42748  \n",
              "1                   17434.03              471960.0             42748  \n",
              "2                   17434.03              355421.0             42748  \n",
              "3                   17434.03              448342.0             42748  \n",
              "4                   17434.03              198811.0             42748  \n",
              "...                      ...                   ...               ...  \n",
              "43347               17448.48              485000.0             33177  \n",
              "43348               17448.48              113500.0             33177  \n",
              "43349               17448.48              250386.0             33177  \n",
              "43350               17448.48              502709.0             33177  \n",
              "43351               17448.48              294533.0             33177  \n",
              "\n",
              "[43352 rows x 12 columns]"
            ],
            "text/html": [
              "\n",
              "  <div id=\"df-bb6f2bbd-384e-4b1d-86f1-274e2c438969\" class=\"colab-df-container\">\n",
              "    <div>\n",
              "<style scoped>\n",
              "    .dataframe tbody tr th:only-of-type {\n",
              "        vertical-align: middle;\n",
              "    }\n",
              "\n",
              "    .dataframe tbody tr th {\n",
              "        vertical-align: top;\n",
              "    }\n",
              "\n",
              "    .dataframe thead th {\n",
              "        text-align: right;\n",
              "    }\n",
              "</style>\n",
              "<table border=\"1\" class=\"dataframe\">\n",
              "  <thead>\n",
              "    <tr style=\"text-align: right;\">\n",
              "      <th></th>\n",
              "      <th>Year</th>\n",
              "      <th>Number of Bedrooms</th>\n",
              "      <th>rent_value</th>\n",
              "      <th>region</th>\n",
              "      <th>Apartment</th>\n",
              "      <th>Detached house</th>\n",
              "      <th>Other flats</th>\n",
              "      <th>Semi detached house</th>\n",
              "      <th>Terrace house</th>\n",
              "      <th>avg_disposable_income</th>\n",
              "      <th>house_purchase_price</th>\n",
              "      <th>Number_of_Crimes</th>\n",
              "    </tr>\n",
              "  </thead>\n",
              "  <tbody>\n",
              "    <tr>\n",
              "      <th>0</th>\n",
              "      <td>2021</td>\n",
              "      <td>1</td>\n",
              "      <td>932.03</td>\n",
              "      <td>Mid_East</td>\n",
              "      <td>0</td>\n",
              "      <td>1</td>\n",
              "      <td>0</td>\n",
              "      <td>0</td>\n",
              "      <td>0</td>\n",
              "      <td>17434.03</td>\n",
              "      <td>219472.0</td>\n",
              "      <td>42748</td>\n",
              "    </tr>\n",
              "    <tr>\n",
              "      <th>1</th>\n",
              "      <td>2021</td>\n",
              "      <td>4</td>\n",
              "      <td>1704.17</td>\n",
              "      <td>Mid_East</td>\n",
              "      <td>0</td>\n",
              "      <td>0</td>\n",
              "      <td>0</td>\n",
              "      <td>0</td>\n",
              "      <td>1</td>\n",
              "      <td>17434.03</td>\n",
              "      <td>471960.0</td>\n",
              "      <td>42748</td>\n",
              "    </tr>\n",
              "    <tr>\n",
              "      <th>2</th>\n",
              "      <td>2021</td>\n",
              "      <td>4</td>\n",
              "      <td>1767.75</td>\n",
              "      <td>Mid_East</td>\n",
              "      <td>0</td>\n",
              "      <td>1</td>\n",
              "      <td>0</td>\n",
              "      <td>0</td>\n",
              "      <td>0</td>\n",
              "      <td>17434.03</td>\n",
              "      <td>355421.0</td>\n",
              "      <td>42748</td>\n",
              "    </tr>\n",
              "    <tr>\n",
              "      <th>3</th>\n",
              "      <td>2021</td>\n",
              "      <td>1</td>\n",
              "      <td>914.85</td>\n",
              "      <td>Mid_East</td>\n",
              "      <td>1</td>\n",
              "      <td>0</td>\n",
              "      <td>0</td>\n",
              "      <td>0</td>\n",
              "      <td>0</td>\n",
              "      <td>17434.03</td>\n",
              "      <td>448342.0</td>\n",
              "      <td>42748</td>\n",
              "    </tr>\n",
              "    <tr>\n",
              "      <th>4</th>\n",
              "      <td>2021</td>\n",
              "      <td>2</td>\n",
              "      <td>1216.72</td>\n",
              "      <td>Mid_East</td>\n",
              "      <td>0</td>\n",
              "      <td>1</td>\n",
              "      <td>0</td>\n",
              "      <td>0</td>\n",
              "      <td>0</td>\n",
              "      <td>17434.03</td>\n",
              "      <td>198811.0</td>\n",
              "      <td>42748</td>\n",
              "    </tr>\n",
              "    <tr>\n",
              "      <th>...</th>\n",
              "      <td>...</td>\n",
              "      <td>...</td>\n",
              "      <td>...</td>\n",
              "      <td>...</td>\n",
              "      <td>...</td>\n",
              "      <td>...</td>\n",
              "      <td>...</td>\n",
              "      <td>...</td>\n",
              "      <td>...</td>\n",
              "      <td>...</td>\n",
              "      <td>...</td>\n",
              "      <td>...</td>\n",
              "    </tr>\n",
              "    <tr>\n",
              "      <th>43347</th>\n",
              "      <td>2021</td>\n",
              "      <td>2</td>\n",
              "      <td>1201.37</td>\n",
              "      <td>South_West</td>\n",
              "      <td>1</td>\n",
              "      <td>0</td>\n",
              "      <td>0</td>\n",
              "      <td>0</td>\n",
              "      <td>0</td>\n",
              "      <td>17448.48</td>\n",
              "      <td>485000.0</td>\n",
              "      <td>33177</td>\n",
              "    </tr>\n",
              "    <tr>\n",
              "      <th>43348</th>\n",
              "      <td>2021</td>\n",
              "      <td>3</td>\n",
              "      <td>1404.15</td>\n",
              "      <td>South_West</td>\n",
              "      <td>1</td>\n",
              "      <td>0</td>\n",
              "      <td>0</td>\n",
              "      <td>0</td>\n",
              "      <td>0</td>\n",
              "      <td>17448.48</td>\n",
              "      <td>113500.0</td>\n",
              "      <td>33177</td>\n",
              "    </tr>\n",
              "    <tr>\n",
              "      <th>43349</th>\n",
              "      <td>2021</td>\n",
              "      <td>2</td>\n",
              "      <td>1133.53</td>\n",
              "      <td>South_West</td>\n",
              "      <td>0</td>\n",
              "      <td>0</td>\n",
              "      <td>0</td>\n",
              "      <td>0</td>\n",
              "      <td>1</td>\n",
              "      <td>17448.48</td>\n",
              "      <td>250386.0</td>\n",
              "      <td>33177</td>\n",
              "    </tr>\n",
              "    <tr>\n",
              "      <th>43350</th>\n",
              "      <td>2021</td>\n",
              "      <td>2</td>\n",
              "      <td>850.61</td>\n",
              "      <td>South_West</td>\n",
              "      <td>1</td>\n",
              "      <td>0</td>\n",
              "      <td>0</td>\n",
              "      <td>0</td>\n",
              "      <td>0</td>\n",
              "      <td>17448.48</td>\n",
              "      <td>502709.0</td>\n",
              "      <td>33177</td>\n",
              "    </tr>\n",
              "    <tr>\n",
              "      <th>43351</th>\n",
              "      <td>2021</td>\n",
              "      <td>4</td>\n",
              "      <td>1443.52</td>\n",
              "      <td>South_West</td>\n",
              "      <td>0</td>\n",
              "      <td>0</td>\n",
              "      <td>0</td>\n",
              "      <td>1</td>\n",
              "      <td>0</td>\n",
              "      <td>17448.48</td>\n",
              "      <td>294533.0</td>\n",
              "      <td>33177</td>\n",
              "    </tr>\n",
              "  </tbody>\n",
              "</table>\n",
              "<p>43352 rows × 12 columns</p>\n",
              "</div>\n",
              "    <div class=\"colab-df-buttons\">\n",
              "\n",
              "  <div class=\"colab-df-container\">\n",
              "    <button class=\"colab-df-convert\" onclick=\"convertToInteractive('df-bb6f2bbd-384e-4b1d-86f1-274e2c438969')\"\n",
              "            title=\"Convert this dataframe to an interactive table.\"\n",
              "            style=\"display:none;\">\n",
              "\n",
              "  <svg xmlns=\"http://www.w3.org/2000/svg\" height=\"24px\" viewBox=\"0 -960 960 960\">\n",
              "    <path d=\"M120-120v-720h720v720H120Zm60-500h600v-160H180v160Zm220 220h160v-160H400v160Zm0 220h160v-160H400v160ZM180-400h160v-160H180v160Zm440 0h160v-160H620v160ZM180-180h160v-160H180v160Zm440 0h160v-160H620v160Z\"/>\n",
              "  </svg>\n",
              "    </button>\n",
              "\n",
              "  <style>\n",
              "    .colab-df-container {\n",
              "      display:flex;\n",
              "      gap: 12px;\n",
              "    }\n",
              "\n",
              "    .colab-df-convert {\n",
              "      background-color: #E8F0FE;\n",
              "      border: none;\n",
              "      border-radius: 50%;\n",
              "      cursor: pointer;\n",
              "      display: none;\n",
              "      fill: #1967D2;\n",
              "      height: 32px;\n",
              "      padding: 0 0 0 0;\n",
              "      width: 32px;\n",
              "    }\n",
              "\n",
              "    .colab-df-convert:hover {\n",
              "      background-color: #E2EBFA;\n",
              "      box-shadow: 0px 1px 2px rgba(60, 64, 67, 0.3), 0px 1px 3px 1px rgba(60, 64, 67, 0.15);\n",
              "      fill: #174EA6;\n",
              "    }\n",
              "\n",
              "    .colab-df-buttons div {\n",
              "      margin-bottom: 4px;\n",
              "    }\n",
              "\n",
              "    [theme=dark] .colab-df-convert {\n",
              "      background-color: #3B4455;\n",
              "      fill: #D2E3FC;\n",
              "    }\n",
              "\n",
              "    [theme=dark] .colab-df-convert:hover {\n",
              "      background-color: #434B5C;\n",
              "      box-shadow: 0px 1px 3px 1px rgba(0, 0, 0, 0.15);\n",
              "      filter: drop-shadow(0px 1px 2px rgba(0, 0, 0, 0.3));\n",
              "      fill: #FFFFFF;\n",
              "    }\n",
              "  </style>\n",
              "\n",
              "    <script>\n",
              "      const buttonEl =\n",
              "        document.querySelector('#df-bb6f2bbd-384e-4b1d-86f1-274e2c438969 button.colab-df-convert');\n",
              "      buttonEl.style.display =\n",
              "        google.colab.kernel.accessAllowed ? 'block' : 'none';\n",
              "\n",
              "      async function convertToInteractive(key) {\n",
              "        const element = document.querySelector('#df-bb6f2bbd-384e-4b1d-86f1-274e2c438969');\n",
              "        const dataTable =\n",
              "          await google.colab.kernel.invokeFunction('convertToInteractive',\n",
              "                                                    [key], {});\n",
              "        if (!dataTable) return;\n",
              "\n",
              "        const docLinkHtml = 'Like what you see? Visit the ' +\n",
              "          '<a target=\"_blank\" href=https://colab.research.google.com/notebooks/data_table.ipynb>data table notebook</a>'\n",
              "          + ' to learn more about interactive tables.';\n",
              "        element.innerHTML = '';\n",
              "        dataTable['output_type'] = 'display_data';\n",
              "        await google.colab.output.renderOutput(dataTable, element);\n",
              "        const docLink = document.createElement('div');\n",
              "        docLink.innerHTML = docLinkHtml;\n",
              "        element.appendChild(docLink);\n",
              "      }\n",
              "    </script>\n",
              "  </div>\n",
              "\n",
              "\n",
              "<div id=\"df-130e95d2-0555-4ebb-9f1f-3334385c7ebc\">\n",
              "  <button class=\"colab-df-quickchart\" onclick=\"quickchart('df-130e95d2-0555-4ebb-9f1f-3334385c7ebc')\"\n",
              "            title=\"Suggest charts\"\n",
              "            style=\"display:none;\">\n",
              "\n",
              "<svg xmlns=\"http://www.w3.org/2000/svg\" height=\"24px\"viewBox=\"0 0 24 24\"\n",
              "     width=\"24px\">\n",
              "    <g>\n",
              "        <path d=\"M19 3H5c-1.1 0-2 .9-2 2v14c0 1.1.9 2 2 2h14c1.1 0 2-.9 2-2V5c0-1.1-.9-2-2-2zM9 17H7v-7h2v7zm4 0h-2V7h2v10zm4 0h-2v-4h2v4z\"/>\n",
              "    </g>\n",
              "</svg>\n",
              "  </button>\n",
              "\n",
              "<style>\n",
              "  .colab-df-quickchart {\n",
              "      --bg-color: #E8F0FE;\n",
              "      --fill-color: #1967D2;\n",
              "      --hover-bg-color: #E2EBFA;\n",
              "      --hover-fill-color: #174EA6;\n",
              "      --disabled-fill-color: #AAA;\n",
              "      --disabled-bg-color: #DDD;\n",
              "  }\n",
              "\n",
              "  [theme=dark] .colab-df-quickchart {\n",
              "      --bg-color: #3B4455;\n",
              "      --fill-color: #D2E3FC;\n",
              "      --hover-bg-color: #434B5C;\n",
              "      --hover-fill-color: #FFFFFF;\n",
              "      --disabled-bg-color: #3B4455;\n",
              "      --disabled-fill-color: #666;\n",
              "  }\n",
              "\n",
              "  .colab-df-quickchart {\n",
              "    background-color: var(--bg-color);\n",
              "    border: none;\n",
              "    border-radius: 50%;\n",
              "    cursor: pointer;\n",
              "    display: none;\n",
              "    fill: var(--fill-color);\n",
              "    height: 32px;\n",
              "    padding: 0;\n",
              "    width: 32px;\n",
              "  }\n",
              "\n",
              "  .colab-df-quickchart:hover {\n",
              "    background-color: var(--hover-bg-color);\n",
              "    box-shadow: 0 1px 2px rgba(60, 64, 67, 0.3), 0 1px 3px 1px rgba(60, 64, 67, 0.15);\n",
              "    fill: var(--button-hover-fill-color);\n",
              "  }\n",
              "\n",
              "  .colab-df-quickchart-complete:disabled,\n",
              "  .colab-df-quickchart-complete:disabled:hover {\n",
              "    background-color: var(--disabled-bg-color);\n",
              "    fill: var(--disabled-fill-color);\n",
              "    box-shadow: none;\n",
              "  }\n",
              "\n",
              "  .colab-df-spinner {\n",
              "    border: 2px solid var(--fill-color);\n",
              "    border-color: transparent;\n",
              "    border-bottom-color: var(--fill-color);\n",
              "    animation:\n",
              "      spin 1s steps(1) infinite;\n",
              "  }\n",
              "\n",
              "  @keyframes spin {\n",
              "    0% {\n",
              "      border-color: transparent;\n",
              "      border-bottom-color: var(--fill-color);\n",
              "      border-left-color: var(--fill-color);\n",
              "    }\n",
              "    20% {\n",
              "      border-color: transparent;\n",
              "      border-left-color: var(--fill-color);\n",
              "      border-top-color: var(--fill-color);\n",
              "    }\n",
              "    30% {\n",
              "      border-color: transparent;\n",
              "      border-left-color: var(--fill-color);\n",
              "      border-top-color: var(--fill-color);\n",
              "      border-right-color: var(--fill-color);\n",
              "    }\n",
              "    40% {\n",
              "      border-color: transparent;\n",
              "      border-right-color: var(--fill-color);\n",
              "      border-top-color: var(--fill-color);\n",
              "    }\n",
              "    60% {\n",
              "      border-color: transparent;\n",
              "      border-right-color: var(--fill-color);\n",
              "    }\n",
              "    80% {\n",
              "      border-color: transparent;\n",
              "      border-right-color: var(--fill-color);\n",
              "      border-bottom-color: var(--fill-color);\n",
              "    }\n",
              "    90% {\n",
              "      border-color: transparent;\n",
              "      border-bottom-color: var(--fill-color);\n",
              "    }\n",
              "  }\n",
              "</style>\n",
              "\n",
              "  <script>\n",
              "    async function quickchart(key) {\n",
              "      const quickchartButtonEl =\n",
              "        document.querySelector('#' + key + ' button');\n",
              "      quickchartButtonEl.disabled = true;  // To prevent multiple clicks.\n",
              "      quickchartButtonEl.classList.add('colab-df-spinner');\n",
              "      try {\n",
              "        const charts = await google.colab.kernel.invokeFunction(\n",
              "            'suggestCharts', [key], {});\n",
              "      } catch (error) {\n",
              "        console.error('Error during call to suggestCharts:', error);\n",
              "      }\n",
              "      quickchartButtonEl.classList.remove('colab-df-spinner');\n",
              "      quickchartButtonEl.classList.add('colab-df-quickchart-complete');\n",
              "    }\n",
              "    (() => {\n",
              "      let quickchartButtonEl =\n",
              "        document.querySelector('#df-130e95d2-0555-4ebb-9f1f-3334385c7ebc button');\n",
              "      quickchartButtonEl.style.display =\n",
              "        google.colab.kernel.accessAllowed ? 'block' : 'none';\n",
              "    })();\n",
              "  </script>\n",
              "</div>\n",
              "    </div>\n",
              "  </div>\n"
            ],
            "application/vnd.google.colaboratory.intrinsic+json": {
              "type": "dataframe",
              "variable_name": "cb_sample_df",
              "summary": "{\n  \"name\": \"cb_sample_df\",\n  \"rows\": 43352,\n  \"fields\": [\n    {\n      \"column\": \"Year\",\n      \"properties\": {\n        \"dtype\": \"number\",\n        \"std\": 0,\n        \"min\": 2021,\n        \"max\": 2021,\n        \"num_unique_values\": 1,\n        \"samples\": [\n          2021\n        ],\n        \"semantic_type\": \"\",\n        \"description\": \"\"\n      }\n    },\n    {\n      \"column\": \"Number of Bedrooms\",\n      \"properties\": {\n        \"dtype\": \"number\",\n        \"std\": 0,\n        \"min\": 1,\n        \"max\": 4,\n        \"num_unique_values\": 4,\n        \"samples\": [\n          4\n        ],\n        \"semantic_type\": \"\",\n        \"description\": \"\"\n      }\n    },\n    {\n      \"column\": \"rent_value\",\n      \"properties\": {\n        \"dtype\": \"number\",\n        \"std\": 404.2278713868416,\n        \"min\": 405.91,\n        \"max\": 3052.21,\n        \"num_unique_values\": 331,\n        \"samples\": [\n          1059.86\n        ],\n        \"semantic_type\": \"\",\n        \"description\": \"\"\n      }\n    },\n    {\n      \"column\": \"region\",\n      \"properties\": {\n        \"dtype\": \"category\",\n        \"num_unique_values\": 8,\n        \"samples\": [\n          \"Mid_West\"\n        ],\n        \"semantic_type\": \"\",\n        \"description\": \"\"\n      }\n    },\n    {\n      \"column\": \"Apartment\",\n      \"properties\": {\n        \"dtype\": \"number\",\n        \"std\": 0,\n        \"min\": 0,\n        \"max\": 1,\n        \"num_unique_values\": 2,\n        \"samples\": [\n          1\n        ],\n        \"semantic_type\": \"\",\n        \"description\": \"\"\n      }\n    },\n    {\n      \"column\": \"Detached house\",\n      \"properties\": {\n        \"dtype\": \"number\",\n        \"std\": 0,\n        \"min\": 0,\n        \"max\": 1,\n        \"num_unique_values\": 2,\n        \"samples\": [\n          0\n        ],\n        \"semantic_type\": \"\",\n        \"description\": \"\"\n      }\n    },\n    {\n      \"column\": \"Other flats\",\n      \"properties\": {\n        \"dtype\": \"number\",\n        \"std\": 0,\n        \"min\": 0,\n        \"max\": 1,\n        \"num_unique_values\": 2,\n        \"samples\": [\n          1\n        ],\n        \"semantic_type\": \"\",\n        \"description\": \"\"\n      }\n    },\n    {\n      \"column\": \"Semi detached house\",\n      \"properties\": {\n        \"dtype\": \"number\",\n        \"std\": 0,\n        \"min\": 0,\n        \"max\": 1,\n        \"num_unique_values\": 2,\n        \"samples\": [\n          1\n        ],\n        \"semantic_type\": \"\",\n        \"description\": \"\"\n      }\n    },\n    {\n      \"column\": \"Terrace house\",\n      \"properties\": {\n        \"dtype\": \"number\",\n        \"std\": 0,\n        \"min\": 0,\n        \"max\": 1,\n        \"num_unique_values\": 2,\n        \"samples\": [\n          1\n        ],\n        \"semantic_type\": \"\",\n        \"description\": \"\"\n      }\n    },\n    {\n      \"column\": \"avg_disposable_income\",\n      \"properties\": {\n        \"dtype\": \"number\",\n        \"std\": 8127.714933014276,\n        \"min\": 6699.88,\n        \"max\": 39684.85,\n        \"num_unique_values\": 8,\n        \"samples\": [\n          11853.13\n        ],\n        \"semantic_type\": \"\",\n        \"description\": \"\"\n      }\n    },\n    {\n      \"column\": \"house_purchase_price\",\n      \"properties\": {\n        \"dtype\": \"number\",\n        \"std\": 143592.68578230086,\n        \"min\": 34050.0,\n        \"max\": 1626047.0,\n        \"num_unique_values\": 2434,\n        \"samples\": [\n          227018.0\n        ],\n        \"semantic_type\": \"\",\n        \"description\": \"\"\n      }\n    },\n    {\n      \"column\": \"Number_of_Crimes\",\n      \"properties\": {\n        \"dtype\": \"number\",\n        \"std\": 32605,\n        \"min\": 15894,\n        \"max\": 151249,\n        \"num_unique_values\": 8,\n        \"samples\": [\n          34251\n        ],\n        \"semantic_type\": \"\",\n        \"description\": \"\"\n      }\n    }\n  ]\n}"
            }
          },
          "metadata": {},
          "execution_count": 104
        }
      ]
    },
    {
      "cell_type": "code",
      "source": [
        "cb_sample_df['region'].unique()"
      ],
      "metadata": {
        "colab": {
          "base_uri": "https://localhost:8080/"
        },
        "id": "0AK5qnd5UqTr",
        "outputId": "9112222e-90e6-43f2-ca31-4c9bba90ec4c"
      },
      "execution_count": 105,
      "outputs": [
        {
          "output_type": "execute_result",
          "data": {
            "text/plain": [
              "array(['Mid_East', 'Mid_West', 'Border', 'Dublin', 'Midland', 'West',\n",
              "       'South_East', 'South_West'], dtype=object)"
            ]
          },
          "metadata": {},
          "execution_count": 105
        }
      ]
    },
    {
      "cell_type": "code",
      "source": [
        "cb_sample_df = cb_sample_df.join(pd.get_dummies(cb_sample_df[\"region\"])).drop([\"region\"], axis=1)"
      ],
      "metadata": {
        "id": "TU57J5u3RaKV"
      },
      "execution_count": 106,
      "outputs": []
    },
    {
      "cell_type": "code",
      "source": [
        "X_cb1_2021 = cb_sample_df.drop([\"house_purchase_price\"], axis=1)\n",
        "#The house purchase price is set as the target variable\n",
        "y_cb1_2021 = cb_sample_df['house_purchase_price']"
      ],
      "metadata": {
        "id": "Zlps7UriDmEL"
      },
      "execution_count": 107,
      "outputs": []
    },
    {
      "cell_type": "code",
      "source": [
        "import pickle\n",
        "loaded_XGB_house_price_model = pickle.load(open('/content/xgb_house_price.pkl', 'rb'))"
      ],
      "metadata": {
        "id": "EclYMWiSFLVd"
      },
      "execution_count": 108,
      "outputs": []
    },
    {
      "cell_type": "code",
      "source": [
        "X_cb1_2021"
      ],
      "metadata": {
        "colab": {
          "base_uri": "https://localhost:8080/",
          "height": 478
        },
        "id": "wCQnUAq-G3IK",
        "outputId": "5aaaf548-d54e-4e61-f51f-2040769ad020"
      },
      "execution_count": 109,
      "outputs": [
        {
          "output_type": "execute_result",
          "data": {
            "text/plain": [
              "       Year  Number of Bedrooms  rent_value  Apartment  Detached house  \\\n",
              "0      2021                   1      932.03          0               1   \n",
              "1      2021                   4     1704.17          0               0   \n",
              "2      2021                   4     1767.75          0               1   \n",
              "3      2021                   1      914.85          1               0   \n",
              "4      2021                   2     1216.72          0               1   \n",
              "...     ...                 ...         ...        ...             ...   \n",
              "43347  2021                   2     1201.37          1               0   \n",
              "43348  2021                   3     1404.15          1               0   \n",
              "43349  2021                   2     1133.53          0               0   \n",
              "43350  2021                   2      850.61          1               0   \n",
              "43351  2021                   4     1443.52          0               0   \n",
              "\n",
              "       Other flats  Semi detached house  Terrace house  avg_disposable_income  \\\n",
              "0                0                    0              0               17434.03   \n",
              "1                0                    0              1               17434.03   \n",
              "2                0                    0              0               17434.03   \n",
              "3                0                    0              0               17434.03   \n",
              "4                0                    0              0               17434.03   \n",
              "...            ...                  ...            ...                    ...   \n",
              "43347            0                    0              0               17448.48   \n",
              "43348            0                    0              0               17448.48   \n",
              "43349            0                    0              1               17448.48   \n",
              "43350            0                    0              0               17448.48   \n",
              "43351            0                    1              0               17448.48   \n",
              "\n",
              "       Number_of_Crimes  Border  Dublin  Mid_East  Mid_West  Midland  \\\n",
              "0                 42748   False   False      True     False    False   \n",
              "1                 42748   False   False      True     False    False   \n",
              "2                 42748   False   False      True     False    False   \n",
              "3                 42748   False   False      True     False    False   \n",
              "4                 42748   False   False      True     False    False   \n",
              "...                 ...     ...     ...       ...       ...      ...   \n",
              "43347             33177   False   False     False     False    False   \n",
              "43348             33177   False   False     False     False    False   \n",
              "43349             33177   False   False     False     False    False   \n",
              "43350             33177   False   False     False     False    False   \n",
              "43351             33177   False   False     False     False    False   \n",
              "\n",
              "       South_East  South_West   West  \n",
              "0           False       False  False  \n",
              "1           False       False  False  \n",
              "2           False       False  False  \n",
              "3           False       False  False  \n",
              "4           False       False  False  \n",
              "...           ...         ...    ...  \n",
              "43347       False        True  False  \n",
              "43348       False        True  False  \n",
              "43349       False        True  False  \n",
              "43350       False        True  False  \n",
              "43351       False        True  False  \n",
              "\n",
              "[43352 rows x 18 columns]"
            ],
            "text/html": [
              "\n",
              "  <div id=\"df-ffe10c3f-4d2c-4180-8bc1-4587da2f14ec\" class=\"colab-df-container\">\n",
              "    <div>\n",
              "<style scoped>\n",
              "    .dataframe tbody tr th:only-of-type {\n",
              "        vertical-align: middle;\n",
              "    }\n",
              "\n",
              "    .dataframe tbody tr th {\n",
              "        vertical-align: top;\n",
              "    }\n",
              "\n",
              "    .dataframe thead th {\n",
              "        text-align: right;\n",
              "    }\n",
              "</style>\n",
              "<table border=\"1\" class=\"dataframe\">\n",
              "  <thead>\n",
              "    <tr style=\"text-align: right;\">\n",
              "      <th></th>\n",
              "      <th>Year</th>\n",
              "      <th>Number of Bedrooms</th>\n",
              "      <th>rent_value</th>\n",
              "      <th>Apartment</th>\n",
              "      <th>Detached house</th>\n",
              "      <th>Other flats</th>\n",
              "      <th>Semi detached house</th>\n",
              "      <th>Terrace house</th>\n",
              "      <th>avg_disposable_income</th>\n",
              "      <th>Number_of_Crimes</th>\n",
              "      <th>Border</th>\n",
              "      <th>Dublin</th>\n",
              "      <th>Mid_East</th>\n",
              "      <th>Mid_West</th>\n",
              "      <th>Midland</th>\n",
              "      <th>South_East</th>\n",
              "      <th>South_West</th>\n",
              "      <th>West</th>\n",
              "    </tr>\n",
              "  </thead>\n",
              "  <tbody>\n",
              "    <tr>\n",
              "      <th>0</th>\n",
              "      <td>2021</td>\n",
              "      <td>1</td>\n",
              "      <td>932.03</td>\n",
              "      <td>0</td>\n",
              "      <td>1</td>\n",
              "      <td>0</td>\n",
              "      <td>0</td>\n",
              "      <td>0</td>\n",
              "      <td>17434.03</td>\n",
              "      <td>42748</td>\n",
              "      <td>False</td>\n",
              "      <td>False</td>\n",
              "      <td>True</td>\n",
              "      <td>False</td>\n",
              "      <td>False</td>\n",
              "      <td>False</td>\n",
              "      <td>False</td>\n",
              "      <td>False</td>\n",
              "    </tr>\n",
              "    <tr>\n",
              "      <th>1</th>\n",
              "      <td>2021</td>\n",
              "      <td>4</td>\n",
              "      <td>1704.17</td>\n",
              "      <td>0</td>\n",
              "      <td>0</td>\n",
              "      <td>0</td>\n",
              "      <td>0</td>\n",
              "      <td>1</td>\n",
              "      <td>17434.03</td>\n",
              "      <td>42748</td>\n",
              "      <td>False</td>\n",
              "      <td>False</td>\n",
              "      <td>True</td>\n",
              "      <td>False</td>\n",
              "      <td>False</td>\n",
              "      <td>False</td>\n",
              "      <td>False</td>\n",
              "      <td>False</td>\n",
              "    </tr>\n",
              "    <tr>\n",
              "      <th>2</th>\n",
              "      <td>2021</td>\n",
              "      <td>4</td>\n",
              "      <td>1767.75</td>\n",
              "      <td>0</td>\n",
              "      <td>1</td>\n",
              "      <td>0</td>\n",
              "      <td>0</td>\n",
              "      <td>0</td>\n",
              "      <td>17434.03</td>\n",
              "      <td>42748</td>\n",
              "      <td>False</td>\n",
              "      <td>False</td>\n",
              "      <td>True</td>\n",
              "      <td>False</td>\n",
              "      <td>False</td>\n",
              "      <td>False</td>\n",
              "      <td>False</td>\n",
              "      <td>False</td>\n",
              "    </tr>\n",
              "    <tr>\n",
              "      <th>3</th>\n",
              "      <td>2021</td>\n",
              "      <td>1</td>\n",
              "      <td>914.85</td>\n",
              "      <td>1</td>\n",
              "      <td>0</td>\n",
              "      <td>0</td>\n",
              "      <td>0</td>\n",
              "      <td>0</td>\n",
              "      <td>17434.03</td>\n",
              "      <td>42748</td>\n",
              "      <td>False</td>\n",
              "      <td>False</td>\n",
              "      <td>True</td>\n",
              "      <td>False</td>\n",
              "      <td>False</td>\n",
              "      <td>False</td>\n",
              "      <td>False</td>\n",
              "      <td>False</td>\n",
              "    </tr>\n",
              "    <tr>\n",
              "      <th>4</th>\n",
              "      <td>2021</td>\n",
              "      <td>2</td>\n",
              "      <td>1216.72</td>\n",
              "      <td>0</td>\n",
              "      <td>1</td>\n",
              "      <td>0</td>\n",
              "      <td>0</td>\n",
              "      <td>0</td>\n",
              "      <td>17434.03</td>\n",
              "      <td>42748</td>\n",
              "      <td>False</td>\n",
              "      <td>False</td>\n",
              "      <td>True</td>\n",
              "      <td>False</td>\n",
              "      <td>False</td>\n",
              "      <td>False</td>\n",
              "      <td>False</td>\n",
              "      <td>False</td>\n",
              "    </tr>\n",
              "    <tr>\n",
              "      <th>...</th>\n",
              "      <td>...</td>\n",
              "      <td>...</td>\n",
              "      <td>...</td>\n",
              "      <td>...</td>\n",
              "      <td>...</td>\n",
              "      <td>...</td>\n",
              "      <td>...</td>\n",
              "      <td>...</td>\n",
              "      <td>...</td>\n",
              "      <td>...</td>\n",
              "      <td>...</td>\n",
              "      <td>...</td>\n",
              "      <td>...</td>\n",
              "      <td>...</td>\n",
              "      <td>...</td>\n",
              "      <td>...</td>\n",
              "      <td>...</td>\n",
              "      <td>...</td>\n",
              "    </tr>\n",
              "    <tr>\n",
              "      <th>43347</th>\n",
              "      <td>2021</td>\n",
              "      <td>2</td>\n",
              "      <td>1201.37</td>\n",
              "      <td>1</td>\n",
              "      <td>0</td>\n",
              "      <td>0</td>\n",
              "      <td>0</td>\n",
              "      <td>0</td>\n",
              "      <td>17448.48</td>\n",
              "      <td>33177</td>\n",
              "      <td>False</td>\n",
              "      <td>False</td>\n",
              "      <td>False</td>\n",
              "      <td>False</td>\n",
              "      <td>False</td>\n",
              "      <td>False</td>\n",
              "      <td>True</td>\n",
              "      <td>False</td>\n",
              "    </tr>\n",
              "    <tr>\n",
              "      <th>43348</th>\n",
              "      <td>2021</td>\n",
              "      <td>3</td>\n",
              "      <td>1404.15</td>\n",
              "      <td>1</td>\n",
              "      <td>0</td>\n",
              "      <td>0</td>\n",
              "      <td>0</td>\n",
              "      <td>0</td>\n",
              "      <td>17448.48</td>\n",
              "      <td>33177</td>\n",
              "      <td>False</td>\n",
              "      <td>False</td>\n",
              "      <td>False</td>\n",
              "      <td>False</td>\n",
              "      <td>False</td>\n",
              "      <td>False</td>\n",
              "      <td>True</td>\n",
              "      <td>False</td>\n",
              "    </tr>\n",
              "    <tr>\n",
              "      <th>43349</th>\n",
              "      <td>2021</td>\n",
              "      <td>2</td>\n",
              "      <td>1133.53</td>\n",
              "      <td>0</td>\n",
              "      <td>0</td>\n",
              "      <td>0</td>\n",
              "      <td>0</td>\n",
              "      <td>1</td>\n",
              "      <td>17448.48</td>\n",
              "      <td>33177</td>\n",
              "      <td>False</td>\n",
              "      <td>False</td>\n",
              "      <td>False</td>\n",
              "      <td>False</td>\n",
              "      <td>False</td>\n",
              "      <td>False</td>\n",
              "      <td>True</td>\n",
              "      <td>False</td>\n",
              "    </tr>\n",
              "    <tr>\n",
              "      <th>43350</th>\n",
              "      <td>2021</td>\n",
              "      <td>2</td>\n",
              "      <td>850.61</td>\n",
              "      <td>1</td>\n",
              "      <td>0</td>\n",
              "      <td>0</td>\n",
              "      <td>0</td>\n",
              "      <td>0</td>\n",
              "      <td>17448.48</td>\n",
              "      <td>33177</td>\n",
              "      <td>False</td>\n",
              "      <td>False</td>\n",
              "      <td>False</td>\n",
              "      <td>False</td>\n",
              "      <td>False</td>\n",
              "      <td>False</td>\n",
              "      <td>True</td>\n",
              "      <td>False</td>\n",
              "    </tr>\n",
              "    <tr>\n",
              "      <th>43351</th>\n",
              "      <td>2021</td>\n",
              "      <td>4</td>\n",
              "      <td>1443.52</td>\n",
              "      <td>0</td>\n",
              "      <td>0</td>\n",
              "      <td>0</td>\n",
              "      <td>1</td>\n",
              "      <td>0</td>\n",
              "      <td>17448.48</td>\n",
              "      <td>33177</td>\n",
              "      <td>False</td>\n",
              "      <td>False</td>\n",
              "      <td>False</td>\n",
              "      <td>False</td>\n",
              "      <td>False</td>\n",
              "      <td>False</td>\n",
              "      <td>True</td>\n",
              "      <td>False</td>\n",
              "    </tr>\n",
              "  </tbody>\n",
              "</table>\n",
              "<p>43352 rows × 18 columns</p>\n",
              "</div>\n",
              "    <div class=\"colab-df-buttons\">\n",
              "\n",
              "  <div class=\"colab-df-container\">\n",
              "    <button class=\"colab-df-convert\" onclick=\"convertToInteractive('df-ffe10c3f-4d2c-4180-8bc1-4587da2f14ec')\"\n",
              "            title=\"Convert this dataframe to an interactive table.\"\n",
              "            style=\"display:none;\">\n",
              "\n",
              "  <svg xmlns=\"http://www.w3.org/2000/svg\" height=\"24px\" viewBox=\"0 -960 960 960\">\n",
              "    <path d=\"M120-120v-720h720v720H120Zm60-500h600v-160H180v160Zm220 220h160v-160H400v160Zm0 220h160v-160H400v160ZM180-400h160v-160H180v160Zm440 0h160v-160H620v160ZM180-180h160v-160H180v160Zm440 0h160v-160H620v160Z\"/>\n",
              "  </svg>\n",
              "    </button>\n",
              "\n",
              "  <style>\n",
              "    .colab-df-container {\n",
              "      display:flex;\n",
              "      gap: 12px;\n",
              "    }\n",
              "\n",
              "    .colab-df-convert {\n",
              "      background-color: #E8F0FE;\n",
              "      border: none;\n",
              "      border-radius: 50%;\n",
              "      cursor: pointer;\n",
              "      display: none;\n",
              "      fill: #1967D2;\n",
              "      height: 32px;\n",
              "      padding: 0 0 0 0;\n",
              "      width: 32px;\n",
              "    }\n",
              "\n",
              "    .colab-df-convert:hover {\n",
              "      background-color: #E2EBFA;\n",
              "      box-shadow: 0px 1px 2px rgba(60, 64, 67, 0.3), 0px 1px 3px 1px rgba(60, 64, 67, 0.15);\n",
              "      fill: #174EA6;\n",
              "    }\n",
              "\n",
              "    .colab-df-buttons div {\n",
              "      margin-bottom: 4px;\n",
              "    }\n",
              "\n",
              "    [theme=dark] .colab-df-convert {\n",
              "      background-color: #3B4455;\n",
              "      fill: #D2E3FC;\n",
              "    }\n",
              "\n",
              "    [theme=dark] .colab-df-convert:hover {\n",
              "      background-color: #434B5C;\n",
              "      box-shadow: 0px 1px 3px 1px rgba(0, 0, 0, 0.15);\n",
              "      filter: drop-shadow(0px 1px 2px rgba(0, 0, 0, 0.3));\n",
              "      fill: #FFFFFF;\n",
              "    }\n",
              "  </style>\n",
              "\n",
              "    <script>\n",
              "      const buttonEl =\n",
              "        document.querySelector('#df-ffe10c3f-4d2c-4180-8bc1-4587da2f14ec button.colab-df-convert');\n",
              "      buttonEl.style.display =\n",
              "        google.colab.kernel.accessAllowed ? 'block' : 'none';\n",
              "\n",
              "      async function convertToInteractive(key) {\n",
              "        const element = document.querySelector('#df-ffe10c3f-4d2c-4180-8bc1-4587da2f14ec');\n",
              "        const dataTable =\n",
              "          await google.colab.kernel.invokeFunction('convertToInteractive',\n",
              "                                                    [key], {});\n",
              "        if (!dataTable) return;\n",
              "\n",
              "        const docLinkHtml = 'Like what you see? Visit the ' +\n",
              "          '<a target=\"_blank\" href=https://colab.research.google.com/notebooks/data_table.ipynb>data table notebook</a>'\n",
              "          + ' to learn more about interactive tables.';\n",
              "        element.innerHTML = '';\n",
              "        dataTable['output_type'] = 'display_data';\n",
              "        await google.colab.output.renderOutput(dataTable, element);\n",
              "        const docLink = document.createElement('div');\n",
              "        docLink.innerHTML = docLinkHtml;\n",
              "        element.appendChild(docLink);\n",
              "      }\n",
              "    </script>\n",
              "  </div>\n",
              "\n",
              "\n",
              "<div id=\"df-4e9f2f14-2d25-4415-99db-1141478942a3\">\n",
              "  <button class=\"colab-df-quickchart\" onclick=\"quickchart('df-4e9f2f14-2d25-4415-99db-1141478942a3')\"\n",
              "            title=\"Suggest charts\"\n",
              "            style=\"display:none;\">\n",
              "\n",
              "<svg xmlns=\"http://www.w3.org/2000/svg\" height=\"24px\"viewBox=\"0 0 24 24\"\n",
              "     width=\"24px\">\n",
              "    <g>\n",
              "        <path d=\"M19 3H5c-1.1 0-2 .9-2 2v14c0 1.1.9 2 2 2h14c1.1 0 2-.9 2-2V5c0-1.1-.9-2-2-2zM9 17H7v-7h2v7zm4 0h-2V7h2v10zm4 0h-2v-4h2v4z\"/>\n",
              "    </g>\n",
              "</svg>\n",
              "  </button>\n",
              "\n",
              "<style>\n",
              "  .colab-df-quickchart {\n",
              "      --bg-color: #E8F0FE;\n",
              "      --fill-color: #1967D2;\n",
              "      --hover-bg-color: #E2EBFA;\n",
              "      --hover-fill-color: #174EA6;\n",
              "      --disabled-fill-color: #AAA;\n",
              "      --disabled-bg-color: #DDD;\n",
              "  }\n",
              "\n",
              "  [theme=dark] .colab-df-quickchart {\n",
              "      --bg-color: #3B4455;\n",
              "      --fill-color: #D2E3FC;\n",
              "      --hover-bg-color: #434B5C;\n",
              "      --hover-fill-color: #FFFFFF;\n",
              "      --disabled-bg-color: #3B4455;\n",
              "      --disabled-fill-color: #666;\n",
              "  }\n",
              "\n",
              "  .colab-df-quickchart {\n",
              "    background-color: var(--bg-color);\n",
              "    border: none;\n",
              "    border-radius: 50%;\n",
              "    cursor: pointer;\n",
              "    display: none;\n",
              "    fill: var(--fill-color);\n",
              "    height: 32px;\n",
              "    padding: 0;\n",
              "    width: 32px;\n",
              "  }\n",
              "\n",
              "  .colab-df-quickchart:hover {\n",
              "    background-color: var(--hover-bg-color);\n",
              "    box-shadow: 0 1px 2px rgba(60, 64, 67, 0.3), 0 1px 3px 1px rgba(60, 64, 67, 0.15);\n",
              "    fill: var(--button-hover-fill-color);\n",
              "  }\n",
              "\n",
              "  .colab-df-quickchart-complete:disabled,\n",
              "  .colab-df-quickchart-complete:disabled:hover {\n",
              "    background-color: var(--disabled-bg-color);\n",
              "    fill: var(--disabled-fill-color);\n",
              "    box-shadow: none;\n",
              "  }\n",
              "\n",
              "  .colab-df-spinner {\n",
              "    border: 2px solid var(--fill-color);\n",
              "    border-color: transparent;\n",
              "    border-bottom-color: var(--fill-color);\n",
              "    animation:\n",
              "      spin 1s steps(1) infinite;\n",
              "  }\n",
              "\n",
              "  @keyframes spin {\n",
              "    0% {\n",
              "      border-color: transparent;\n",
              "      border-bottom-color: var(--fill-color);\n",
              "      border-left-color: var(--fill-color);\n",
              "    }\n",
              "    20% {\n",
              "      border-color: transparent;\n",
              "      border-left-color: var(--fill-color);\n",
              "      border-top-color: var(--fill-color);\n",
              "    }\n",
              "    30% {\n",
              "      border-color: transparent;\n",
              "      border-left-color: var(--fill-color);\n",
              "      border-top-color: var(--fill-color);\n",
              "      border-right-color: var(--fill-color);\n",
              "    }\n",
              "    40% {\n",
              "      border-color: transparent;\n",
              "      border-right-color: var(--fill-color);\n",
              "      border-top-color: var(--fill-color);\n",
              "    }\n",
              "    60% {\n",
              "      border-color: transparent;\n",
              "      border-right-color: var(--fill-color);\n",
              "    }\n",
              "    80% {\n",
              "      border-color: transparent;\n",
              "      border-right-color: var(--fill-color);\n",
              "      border-bottom-color: var(--fill-color);\n",
              "    }\n",
              "    90% {\n",
              "      border-color: transparent;\n",
              "      border-bottom-color: var(--fill-color);\n",
              "    }\n",
              "  }\n",
              "</style>\n",
              "\n",
              "  <script>\n",
              "    async function quickchart(key) {\n",
              "      const quickchartButtonEl =\n",
              "        document.querySelector('#' + key + ' button');\n",
              "      quickchartButtonEl.disabled = true;  // To prevent multiple clicks.\n",
              "      quickchartButtonEl.classList.add('colab-df-spinner');\n",
              "      try {\n",
              "        const charts = await google.colab.kernel.invokeFunction(\n",
              "            'suggestCharts', [key], {});\n",
              "      } catch (error) {\n",
              "        console.error('Error during call to suggestCharts:', error);\n",
              "      }\n",
              "      quickchartButtonEl.classList.remove('colab-df-spinner');\n",
              "      quickchartButtonEl.classList.add('colab-df-quickchart-complete');\n",
              "    }\n",
              "    (() => {\n",
              "      let quickchartButtonEl =\n",
              "        document.querySelector('#df-4e9f2f14-2d25-4415-99db-1141478942a3 button');\n",
              "      quickchartButtonEl.style.display =\n",
              "        google.colab.kernel.accessAllowed ? 'block' : 'none';\n",
              "    })();\n",
              "  </script>\n",
              "</div>\n",
              "    </div>\n",
              "  </div>\n"
            ],
            "application/vnd.google.colaboratory.intrinsic+json": {
              "type": "dataframe",
              "variable_name": "X_cb1_2021",
              "summary": "{\n  \"name\": \"X_cb1_2021\",\n  \"rows\": 43352,\n  \"fields\": [\n    {\n      \"column\": \"Year\",\n      \"properties\": {\n        \"dtype\": \"number\",\n        \"std\": 0,\n        \"min\": 2021,\n        \"max\": 2021,\n        \"num_unique_values\": 1,\n        \"samples\": [\n          2021\n        ],\n        \"semantic_type\": \"\",\n        \"description\": \"\"\n      }\n    },\n    {\n      \"column\": \"Number of Bedrooms\",\n      \"properties\": {\n        \"dtype\": \"number\",\n        \"std\": 0,\n        \"min\": 1,\n        \"max\": 4,\n        \"num_unique_values\": 4,\n        \"samples\": [\n          4\n        ],\n        \"semantic_type\": \"\",\n        \"description\": \"\"\n      }\n    },\n    {\n      \"column\": \"rent_value\",\n      \"properties\": {\n        \"dtype\": \"number\",\n        \"std\": 404.2278713868416,\n        \"min\": 405.91,\n        \"max\": 3052.21,\n        \"num_unique_values\": 331,\n        \"samples\": [\n          1059.86\n        ],\n        \"semantic_type\": \"\",\n        \"description\": \"\"\n      }\n    },\n    {\n      \"column\": \"Apartment\",\n      \"properties\": {\n        \"dtype\": \"number\",\n        \"std\": 0,\n        \"min\": 0,\n        \"max\": 1,\n        \"num_unique_values\": 2,\n        \"samples\": [\n          1\n        ],\n        \"semantic_type\": \"\",\n        \"description\": \"\"\n      }\n    },\n    {\n      \"column\": \"Detached house\",\n      \"properties\": {\n        \"dtype\": \"number\",\n        \"std\": 0,\n        \"min\": 0,\n        \"max\": 1,\n        \"num_unique_values\": 2,\n        \"samples\": [\n          0\n        ],\n        \"semantic_type\": \"\",\n        \"description\": \"\"\n      }\n    },\n    {\n      \"column\": \"Other flats\",\n      \"properties\": {\n        \"dtype\": \"number\",\n        \"std\": 0,\n        \"min\": 0,\n        \"max\": 1,\n        \"num_unique_values\": 2,\n        \"samples\": [\n          1\n        ],\n        \"semantic_type\": \"\",\n        \"description\": \"\"\n      }\n    },\n    {\n      \"column\": \"Semi detached house\",\n      \"properties\": {\n        \"dtype\": \"number\",\n        \"std\": 0,\n        \"min\": 0,\n        \"max\": 1,\n        \"num_unique_values\": 2,\n        \"samples\": [\n          1\n        ],\n        \"semantic_type\": \"\",\n        \"description\": \"\"\n      }\n    },\n    {\n      \"column\": \"Terrace house\",\n      \"properties\": {\n        \"dtype\": \"number\",\n        \"std\": 0,\n        \"min\": 0,\n        \"max\": 1,\n        \"num_unique_values\": 2,\n        \"samples\": [\n          1\n        ],\n        \"semantic_type\": \"\",\n        \"description\": \"\"\n      }\n    },\n    {\n      \"column\": \"avg_disposable_income\",\n      \"properties\": {\n        \"dtype\": \"number\",\n        \"std\": 8127.714933014276,\n        \"min\": 6699.88,\n        \"max\": 39684.85,\n        \"num_unique_values\": 8,\n        \"samples\": [\n          11853.13\n        ],\n        \"semantic_type\": \"\",\n        \"description\": \"\"\n      }\n    },\n    {\n      \"column\": \"Number_of_Crimes\",\n      \"properties\": {\n        \"dtype\": \"number\",\n        \"std\": 32605,\n        \"min\": 15894,\n        \"max\": 151249,\n        \"num_unique_values\": 8,\n        \"samples\": [\n          34251\n        ],\n        \"semantic_type\": \"\",\n        \"description\": \"\"\n      }\n    },\n    {\n      \"column\": \"Border\",\n      \"properties\": {\n        \"dtype\": \"boolean\",\n        \"num_unique_values\": 2,\n        \"samples\": [\n          true\n        ],\n        \"semantic_type\": \"\",\n        \"description\": \"\"\n      }\n    },\n    {\n      \"column\": \"Dublin\",\n      \"properties\": {\n        \"dtype\": \"boolean\",\n        \"num_unique_values\": 2,\n        \"samples\": [\n          true\n        ],\n        \"semantic_type\": \"\",\n        \"description\": \"\"\n      }\n    },\n    {\n      \"column\": \"Mid_East\",\n      \"properties\": {\n        \"dtype\": \"boolean\",\n        \"num_unique_values\": 2,\n        \"samples\": [\n          false\n        ],\n        \"semantic_type\": \"\",\n        \"description\": \"\"\n      }\n    },\n    {\n      \"column\": \"Mid_West\",\n      \"properties\": {\n        \"dtype\": \"boolean\",\n        \"num_unique_values\": 2,\n        \"samples\": [\n          true\n        ],\n        \"semantic_type\": \"\",\n        \"description\": \"\"\n      }\n    },\n    {\n      \"column\": \"Midland\",\n      \"properties\": {\n        \"dtype\": \"boolean\",\n        \"num_unique_values\": 2,\n        \"samples\": [\n          true\n        ],\n        \"semantic_type\": \"\",\n        \"description\": \"\"\n      }\n    },\n    {\n      \"column\": \"South_East\",\n      \"properties\": {\n        \"dtype\": \"boolean\",\n        \"num_unique_values\": 2,\n        \"samples\": [\n          true\n        ],\n        \"semantic_type\": \"\",\n        \"description\": \"\"\n      }\n    },\n    {\n      \"column\": \"South_West\",\n      \"properties\": {\n        \"dtype\": \"boolean\",\n        \"num_unique_values\": 2,\n        \"samples\": [\n          true\n        ],\n        \"semantic_type\": \"\",\n        \"description\": \"\"\n      }\n    },\n    {\n      \"column\": \"West\",\n      \"properties\": {\n        \"dtype\": \"boolean\",\n        \"num_unique_values\": 2,\n        \"samples\": [\n          true\n        ],\n        \"semantic_type\": \"\",\n        \"description\": \"\"\n      }\n    }\n  ]\n}"
            }
          },
          "metadata": {},
          "execution_count": 109
        }
      ]
    },
    {
      "cell_type": "code",
      "source": [
        "pred_house_price_2021 = loaded_XGB_house_price_model.predict(X_cb1_2021)"
      ],
      "metadata": {
        "id": "G0EtiH8jF_LV"
      },
      "execution_count": 110,
      "outputs": []
    },
    {
      "cell_type": "code",
      "source": [
        "pred_house_price_2021[:20]"
      ],
      "metadata": {
        "colab": {
          "base_uri": "https://localhost:8080/"
        },
        "id": "SDYwvesCUb7u",
        "outputId": "4d052306-361e-4022-9a16-94fd7c15d4a5"
      },
      "execution_count": 111,
      "outputs": [
        {
          "output_type": "execute_result",
          "data": {
            "text/plain": [
              "array([314739.28, 321089.66, 306500.78, 318032.62, 312777.7 , 313810.1 ,\n",
              "       309514.9 , 317095.25, 315175.3 , 319256.66, 317095.25, 315714.53,\n",
              "       306500.78, 317095.25, 313707.22, 316024.34, 319453.1 , 319669.8 ,\n",
              "       316024.34, 313138.7 ], dtype=float32)"
            ]
          },
          "metadata": {},
          "execution_count": 111
        }
      ]
    },
    {
      "cell_type": "code",
      "source": [
        "X_cb2_2021 = cb_sample_df.drop([\"rent_value\"], axis=1)\n",
        "#The house purchase price is set as the target variable\n",
        "y_cb2_2021 = cb_sample_df['rent_value']"
      ],
      "metadata": {
        "id": "18XW0UPrXryD"
      },
      "execution_count": 112,
      "outputs": []
    },
    {
      "cell_type": "code",
      "source": [
        "#X_train_cb2_2021, X_test_cb2_2021, y_train_cb2_2021, y_test_cb2_2021 = train_test_split(X_cb2_2021,y_cb2_2021, test_size= 0.2)"
      ],
      "metadata": {
        "id": "R9eOh4LXxsCX"
      },
      "execution_count": 113,
      "outputs": []
    },
    {
      "cell_type": "code",
      "source": [
        "#reg_xgb2 = xgb.XGBRegressor(n_estimators= 1000, early_stopping_rounds= 50) #stops early if no improvment after 50 trees\n",
        "#reg_xgb2.fit(X_train_cb2_2021, y_train_cb2_2021,\n",
        "#           eval_set=[(X_train_cb2_2021, y_train_cb2_2021), (X_test_cb2_2021, y_test_cb2_2021)],\n",
        "#           verbose=10)"
      ],
      "metadata": {
        "id": "upzLHJJC1Op_"
      },
      "execution_count": 114,
      "outputs": []
    },
    {
      "cell_type": "code",
      "source": [
        "#reg_xgb2.score(X_test_cb2_2021, y_test_cb2_2021)"
      ],
      "metadata": {
        "id": "slQKe9u110oh"
      },
      "execution_count": 115,
      "outputs": []
    },
    {
      "cell_type": "code",
      "source": [
        "#import pickle\n",
        "#filename = 'xgb_rent_price.pkl'\n",
        "#pickle.dump(reg_xgb2, open(filename, 'wb'))"
      ],
      "metadata": {
        "id": "OfQNCeA69cct"
      },
      "execution_count": 116,
      "outputs": []
    },
    {
      "cell_type": "code",
      "source": [
        "import pickle\n",
        "loaded_XGB_rent_price_model = pickle.load(open('/content/xgb_rent_price.pkl', 'rb'))"
      ],
      "metadata": {
        "id": "63B1UGORXlpx"
      },
      "execution_count": 117,
      "outputs": []
    },
    {
      "cell_type": "code",
      "source": [
        "pred_rent_price_2021 = loaded_XGB_rent_price_model.predict(X_cb2_2021)"
      ],
      "metadata": {
        "id": "M8IY6KLWX-xg"
      },
      "execution_count": 118,
      "outputs": []
    },
    {
      "cell_type": "code",
      "source": [
        "pred_rent_price_2021[:20]"
      ],
      "metadata": {
        "colab": {
          "base_uri": "https://localhost:8080/"
        },
        "id": "IMu8o_v0YhIJ",
        "outputId": "0f56c935-707b-4b69-e4ed-9baf642574bf"
      },
      "execution_count": 119,
      "outputs": [
        {
          "output_type": "execute_result",
          "data": {
            "text/plain": [
              "array([ 937.4302 , 1538.8591 , 1621.2225 ,  991.18567, 1131.8856 ,\n",
              "       1264.3203 , 1143.3479 , 1336.3184 , 1130.248  ,  777.4052 ,\n",
              "       1432.3282 , 1531.0012 , 1621.2225 , 1334.1375 , 1311.2606 ,\n",
              "       1444.7283 , 1432.3282 , 1130.248  , 1432.3282 , 1531.0012 ],\n",
              "      dtype=float32)"
            ]
          },
          "metadata": {},
          "execution_count": 119
        }
      ]
    },
    {
      "cell_type": "markdown",
      "source": [
        "#Dividing the df by region"
      ],
      "metadata": {
        "id": "5qaoABMjQa4Y"
      }
    },
    {
      "cell_type": "code",
      "source": [
        "Dublin_df = cb_sample_df.loc[cb_sample_df['Dublin']==1]\n",
        "South_East_df = cb_sample_df.loc[cb_sample_df['South_East']==1]\n",
        "South_west_df = cb_sample_df.loc[cb_sample_df['South_West']==1]\n",
        "West_df = cb_sample_df.loc[cb_sample_df['West']==1]\n",
        "Midland_df = cb_sample_df.loc[cb_sample_df['Midland']==1]\n",
        "Mid_East_df = cb_sample_df.loc[cb_sample_df['Mid_East']==1]\n",
        "Mid_West_df = cb_sample_df.loc[cb_sample_df['Mid_West']==1]\n",
        "Border_df = cb_sample_df.loc[cb_sample_df['Border']==1]\n"
      ],
      "metadata": {
        "id": "ckNGiTzvQaSD"
      },
      "execution_count": 120,
      "outputs": []
    },
    {
      "cell_type": "code",
      "source": [
        "#Dublin_df"
      ],
      "metadata": {
        "id": "C5lIV33SxiMY"
      },
      "execution_count": 121,
      "outputs": []
    },
    {
      "cell_type": "markdown",
      "source": [
        "#Predicting values for Dublin df"
      ],
      "metadata": {
        "id": "mNoncKxf5LWZ"
      }
    },
    {
      "cell_type": "code",
      "source": [
        "X_Dub_HP = Dublin_df.drop([\"house_purchase_price\"], axis=1)\n",
        "#The house purchase price is set as the target variable\n",
        "y_Dub_HP = Dublin_df['house_purchase_price']"
      ],
      "metadata": {
        "id": "8of7_QpG5VE-"
      },
      "execution_count": 122,
      "outputs": []
    },
    {
      "cell_type": "code",
      "source": [
        "X_Dub_R = Dublin_df.drop([\"rent_value\"], axis=1)\n",
        "#The rent price is set as the target variable\n",
        "y_Dub_R = Dublin_df['rent_value']"
      ],
      "metadata": {
        "id": "5iJFgO1D5ooA"
      },
      "execution_count": 123,
      "outputs": []
    },
    {
      "cell_type": "code",
      "source": [
        "pred_Dub_HP = loaded_XGB_house_price_model.predict(X_Dub_HP)"
      ],
      "metadata": {
        "id": "znw9hpAO5Bvs"
      },
      "execution_count": 124,
      "outputs": []
    },
    {
      "cell_type": "code",
      "source": [
        "pred_Dub_R = loaded_XGB_rent_price_model.predict(X_Dub_R)"
      ],
      "metadata": {
        "id": "T0eGJQK07IG0"
      },
      "execution_count": 125,
      "outputs": []
    },
    {
      "cell_type": "code",
      "source": [
        "loaded_XGB_house_price_model.score(X_Dub_HP, y_Dub_HP)"
      ],
      "metadata": {
        "colab": {
          "base_uri": "https://localhost:8080/"
        },
        "id": "vTU_o9Mf9CHz",
        "outputId": "613a298b-0de1-48fd-c02c-942d9a2b4f58"
      },
      "execution_count": 126,
      "outputs": [
        {
          "output_type": "execute_result",
          "data": {
            "text/plain": [
              "-0.00523079300302931"
            ]
          },
          "metadata": {},
          "execution_count": 126
        }
      ]
    },
    {
      "cell_type": "code",
      "source": [
        "loaded_XGB_rent_price_model.score(X_Dub_R, y_Dub_R)"
      ],
      "metadata": {
        "colab": {
          "base_uri": "https://localhost:8080/"
        },
        "id": "1Snv--RP9bPE",
        "outputId": "05b27784-1f53-4e64-ac76-9b97ca847544"
      },
      "execution_count": 127,
      "outputs": [
        {
          "output_type": "execute_result",
          "data": {
            "text/plain": [
              "0.9994881860415596"
            ]
          },
          "metadata": {},
          "execution_count": 127
        }
      ]
    },
    {
      "cell_type": "code",
      "source": [
        "pred_Dub_HP[:20]"
      ],
      "metadata": {
        "colab": {
          "base_uri": "https://localhost:8080/"
        },
        "id": "o1llOm0o7Z7y",
        "outputId": "bd9b20c9-f53c-4a09-f40f-5cc3aafedfd9"
      },
      "execution_count": 128,
      "outputs": [
        {
          "output_type": "execute_result",
          "data": {
            "text/plain": [
              "array([559569.7 , 549729.9 , 540932.6 , 543759.2 , 586810.  , 517665.38,\n",
              "       530558.7 , 517665.38, 548925.25, 556201.44, 549018.94, 586810.  ,\n",
              "       542145.2 , 542145.2 , 581606.6 , 559569.7 , 575964.3 , 539061.7 ,\n",
              "       552512.4 , 517665.38], dtype=float32)"
            ]
          },
          "metadata": {},
          "execution_count": 128
        }
      ]
    },
    {
      "cell_type": "code",
      "source": [
        "pred_Dub_R[:20]"
      ],
      "metadata": {
        "colab": {
          "base_uri": "https://localhost:8080/"
        },
        "id": "nRcWWYQh7sef",
        "outputId": "d86fbfdb-4f45-49f5-b5fd-e95d68715a5a"
      },
      "execution_count": 129,
      "outputs": [
        {
          "output_type": "execute_result",
          "data": {
            "text/plain": [
              "array([2125.5012, 1322.4833, 1918.148 , 1847.989 , 2250.4734, 1408.8883,\n",
              "       1700.3173, 1408.8883, 1080.3907, 2660.6401, 1943.6824, 2250.4734,\n",
              "       1757.3323, 1757.3323, 2390.6194, 2125.5012, 1726.563 , 3027.5188,\n",
              "       1974.0393, 1408.8883], dtype=float32)"
            ]
          },
          "metadata": {},
          "execution_count": 129
        }
      ]
    },
    {
      "cell_type": "code",
      "source": [
        "#Find the average (mean) of a list\n",
        "def Average(list):\n",
        "  return sum(list) / len(list)"
      ],
      "metadata": {
        "id": "G0TNkXDi8FZa"
      },
      "execution_count": 130,
      "outputs": []
    },
    {
      "cell_type": "code",
      "source": [
        "#Find the median of a list\n",
        "def Median(list):\n",
        "  list.sort()\n",
        "  mid = len(list) // 2\n",
        "  res = (list[mid] + list[~mid]) / 2\n",
        "  return res"
      ],
      "metadata": {
        "id": "XJWfHxeXeG5E"
      },
      "execution_count": 131,
      "outputs": []
    },
    {
      "cell_type": "code",
      "source": [
        "pred_average_HP_Dub = Average(pred_Dub_HP)\n",
        "pred_average_HP_Dub\n",
        "\n",
        "pred_median_HP_Dub = Median(pred_Dub_HP)\n",
        "pred_median_HP_Dub"
      ],
      "metadata": {
        "colab": {
          "base_uri": "https://localhost:8080/"
        },
        "id": "kCFacnPS4yP7",
        "outputId": "fe6f54da-77d0-4574-a735-b4a46e92d572"
      },
      "execution_count": 132,
      "outputs": [
        {
          "output_type": "execute_result",
          "data": {
            "text/plain": [
              "548925.25"
            ]
          },
          "metadata": {},
          "execution_count": 132
        }
      ]
    },
    {
      "cell_type": "code",
      "source": [
        "pred_average_R_Dub = Average(pred_Dub_R)\n",
        "pred_average_R_Dub\n",
        "\n",
        "pred_median_R_Dub = Median(pred_Dub_R)\n",
        "pred_median_R_Dub"
      ],
      "metadata": {
        "colab": {
          "base_uri": "https://localhost:8080/"
        },
        "id": "IgCr72_B8T-b",
        "outputId": "5be4cb03-867d-41e6-c523-dc802f5cbedc"
      },
      "execution_count": 133,
      "outputs": [
        {
          "output_type": "execute_result",
          "data": {
            "text/plain": [
              "1918.14794921875"
            ]
          },
          "metadata": {},
          "execution_count": 133
        }
      ]
    },
    {
      "cell_type": "markdown",
      "source": [
        "#Predicting values for South East df"
      ],
      "metadata": {
        "id": "P27s9ZWawgAq"
      }
    },
    {
      "cell_type": "code",
      "source": [
        "X_SE_HP = South_East_df.drop([\"house_purchase_price\"], axis=1)\n",
        "#The house purchase price is set as the target variable\n",
        "y_SE_HP = South_East_df['house_purchase_price']"
      ],
      "metadata": {
        "id": "oi5C7Nbewp8w"
      },
      "execution_count": 134,
      "outputs": []
    },
    {
      "cell_type": "code",
      "source": [
        "X_SE_R = South_East_df.drop([\"rent_value\"], axis=1)\n",
        "#The rent price is set as the target variable\n",
        "y_SE_R = South_East_df['rent_value']"
      ],
      "metadata": {
        "id": "RUtrN5oR0vDz"
      },
      "execution_count": 135,
      "outputs": []
    },
    {
      "cell_type": "code",
      "source": [
        "pred_SE_HP = loaded_XGB_house_price_model.predict(X_SE_HP)"
      ],
      "metadata": {
        "id": "IwgDVA8u1D5K"
      },
      "execution_count": 136,
      "outputs": []
    },
    {
      "cell_type": "code",
      "source": [
        "pred_SE_R = loaded_XGB_rent_price_model.predict(X_SE_R)"
      ],
      "metadata": {
        "id": "UTIxctZX1MKt"
      },
      "execution_count": 137,
      "outputs": []
    },
    {
      "cell_type": "code",
      "source": [
        "loaded_XGB_house_price_model.score(X_SE_HP, y_SE_HP)"
      ],
      "metadata": {
        "colab": {
          "base_uri": "https://localhost:8080/"
        },
        "id": "J5xNmEKq3z8d",
        "outputId": "6f97668d-d7fa-4333-e740-51b627b83e13"
      },
      "execution_count": 138,
      "outputs": [
        {
          "output_type": "execute_result",
          "data": {
            "text/plain": [
              "-0.0003181166108732203"
            ]
          },
          "metadata": {},
          "execution_count": 138
        }
      ]
    },
    {
      "cell_type": "code",
      "source": [
        "loaded_XGB_rent_price_model.score(X_SE_R, y_SE_R)"
      ],
      "metadata": {
        "colab": {
          "base_uri": "https://localhost:8080/"
        },
        "id": "-MTh5OEI35rk",
        "outputId": "3338ee45-ddc5-4c1c-f7bd-f9449b6ad46e"
      },
      "execution_count": 139,
      "outputs": [
        {
          "output_type": "execute_result",
          "data": {
            "text/plain": [
              "0.8810136808901418"
            ]
          },
          "metadata": {},
          "execution_count": 139
        }
      ]
    },
    {
      "cell_type": "code",
      "source": [
        "pred_average_HP_SE = Average(pred_SE_HP)\n",
        "pred_average_HP_SE\n",
        "\n",
        "pred_median_HP_SE = Median(pred_SE_HP)\n",
        "pred_median_HP_SE"
      ],
      "metadata": {
        "colab": {
          "base_uri": "https://localhost:8080/"
        },
        "id": "LsUQXTU87LB1",
        "outputId": "7744c3b4-30cb-482b-ae0a-f663c287cf39"
      },
      "execution_count": 140,
      "outputs": [
        {
          "output_type": "execute_result",
          "data": {
            "text/plain": [
              "224642.421875"
            ]
          },
          "metadata": {},
          "execution_count": 140
        }
      ]
    },
    {
      "cell_type": "code",
      "source": [
        "pred_average_R_SE = Average(pred_SE_R)\n",
        "pred_average_R_SE\n",
        "\n",
        "pred_median_R_SE = Median(pred_SE_R)\n",
        "pred_median_R_SE"
      ],
      "metadata": {
        "colab": {
          "base_uri": "https://localhost:8080/"
        },
        "id": "sthgbqDf7aBw",
        "outputId": "ec3d446c-5153-4be3-f7f0-9510fc299cc0"
      },
      "execution_count": 141,
      "outputs": [
        {
          "output_type": "execute_result",
          "data": {
            "text/plain": [
              "862.7412109375"
            ]
          },
          "metadata": {},
          "execution_count": 141
        }
      ]
    },
    {
      "cell_type": "markdown",
      "source": [
        "#Predicting values for South West df"
      ],
      "metadata": {
        "id": "PAZAIPWW4lMf"
      }
    },
    {
      "cell_type": "code",
      "source": [
        "X_SW_HP = South_west_df.drop([\"house_purchase_price\"], axis=1)\n",
        "#The house purchase price is set as the target variable\n",
        "y_SW_HP = South_west_df['house_purchase_price']"
      ],
      "metadata": {
        "id": "r9Kjbw4Z4kqq"
      },
      "execution_count": 142,
      "outputs": []
    },
    {
      "cell_type": "code",
      "source": [
        "X_SW_R = South_west_df.drop([\"rent_value\"], axis=1)\n",
        "#The rent price is set as the target variable\n",
        "y_SW_R = South_west_df['rent_value']"
      ],
      "metadata": {
        "id": "fVIIc7P86cgM"
      },
      "execution_count": 143,
      "outputs": []
    },
    {
      "cell_type": "code",
      "source": [
        "pred_SW_HP = loaded_XGB_house_price_model.predict(X_SW_HP)"
      ],
      "metadata": {
        "id": "ZVROZmLp7DMc"
      },
      "execution_count": 144,
      "outputs": []
    },
    {
      "cell_type": "code",
      "source": [
        "pred_SW_R = loaded_XGB_rent_price_model.predict(X_SW_R)"
      ],
      "metadata": {
        "id": "PEfkqmBA75UT"
      },
      "execution_count": 145,
      "outputs": []
    },
    {
      "cell_type": "code",
      "source": [
        "loaded_XGB_house_price_model.score(X_SW_HP, y_SW_HP)"
      ],
      "metadata": {
        "colab": {
          "base_uri": "https://localhost:8080/"
        },
        "id": "ayosTuxp8JdU",
        "outputId": "e968922a-7bc4-4b60-b7a0-50f48df92fa7"
      },
      "execution_count": 146,
      "outputs": [
        {
          "output_type": "execute_result",
          "data": {
            "text/plain": [
              "-0.003571644141919572"
            ]
          },
          "metadata": {},
          "execution_count": 146
        }
      ]
    },
    {
      "cell_type": "code",
      "source": [
        "loaded_XGB_rent_price_model.score(X_SW_R, y_SW_R)"
      ],
      "metadata": {
        "colab": {
          "base_uri": "https://localhost:8080/"
        },
        "id": "9q6Ch5HG70CJ",
        "outputId": "47777f57-ccc4-4b2f-8cda-81592102095e"
      },
      "execution_count": 147,
      "outputs": [
        {
          "output_type": "execute_result",
          "data": {
            "text/plain": [
              "0.6656179232554786"
            ]
          },
          "metadata": {},
          "execution_count": 147
        }
      ]
    },
    {
      "cell_type": "code",
      "source": [
        "pred_average_HP_SW = Average(pred_SW_HP)\n",
        "pred_average_HP_SW\n",
        "\n",
        "pred_median_HP_SW = Median(pred_SW_HP)\n",
        "pred_median_HP_SW"
      ],
      "metadata": {
        "colab": {
          "base_uri": "https://localhost:8080/"
        },
        "id": "bWuaRFzO8LqO",
        "outputId": "6ecc2aed-fe2e-4879-e274-f32f1351f540"
      },
      "execution_count": 148,
      "outputs": [
        {
          "output_type": "execute_result",
          "data": {
            "text/plain": [
              "287130.9375"
            ]
          },
          "metadata": {},
          "execution_count": 148
        }
      ]
    },
    {
      "cell_type": "code",
      "source": [
        "pred_average_R_SW = Average(pred_SW_R)\n",
        "pred_average_R_SW\n",
        "\n",
        "pred_median_R_SW = Median(pred_SW_R)\n",
        "pred_median_R_SW"
      ],
      "metadata": {
        "colab": {
          "base_uri": "https://localhost:8080/"
        },
        "id": "I8B_0JKm8LR0",
        "outputId": "2e52987d-26e5-47d7-ed97-db7bcfed9279"
      },
      "execution_count": 149,
      "outputs": [
        {
          "output_type": "execute_result",
          "data": {
            "text/plain": [
              "935.8778076171875"
            ]
          },
          "metadata": {},
          "execution_count": 149
        }
      ]
    },
    {
      "cell_type": "markdown",
      "source": [
        "#Predicting values for West DF"
      ],
      "metadata": {
        "id": "0s3urHkv8icG"
      }
    },
    {
      "cell_type": "code",
      "source": [
        "X_W_HP = West_df.drop([\"house_purchase_price\"], axis=1)\n",
        "#The house purchase price is set as the target variable\n",
        "y_W_HP = West_df['house_purchase_price']"
      ],
      "metadata": {
        "id": "cX8AP_qW8qhE"
      },
      "execution_count": 150,
      "outputs": []
    },
    {
      "cell_type": "code",
      "source": [
        "X_W_R = West_df.drop([\"rent_value\"], axis=1)\n",
        "#The rent price is set as the target variable\n",
        "y_W_R = West_df['rent_value']"
      ],
      "metadata": {
        "id": "5yGX2fwr80bw"
      },
      "execution_count": 151,
      "outputs": []
    },
    {
      "cell_type": "code",
      "source": [
        "pred_W_HP = loaded_XGB_house_price_model.predict(X_W_HP)"
      ],
      "metadata": {
        "id": "QCeyR1g99EiW"
      },
      "execution_count": 152,
      "outputs": []
    },
    {
      "cell_type": "code",
      "source": [
        "pred_W_R = loaded_XGB_rent_price_model.predict(X_W_R)"
      ],
      "metadata": {
        "id": "ieOqKzI99HQl"
      },
      "execution_count": 153,
      "outputs": []
    },
    {
      "cell_type": "code",
      "source": [
        "loaded_XGB_house_price_model.score(X_W_HP, y_W_HP)"
      ],
      "metadata": {
        "colab": {
          "base_uri": "https://localhost:8080/"
        },
        "id": "_4KORMuN9NSk",
        "outputId": "451f7584-4bbe-4f10-e5d8-13ce02baa20d"
      },
      "execution_count": 154,
      "outputs": [
        {
          "output_type": "execute_result",
          "data": {
            "text/plain": [
              "-0.0006555916445374343"
            ]
          },
          "metadata": {},
          "execution_count": 154
        }
      ]
    },
    {
      "cell_type": "code",
      "source": [
        "loaded_XGB_rent_price_model.score(X_W_R, y_W_R)"
      ],
      "metadata": {
        "colab": {
          "base_uri": "https://localhost:8080/"
        },
        "id": "ikzL61RM9Pue",
        "outputId": "017e8671-90c6-477e-c732-bc052429f331"
      },
      "execution_count": 155,
      "outputs": [
        {
          "output_type": "execute_result",
          "data": {
            "text/plain": [
              "0.4719472445504629"
            ]
          },
          "metadata": {},
          "execution_count": 155
        }
      ]
    },
    {
      "cell_type": "code",
      "source": [
        "pred_average_HP_W = Average(pred_W_HP)\n",
        "pred_average_HP_W\n",
        "\n",
        "pred_median_HP_W = Median(pred_W_HP)\n",
        "pred_median_HP_W"
      ],
      "metadata": {
        "colab": {
          "base_uri": "https://localhost:8080/"
        },
        "id": "VPEEOkiN9f46",
        "outputId": "e8ac75b2-e844-4b39-c517-5c48ba7d759c"
      },
      "execution_count": 156,
      "outputs": [
        {
          "output_type": "execute_result",
          "data": {
            "text/plain": [
              "233663.53125"
            ]
          },
          "metadata": {},
          "execution_count": 156
        }
      ]
    },
    {
      "cell_type": "code",
      "source": [
        "pred_average_R_W = Average(pred_W_R)\n",
        "pred_average_R_W\n",
        "\n",
        "pred_median_R_W = Median(pred_W_R)\n",
        "pred_median_R_W"
      ],
      "metadata": {
        "colab": {
          "base_uri": "https://localhost:8080/"
        },
        "id": "tZ8W52A79f1W",
        "outputId": "b610751b-bcab-49a3-84a8-025498ab21be"
      },
      "execution_count": 157,
      "outputs": [
        {
          "output_type": "execute_result",
          "data": {
            "text/plain": [
              "819.357666015625"
            ]
          },
          "metadata": {},
          "execution_count": 157
        }
      ]
    },
    {
      "cell_type": "markdown",
      "source": [
        "#Predicting values for Midland df"
      ],
      "metadata": {
        "id": "OrW5702BSxEx"
      }
    },
    {
      "cell_type": "code",
      "source": [
        "X_M_HP = Midland_df.drop([\"house_purchase_price\"], axis=1)\n",
        "#The house purchase price is set as the target variable\n",
        "y_M_HP = Midland_df['house_purchase_price']"
      ],
      "metadata": {
        "id": "sFTXtMqISzVO"
      },
      "execution_count": 158,
      "outputs": []
    },
    {
      "cell_type": "code",
      "source": [
        "X_M_R = Midland_df.drop([\"rent_value\"], axis=1)\n",
        "#The rent price is set as the target variable\n",
        "y_M_R = Midland_df['rent_value']"
      ],
      "metadata": {
        "id": "Bu3euZP9S34i"
      },
      "execution_count": 159,
      "outputs": []
    },
    {
      "cell_type": "code",
      "source": [
        "pred_M_HP = loaded_XGB_house_price_model.predict(X_M_HP)"
      ],
      "metadata": {
        "id": "qlAja680TCwm"
      },
      "execution_count": 160,
      "outputs": []
    },
    {
      "cell_type": "code",
      "source": [
        "pred_M_R = loaded_XGB_rent_price_model.predict(X_M_R)"
      ],
      "metadata": {
        "id": "HJry40F6THhT"
      },
      "execution_count": 161,
      "outputs": []
    },
    {
      "cell_type": "code",
      "source": [
        "loaded_XGB_house_price_model.score(X_M_HP, y_M_HP)"
      ],
      "metadata": {
        "colab": {
          "base_uri": "https://localhost:8080/"
        },
        "id": "Nm_Of2uOTLy0",
        "outputId": "b8e80a06-c1af-4b0d-c667-2ea49a6eaf56"
      },
      "execution_count": 162,
      "outputs": [
        {
          "output_type": "execute_result",
          "data": {
            "text/plain": [
              "-0.0025012820130476676"
            ]
          },
          "metadata": {},
          "execution_count": 162
        }
      ]
    },
    {
      "cell_type": "code",
      "source": [
        "loaded_XGB_rent_price_model.score(X_M_R, y_M_R)"
      ],
      "metadata": {
        "colab": {
          "base_uri": "https://localhost:8080/"
        },
        "id": "ura66pp_TRTq",
        "outputId": "7750a9c6-a4c7-4026-a661-e2a4372925b0"
      },
      "execution_count": 163,
      "outputs": [
        {
          "output_type": "execute_result",
          "data": {
            "text/plain": [
              "0.6401658137325756"
            ]
          },
          "metadata": {},
          "execution_count": 163
        }
      ]
    },
    {
      "cell_type": "code",
      "source": [
        "pred_average_HP_M = Average(pred_M_HP)\n",
        "pred_average_HP_M\n",
        "\n",
        "pred_median_HP_M = Median(pred_M_HP)\n",
        "pred_median_HP_M"
      ],
      "metadata": {
        "colab": {
          "base_uri": "https://localhost:8080/"
        },
        "id": "OPwZOSkpTTnO",
        "outputId": "7ede7ae5-736b-492e-dc91-50a69f8a281a"
      },
      "execution_count": 164,
      "outputs": [
        {
          "output_type": "execute_result",
          "data": {
            "text/plain": [
              "193774.125"
            ]
          },
          "metadata": {},
          "execution_count": 164
        }
      ]
    },
    {
      "cell_type": "code",
      "source": [
        "pred_average_R_M = Average(pred_M_R)\n",
        "pred_average_R_M\n",
        "\n",
        "pred_median_R_M = Median(pred_M_R)\n",
        "pred_median_R_M"
      ],
      "metadata": {
        "colab": {
          "base_uri": "https://localhost:8080/"
        },
        "id": "LSgYgnkiTVvB",
        "outputId": "c37d5c6d-1544-4113-f498-93b432f6b732"
      },
      "execution_count": 165,
      "outputs": [
        {
          "output_type": "execute_result",
          "data": {
            "text/plain": [
              "852.0408325195312"
            ]
          },
          "metadata": {},
          "execution_count": 165
        }
      ]
    },
    {
      "cell_type": "markdown",
      "source": [
        "#Predicting values for Mid East DF"
      ],
      "metadata": {
        "id": "uP16aPGITe-O"
      }
    },
    {
      "cell_type": "code",
      "source": [
        "X_ME_HP = Mid_East_df.drop([\"house_purchase_price\"], axis=1)\n",
        "#The house purchase price is set as the target variable\n",
        "y_ME_HP = Mid_East_df['house_purchase_price']"
      ],
      "metadata": {
        "id": "oSRAQ_18TnLk"
      },
      "execution_count": 166,
      "outputs": []
    },
    {
      "cell_type": "code",
      "source": [
        "X_ME_R = Mid_East_df.drop([\"rent_value\"], axis=1)\n",
        "#The rent price is set as the target variable\n",
        "y_ME_R = Mid_East_df['rent_value']"
      ],
      "metadata": {
        "id": "h6xe1Q1oTtj2"
      },
      "execution_count": 167,
      "outputs": []
    },
    {
      "cell_type": "code",
      "source": [
        "pred_ME_HP = loaded_XGB_house_price_model.predict(X_ME_HP)"
      ],
      "metadata": {
        "id": "uhuzoHGjT-hk"
      },
      "execution_count": 168,
      "outputs": []
    },
    {
      "cell_type": "code",
      "source": [
        "pred_ME_R = loaded_XGB_rent_price_model.predict(X_ME_R)"
      ],
      "metadata": {
        "id": "7Q4oT51NUCFX"
      },
      "execution_count": 169,
      "outputs": []
    },
    {
      "cell_type": "code",
      "source": [
        "loaded_XGB_house_price_model.score(X_ME_HP, y_ME_HP)"
      ],
      "metadata": {
        "colab": {
          "base_uri": "https://localhost:8080/"
        },
        "id": "vS3Tu2vYUD9J",
        "outputId": "fcd8f0ef-fcc4-4b50-f337-0ec18503b940"
      },
      "execution_count": 170,
      "outputs": [
        {
          "output_type": "execute_result",
          "data": {
            "text/plain": [
              "-0.0037708390944337644"
            ]
          },
          "metadata": {},
          "execution_count": 170
        }
      ]
    },
    {
      "cell_type": "code",
      "source": [
        "loaded_XGB_rent_price_model.score(X_ME_R, y_ME_R)"
      ],
      "metadata": {
        "colab": {
          "base_uri": "https://localhost:8080/"
        },
        "id": "qJqnRIQAUF_Q",
        "outputId": "1de9890d-62d5-4760-8531-c3ee07dd2fc9"
      },
      "execution_count": 171,
      "outputs": [
        {
          "output_type": "execute_result",
          "data": {
            "text/plain": [
              "0.7856295881321147"
            ]
          },
          "metadata": {},
          "execution_count": 171
        }
      ]
    },
    {
      "cell_type": "code",
      "source": [
        "pred_average_HP_ME = Average(pred_ME_HP)\n",
        "pred_average_HP_ME\n",
        "\n",
        "pred_median_HP_ME = Median(pred_ME_HP)\n",
        "pred_median_HP_ME"
      ],
      "metadata": {
        "colab": {
          "base_uri": "https://localhost:8080/"
        },
        "id": "AEHaue8QUH4q",
        "outputId": "5d7f3ca6-d133-4425-9070-c4ceba54cac7"
      },
      "execution_count": 172,
      "outputs": [
        {
          "output_type": "execute_result",
          "data": {
            "text/plain": [
              "316024.34375"
            ]
          },
          "metadata": {},
          "execution_count": 172
        }
      ]
    },
    {
      "cell_type": "code",
      "source": [
        "pred_average_R_ME = Average(pred_ME_R)\n",
        "pred_average_R_ME\n",
        "\n",
        "pred_median_R_ME = Median(pred_ME_R)\n",
        "pred_median_R_ME"
      ],
      "metadata": {
        "colab": {
          "base_uri": "https://localhost:8080/"
        },
        "id": "MG-y0SrgUJG9",
        "outputId": "b80e8c6e-d3ec-470a-d8d9-98b670488677"
      },
      "execution_count": 173,
      "outputs": [
        {
          "output_type": "execute_result",
          "data": {
            "text/plain": [
              "1263.6187744140625"
            ]
          },
          "metadata": {},
          "execution_count": 173
        }
      ]
    },
    {
      "cell_type": "markdown",
      "source": [
        "#Predicting values for Mid West DF"
      ],
      "metadata": {
        "id": "NZyjYqfLUplJ"
      }
    },
    {
      "cell_type": "code",
      "source": [
        "X_MW_HP = Mid_West_df.drop([\"house_purchase_price\"], axis=1)\n",
        "#The house purchase price is set as the target variable\n",
        "y_MW_HP = Mid_West_df['house_purchase_price']"
      ],
      "metadata": {
        "id": "FeZUdjUzUw8e"
      },
      "execution_count": 174,
      "outputs": []
    },
    {
      "cell_type": "code",
      "source": [
        "X_MW_R = Mid_West_df.drop([\"rent_value\"], axis=1)\n",
        "#The rent price is set as the target variable\n",
        "y_MW_R = Mid_West_df['rent_value']"
      ],
      "metadata": {
        "id": "j5DNX6qjU09F"
      },
      "execution_count": 175,
      "outputs": []
    },
    {
      "cell_type": "code",
      "source": [
        "pred_MW_HP = loaded_XGB_house_price_model.predict(X_MW_HP)"
      ],
      "metadata": {
        "id": "xMm06tavU3PN"
      },
      "execution_count": 176,
      "outputs": []
    },
    {
      "cell_type": "code",
      "source": [
        "pred_MW_R = loaded_XGB_rent_price_model.predict(X_MW_R)"
      ],
      "metadata": {
        "id": "XwkiBJPuVHTt"
      },
      "execution_count": 177,
      "outputs": []
    },
    {
      "cell_type": "code",
      "source": [
        "loaded_XGB_house_price_model.score(X_MW_HP, y_MW_HP)"
      ],
      "metadata": {
        "colab": {
          "base_uri": "https://localhost:8080/"
        },
        "id": "F3LtKpiuVMcc",
        "outputId": "b975eef6-75bc-4b39-e903-c0cf457eba50"
      },
      "execution_count": 178,
      "outputs": [
        {
          "output_type": "execute_result",
          "data": {
            "text/plain": [
              "-0.0015413555662595613"
            ]
          },
          "metadata": {},
          "execution_count": 178
        }
      ]
    },
    {
      "cell_type": "code",
      "source": [
        "loaded_XGB_rent_price_model.score(X_MW_R, y_MW_R)"
      ],
      "metadata": {
        "colab": {
          "base_uri": "https://localhost:8080/"
        },
        "id": "dwmAiYZFVN5f",
        "outputId": "3ecce9bf-3a7e-46f8-eec8-46a1149e01cf"
      },
      "execution_count": 179,
      "outputs": [
        {
          "output_type": "execute_result",
          "data": {
            "text/plain": [
              "0.6113910155720579"
            ]
          },
          "metadata": {},
          "execution_count": 179
        }
      ]
    },
    {
      "cell_type": "code",
      "source": [
        "pred_average_HP_MW = Average(pred_MW_HP)\n",
        "pred_average_HP_MW\n",
        "\n",
        "pred_median_HP_MW = Median(pred_MW_HP)\n",
        "pred_median_HP_MW"
      ],
      "metadata": {
        "colab": {
          "base_uri": "https://localhost:8080/"
        },
        "id": "alILV9qcVPr4",
        "outputId": "06b3ac53-5e3c-4939-9b0a-540b6eb670d7"
      },
      "execution_count": 180,
      "outputs": [
        {
          "output_type": "execute_result",
          "data": {
            "text/plain": [
              "210562.09375"
            ]
          },
          "metadata": {},
          "execution_count": 180
        }
      ]
    },
    {
      "cell_type": "code",
      "source": [
        "pred_average_R_MW = Average(pred_MW_R)\n",
        "pred_average_R_MW\n",
        "\n",
        "pred_median_R_MW = Median(pred_MW_R)\n",
        "pred_median_R_MW"
      ],
      "metadata": {
        "colab": {
          "base_uri": "https://localhost:8080/"
        },
        "id": "VgtOVU3-VRgO",
        "outputId": "4d8db6f7-1819-4aeb-cf3f-9c8fe66fbcd9"
      },
      "execution_count": 181,
      "outputs": [
        {
          "output_type": "execute_result",
          "data": {
            "text/plain": [
              "842.0819091796875"
            ]
          },
          "metadata": {},
          "execution_count": 181
        }
      ]
    },
    {
      "cell_type": "markdown",
      "source": [
        "#Predicting values for Border DF"
      ],
      "metadata": {
        "id": "wrtbkgWyVbSF"
      }
    },
    {
      "cell_type": "code",
      "source": [
        "X_B_HP = Border_df.drop([\"house_purchase_price\"], axis=1)\n",
        "#The house purchase price is set as the target variable\n",
        "y_B_HP = Border_df['house_purchase_price']"
      ],
      "metadata": {
        "id": "OD_V2-KTVmEb"
      },
      "execution_count": 182,
      "outputs": []
    },
    {
      "cell_type": "code",
      "source": [
        "X_B_R = Border_df.drop([\"rent_value\"], axis=1)\n",
        "#The rent price is set as the target variable\n",
        "y_B_R = Border_df['rent_value']"
      ],
      "metadata": {
        "id": "dGc51BdZVqlf"
      },
      "execution_count": 183,
      "outputs": []
    },
    {
      "cell_type": "code",
      "source": [
        "pred_B_HP = loaded_XGB_house_price_model.predict(X_B_HP)"
      ],
      "metadata": {
        "id": "T-S-a0_cVt_y"
      },
      "execution_count": 184,
      "outputs": []
    },
    {
      "cell_type": "code",
      "source": [
        "pred_B_R = loaded_XGB_rent_price_model.predict(X_B_R)"
      ],
      "metadata": {
        "id": "GT0luxluVyoi"
      },
      "execution_count": 185,
      "outputs": []
    },
    {
      "cell_type": "code",
      "source": [
        "loaded_XGB_house_price_model.score(X_B_HP, y_B_HP)"
      ],
      "metadata": {
        "colab": {
          "base_uri": "https://localhost:8080/"
        },
        "id": "gSZ0OUyfV2CK",
        "outputId": "53ffeda4-6d3d-44f4-e936-b9e5b24957ee"
      },
      "execution_count": 186,
      "outputs": [
        {
          "output_type": "execute_result",
          "data": {
            "text/plain": [
              "-0.007044263260213457"
            ]
          },
          "metadata": {},
          "execution_count": 186
        }
      ]
    },
    {
      "cell_type": "code",
      "source": [
        "loaded_XGB_rent_price_model.score(X_B_R, y_B_R)"
      ],
      "metadata": {
        "colab": {
          "base_uri": "https://localhost:8080/"
        },
        "id": "fTwSf6i7V4mS",
        "outputId": "24102cf4-22f4-4f05-b965-075546d36573"
      },
      "execution_count": 187,
      "outputs": [
        {
          "output_type": "execute_result",
          "data": {
            "text/plain": [
              "0.6880967530613975"
            ]
          },
          "metadata": {},
          "execution_count": 187
        }
      ]
    },
    {
      "cell_type": "code",
      "source": [
        "pred_average_HP_B = Average(pred_B_HP)\n",
        "pred_average_HP_B\n",
        "\n",
        "pred_median_HP_B = Median(pred_B_HP)\n",
        "pred_median_HP_B"
      ],
      "metadata": {
        "colab": {
          "base_uri": "https://localhost:8080/"
        },
        "id": "VdFdeXxOV7Ms",
        "outputId": "e792fa94-1292-4e76-c9ba-b072eeb31482"
      },
      "execution_count": 188,
      "outputs": [
        {
          "output_type": "execute_result",
          "data": {
            "text/plain": [
              "160388.890625"
            ]
          },
          "metadata": {},
          "execution_count": 188
        }
      ]
    },
    {
      "cell_type": "code",
      "source": [
        "pred_average_R_B = Average(pred_B_R)\n",
        "pred_average_R_B\n",
        "\n",
        "pred_median_R_B = Median(pred_B_R)\n",
        "pred_median_R_B"
      ],
      "metadata": {
        "colab": {
          "base_uri": "https://localhost:8080/"
        },
        "id": "qBwNGCkeV9Ly",
        "outputId": "2ec01b9e-6e59-45f1-886c-fb5983b841b7"
      },
      "execution_count": 189,
      "outputs": [
        {
          "output_type": "execute_result",
          "data": {
            "text/plain": [
              "670.8225708007812"
            ]
          },
          "metadata": {},
          "execution_count": 189
        }
      ]
    },
    {
      "cell_type": "markdown",
      "source": [
        "#Creating tables to display the predicted average house/rent values for all region"
      ],
      "metadata": {
        "id": "moz7Ol9xBJ9O"
      }
    },
    {
      "cell_type": "code",
      "source": [
        "Avg_pred_values = {'Region': ['Dublin', 'South_East', 'South_West', 'West', 'Midland', 'Mid_East', 'Mid_West', 'Border'],\n",
        "              'Avg House Price': [pred_average_HP_Dub, pred_average_HP_SE, pred_average_HP_SW, pred_average_HP_W, pred_average_HP_M, pred_average_HP_ME, pred_average_HP_MW, pred_average_HP_B],\n",
        "              'Avg Rent Price': [pred_average_R_Dub, pred_average_R_SE, pred_average_R_SW, pred_average_R_W, pred_average_R_M, pred_average_R_ME, pred_average_R_MW, pred_average_R_B],\n",
        "              'Median House price': [pred_median_HP_Dub, pred_median_HP_SE, pred_median_HP_SW, pred_median_HP_W, pred_median_HP_M, pred_median_HP_ME, pred_median_HP_MW, pred_median_HP_B],\n",
        "              'Median rent price': [pred_median_R_Dub, pred_median_R_SE, pred_median_R_SW, pred_median_R_W, pred_median_R_M, pred_median_R_ME, pred_median_R_MW, pred_median_R_B]}"
      ],
      "metadata": {
        "id": "13UxlHOcBVr8"
      },
      "execution_count": 190,
      "outputs": []
    },
    {
      "cell_type": "code",
      "source": [
        "Avg_pred_val_DF = pd.DataFrame.from_dict(Avg_pred_values)\n",
        "Avg_pred_val_DF"
      ],
      "metadata": {
        "colab": {
          "base_uri": "https://localhost:8080/",
          "height": 300
        },
        "id": "94WnRXJuDUkf",
        "outputId": "67dc7422-5325-403c-9076-c1c38f9fa66d"
      },
      "execution_count": 191,
      "outputs": [
        {
          "output_type": "execute_result",
          "data": {
            "text/plain": [
              "       Region  Avg House Price  Avg Rent Price  Median House price  \\\n",
              "0      Dublin    551656.846873     1918.609489       548925.250000   \n",
              "1  South_East    224001.098883      886.221007       224642.421875   \n",
              "2  South_West    286536.602447     1003.666540       287130.937500   \n",
              "3        West    232531.007921      873.950688       233663.531250   \n",
              "4     Midland    193825.318408      835.661637       193774.125000   \n",
              "5    Mid_East    315168.871338     1244.445697       316024.343750   \n",
              "6    Mid_West    210896.539357      861.164479       210562.093750   \n",
              "7      Border    160669.367460      670.434221       160388.890625   \n",
              "\n",
              "   Median rent price  \n",
              "0        1918.147949  \n",
              "1         862.741211  \n",
              "2         935.877808  \n",
              "3         819.357666  \n",
              "4         852.040833  \n",
              "5        1263.618774  \n",
              "6         842.081909  \n",
              "7         670.822571  "
            ],
            "text/html": [
              "\n",
              "  <div id=\"df-995a48e7-f29d-42df-8ea9-63d36ec87b6a\" class=\"colab-df-container\">\n",
              "    <div>\n",
              "<style scoped>\n",
              "    .dataframe tbody tr th:only-of-type {\n",
              "        vertical-align: middle;\n",
              "    }\n",
              "\n",
              "    .dataframe tbody tr th {\n",
              "        vertical-align: top;\n",
              "    }\n",
              "\n",
              "    .dataframe thead th {\n",
              "        text-align: right;\n",
              "    }\n",
              "</style>\n",
              "<table border=\"1\" class=\"dataframe\">\n",
              "  <thead>\n",
              "    <tr style=\"text-align: right;\">\n",
              "      <th></th>\n",
              "      <th>Region</th>\n",
              "      <th>Avg House Price</th>\n",
              "      <th>Avg Rent Price</th>\n",
              "      <th>Median House price</th>\n",
              "      <th>Median rent price</th>\n",
              "    </tr>\n",
              "  </thead>\n",
              "  <tbody>\n",
              "    <tr>\n",
              "      <th>0</th>\n",
              "      <td>Dublin</td>\n",
              "      <td>551656.846873</td>\n",
              "      <td>1918.609489</td>\n",
              "      <td>548925.250000</td>\n",
              "      <td>1918.147949</td>\n",
              "    </tr>\n",
              "    <tr>\n",
              "      <th>1</th>\n",
              "      <td>South_East</td>\n",
              "      <td>224001.098883</td>\n",
              "      <td>886.221007</td>\n",
              "      <td>224642.421875</td>\n",
              "      <td>862.741211</td>\n",
              "    </tr>\n",
              "    <tr>\n",
              "      <th>2</th>\n",
              "      <td>South_West</td>\n",
              "      <td>286536.602447</td>\n",
              "      <td>1003.666540</td>\n",
              "      <td>287130.937500</td>\n",
              "      <td>935.877808</td>\n",
              "    </tr>\n",
              "    <tr>\n",
              "      <th>3</th>\n",
              "      <td>West</td>\n",
              "      <td>232531.007921</td>\n",
              "      <td>873.950688</td>\n",
              "      <td>233663.531250</td>\n",
              "      <td>819.357666</td>\n",
              "    </tr>\n",
              "    <tr>\n",
              "      <th>4</th>\n",
              "      <td>Midland</td>\n",
              "      <td>193825.318408</td>\n",
              "      <td>835.661637</td>\n",
              "      <td>193774.125000</td>\n",
              "      <td>852.040833</td>\n",
              "    </tr>\n",
              "    <tr>\n",
              "      <th>5</th>\n",
              "      <td>Mid_East</td>\n",
              "      <td>315168.871338</td>\n",
              "      <td>1244.445697</td>\n",
              "      <td>316024.343750</td>\n",
              "      <td>1263.618774</td>\n",
              "    </tr>\n",
              "    <tr>\n",
              "      <th>6</th>\n",
              "      <td>Mid_West</td>\n",
              "      <td>210896.539357</td>\n",
              "      <td>861.164479</td>\n",
              "      <td>210562.093750</td>\n",
              "      <td>842.081909</td>\n",
              "    </tr>\n",
              "    <tr>\n",
              "      <th>7</th>\n",
              "      <td>Border</td>\n",
              "      <td>160669.367460</td>\n",
              "      <td>670.434221</td>\n",
              "      <td>160388.890625</td>\n",
              "      <td>670.822571</td>\n",
              "    </tr>\n",
              "  </tbody>\n",
              "</table>\n",
              "</div>\n",
              "    <div class=\"colab-df-buttons\">\n",
              "\n",
              "  <div class=\"colab-df-container\">\n",
              "    <button class=\"colab-df-convert\" onclick=\"convertToInteractive('df-995a48e7-f29d-42df-8ea9-63d36ec87b6a')\"\n",
              "            title=\"Convert this dataframe to an interactive table.\"\n",
              "            style=\"display:none;\">\n",
              "\n",
              "  <svg xmlns=\"http://www.w3.org/2000/svg\" height=\"24px\" viewBox=\"0 -960 960 960\">\n",
              "    <path d=\"M120-120v-720h720v720H120Zm60-500h600v-160H180v160Zm220 220h160v-160H400v160Zm0 220h160v-160H400v160ZM180-400h160v-160H180v160Zm440 0h160v-160H620v160ZM180-180h160v-160H180v160Zm440 0h160v-160H620v160Z\"/>\n",
              "  </svg>\n",
              "    </button>\n",
              "\n",
              "  <style>\n",
              "    .colab-df-container {\n",
              "      display:flex;\n",
              "      gap: 12px;\n",
              "    }\n",
              "\n",
              "    .colab-df-convert {\n",
              "      background-color: #E8F0FE;\n",
              "      border: none;\n",
              "      border-radius: 50%;\n",
              "      cursor: pointer;\n",
              "      display: none;\n",
              "      fill: #1967D2;\n",
              "      height: 32px;\n",
              "      padding: 0 0 0 0;\n",
              "      width: 32px;\n",
              "    }\n",
              "\n",
              "    .colab-df-convert:hover {\n",
              "      background-color: #E2EBFA;\n",
              "      box-shadow: 0px 1px 2px rgba(60, 64, 67, 0.3), 0px 1px 3px 1px rgba(60, 64, 67, 0.15);\n",
              "      fill: #174EA6;\n",
              "    }\n",
              "\n",
              "    .colab-df-buttons div {\n",
              "      margin-bottom: 4px;\n",
              "    }\n",
              "\n",
              "    [theme=dark] .colab-df-convert {\n",
              "      background-color: #3B4455;\n",
              "      fill: #D2E3FC;\n",
              "    }\n",
              "\n",
              "    [theme=dark] .colab-df-convert:hover {\n",
              "      background-color: #434B5C;\n",
              "      box-shadow: 0px 1px 3px 1px rgba(0, 0, 0, 0.15);\n",
              "      filter: drop-shadow(0px 1px 2px rgba(0, 0, 0, 0.3));\n",
              "      fill: #FFFFFF;\n",
              "    }\n",
              "  </style>\n",
              "\n",
              "    <script>\n",
              "      const buttonEl =\n",
              "        document.querySelector('#df-995a48e7-f29d-42df-8ea9-63d36ec87b6a button.colab-df-convert');\n",
              "      buttonEl.style.display =\n",
              "        google.colab.kernel.accessAllowed ? 'block' : 'none';\n",
              "\n",
              "      async function convertToInteractive(key) {\n",
              "        const element = document.querySelector('#df-995a48e7-f29d-42df-8ea9-63d36ec87b6a');\n",
              "        const dataTable =\n",
              "          await google.colab.kernel.invokeFunction('convertToInteractive',\n",
              "                                                    [key], {});\n",
              "        if (!dataTable) return;\n",
              "\n",
              "        const docLinkHtml = 'Like what you see? Visit the ' +\n",
              "          '<a target=\"_blank\" href=https://colab.research.google.com/notebooks/data_table.ipynb>data table notebook</a>'\n",
              "          + ' to learn more about interactive tables.';\n",
              "        element.innerHTML = '';\n",
              "        dataTable['output_type'] = 'display_data';\n",
              "        await google.colab.output.renderOutput(dataTable, element);\n",
              "        const docLink = document.createElement('div');\n",
              "        docLink.innerHTML = docLinkHtml;\n",
              "        element.appendChild(docLink);\n",
              "      }\n",
              "    </script>\n",
              "  </div>\n",
              "\n",
              "\n",
              "<div id=\"df-f9aee829-08b9-4083-be93-5c5f23fe9630\">\n",
              "  <button class=\"colab-df-quickchart\" onclick=\"quickchart('df-f9aee829-08b9-4083-be93-5c5f23fe9630')\"\n",
              "            title=\"Suggest charts\"\n",
              "            style=\"display:none;\">\n",
              "\n",
              "<svg xmlns=\"http://www.w3.org/2000/svg\" height=\"24px\"viewBox=\"0 0 24 24\"\n",
              "     width=\"24px\">\n",
              "    <g>\n",
              "        <path d=\"M19 3H5c-1.1 0-2 .9-2 2v14c0 1.1.9 2 2 2h14c1.1 0 2-.9 2-2V5c0-1.1-.9-2-2-2zM9 17H7v-7h2v7zm4 0h-2V7h2v10zm4 0h-2v-4h2v4z\"/>\n",
              "    </g>\n",
              "</svg>\n",
              "  </button>\n",
              "\n",
              "<style>\n",
              "  .colab-df-quickchart {\n",
              "      --bg-color: #E8F0FE;\n",
              "      --fill-color: #1967D2;\n",
              "      --hover-bg-color: #E2EBFA;\n",
              "      --hover-fill-color: #174EA6;\n",
              "      --disabled-fill-color: #AAA;\n",
              "      --disabled-bg-color: #DDD;\n",
              "  }\n",
              "\n",
              "  [theme=dark] .colab-df-quickchart {\n",
              "      --bg-color: #3B4455;\n",
              "      --fill-color: #D2E3FC;\n",
              "      --hover-bg-color: #434B5C;\n",
              "      --hover-fill-color: #FFFFFF;\n",
              "      --disabled-bg-color: #3B4455;\n",
              "      --disabled-fill-color: #666;\n",
              "  }\n",
              "\n",
              "  .colab-df-quickchart {\n",
              "    background-color: var(--bg-color);\n",
              "    border: none;\n",
              "    border-radius: 50%;\n",
              "    cursor: pointer;\n",
              "    display: none;\n",
              "    fill: var(--fill-color);\n",
              "    height: 32px;\n",
              "    padding: 0;\n",
              "    width: 32px;\n",
              "  }\n",
              "\n",
              "  .colab-df-quickchart:hover {\n",
              "    background-color: var(--hover-bg-color);\n",
              "    box-shadow: 0 1px 2px rgba(60, 64, 67, 0.3), 0 1px 3px 1px rgba(60, 64, 67, 0.15);\n",
              "    fill: var(--button-hover-fill-color);\n",
              "  }\n",
              "\n",
              "  .colab-df-quickchart-complete:disabled,\n",
              "  .colab-df-quickchart-complete:disabled:hover {\n",
              "    background-color: var(--disabled-bg-color);\n",
              "    fill: var(--disabled-fill-color);\n",
              "    box-shadow: none;\n",
              "  }\n",
              "\n",
              "  .colab-df-spinner {\n",
              "    border: 2px solid var(--fill-color);\n",
              "    border-color: transparent;\n",
              "    border-bottom-color: var(--fill-color);\n",
              "    animation:\n",
              "      spin 1s steps(1) infinite;\n",
              "  }\n",
              "\n",
              "  @keyframes spin {\n",
              "    0% {\n",
              "      border-color: transparent;\n",
              "      border-bottom-color: var(--fill-color);\n",
              "      border-left-color: var(--fill-color);\n",
              "    }\n",
              "    20% {\n",
              "      border-color: transparent;\n",
              "      border-left-color: var(--fill-color);\n",
              "      border-top-color: var(--fill-color);\n",
              "    }\n",
              "    30% {\n",
              "      border-color: transparent;\n",
              "      border-left-color: var(--fill-color);\n",
              "      border-top-color: var(--fill-color);\n",
              "      border-right-color: var(--fill-color);\n",
              "    }\n",
              "    40% {\n",
              "      border-color: transparent;\n",
              "      border-right-color: var(--fill-color);\n",
              "      border-top-color: var(--fill-color);\n",
              "    }\n",
              "    60% {\n",
              "      border-color: transparent;\n",
              "      border-right-color: var(--fill-color);\n",
              "    }\n",
              "    80% {\n",
              "      border-color: transparent;\n",
              "      border-right-color: var(--fill-color);\n",
              "      border-bottom-color: var(--fill-color);\n",
              "    }\n",
              "    90% {\n",
              "      border-color: transparent;\n",
              "      border-bottom-color: var(--fill-color);\n",
              "    }\n",
              "  }\n",
              "</style>\n",
              "\n",
              "  <script>\n",
              "    async function quickchart(key) {\n",
              "      const quickchartButtonEl =\n",
              "        document.querySelector('#' + key + ' button');\n",
              "      quickchartButtonEl.disabled = true;  // To prevent multiple clicks.\n",
              "      quickchartButtonEl.classList.add('colab-df-spinner');\n",
              "      try {\n",
              "        const charts = await google.colab.kernel.invokeFunction(\n",
              "            'suggestCharts', [key], {});\n",
              "      } catch (error) {\n",
              "        console.error('Error during call to suggestCharts:', error);\n",
              "      }\n",
              "      quickchartButtonEl.classList.remove('colab-df-spinner');\n",
              "      quickchartButtonEl.classList.add('colab-df-quickchart-complete');\n",
              "    }\n",
              "    (() => {\n",
              "      let quickchartButtonEl =\n",
              "        document.querySelector('#df-f9aee829-08b9-4083-be93-5c5f23fe9630 button');\n",
              "      quickchartButtonEl.style.display =\n",
              "        google.colab.kernel.accessAllowed ? 'block' : 'none';\n",
              "    })();\n",
              "  </script>\n",
              "</div>\n",
              "    </div>\n",
              "  </div>\n"
            ],
            "application/vnd.google.colaboratory.intrinsic+json": {
              "type": "dataframe",
              "variable_name": "Avg_pred_val_DF",
              "summary": "{\n  \"name\": \"Avg_pred_val_DF\",\n  \"rows\": 8,\n  \"fields\": [\n    {\n      \"column\": \"Region\",\n      \"properties\": {\n        \"dtype\": \"string\",\n        \"num_unique_values\": 8,\n        \"samples\": [\n          \"South_East\",\n          \"Mid_East\",\n          \"Dublin\"\n        ],\n        \"semantic_type\": \"\",\n        \"description\": \"\"\n      }\n    },\n    {\n      \"column\": \"Avg House Price\",\n      \"properties\": {\n        \"dtype\": \"number\",\n        \"std\": 123278.93564154461,\n        \"min\": 160669.36746020403,\n        \"max\": 551656.8468729851,\n        \"num_unique_values\": 8,\n        \"samples\": [\n          224001.09888251298,\n          315168.87133828935,\n          551656.8468729851\n        ],\n        \"semantic_type\": \"\",\n        \"description\": \"\"\n      }\n    },\n    {\n      \"column\": \"Avg Rent Price\",\n      \"properties\": {\n        \"dtype\": \"number\",\n        \"std\": 392.15973805565505,\n        \"min\": 670.4342211308707,\n        \"max\": 1918.6094887276606,\n        \"num_unique_values\": 8,\n        \"samples\": [\n          886.2210069372112,\n          1244.4456970347746,\n          1918.6094887276606\n        ],\n        \"semantic_type\": \"\",\n        \"description\": \"\"\n      }\n    },\n    {\n      \"column\": \"Median House price\",\n      \"properties\": {\n        \"dtype\": \"number\",\n        \"std\": 122426.6265176845,\n        \"min\": 160388.890625,\n        \"max\": 548925.25,\n        \"num_unique_values\": 8,\n        \"samples\": [\n          224642.421875,\n          316024.34375,\n          548925.25\n        ],\n        \"semantic_type\": \"\",\n        \"description\": \"\"\n      }\n    },\n    {\n      \"column\": \"Median rent price\",\n      \"properties\": {\n        \"dtype\": \"number\",\n        \"std\": 399.9770207934401,\n        \"min\": 670.8225708007812,\n        \"max\": 1918.14794921875,\n        \"num_unique_values\": 8,\n        \"samples\": [\n          862.7412109375,\n          1263.6187744140625,\n          1918.14794921875\n        ],\n        \"semantic_type\": \"\",\n        \"description\": \"\"\n      }\n    }\n  ]\n}"
            }
          },
          "metadata": {},
          "execution_count": 191
        }
      ]
    },
    {
      "cell_type": "code",
      "source": [
        "cb_sample_df"
      ],
      "metadata": {
        "colab": {
          "base_uri": "https://localhost:8080/",
          "height": 478
        },
        "id": "4cIdwidUICyU",
        "outputId": "6d78ef05-c5b2-4a0e-8fdb-6e0b43cd299d"
      },
      "execution_count": 192,
      "outputs": [
        {
          "output_type": "execute_result",
          "data": {
            "text/plain": [
              "       Year  Number of Bedrooms  rent_value  Apartment  Detached house  \\\n",
              "0      2021                   1      932.03          0               1   \n",
              "1      2021                   4     1704.17          0               0   \n",
              "2      2021                   4     1767.75          0               1   \n",
              "3      2021                   1      914.85          1               0   \n",
              "4      2021                   2     1216.72          0               1   \n",
              "...     ...                 ...         ...        ...             ...   \n",
              "43347  2021                   2     1201.37          1               0   \n",
              "43348  2021                   3     1404.15          1               0   \n",
              "43349  2021                   2     1133.53          0               0   \n",
              "43350  2021                   2      850.61          1               0   \n",
              "43351  2021                   4     1443.52          0               0   \n",
              "\n",
              "       Other flats  Semi detached house  Terrace house  avg_disposable_income  \\\n",
              "0                0                    0              0               17434.03   \n",
              "1                0                    0              1               17434.03   \n",
              "2                0                    0              0               17434.03   \n",
              "3                0                    0              0               17434.03   \n",
              "4                0                    0              0               17434.03   \n",
              "...            ...                  ...            ...                    ...   \n",
              "43347            0                    0              0               17448.48   \n",
              "43348            0                    0              0               17448.48   \n",
              "43349            0                    0              1               17448.48   \n",
              "43350            0                    0              0               17448.48   \n",
              "43351            0                    1              0               17448.48   \n",
              "\n",
              "       house_purchase_price  Number_of_Crimes  Border  Dublin  Mid_East  \\\n",
              "0                  219472.0             42748   False   False      True   \n",
              "1                  471960.0             42748   False   False      True   \n",
              "2                  355421.0             42748   False   False      True   \n",
              "3                  448342.0             42748   False   False      True   \n",
              "4                  198811.0             42748   False   False      True   \n",
              "...                     ...               ...     ...     ...       ...   \n",
              "43347              485000.0             33177   False   False     False   \n",
              "43348              113500.0             33177   False   False     False   \n",
              "43349              250386.0             33177   False   False     False   \n",
              "43350              502709.0             33177   False   False     False   \n",
              "43351              294533.0             33177   False   False     False   \n",
              "\n",
              "       Mid_West  Midland  South_East  South_West   West  \n",
              "0         False    False       False       False  False  \n",
              "1         False    False       False       False  False  \n",
              "2         False    False       False       False  False  \n",
              "3         False    False       False       False  False  \n",
              "4         False    False       False       False  False  \n",
              "...         ...      ...         ...         ...    ...  \n",
              "43347     False    False       False        True  False  \n",
              "43348     False    False       False        True  False  \n",
              "43349     False    False       False        True  False  \n",
              "43350     False    False       False        True  False  \n",
              "43351     False    False       False        True  False  \n",
              "\n",
              "[43352 rows x 19 columns]"
            ],
            "text/html": [
              "\n",
              "  <div id=\"df-9c8ed7bd-710a-42b2-95c7-a9a662220ae3\" class=\"colab-df-container\">\n",
              "    <div>\n",
              "<style scoped>\n",
              "    .dataframe tbody tr th:only-of-type {\n",
              "        vertical-align: middle;\n",
              "    }\n",
              "\n",
              "    .dataframe tbody tr th {\n",
              "        vertical-align: top;\n",
              "    }\n",
              "\n",
              "    .dataframe thead th {\n",
              "        text-align: right;\n",
              "    }\n",
              "</style>\n",
              "<table border=\"1\" class=\"dataframe\">\n",
              "  <thead>\n",
              "    <tr style=\"text-align: right;\">\n",
              "      <th></th>\n",
              "      <th>Year</th>\n",
              "      <th>Number of Bedrooms</th>\n",
              "      <th>rent_value</th>\n",
              "      <th>Apartment</th>\n",
              "      <th>Detached house</th>\n",
              "      <th>Other flats</th>\n",
              "      <th>Semi detached house</th>\n",
              "      <th>Terrace house</th>\n",
              "      <th>avg_disposable_income</th>\n",
              "      <th>house_purchase_price</th>\n",
              "      <th>Number_of_Crimes</th>\n",
              "      <th>Border</th>\n",
              "      <th>Dublin</th>\n",
              "      <th>Mid_East</th>\n",
              "      <th>Mid_West</th>\n",
              "      <th>Midland</th>\n",
              "      <th>South_East</th>\n",
              "      <th>South_West</th>\n",
              "      <th>West</th>\n",
              "    </tr>\n",
              "  </thead>\n",
              "  <tbody>\n",
              "    <tr>\n",
              "      <th>0</th>\n",
              "      <td>2021</td>\n",
              "      <td>1</td>\n",
              "      <td>932.03</td>\n",
              "      <td>0</td>\n",
              "      <td>1</td>\n",
              "      <td>0</td>\n",
              "      <td>0</td>\n",
              "      <td>0</td>\n",
              "      <td>17434.03</td>\n",
              "      <td>219472.0</td>\n",
              "      <td>42748</td>\n",
              "      <td>False</td>\n",
              "      <td>False</td>\n",
              "      <td>True</td>\n",
              "      <td>False</td>\n",
              "      <td>False</td>\n",
              "      <td>False</td>\n",
              "      <td>False</td>\n",
              "      <td>False</td>\n",
              "    </tr>\n",
              "    <tr>\n",
              "      <th>1</th>\n",
              "      <td>2021</td>\n",
              "      <td>4</td>\n",
              "      <td>1704.17</td>\n",
              "      <td>0</td>\n",
              "      <td>0</td>\n",
              "      <td>0</td>\n",
              "      <td>0</td>\n",
              "      <td>1</td>\n",
              "      <td>17434.03</td>\n",
              "      <td>471960.0</td>\n",
              "      <td>42748</td>\n",
              "      <td>False</td>\n",
              "      <td>False</td>\n",
              "      <td>True</td>\n",
              "      <td>False</td>\n",
              "      <td>False</td>\n",
              "      <td>False</td>\n",
              "      <td>False</td>\n",
              "      <td>False</td>\n",
              "    </tr>\n",
              "    <tr>\n",
              "      <th>2</th>\n",
              "      <td>2021</td>\n",
              "      <td>4</td>\n",
              "      <td>1767.75</td>\n",
              "      <td>0</td>\n",
              "      <td>1</td>\n",
              "      <td>0</td>\n",
              "      <td>0</td>\n",
              "      <td>0</td>\n",
              "      <td>17434.03</td>\n",
              "      <td>355421.0</td>\n",
              "      <td>42748</td>\n",
              "      <td>False</td>\n",
              "      <td>False</td>\n",
              "      <td>True</td>\n",
              "      <td>False</td>\n",
              "      <td>False</td>\n",
              "      <td>False</td>\n",
              "      <td>False</td>\n",
              "      <td>False</td>\n",
              "    </tr>\n",
              "    <tr>\n",
              "      <th>3</th>\n",
              "      <td>2021</td>\n",
              "      <td>1</td>\n",
              "      <td>914.85</td>\n",
              "      <td>1</td>\n",
              "      <td>0</td>\n",
              "      <td>0</td>\n",
              "      <td>0</td>\n",
              "      <td>0</td>\n",
              "      <td>17434.03</td>\n",
              "      <td>448342.0</td>\n",
              "      <td>42748</td>\n",
              "      <td>False</td>\n",
              "      <td>False</td>\n",
              "      <td>True</td>\n",
              "      <td>False</td>\n",
              "      <td>False</td>\n",
              "      <td>False</td>\n",
              "      <td>False</td>\n",
              "      <td>False</td>\n",
              "    </tr>\n",
              "    <tr>\n",
              "      <th>4</th>\n",
              "      <td>2021</td>\n",
              "      <td>2</td>\n",
              "      <td>1216.72</td>\n",
              "      <td>0</td>\n",
              "      <td>1</td>\n",
              "      <td>0</td>\n",
              "      <td>0</td>\n",
              "      <td>0</td>\n",
              "      <td>17434.03</td>\n",
              "      <td>198811.0</td>\n",
              "      <td>42748</td>\n",
              "      <td>False</td>\n",
              "      <td>False</td>\n",
              "      <td>True</td>\n",
              "      <td>False</td>\n",
              "      <td>False</td>\n",
              "      <td>False</td>\n",
              "      <td>False</td>\n",
              "      <td>False</td>\n",
              "    </tr>\n",
              "    <tr>\n",
              "      <th>...</th>\n",
              "      <td>...</td>\n",
              "      <td>...</td>\n",
              "      <td>...</td>\n",
              "      <td>...</td>\n",
              "      <td>...</td>\n",
              "      <td>...</td>\n",
              "      <td>...</td>\n",
              "      <td>...</td>\n",
              "      <td>...</td>\n",
              "      <td>...</td>\n",
              "      <td>...</td>\n",
              "      <td>...</td>\n",
              "      <td>...</td>\n",
              "      <td>...</td>\n",
              "      <td>...</td>\n",
              "      <td>...</td>\n",
              "      <td>...</td>\n",
              "      <td>...</td>\n",
              "      <td>...</td>\n",
              "    </tr>\n",
              "    <tr>\n",
              "      <th>43347</th>\n",
              "      <td>2021</td>\n",
              "      <td>2</td>\n",
              "      <td>1201.37</td>\n",
              "      <td>1</td>\n",
              "      <td>0</td>\n",
              "      <td>0</td>\n",
              "      <td>0</td>\n",
              "      <td>0</td>\n",
              "      <td>17448.48</td>\n",
              "      <td>485000.0</td>\n",
              "      <td>33177</td>\n",
              "      <td>False</td>\n",
              "      <td>False</td>\n",
              "      <td>False</td>\n",
              "      <td>False</td>\n",
              "      <td>False</td>\n",
              "      <td>False</td>\n",
              "      <td>True</td>\n",
              "      <td>False</td>\n",
              "    </tr>\n",
              "    <tr>\n",
              "      <th>43348</th>\n",
              "      <td>2021</td>\n",
              "      <td>3</td>\n",
              "      <td>1404.15</td>\n",
              "      <td>1</td>\n",
              "      <td>0</td>\n",
              "      <td>0</td>\n",
              "      <td>0</td>\n",
              "      <td>0</td>\n",
              "      <td>17448.48</td>\n",
              "      <td>113500.0</td>\n",
              "      <td>33177</td>\n",
              "      <td>False</td>\n",
              "      <td>False</td>\n",
              "      <td>False</td>\n",
              "      <td>False</td>\n",
              "      <td>False</td>\n",
              "      <td>False</td>\n",
              "      <td>True</td>\n",
              "      <td>False</td>\n",
              "    </tr>\n",
              "    <tr>\n",
              "      <th>43349</th>\n",
              "      <td>2021</td>\n",
              "      <td>2</td>\n",
              "      <td>1133.53</td>\n",
              "      <td>0</td>\n",
              "      <td>0</td>\n",
              "      <td>0</td>\n",
              "      <td>0</td>\n",
              "      <td>1</td>\n",
              "      <td>17448.48</td>\n",
              "      <td>250386.0</td>\n",
              "      <td>33177</td>\n",
              "      <td>False</td>\n",
              "      <td>False</td>\n",
              "      <td>False</td>\n",
              "      <td>False</td>\n",
              "      <td>False</td>\n",
              "      <td>False</td>\n",
              "      <td>True</td>\n",
              "      <td>False</td>\n",
              "    </tr>\n",
              "    <tr>\n",
              "      <th>43350</th>\n",
              "      <td>2021</td>\n",
              "      <td>2</td>\n",
              "      <td>850.61</td>\n",
              "      <td>1</td>\n",
              "      <td>0</td>\n",
              "      <td>0</td>\n",
              "      <td>0</td>\n",
              "      <td>0</td>\n",
              "      <td>17448.48</td>\n",
              "      <td>502709.0</td>\n",
              "      <td>33177</td>\n",
              "      <td>False</td>\n",
              "      <td>False</td>\n",
              "      <td>False</td>\n",
              "      <td>False</td>\n",
              "      <td>False</td>\n",
              "      <td>False</td>\n",
              "      <td>True</td>\n",
              "      <td>False</td>\n",
              "    </tr>\n",
              "    <tr>\n",
              "      <th>43351</th>\n",
              "      <td>2021</td>\n",
              "      <td>4</td>\n",
              "      <td>1443.52</td>\n",
              "      <td>0</td>\n",
              "      <td>0</td>\n",
              "      <td>0</td>\n",
              "      <td>1</td>\n",
              "      <td>0</td>\n",
              "      <td>17448.48</td>\n",
              "      <td>294533.0</td>\n",
              "      <td>33177</td>\n",
              "      <td>False</td>\n",
              "      <td>False</td>\n",
              "      <td>False</td>\n",
              "      <td>False</td>\n",
              "      <td>False</td>\n",
              "      <td>False</td>\n",
              "      <td>True</td>\n",
              "      <td>False</td>\n",
              "    </tr>\n",
              "  </tbody>\n",
              "</table>\n",
              "<p>43352 rows × 19 columns</p>\n",
              "</div>\n",
              "    <div class=\"colab-df-buttons\">\n",
              "\n",
              "  <div class=\"colab-df-container\">\n",
              "    <button class=\"colab-df-convert\" onclick=\"convertToInteractive('df-9c8ed7bd-710a-42b2-95c7-a9a662220ae3')\"\n",
              "            title=\"Convert this dataframe to an interactive table.\"\n",
              "            style=\"display:none;\">\n",
              "\n",
              "  <svg xmlns=\"http://www.w3.org/2000/svg\" height=\"24px\" viewBox=\"0 -960 960 960\">\n",
              "    <path d=\"M120-120v-720h720v720H120Zm60-500h600v-160H180v160Zm220 220h160v-160H400v160Zm0 220h160v-160H400v160ZM180-400h160v-160H180v160Zm440 0h160v-160H620v160ZM180-180h160v-160H180v160Zm440 0h160v-160H620v160Z\"/>\n",
              "  </svg>\n",
              "    </button>\n",
              "\n",
              "  <style>\n",
              "    .colab-df-container {\n",
              "      display:flex;\n",
              "      gap: 12px;\n",
              "    }\n",
              "\n",
              "    .colab-df-convert {\n",
              "      background-color: #E8F0FE;\n",
              "      border: none;\n",
              "      border-radius: 50%;\n",
              "      cursor: pointer;\n",
              "      display: none;\n",
              "      fill: #1967D2;\n",
              "      height: 32px;\n",
              "      padding: 0 0 0 0;\n",
              "      width: 32px;\n",
              "    }\n",
              "\n",
              "    .colab-df-convert:hover {\n",
              "      background-color: #E2EBFA;\n",
              "      box-shadow: 0px 1px 2px rgba(60, 64, 67, 0.3), 0px 1px 3px 1px rgba(60, 64, 67, 0.15);\n",
              "      fill: #174EA6;\n",
              "    }\n",
              "\n",
              "    .colab-df-buttons div {\n",
              "      margin-bottom: 4px;\n",
              "    }\n",
              "\n",
              "    [theme=dark] .colab-df-convert {\n",
              "      background-color: #3B4455;\n",
              "      fill: #D2E3FC;\n",
              "    }\n",
              "\n",
              "    [theme=dark] .colab-df-convert:hover {\n",
              "      background-color: #434B5C;\n",
              "      box-shadow: 0px 1px 3px 1px rgba(0, 0, 0, 0.15);\n",
              "      filter: drop-shadow(0px 1px 2px rgba(0, 0, 0, 0.3));\n",
              "      fill: #FFFFFF;\n",
              "    }\n",
              "  </style>\n",
              "\n",
              "    <script>\n",
              "      const buttonEl =\n",
              "        document.querySelector('#df-9c8ed7bd-710a-42b2-95c7-a9a662220ae3 button.colab-df-convert');\n",
              "      buttonEl.style.display =\n",
              "        google.colab.kernel.accessAllowed ? 'block' : 'none';\n",
              "\n",
              "      async function convertToInteractive(key) {\n",
              "        const element = document.querySelector('#df-9c8ed7bd-710a-42b2-95c7-a9a662220ae3');\n",
              "        const dataTable =\n",
              "          await google.colab.kernel.invokeFunction('convertToInteractive',\n",
              "                                                    [key], {});\n",
              "        if (!dataTable) return;\n",
              "\n",
              "        const docLinkHtml = 'Like what you see? Visit the ' +\n",
              "          '<a target=\"_blank\" href=https://colab.research.google.com/notebooks/data_table.ipynb>data table notebook</a>'\n",
              "          + ' to learn more about interactive tables.';\n",
              "        element.innerHTML = '';\n",
              "        dataTable['output_type'] = 'display_data';\n",
              "        await google.colab.output.renderOutput(dataTable, element);\n",
              "        const docLink = document.createElement('div');\n",
              "        docLink.innerHTML = docLinkHtml;\n",
              "        element.appendChild(docLink);\n",
              "      }\n",
              "    </script>\n",
              "  </div>\n",
              "\n",
              "\n",
              "<div id=\"df-31a29d50-4f24-403e-aa8e-c1c39708398a\">\n",
              "  <button class=\"colab-df-quickchart\" onclick=\"quickchart('df-31a29d50-4f24-403e-aa8e-c1c39708398a')\"\n",
              "            title=\"Suggest charts\"\n",
              "            style=\"display:none;\">\n",
              "\n",
              "<svg xmlns=\"http://www.w3.org/2000/svg\" height=\"24px\"viewBox=\"0 0 24 24\"\n",
              "     width=\"24px\">\n",
              "    <g>\n",
              "        <path d=\"M19 3H5c-1.1 0-2 .9-2 2v14c0 1.1.9 2 2 2h14c1.1 0 2-.9 2-2V5c0-1.1-.9-2-2-2zM9 17H7v-7h2v7zm4 0h-2V7h2v10zm4 0h-2v-4h2v4z\"/>\n",
              "    </g>\n",
              "</svg>\n",
              "  </button>\n",
              "\n",
              "<style>\n",
              "  .colab-df-quickchart {\n",
              "      --bg-color: #E8F0FE;\n",
              "      --fill-color: #1967D2;\n",
              "      --hover-bg-color: #E2EBFA;\n",
              "      --hover-fill-color: #174EA6;\n",
              "      --disabled-fill-color: #AAA;\n",
              "      --disabled-bg-color: #DDD;\n",
              "  }\n",
              "\n",
              "  [theme=dark] .colab-df-quickchart {\n",
              "      --bg-color: #3B4455;\n",
              "      --fill-color: #D2E3FC;\n",
              "      --hover-bg-color: #434B5C;\n",
              "      --hover-fill-color: #FFFFFF;\n",
              "      --disabled-bg-color: #3B4455;\n",
              "      --disabled-fill-color: #666;\n",
              "  }\n",
              "\n",
              "  .colab-df-quickchart {\n",
              "    background-color: var(--bg-color);\n",
              "    border: none;\n",
              "    border-radius: 50%;\n",
              "    cursor: pointer;\n",
              "    display: none;\n",
              "    fill: var(--fill-color);\n",
              "    height: 32px;\n",
              "    padding: 0;\n",
              "    width: 32px;\n",
              "  }\n",
              "\n",
              "  .colab-df-quickchart:hover {\n",
              "    background-color: var(--hover-bg-color);\n",
              "    box-shadow: 0 1px 2px rgba(60, 64, 67, 0.3), 0 1px 3px 1px rgba(60, 64, 67, 0.15);\n",
              "    fill: var(--button-hover-fill-color);\n",
              "  }\n",
              "\n",
              "  .colab-df-quickchart-complete:disabled,\n",
              "  .colab-df-quickchart-complete:disabled:hover {\n",
              "    background-color: var(--disabled-bg-color);\n",
              "    fill: var(--disabled-fill-color);\n",
              "    box-shadow: none;\n",
              "  }\n",
              "\n",
              "  .colab-df-spinner {\n",
              "    border: 2px solid var(--fill-color);\n",
              "    border-color: transparent;\n",
              "    border-bottom-color: var(--fill-color);\n",
              "    animation:\n",
              "      spin 1s steps(1) infinite;\n",
              "  }\n",
              "\n",
              "  @keyframes spin {\n",
              "    0% {\n",
              "      border-color: transparent;\n",
              "      border-bottom-color: var(--fill-color);\n",
              "      border-left-color: var(--fill-color);\n",
              "    }\n",
              "    20% {\n",
              "      border-color: transparent;\n",
              "      border-left-color: var(--fill-color);\n",
              "      border-top-color: var(--fill-color);\n",
              "    }\n",
              "    30% {\n",
              "      border-color: transparent;\n",
              "      border-left-color: var(--fill-color);\n",
              "      border-top-color: var(--fill-color);\n",
              "      border-right-color: var(--fill-color);\n",
              "    }\n",
              "    40% {\n",
              "      border-color: transparent;\n",
              "      border-right-color: var(--fill-color);\n",
              "      border-top-color: var(--fill-color);\n",
              "    }\n",
              "    60% {\n",
              "      border-color: transparent;\n",
              "      border-right-color: var(--fill-color);\n",
              "    }\n",
              "    80% {\n",
              "      border-color: transparent;\n",
              "      border-right-color: var(--fill-color);\n",
              "      border-bottom-color: var(--fill-color);\n",
              "    }\n",
              "    90% {\n",
              "      border-color: transparent;\n",
              "      border-bottom-color: var(--fill-color);\n",
              "    }\n",
              "  }\n",
              "</style>\n",
              "\n",
              "  <script>\n",
              "    async function quickchart(key) {\n",
              "      const quickchartButtonEl =\n",
              "        document.querySelector('#' + key + ' button');\n",
              "      quickchartButtonEl.disabled = true;  // To prevent multiple clicks.\n",
              "      quickchartButtonEl.classList.add('colab-df-spinner');\n",
              "      try {\n",
              "        const charts = await google.colab.kernel.invokeFunction(\n",
              "            'suggestCharts', [key], {});\n",
              "      } catch (error) {\n",
              "        console.error('Error during call to suggestCharts:', error);\n",
              "      }\n",
              "      quickchartButtonEl.classList.remove('colab-df-spinner');\n",
              "      quickchartButtonEl.classList.add('colab-df-quickchart-complete');\n",
              "    }\n",
              "    (() => {\n",
              "      let quickchartButtonEl =\n",
              "        document.querySelector('#df-31a29d50-4f24-403e-aa8e-c1c39708398a button');\n",
              "      quickchartButtonEl.style.display =\n",
              "        google.colab.kernel.accessAllowed ? 'block' : 'none';\n",
              "    })();\n",
              "  </script>\n",
              "</div>\n",
              "    </div>\n",
              "  </div>\n"
            ],
            "application/vnd.google.colaboratory.intrinsic+json": {
              "type": "dataframe",
              "variable_name": "cb_sample_df",
              "summary": "{\n  \"name\": \"cb_sample_df\",\n  \"rows\": 43352,\n  \"fields\": [\n    {\n      \"column\": \"Year\",\n      \"properties\": {\n        \"dtype\": \"number\",\n        \"std\": 0,\n        \"min\": 2021,\n        \"max\": 2021,\n        \"num_unique_values\": 1,\n        \"samples\": [\n          2021\n        ],\n        \"semantic_type\": \"\",\n        \"description\": \"\"\n      }\n    },\n    {\n      \"column\": \"Number of Bedrooms\",\n      \"properties\": {\n        \"dtype\": \"number\",\n        \"std\": 0,\n        \"min\": 1,\n        \"max\": 4,\n        \"num_unique_values\": 4,\n        \"samples\": [\n          4\n        ],\n        \"semantic_type\": \"\",\n        \"description\": \"\"\n      }\n    },\n    {\n      \"column\": \"rent_value\",\n      \"properties\": {\n        \"dtype\": \"number\",\n        \"std\": 404.2278713868416,\n        \"min\": 405.91,\n        \"max\": 3052.21,\n        \"num_unique_values\": 331,\n        \"samples\": [\n          1059.86\n        ],\n        \"semantic_type\": \"\",\n        \"description\": \"\"\n      }\n    },\n    {\n      \"column\": \"Apartment\",\n      \"properties\": {\n        \"dtype\": \"number\",\n        \"std\": 0,\n        \"min\": 0,\n        \"max\": 1,\n        \"num_unique_values\": 2,\n        \"samples\": [\n          1\n        ],\n        \"semantic_type\": \"\",\n        \"description\": \"\"\n      }\n    },\n    {\n      \"column\": \"Detached house\",\n      \"properties\": {\n        \"dtype\": \"number\",\n        \"std\": 0,\n        \"min\": 0,\n        \"max\": 1,\n        \"num_unique_values\": 2,\n        \"samples\": [\n          0\n        ],\n        \"semantic_type\": \"\",\n        \"description\": \"\"\n      }\n    },\n    {\n      \"column\": \"Other flats\",\n      \"properties\": {\n        \"dtype\": \"number\",\n        \"std\": 0,\n        \"min\": 0,\n        \"max\": 1,\n        \"num_unique_values\": 2,\n        \"samples\": [\n          1\n        ],\n        \"semantic_type\": \"\",\n        \"description\": \"\"\n      }\n    },\n    {\n      \"column\": \"Semi detached house\",\n      \"properties\": {\n        \"dtype\": \"number\",\n        \"std\": 0,\n        \"min\": 0,\n        \"max\": 1,\n        \"num_unique_values\": 2,\n        \"samples\": [\n          1\n        ],\n        \"semantic_type\": \"\",\n        \"description\": \"\"\n      }\n    },\n    {\n      \"column\": \"Terrace house\",\n      \"properties\": {\n        \"dtype\": \"number\",\n        \"std\": 0,\n        \"min\": 0,\n        \"max\": 1,\n        \"num_unique_values\": 2,\n        \"samples\": [\n          1\n        ],\n        \"semantic_type\": \"\",\n        \"description\": \"\"\n      }\n    },\n    {\n      \"column\": \"avg_disposable_income\",\n      \"properties\": {\n        \"dtype\": \"number\",\n        \"std\": 8127.714933014276,\n        \"min\": 6699.88,\n        \"max\": 39684.85,\n        \"num_unique_values\": 8,\n        \"samples\": [\n          11853.13\n        ],\n        \"semantic_type\": \"\",\n        \"description\": \"\"\n      }\n    },\n    {\n      \"column\": \"house_purchase_price\",\n      \"properties\": {\n        \"dtype\": \"number\",\n        \"std\": 143592.68578230086,\n        \"min\": 34050.0,\n        \"max\": 1626047.0,\n        \"num_unique_values\": 2434,\n        \"samples\": [\n          227018.0\n        ],\n        \"semantic_type\": \"\",\n        \"description\": \"\"\n      }\n    },\n    {\n      \"column\": \"Number_of_Crimes\",\n      \"properties\": {\n        \"dtype\": \"number\",\n        \"std\": 32605,\n        \"min\": 15894,\n        \"max\": 151249,\n        \"num_unique_values\": 8,\n        \"samples\": [\n          34251\n        ],\n        \"semantic_type\": \"\",\n        \"description\": \"\"\n      }\n    },\n    {\n      \"column\": \"Border\",\n      \"properties\": {\n        \"dtype\": \"boolean\",\n        \"num_unique_values\": 2,\n        \"samples\": [\n          true\n        ],\n        \"semantic_type\": \"\",\n        \"description\": \"\"\n      }\n    },\n    {\n      \"column\": \"Dublin\",\n      \"properties\": {\n        \"dtype\": \"boolean\",\n        \"num_unique_values\": 2,\n        \"samples\": [\n          true\n        ],\n        \"semantic_type\": \"\",\n        \"description\": \"\"\n      }\n    },\n    {\n      \"column\": \"Mid_East\",\n      \"properties\": {\n        \"dtype\": \"boolean\",\n        \"num_unique_values\": 2,\n        \"samples\": [\n          false\n        ],\n        \"semantic_type\": \"\",\n        \"description\": \"\"\n      }\n    },\n    {\n      \"column\": \"Mid_West\",\n      \"properties\": {\n        \"dtype\": \"boolean\",\n        \"num_unique_values\": 2,\n        \"samples\": [\n          true\n        ],\n        \"semantic_type\": \"\",\n        \"description\": \"\"\n      }\n    },\n    {\n      \"column\": \"Midland\",\n      \"properties\": {\n        \"dtype\": \"boolean\",\n        \"num_unique_values\": 2,\n        \"samples\": [\n          true\n        ],\n        \"semantic_type\": \"\",\n        \"description\": \"\"\n      }\n    },\n    {\n      \"column\": \"South_East\",\n      \"properties\": {\n        \"dtype\": \"boolean\",\n        \"num_unique_values\": 2,\n        \"samples\": [\n          true\n        ],\n        \"semantic_type\": \"\",\n        \"description\": \"\"\n      }\n    },\n    {\n      \"column\": \"South_West\",\n      \"properties\": {\n        \"dtype\": \"boolean\",\n        \"num_unique_values\": 2,\n        \"samples\": [\n          true\n        ],\n        \"semantic_type\": \"\",\n        \"description\": \"\"\n      }\n    },\n    {\n      \"column\": \"West\",\n      \"properties\": {\n        \"dtype\": \"boolean\",\n        \"num_unique_values\": 2,\n        \"samples\": [\n          true\n        ],\n        \"semantic_type\": \"\",\n        \"description\": \"\"\n      }\n    }\n  ]\n}"
            }
          },
          "metadata": {},
          "execution_count": 192
        }
      ]
    },
    {
      "cell_type": "markdown",
      "source": [
        "##calculating the averages of the actual values"
      ],
      "metadata": {
        "id": "otI1DvxJMvCO"
      }
    },
    {
      "cell_type": "code",
      "source": [
        "Dub_house_prices = Dublin_df['house_purchase_price']\n",
        "Dub_rent_prices = Dublin_df['rent_value']\n"
      ],
      "metadata": {
        "id": "pOuEWY0yK1uJ"
      },
      "execution_count": 193,
      "outputs": []
    },
    {
      "cell_type": "code",
      "source": [
        "Dub_rent_prices"
      ],
      "metadata": {
        "colab": {
          "base_uri": "https://localhost:8080/"
        },
        "id": "fn996aMFk73C",
        "outputId": "87a8a1c5-d3e6-4056-885e-37bf2246d9dc"
      },
      "execution_count": 194,
      "outputs": [
        {
          "output_type": "execute_result",
          "data": {
            "text/plain": [
              "20066    2136.98\n",
              "20067    1322.19\n",
              "20068    1925.37\n",
              "20069    1858.88\n",
              "20070    2265.29\n",
              "          ...   \n",
              "23163    2265.29\n",
              "23164    2398.66\n",
              "23165    1925.37\n",
              "23166    1322.19\n",
              "23167    1078.87\n",
              "Name: rent_value, Length: 3102, dtype: float64"
            ]
          },
          "metadata": {},
          "execution_count": 194
        }
      ]
    },
    {
      "cell_type": "code",
      "source": [
        "average_HP_Dub = Average(Dub_house_prices)\n",
        "average_R_Dub = Average(Dub_rent_prices)\n",
        "\n",
        "median_HP_Dub = Median(Dub_house_prices.tolist())\n",
        "median_R_Dub = Median(Dub_rent_prices.tolist())"
      ],
      "metadata": {
        "id": "yMPxbVf4Oi8O"
      },
      "execution_count": 195,
      "outputs": []
    },
    {
      "cell_type": "code",
      "source": [
        "SE_house_prices = South_East_df['house_purchase_price']\n",
        "SE_rent_prices = South_East_df['rent_value']"
      ],
      "metadata": {
        "id": "nI4pRk8NM5ue"
      },
      "execution_count": 196,
      "outputs": []
    },
    {
      "cell_type": "code",
      "source": [
        "average_HP_SE = Average(SE_house_prices)\n",
        "average_R_SE = Average(SE_rent_prices)\n",
        "\n",
        "median_HP_SE = Median(SE_house_prices.tolist())\n",
        "median_R_SE = Median(SE_rent_prices.tolist())"
      ],
      "metadata": {
        "id": "ZbOBvoeHOuJv"
      },
      "execution_count": 197,
      "outputs": []
    },
    {
      "cell_type": "code",
      "source": [
        "SW_house_prices = South_west_df['house_purchase_price']\n",
        "SW_rent_prices = South_west_df['rent_value']"
      ],
      "metadata": {
        "id": "Rmdqur4ONC2I"
      },
      "execution_count": 198,
      "outputs": []
    },
    {
      "cell_type": "code",
      "source": [
        "average_HP_SW = Average(SW_house_prices)\n",
        "average_R_SW = Average(SW_rent_prices)\n",
        "\n",
        "median_HP_SW = Median(SW_house_prices.tolist())\n",
        "median_R_SW = Median(SW_rent_prices.tolist())"
      ],
      "metadata": {
        "id": "HjiLwZJ6Owr_"
      },
      "execution_count": 199,
      "outputs": []
    },
    {
      "cell_type": "code",
      "source": [
        "W_house_prices = West_df['house_purchase_price']\n",
        "W_rent_prices = West_df['rent_value']"
      ],
      "metadata": {
        "id": "dnmyevJgNUFD"
      },
      "execution_count": 200,
      "outputs": []
    },
    {
      "cell_type": "code",
      "source": [
        "average_HP_W = Average(W_house_prices)\n",
        "average_R_W = Average(W_rent_prices)\n",
        "\n",
        "median_HP_W = Median(W_house_prices.tolist())\n",
        "median_R_W = Median(W_rent_prices.tolist())"
      ],
      "metadata": {
        "id": "H8ocuJQLOy4u"
      },
      "execution_count": 201,
      "outputs": []
    },
    {
      "cell_type": "code",
      "source": [
        "M_house_prices = Midland_df['house_purchase_price']\n",
        "M_rent_prices = Midland_df['rent_value']"
      ],
      "metadata": {
        "id": "tpi4m24sOM2v"
      },
      "execution_count": 202,
      "outputs": []
    },
    {
      "cell_type": "code",
      "source": [
        "average_HP_M = Average(M_house_prices)\n",
        "average_R_M = Average(M_rent_prices)\n",
        "\n",
        "median_HP_M = Median(M_house_prices.tolist())\n",
        "median_R_M = Median(M_rent_prices.tolist())"
      ],
      "metadata": {
        "id": "99iR3D9DO19q"
      },
      "execution_count": 203,
      "outputs": []
    },
    {
      "cell_type": "code",
      "source": [
        "ME_house_prices = Mid_East_df['house_purchase_price']\n",
        "ME_rent_prices = Mid_East_df['rent_value']"
      ],
      "metadata": {
        "id": "3GFFBt2ANe_Y"
      },
      "execution_count": 204,
      "outputs": []
    },
    {
      "cell_type": "code",
      "source": [
        "average_HP_ME = Average(ME_house_prices)\n",
        "average_R_ME = Average(ME_rent_prices)\n",
        "\n",
        "median_HP_ME = Median(ME_house_prices.tolist())\n",
        "median_R_ME = Median(ME_rent_prices.tolist())"
      ],
      "metadata": {
        "id": "WTLY2Bf3O5Is"
      },
      "execution_count": 205,
      "outputs": []
    },
    {
      "cell_type": "code",
      "source": [
        "MW_house_prices = Mid_West_df['house_purchase_price']\n",
        "MW_rent_prices = Mid_West_df['rent_value']"
      ],
      "metadata": {
        "id": "PWnifXcdN8fW"
      },
      "execution_count": 206,
      "outputs": []
    },
    {
      "cell_type": "code",
      "source": [
        "average_HP_MW = Average(MW_house_prices)\n",
        "average_R_MW = Average(MW_rent_prices)\n",
        "\n",
        "median_HP_MW = Median(MW_house_prices.tolist())\n",
        "median_R_MW = Median(MW_rent_prices.tolist())"
      ],
      "metadata": {
        "id": "hoZewIiMO7zS"
      },
      "execution_count": 207,
      "outputs": []
    },
    {
      "cell_type": "code",
      "source": [
        "B_house_prices = Border_df['house_purchase_price']\n",
        "B_rent_prices = Border_df['rent_value']"
      ],
      "metadata": {
        "id": "CNZyjJmPOTyy"
      },
      "execution_count": 208,
      "outputs": []
    },
    {
      "cell_type": "code",
      "source": [
        "average_HP_B = Average(B_house_prices)\n",
        "average_R_B = Average(B_rent_prices)\n",
        "\n",
        "median_HP_B = Median(B_house_prices.tolist())\n",
        "median_R_B = Median(B_rent_prices.tolist())"
      ],
      "metadata": {
        "id": "ogomkXvOPOOG"
      },
      "execution_count": 209,
      "outputs": []
    },
    {
      "cell_type": "markdown",
      "source": [
        "##calculating values for ROI calculation - Dublin"
      ],
      "metadata": {
        "id": "XTPEiKsRnV72"
      }
    },
    {
      "cell_type": "code",
      "source": [
        "Dub_rent_total_2016_to_2020 = 102872.64\n",
        "Dub_purchase_price_2016 = 401540.43"
      ],
      "metadata": {
        "id": "ATf0BLf0oWKu"
      },
      "execution_count": 210,
      "outputs": []
    },
    {
      "cell_type": "code",
      "source": [
        "Dub_purchase_price_2021 = Average(Dublin_df['house_purchase_price'])\n",
        "\n",
        "Dub_avg_rent_2021 = Average(Dublin_df['rent_value'])"
      ],
      "metadata": {
        "id": "Cb_9wjcwndhp"
      },
      "execution_count": 211,
      "outputs": []
    },
    {
      "cell_type": "code",
      "source": [
        "Dub_rent_total_2016_to_2021 = Dub_rent_total_2016_to_2020 + Dub_avg_rent_2021"
      ],
      "metadata": {
        "id": "f50uAJrOp8Qm"
      },
      "execution_count": 212,
      "outputs": []
    },
    {
      "cell_type": "code",
      "source": [
        "Dub_ROI = (Dub_rent_total_2016_to_2021 + Dub_purchase_price_2021 - Dub_purchase_price_2016) / Dub_purchase_price_2016"
      ],
      "metadata": {
        "id": "eLVP06fgpqcK"
      },
      "execution_count": 213,
      "outputs": []
    },
    {
      "cell_type": "code",
      "source": [
        "Dub_ROI"
      ],
      "metadata": {
        "colab": {
          "base_uri": "https://localhost:8080/"
        },
        "id": "j0ulhxlbqmwn",
        "outputId": "48c73f2f-cfb5-4e0e-96da-54600d77f932"
      },
      "execution_count": 214,
      "outputs": [
        {
          "output_type": "execute_result",
          "data": {
            "text/plain": [
              "0.6590294841865044"
            ]
          },
          "metadata": {},
          "execution_count": 214
        }
      ]
    },
    {
      "cell_type": "markdown",
      "source": [
        "##calculating values for ROI calculation - South East"
      ],
      "metadata": {
        "id": "VrD6sxKxq4QA"
      }
    },
    {
      "cell_type": "code",
      "source": [
        "SE_rent_total_2016_to_2020 = 44245.220272406616\n",
        "SE_purchase_price_2016 = 152112.25336597307"
      ],
      "metadata": {
        "id": "EUbygrP5q7pN"
      },
      "execution_count": 215,
      "outputs": []
    },
    {
      "cell_type": "code",
      "source": [
        "SE_purchase_price_2021 = Average(South_East_df['house_purchase_price'])\n",
        "\n",
        "SE_avg_rent_2021 = Average(South_East_df['rent_value'])"
      ],
      "metadata": {
        "id": "ek1sse4Ls6j6"
      },
      "execution_count": 216,
      "outputs": []
    },
    {
      "cell_type": "code",
      "source": [
        "SE_rent_total_2016_to_2021 = SE_rent_total_2016_to_2020 + SE_avg_rent_2021"
      ],
      "metadata": {
        "id": "J6s5iIF1tWN_"
      },
      "execution_count": 217,
      "outputs": []
    },
    {
      "cell_type": "code",
      "source": [
        "SE_ROI = (SE_rent_total_2016_to_2021 + SE_purchase_price_2021 - SE_purchase_price_2016) / SE_purchase_price_2016"
      ],
      "metadata": {
        "id": "XnG5FRogtgO6"
      },
      "execution_count": 218,
      "outputs": []
    },
    {
      "cell_type": "code",
      "source": [
        "SE_ROI"
      ],
      "metadata": {
        "colab": {
          "base_uri": "https://localhost:8080/"
        },
        "id": "Sg3CHIhMtr2S",
        "outputId": "50ae8014-530c-4c4b-bad0-9417cca8cc01"
      },
      "execution_count": 219,
      "outputs": [
        {
          "output_type": "execute_result",
          "data": {
            "text/plain": [
              "0.7745086498090252"
            ]
          },
          "metadata": {},
          "execution_count": 219
        }
      ]
    },
    {
      "cell_type": "markdown",
      "source": [
        "##calculating values for ROI calculation - South West"
      ],
      "metadata": {
        "id": "LizKQnSdtxsp"
      }
    },
    {
      "cell_type": "code",
      "source": [
        "SW_rent_total_2016_to_2020 = 49086.96596310081\n",
        "SW_purchase_price_2016 = 196364.09"
      ],
      "metadata": {
        "id": "SwreHbWFt4yI"
      },
      "execution_count": 220,
      "outputs": []
    },
    {
      "cell_type": "code",
      "source": [
        "SW_purchase_price_2021 = Average(South_west_df['house_purchase_price'])\n",
        "\n",
        "SW_avg_rent_2021 = Average(South_west_df['rent_value'])"
      ],
      "metadata": {
        "id": "kJcahGIpt8Kk"
      },
      "execution_count": 221,
      "outputs": []
    },
    {
      "cell_type": "code",
      "source": [
        "SW_rent_total_2016_to_2021 = SW_rent_total_2016_to_2020 + SW_avg_rent_2021"
      ],
      "metadata": {
        "id": "9kxQHTDUt-qr"
      },
      "execution_count": 222,
      "outputs": []
    },
    {
      "cell_type": "code",
      "source": [
        "SW_ROI = (SW_rent_total_2016_to_2021 + SW_purchase_price_2021 - SW_purchase_price_2016) / SW_purchase_price_2016"
      ],
      "metadata": {
        "id": "jvH9jtOUuBue"
      },
      "execution_count": 223,
      "outputs": []
    },
    {
      "cell_type": "code",
      "source": [
        "SW_ROI"
      ],
      "metadata": {
        "colab": {
          "base_uri": "https://localhost:8080/"
        },
        "id": "smUkR483t2aS",
        "outputId": "49d6b40a-ce79-4b45-fda0-89bfc686e539"
      },
      "execution_count": 224,
      "outputs": [
        {
          "output_type": "execute_result",
          "data": {
            "text/plain": [
              "0.7169329179102525"
            ]
          },
          "metadata": {},
          "execution_count": 224
        }
      ]
    },
    {
      "cell_type": "markdown",
      "source": [
        "##calculating values for ROI calculation - West"
      ],
      "metadata": {
        "id": "cVAs-aukwM9j"
      }
    },
    {
      "cell_type": "code",
      "source": [
        "W_rent_total_2016_to_2020 = 43510.09184654853\n",
        "W_purchase_price_2016 = 142578.45635910225"
      ],
      "metadata": {
        "id": "g4OcTMarwTXP"
      },
      "execution_count": 225,
      "outputs": []
    },
    {
      "cell_type": "code",
      "source": [
        "W_purchase_price_2021 = Average(West_df['house_purchase_price'])\n",
        "\n",
        "W_avg_rent_2021 = Average(West_df['rent_value'])"
      ],
      "metadata": {
        "id": "eTpwT-i6wV8J"
      },
      "execution_count": 226,
      "outputs": []
    },
    {
      "cell_type": "code",
      "source": [
        "W_rent_total_2016_to_2021 = W_rent_total_2016_to_2020 + W_avg_rent_2021"
      ],
      "metadata": {
        "id": "wgOr0-wbwYki"
      },
      "execution_count": 227,
      "outputs": []
    },
    {
      "cell_type": "code",
      "source": [
        "W_ROI = (W_rent_total_2016_to_2021 + W_purchase_price_2021 - W_purchase_price_2016) / W_purchase_price_2016"
      ],
      "metadata": {
        "id": "sSM59oCwwcG_"
      },
      "execution_count": 228,
      "outputs": []
    },
    {
      "cell_type": "code",
      "source": [
        "W_ROI"
      ],
      "metadata": {
        "colab": {
          "base_uri": "https://localhost:8080/"
        },
        "id": "ITdXmCOOweP-",
        "outputId": "958fb2d1-c5ad-4943-c598-1c1fa6022556"
      },
      "execution_count": 229,
      "outputs": [
        {
          "output_type": "execute_result",
          "data": {
            "text/plain": [
              "0.9469086786752959"
            ]
          },
          "metadata": {},
          "execution_count": 229
        }
      ]
    },
    {
      "cell_type": "markdown",
      "source": [
        "##calculating values for ROI calculation - Midland"
      ],
      "metadata": {
        "id": "dF-kchwRyDLR"
      }
    },
    {
      "cell_type": "code",
      "source": [
        "M_rent_total_2016_to_2020 = 41085.698267321\n",
        "M_purchase_price_2016 = 115475.1993006993"
      ],
      "metadata": {
        "id": "vZx7XlULyI1f"
      },
      "execution_count": 230,
      "outputs": []
    },
    {
      "cell_type": "code",
      "source": [
        "M_purchase_price_2021 = Average(Midland_df['house_purchase_price'])\n",
        "\n",
        "M_avg_rent_2021 = Average(Midland_df['rent_value'])"
      ],
      "metadata": {
        "id": "54hPv8D_yIlb"
      },
      "execution_count": 231,
      "outputs": []
    },
    {
      "cell_type": "code",
      "source": [
        "M_rent_total_2016_to_2021 = M_rent_total_2016_to_2020 + M_avg_rent_2021"
      ],
      "metadata": {
        "id": "RHDAtU9lyNVx"
      },
      "execution_count": 232,
      "outputs": []
    },
    {
      "cell_type": "code",
      "source": [
        "M_ROI = (M_rent_total_2016_to_2021 + M_purchase_price_2021 - M_purchase_price_2016) / M_purchase_price_2016"
      ],
      "metadata": {
        "id": "XXf6Fhp4yU05"
      },
      "execution_count": 233,
      "outputs": []
    },
    {
      "cell_type": "code",
      "source": [
        "M_ROI"
      ],
      "metadata": {
        "colab": {
          "base_uri": "https://localhost:8080/"
        },
        "id": "qD7ctKc1yTVo",
        "outputId": "9d9ee5ce-f56a-456e-b07d-006730855a70"
      },
      "execution_count": 234,
      "outputs": [
        {
          "output_type": "execute_result",
          "data": {
            "text/plain": [
              "1.0140861096828166"
            ]
          },
          "metadata": {},
          "execution_count": 234
        }
      ]
    },
    {
      "cell_type": "markdown",
      "source": [
        "##calculating values for ROI calculation - Mid East"
      ],
      "metadata": {
        "id": "k8ML464Fz3U7"
      }
    },
    {
      "cell_type": "code",
      "source": [
        "ME_rent_total_2016_to_2020 = 62415.22103008344\n",
        "ME_purchase_price_2016 = 228611.41341463415"
      ],
      "metadata": {
        "id": "vrHd4x_Vz684"
      },
      "execution_count": 235,
      "outputs": []
    },
    {
      "cell_type": "code",
      "source": [
        "ME_purchase_price_2021 = Average(Mid_East_df['house_purchase_price'])\n",
        "\n",
        "ME_avg_rent_2021 = Average(Mid_East_df['rent_value'])"
      ],
      "metadata": {
        "id": "KhRgpwiJz8w6"
      },
      "execution_count": 236,
      "outputs": []
    },
    {
      "cell_type": "code",
      "source": [
        "ME_rent_total_2016_to_2021 = ME_rent_total_2016_to_2020 + ME_avg_rent_2021"
      ],
      "metadata": {
        "id": "152MJPO_z-jv"
      },
      "execution_count": 237,
      "outputs": []
    },
    {
      "cell_type": "code",
      "source": [
        "ME_ROI = (ME_rent_total_2016_to_2021 + ME_purchase_price_2021 - ME_purchase_price_2016) / ME_purchase_price_2016"
      ],
      "metadata": {
        "id": "-Sou7Snz0AQl"
      },
      "execution_count": 238,
      "outputs": []
    },
    {
      "cell_type": "code",
      "source": [
        "ME_ROI"
      ],
      "metadata": {
        "colab": {
          "base_uri": "https://localhost:8080/"
        },
        "id": "Pc-iAZoq0WLv",
        "outputId": "27709935-ee6f-42d6-b41a-3e25758d7f9c"
      },
      "execution_count": 239,
      "outputs": [
        {
          "output_type": "execute_result",
          "data": {
            "text/plain": [
              "0.6704633076761507"
            ]
          },
          "metadata": {},
          "execution_count": 239
        }
      ]
    },
    {
      "cell_type": "markdown",
      "source": [
        "##calculating values for ROI calculation - Mid West"
      ],
      "metadata": {
        "id": "mh4ImO-B0lbo"
      }
    },
    {
      "cell_type": "code",
      "source": [
        "MW_rent_total_2016_to_2020 = 42715.73155905846\n",
        "MW_purchase_price_2016 = 228611.41341463415"
      ],
      "metadata": {
        "id": "l3hgTkpR1JsV"
      },
      "execution_count": 240,
      "outputs": []
    },
    {
      "cell_type": "code",
      "source": [
        "MW_purchase_price_2021 = Average(Mid_West_df['house_purchase_price'])\n",
        "\n",
        "MW_avg_rent_2021 = Average(Mid_West_df['rent_value'])"
      ],
      "metadata": {
        "id": "1qmUCrBe1VXP"
      },
      "execution_count": 241,
      "outputs": []
    },
    {
      "cell_type": "code",
      "source": [
        "MW_rent_total_2016_to_2021 = MW_rent_total_2016_to_2020 + MW_avg_rent_2021"
      ],
      "metadata": {
        "id": "ONbBBgU-1dqg"
      },
      "execution_count": 242,
      "outputs": []
    },
    {
      "cell_type": "code",
      "source": [
        "MW_ROI = (MW_rent_total_2016_to_2021 + MW_purchase_price_2021 - MW_purchase_price_2016) / MW_purchase_price_2016"
      ],
      "metadata": {
        "id": "2HVLMuAS1f7g"
      },
      "execution_count": 243,
      "outputs": []
    },
    {
      "cell_type": "code",
      "source": [
        "MW_ROI"
      ],
      "metadata": {
        "colab": {
          "base_uri": "https://localhost:8080/"
        },
        "id": "Rzn9RX0_0nib",
        "outputId": "8ac35b0d-8594-4211-b8e1-f48f9a3606a9"
      },
      "execution_count": 244,
      "outputs": [
        {
          "output_type": "execute_result",
          "data": {
            "text/plain": [
              "0.10722002865138958"
            ]
          },
          "metadata": {},
          "execution_count": 244
        }
      ]
    },
    {
      "cell_type": "markdown",
      "source": [
        "##calculating values for ROI calculation - Border"
      ],
      "metadata": {
        "id": "4LagQfyN2Pxw"
      }
    },
    {
      "cell_type": "code",
      "source": [
        "B_rent_total_2016_to_2020 = 34375.09392053289\n",
        "B_purchase_price_2016 = 112483.06155398587"
      ],
      "metadata": {
        "id": "8qMKPVCI2Rxg"
      },
      "execution_count": 245,
      "outputs": []
    },
    {
      "cell_type": "code",
      "source": [
        "B_purchase_price_2021 = Average(Border_df['house_purchase_price'])\n",
        "\n",
        "B_avg_rent_2021 = Average(Border_df['rent_value'])"
      ],
      "metadata": {
        "id": "1xrdfp8u2Upx"
      },
      "execution_count": 246,
      "outputs": []
    },
    {
      "cell_type": "code",
      "source": [
        "B_rent_total_2016_to_2021 = B_rent_total_2016_to_2020 + B_avg_rent_2021"
      ],
      "metadata": {
        "id": "e2t88PQN2W19"
      },
      "execution_count": 247,
      "outputs": []
    },
    {
      "cell_type": "code",
      "source": [
        "B_ROI = (B_rent_total_2016_to_2021 + B_purchase_price_2021 - B_purchase_price_2016) / B_purchase_price_2016"
      ],
      "metadata": {
        "id": "YB0Dovj82ZSA"
      },
      "execution_count": 248,
      "outputs": []
    },
    {
      "cell_type": "code",
      "source": [
        "B_ROI"
      ],
      "metadata": {
        "colab": {
          "base_uri": "https://localhost:8080/"
        },
        "id": "c2stUeBn2p1X",
        "outputId": "bfb4700f-8d0a-4bea-ce48-9ff1cea38914"
      },
      "execution_count": 249,
      "outputs": [
        {
          "output_type": "execute_result",
          "data": {
            "text/plain": [
              "0.7035687189156242"
            ]
          },
          "metadata": {},
          "execution_count": 249
        }
      ]
    },
    {
      "cell_type": "markdown",
      "source": [
        "#Creating tables to display the actual average house/rent values for all region"
      ],
      "metadata": {
        "id": "MNTQxvnDRD1C"
      }
    },
    {
      "cell_type": "code",
      "source": [
        "Actual_values = {'Region': ['Dublin', 'South_East', 'South_West', 'West', 'Midland', 'Mid_East', 'Mid_West', 'Border'],\n",
        "              'Avg House Price': [average_HP_Dub, average_HP_SE, average_HP_SW, average_HP_W, average_HP_M, average_HP_ME, average_HP_MW, average_HP_B],\n",
        "              'Avg Rent Price': [average_R_Dub, average_R_SE, average_R_SW, average_R_W, average_R_M, average_R_ME, average_R_MW, average_R_B],\n",
        "              'Median House price': [median_HP_Dub, median_HP_SE, median_HP_SW, median_HP_W, median_HP_M, median_HP_ME, median_HP_MW, median_HP_B],\n",
        "              'Median rent price': [median_R_Dub, median_R_SE, median_R_SW, median_R_W, median_R_M, median_R_ME, median_R_MW, median_R_B]}"
      ],
      "metadata": {
        "id": "tK11yPtVRcb-"
      },
      "execution_count": 250,
      "outputs": []
    },
    {
      "cell_type": "code",
      "source": [
        "Act_Val_DF = pd.DataFrame.from_dict(Actual_values)\n",
        "Act_Val_DF"
      ],
      "metadata": {
        "colab": {
          "base_uri": "https://localhost:8080/",
          "height": 300
        },
        "id": "6OVu2GkSR30m",
        "outputId": "3993947e-063d-4e0e-d75e-ef49806ac9e1"
      },
      "execution_count": 251,
      "outputs": [
        {
          "output_type": "execute_result",
          "data": {
            "text/plain": [
              "       Region  Avg House Price  Avg Rent Price  Median House price  \\\n",
              "0      Dublin    561366.592843     1928.179620            520799.0   \n",
              "1  South_East    224794.935716      884.353351            229000.0   \n",
              "2  South_West    287053.346732     1003.657321            270000.0   \n",
              "3        West    233205.620340      871.521891            225593.0   \n",
              "4     Midland    190657.344572      833.952085            190372.0   \n",
              "5    Mid_East    318223.011568     1248.745227            313277.0   \n",
              "6    Mid_West    209552.391610      855.012542            207217.0   \n",
              "7      Border    156581.242537      666.288613            154733.0   \n",
              "\n",
              "   Median rent price  \n",
              "0            1925.37  \n",
              "1             861.02  \n",
              "2             942.58  \n",
              "3             763.42  \n",
              "4             846.61  \n",
              "5            1216.72  \n",
              "6             806.46  \n",
              "7             659.85  "
            ],
            "text/html": [
              "\n",
              "  <div id=\"df-b05c35cc-b7a2-48de-ba01-74b9da33e5bd\" class=\"colab-df-container\">\n",
              "    <div>\n",
              "<style scoped>\n",
              "    .dataframe tbody tr th:only-of-type {\n",
              "        vertical-align: middle;\n",
              "    }\n",
              "\n",
              "    .dataframe tbody tr th {\n",
              "        vertical-align: top;\n",
              "    }\n",
              "\n",
              "    .dataframe thead th {\n",
              "        text-align: right;\n",
              "    }\n",
              "</style>\n",
              "<table border=\"1\" class=\"dataframe\">\n",
              "  <thead>\n",
              "    <tr style=\"text-align: right;\">\n",
              "      <th></th>\n",
              "      <th>Region</th>\n",
              "      <th>Avg House Price</th>\n",
              "      <th>Avg Rent Price</th>\n",
              "      <th>Median House price</th>\n",
              "      <th>Median rent price</th>\n",
              "    </tr>\n",
              "  </thead>\n",
              "  <tbody>\n",
              "    <tr>\n",
              "      <th>0</th>\n",
              "      <td>Dublin</td>\n",
              "      <td>561366.592843</td>\n",
              "      <td>1928.179620</td>\n",
              "      <td>520799.0</td>\n",
              "      <td>1925.37</td>\n",
              "    </tr>\n",
              "    <tr>\n",
              "      <th>1</th>\n",
              "      <td>South_East</td>\n",
              "      <td>224794.935716</td>\n",
              "      <td>884.353351</td>\n",
              "      <td>229000.0</td>\n",
              "      <td>861.02</td>\n",
              "    </tr>\n",
              "    <tr>\n",
              "      <th>2</th>\n",
              "      <td>South_West</td>\n",
              "      <td>287053.346732</td>\n",
              "      <td>1003.657321</td>\n",
              "      <td>270000.0</td>\n",
              "      <td>942.58</td>\n",
              "    </tr>\n",
              "    <tr>\n",
              "      <th>3</th>\n",
              "      <td>West</td>\n",
              "      <td>233205.620340</td>\n",
              "      <td>871.521891</td>\n",
              "      <td>225593.0</td>\n",
              "      <td>763.42</td>\n",
              "    </tr>\n",
              "    <tr>\n",
              "      <th>4</th>\n",
              "      <td>Midland</td>\n",
              "      <td>190657.344572</td>\n",
              "      <td>833.952085</td>\n",
              "      <td>190372.0</td>\n",
              "      <td>846.61</td>\n",
              "    </tr>\n",
              "    <tr>\n",
              "      <th>5</th>\n",
              "      <td>Mid_East</td>\n",
              "      <td>318223.011568</td>\n",
              "      <td>1248.745227</td>\n",
              "      <td>313277.0</td>\n",
              "      <td>1216.72</td>\n",
              "    </tr>\n",
              "    <tr>\n",
              "      <th>6</th>\n",
              "      <td>Mid_West</td>\n",
              "      <td>209552.391610</td>\n",
              "      <td>855.012542</td>\n",
              "      <td>207217.0</td>\n",
              "      <td>806.46</td>\n",
              "    </tr>\n",
              "    <tr>\n",
              "      <th>7</th>\n",
              "      <td>Border</td>\n",
              "      <td>156581.242537</td>\n",
              "      <td>666.288613</td>\n",
              "      <td>154733.0</td>\n",
              "      <td>659.85</td>\n",
              "    </tr>\n",
              "  </tbody>\n",
              "</table>\n",
              "</div>\n",
              "    <div class=\"colab-df-buttons\">\n",
              "\n",
              "  <div class=\"colab-df-container\">\n",
              "    <button class=\"colab-df-convert\" onclick=\"convertToInteractive('df-b05c35cc-b7a2-48de-ba01-74b9da33e5bd')\"\n",
              "            title=\"Convert this dataframe to an interactive table.\"\n",
              "            style=\"display:none;\">\n",
              "\n",
              "  <svg xmlns=\"http://www.w3.org/2000/svg\" height=\"24px\" viewBox=\"0 -960 960 960\">\n",
              "    <path d=\"M120-120v-720h720v720H120Zm60-500h600v-160H180v160Zm220 220h160v-160H400v160Zm0 220h160v-160H400v160ZM180-400h160v-160H180v160Zm440 0h160v-160H620v160ZM180-180h160v-160H180v160Zm440 0h160v-160H620v160Z\"/>\n",
              "  </svg>\n",
              "    </button>\n",
              "\n",
              "  <style>\n",
              "    .colab-df-container {\n",
              "      display:flex;\n",
              "      gap: 12px;\n",
              "    }\n",
              "\n",
              "    .colab-df-convert {\n",
              "      background-color: #E8F0FE;\n",
              "      border: none;\n",
              "      border-radius: 50%;\n",
              "      cursor: pointer;\n",
              "      display: none;\n",
              "      fill: #1967D2;\n",
              "      height: 32px;\n",
              "      padding: 0 0 0 0;\n",
              "      width: 32px;\n",
              "    }\n",
              "\n",
              "    .colab-df-convert:hover {\n",
              "      background-color: #E2EBFA;\n",
              "      box-shadow: 0px 1px 2px rgba(60, 64, 67, 0.3), 0px 1px 3px 1px rgba(60, 64, 67, 0.15);\n",
              "      fill: #174EA6;\n",
              "    }\n",
              "\n",
              "    .colab-df-buttons div {\n",
              "      margin-bottom: 4px;\n",
              "    }\n",
              "\n",
              "    [theme=dark] .colab-df-convert {\n",
              "      background-color: #3B4455;\n",
              "      fill: #D2E3FC;\n",
              "    }\n",
              "\n",
              "    [theme=dark] .colab-df-convert:hover {\n",
              "      background-color: #434B5C;\n",
              "      box-shadow: 0px 1px 3px 1px rgba(0, 0, 0, 0.15);\n",
              "      filter: drop-shadow(0px 1px 2px rgba(0, 0, 0, 0.3));\n",
              "      fill: #FFFFFF;\n",
              "    }\n",
              "  </style>\n",
              "\n",
              "    <script>\n",
              "      const buttonEl =\n",
              "        document.querySelector('#df-b05c35cc-b7a2-48de-ba01-74b9da33e5bd button.colab-df-convert');\n",
              "      buttonEl.style.display =\n",
              "        google.colab.kernel.accessAllowed ? 'block' : 'none';\n",
              "\n",
              "      async function convertToInteractive(key) {\n",
              "        const element = document.querySelector('#df-b05c35cc-b7a2-48de-ba01-74b9da33e5bd');\n",
              "        const dataTable =\n",
              "          await google.colab.kernel.invokeFunction('convertToInteractive',\n",
              "                                                    [key], {});\n",
              "        if (!dataTable) return;\n",
              "\n",
              "        const docLinkHtml = 'Like what you see? Visit the ' +\n",
              "          '<a target=\"_blank\" href=https://colab.research.google.com/notebooks/data_table.ipynb>data table notebook</a>'\n",
              "          + ' to learn more about interactive tables.';\n",
              "        element.innerHTML = '';\n",
              "        dataTable['output_type'] = 'display_data';\n",
              "        await google.colab.output.renderOutput(dataTable, element);\n",
              "        const docLink = document.createElement('div');\n",
              "        docLink.innerHTML = docLinkHtml;\n",
              "        element.appendChild(docLink);\n",
              "      }\n",
              "    </script>\n",
              "  </div>\n",
              "\n",
              "\n",
              "<div id=\"df-cf8fd6b0-339c-4325-87c3-a26d1e04432c\">\n",
              "  <button class=\"colab-df-quickchart\" onclick=\"quickchart('df-cf8fd6b0-339c-4325-87c3-a26d1e04432c')\"\n",
              "            title=\"Suggest charts\"\n",
              "            style=\"display:none;\">\n",
              "\n",
              "<svg xmlns=\"http://www.w3.org/2000/svg\" height=\"24px\"viewBox=\"0 0 24 24\"\n",
              "     width=\"24px\">\n",
              "    <g>\n",
              "        <path d=\"M19 3H5c-1.1 0-2 .9-2 2v14c0 1.1.9 2 2 2h14c1.1 0 2-.9 2-2V5c0-1.1-.9-2-2-2zM9 17H7v-7h2v7zm4 0h-2V7h2v10zm4 0h-2v-4h2v4z\"/>\n",
              "    </g>\n",
              "</svg>\n",
              "  </button>\n",
              "\n",
              "<style>\n",
              "  .colab-df-quickchart {\n",
              "      --bg-color: #E8F0FE;\n",
              "      --fill-color: #1967D2;\n",
              "      --hover-bg-color: #E2EBFA;\n",
              "      --hover-fill-color: #174EA6;\n",
              "      --disabled-fill-color: #AAA;\n",
              "      --disabled-bg-color: #DDD;\n",
              "  }\n",
              "\n",
              "  [theme=dark] .colab-df-quickchart {\n",
              "      --bg-color: #3B4455;\n",
              "      --fill-color: #D2E3FC;\n",
              "      --hover-bg-color: #434B5C;\n",
              "      --hover-fill-color: #FFFFFF;\n",
              "      --disabled-bg-color: #3B4455;\n",
              "      --disabled-fill-color: #666;\n",
              "  }\n",
              "\n",
              "  .colab-df-quickchart {\n",
              "    background-color: var(--bg-color);\n",
              "    border: none;\n",
              "    border-radius: 50%;\n",
              "    cursor: pointer;\n",
              "    display: none;\n",
              "    fill: var(--fill-color);\n",
              "    height: 32px;\n",
              "    padding: 0;\n",
              "    width: 32px;\n",
              "  }\n",
              "\n",
              "  .colab-df-quickchart:hover {\n",
              "    background-color: var(--hover-bg-color);\n",
              "    box-shadow: 0 1px 2px rgba(60, 64, 67, 0.3), 0 1px 3px 1px rgba(60, 64, 67, 0.15);\n",
              "    fill: var(--button-hover-fill-color);\n",
              "  }\n",
              "\n",
              "  .colab-df-quickchart-complete:disabled,\n",
              "  .colab-df-quickchart-complete:disabled:hover {\n",
              "    background-color: var(--disabled-bg-color);\n",
              "    fill: var(--disabled-fill-color);\n",
              "    box-shadow: none;\n",
              "  }\n",
              "\n",
              "  .colab-df-spinner {\n",
              "    border: 2px solid var(--fill-color);\n",
              "    border-color: transparent;\n",
              "    border-bottom-color: var(--fill-color);\n",
              "    animation:\n",
              "      spin 1s steps(1) infinite;\n",
              "  }\n",
              "\n",
              "  @keyframes spin {\n",
              "    0% {\n",
              "      border-color: transparent;\n",
              "      border-bottom-color: var(--fill-color);\n",
              "      border-left-color: var(--fill-color);\n",
              "    }\n",
              "    20% {\n",
              "      border-color: transparent;\n",
              "      border-left-color: var(--fill-color);\n",
              "      border-top-color: var(--fill-color);\n",
              "    }\n",
              "    30% {\n",
              "      border-color: transparent;\n",
              "      border-left-color: var(--fill-color);\n",
              "      border-top-color: var(--fill-color);\n",
              "      border-right-color: var(--fill-color);\n",
              "    }\n",
              "    40% {\n",
              "      border-color: transparent;\n",
              "      border-right-color: var(--fill-color);\n",
              "      border-top-color: var(--fill-color);\n",
              "    }\n",
              "    60% {\n",
              "      border-color: transparent;\n",
              "      border-right-color: var(--fill-color);\n",
              "    }\n",
              "    80% {\n",
              "      border-color: transparent;\n",
              "      border-right-color: var(--fill-color);\n",
              "      border-bottom-color: var(--fill-color);\n",
              "    }\n",
              "    90% {\n",
              "      border-color: transparent;\n",
              "      border-bottom-color: var(--fill-color);\n",
              "    }\n",
              "  }\n",
              "</style>\n",
              "\n",
              "  <script>\n",
              "    async function quickchart(key) {\n",
              "      const quickchartButtonEl =\n",
              "        document.querySelector('#' + key + ' button');\n",
              "      quickchartButtonEl.disabled = true;  // To prevent multiple clicks.\n",
              "      quickchartButtonEl.classList.add('colab-df-spinner');\n",
              "      try {\n",
              "        const charts = await google.colab.kernel.invokeFunction(\n",
              "            'suggestCharts', [key], {});\n",
              "      } catch (error) {\n",
              "        console.error('Error during call to suggestCharts:', error);\n",
              "      }\n",
              "      quickchartButtonEl.classList.remove('colab-df-spinner');\n",
              "      quickchartButtonEl.classList.add('colab-df-quickchart-complete');\n",
              "    }\n",
              "    (() => {\n",
              "      let quickchartButtonEl =\n",
              "        document.querySelector('#df-cf8fd6b0-339c-4325-87c3-a26d1e04432c button');\n",
              "      quickchartButtonEl.style.display =\n",
              "        google.colab.kernel.accessAllowed ? 'block' : 'none';\n",
              "    })();\n",
              "  </script>\n",
              "</div>\n",
              "    </div>\n",
              "  </div>\n"
            ],
            "application/vnd.google.colaboratory.intrinsic+json": {
              "type": "dataframe",
              "variable_name": "Act_Val_DF",
              "summary": "{\n  \"name\": \"Act_Val_DF\",\n  \"rows\": 8,\n  \"fields\": [\n    {\n      \"column\": \"Region\",\n      \"properties\": {\n        \"dtype\": \"string\",\n        \"num_unique_values\": 8,\n        \"samples\": [\n          \"South_East\",\n          \"Mid_East\",\n          \"Dublin\"\n        ],\n        \"semantic_type\": \"\",\n        \"description\": \"\"\n      }\n    },\n    {\n      \"column\": \"Avg House Price\",\n      \"properties\": {\n        \"dtype\": \"number\",\n        \"std\": 127427.0919514796,\n        \"min\": 156581.24253731343,\n        \"max\": 561366.5928433269,\n        \"num_unique_values\": 8,\n        \"samples\": [\n          224794.93571634477,\n          318223.01156777353,\n          561366.5928433269\n        ],\n        \"semantic_type\": \"\",\n        \"description\": \"\"\n      }\n    },\n    {\n      \"column\": \"Avg Rent Price\",\n      \"properties\": {\n        \"dtype\": \"number\",\n        \"std\": 396.88166945653126,\n        \"min\": 666.2886133846857,\n        \"max\": 1928.179619600272,\n        \"num_unique_values\": 8,\n        \"samples\": [\n          884.35335110983,\n          1248.7452272727176,\n          1928.179619600272\n        ],\n        \"semantic_type\": \"\",\n        \"description\": \"\"\n      }\n    },\n    {\n      \"column\": \"Median House price\",\n      \"properties\": {\n        \"dtype\": \"number\",\n        \"std\": 114451.85405779959,\n        \"min\": 154733.0,\n        \"max\": 520799.0,\n        \"num_unique_values\": 8,\n        \"samples\": [\n          229000.0,\n          313277.0,\n          520799.0\n        ],\n        \"semantic_type\": \"\",\n        \"description\": \"\"\n      }\n    },\n    {\n      \"column\": \"Median rent price\",\n      \"properties\": {\n        \"dtype\": \"number\",\n        \"std\": 406.8146944929068,\n        \"min\": 659.85,\n        \"max\": 1925.37,\n        \"num_unique_values\": 8,\n        \"samples\": [\n          861.02,\n          1216.72,\n          1925.37\n        ],\n        \"semantic_type\": \"\",\n        \"description\": \"\"\n      }\n    }\n  ]\n}"
            }
          },
          "metadata": {},
          "execution_count": 251
        }
      ]
    },
    {
      "cell_type": "markdown",
      "source": [
        "#Comparing predicted values to actual values"
      ],
      "metadata": {
        "id": "Vv8bMA8fF-7-"
      }
    },
    {
      "cell_type": "code",
      "source": [
        "# Set region as index\n",
        "#Avg_pred_val_DF.set_index('Region', inplace=True)\n",
        "#Act_Val_DF.set_index('Region', inplace=True)\n",
        "\n",
        "# Plotting\n",
        "fig, axes = plt.subplots(nrows=2, ncols=1, figsize=(10, 8))\n",
        "\n",
        "# Plotting mean of House Prices\n",
        "Avg_pred_val_DF['Avg House Price'].plot(kind='bar', ax=axes[0], color='skyblue', position=0.5, width=0.4, label='Predicted')\n",
        "Act_Val_DF['Avg House Price'].plot(kind='bar', ax=axes[0], color='salmon', position=-0.5, width=0.4, label='Actual')\n",
        "\n",
        "axes[0].set_title('Mean House Prices')\n",
        "axes[0].set_ylabel('Price')\n",
        "axes[0].legend()\n",
        "\n",
        "# Plotting mean of Rent Prices\n",
        "Avg_pred_val_DF['Avg Rent Price'].plot(kind='bar', ax=axes[1], color='skyblue', position=0.5, width=0.4, label='Predicted')\n",
        "Act_Val_DF['Avg Rent Price'].plot(kind='bar', ax=axes[1], color='salmon', position=-0.5, width=0.4, label='Actual')\n",
        "\n",
        "axes[1].set_title('Mean Rent Prices')\n",
        "axes[1].set_ylabel('Price')\n",
        "axes[1].legend()\n",
        "\n",
        "plt.tight_layout()\n",
        "plt.show()"
      ],
      "metadata": {
        "colab": {
          "base_uri": "https://localhost:8080/",
          "height": 677
        },
        "id": "qUYSdwO9cv6U",
        "outputId": "e7183103-0913-480f-8750-7234eb7b6aab"
      },
      "execution_count": 256,
      "outputs": [
        {
          "output_type": "display_data",
          "data": {
            "text/plain": [
              "<Figure size 1000x800 with 2 Axes>"
            ],
            "image/png": "[encoded data removed]"
          },
          "metadata": {}
        }
      ]
    },
    {
      "cell_type": "code",
      "source": [
        "# Plotting\n",
        "fig, axes = plt.subplots(nrows=2, ncols=1, figsize=(10, 8))\n",
        "\n",
        "# Plotting Median House Prices\n",
        "Avg_pred_val_DF['Median House price'].plot(kind='bar', ax=axes[0], color='skyblue', position=0.5, width=0.4, label='Predicted')\n",
        "Act_Val_DF['Median House price'].plot(kind='bar', ax=axes[0], color='salmon', position=-0.5, width=0.4, label='Actual')\n",
        "\n",
        "axes[0].set_title('Median House Prices')\n",
        "axes[0].set_ylabel('Price')\n",
        "axes[0].legend()\n",
        "\n",
        "# Plotting Median Rent Prices\n",
        "Avg_pred_val_DF['Median rent price'].plot(kind='bar', ax=axes[1], color='skyblue', position=0.5, width=0.4, label='Predicted')\n",
        "Act_Val_DF['Median rent price'].plot(kind='bar', ax=axes[1], color='salmon', position=-0.5, width=0.4, label='Actual')\n",
        "\n",
        "axes[1].set_title('Median Rent Prices')\n",
        "axes[1].set_ylabel('Price')\n",
        "axes[1].legend()\n",
        "\n",
        "plt.tight_layout()\n",
        "plt.show()"
      ],
      "metadata": {
        "colab": {
          "base_uri": "https://localhost:8080/",
          "height": 677
        },
        "id": "CTT131NPrR7T",
        "outputId": "9036b0e7-4349-48d1-cebe-6341d77c7d37"
      },
      "execution_count": 257,
      "outputs": [
        {
          "output_type": "display_data",
          "data": {
            "text/plain": [
              "<Figure size 1000x800 with 2 Axes>"
            ],
            "image/png": "[encoded data removed]"
          },
          "metadata": {}
        }
      ]
    },
    {
      "cell_type": "code",
      "source": [
        "# Plot for mean values\n",
        "plt.figure(figsize=(12, 6))\n",
        "Act_Val_DF['Avg House Price'].plot(label='Actual', marker='o')\n",
        "Avg_pred_val_DF['Avg House Price'].plot(label='Predicted', marker='o')\n",
        "plt.title('Comparison of Predicted and Actual Mean House Prices by Region')\n",
        "plt.xlabel('Region')\n",
        "plt.ylabel('Price')\n",
        "plt.xticks(rotation=45)\n",
        "plt.legend()\n",
        "plt.grid(True)\n",
        "plt.tight_layout()\n",
        "plt.show()"
      ],
      "metadata": {
        "colab": {
          "base_uri": "https://localhost:8080/",
          "height": 427
        },
        "id": "NhtQqrniNR6z",
        "outputId": "51fd457c-4d97-4eaf-c0eb-1d7df62fcaf1"
      },
      "execution_count": 260,
      "outputs": [
        {
          "output_type": "display_data",
          "data": {
            "text/plain": [
              "<Figure size 1200x600 with 1 Axes>"
            ],
            "image/png": "[encoded data removed]"
          },
          "metadata": {}
        }
      ]
    },
    {
      "cell_type": "code",
      "source": [
        "# Plot for mean values\n",
        "plt.figure(figsize=(12, 6))\n",
        "Act_Val_DF['Avg Rent Price'].plot(label='Actual', marker='o')\n",
        "Avg_pred_val_DF['Avg Rent Price'].plot(label='Predicted', marker='o')\n",
        "plt.title('Comparison of Predicted and Actual Mean rent Prices by Region')\n",
        "plt.xlabel('Region')\n",
        "plt.ylabel('Price')\n",
        "plt.xticks(rotation=45)\n",
        "plt.legend()\n",
        "plt.grid(True)\n",
        "plt.tight_layout()\n",
        "plt.show()"
      ],
      "metadata": {
        "colab": {
          "base_uri": "https://localhost:8080/",
          "height": 427
        },
        "id": "4mtabvlIOV_b",
        "outputId": "e799c1e6-4358-4347-ef79-0455f18c9caf"
      },
      "execution_count": 262,
      "outputs": [
        {
          "output_type": "display_data",
          "data": {
            "text/plain": [
              "<Figure size 1200x600 with 1 Axes>"
            ],
            "image/png": "[encoded data removed]"
          },
          "metadata": {}
        }
      ]
    },
    {
      "cell_type": "code",
      "source": [
        "# Plot for median values\n",
        "plt.figure(figsize=(12, 6))\n",
        "Act_Val_DF['Median House price'].plot(label='Actual', marker='o')\n",
        "Avg_pred_val_DF['Median House price'].plot(label='Predicted', marker='o')\n",
        "plt.title('Comparison of Predicted and Actual Median House Prices by Region')\n",
        "plt.xlabel('Region')\n",
        "plt.ylabel('Price')\n",
        "plt.xticks(rotation=45)\n",
        "plt.legend()\n",
        "plt.grid(True)\n",
        "plt.tight_layout()\n",
        "plt.show()"
      ],
      "metadata": {
        "colab": {
          "base_uri": "https://localhost:8080/",
          "height": 427
        },
        "id": "zsD_n8moNn6D",
        "outputId": "9b4a188c-b9d4-4d81-d642-6bf3e7f927ab"
      },
      "execution_count": 261,
      "outputs": [
        {
          "output_type": "display_data",
          "data": {
            "text/plain": [
              "<Figure size 1200x600 with 1 Axes>"
            ],
            "image/png": "[encoded data removed]"
          },
          "metadata": {}
        }
      ]
    },
    {
      "cell_type": "code",
      "source": [
        "plt.figure(figsize=(12, 6))\n",
        "Act_Val_DF['Median rent price'].plot(label='Actual', marker='o')\n",
        "Avg_pred_val_DF['Median rent price'].plot(label='Predicted', marker='o')\n",
        "plt.title('Comparison of Predicted and Actual median rent Prices by Region')\n",
        "plt.xlabel('Region')\n",
        "plt.ylabel('Price')\n",
        "plt.xticks(rotation=45)\n",
        "plt.legend()\n",
        "plt.grid(True)\n",
        "plt.tight_layout()\n",
        "plt.show()"
      ],
      "metadata": {
        "colab": {
          "base_uri": "https://localhost:8080/",
          "height": 427
        },
        "id": "ko1VCBOqO2vj",
        "outputId": "3912e76d-090a-4bbc-f84b-faf3f1d32a6c"
      },
      "execution_count": 264,
      "outputs": [
        {
          "output_type": "display_data",
          "data": {
            "text/plain": [
              "<Figure size 1200x600 with 1 Axes>"
            ],
            "image/png": "[encoded data removed]"
          },
          "metadata": {}
        }
      ]
    },
    {
      "cell_type": "markdown",
      "source": [
        "#Displaying the ROI for all regions"
      ],
      "metadata": {
        "id": "J3WsiK1u1ZRn"
      }
    },
    {
      "cell_type": "code",
      "source": [
        "ROI = {'Region': ['Dublin', 'South East', 'South West', 'West', 'Midland', 'Mid East', 'Mid West', 'Border'],\n",
        "       'ROI': [Dub_ROI, SE_ROI, SW_ROI, W_ROI, M_ROI, ME_ROI, MW_ROI, B_ROI]}"
      ],
      "metadata": {
        "id": "1pPtuTdu1k1P"
      },
      "execution_count": 258,
      "outputs": []
    },
    {
      "cell_type": "code",
      "source": [
        "pd.DataFrame.from_dict(ROI).sort_values('ROI', ascending = False)"
      ],
      "metadata": {
        "colab": {
          "base_uri": "https://localhost:8080/",
          "height": 300
        },
        "id": "zIgr5WiP2iVu",
        "outputId": "f47c1a95-7a8e-4185-bd89-9b424282adaf"
      },
      "execution_count": 259,
      "outputs": [
        {
          "output_type": "execute_result",
          "data": {
            "text/plain": [
              "       Region       ROI\n",
              "4     Midland  1.014086\n",
              "3        West  0.946909\n",
              "1  South East  0.774509\n",
              "2  South West  0.716933\n",
              "7      Border  0.703569\n",
              "5    Mid East  0.670463\n",
              "0      Dublin  0.659029\n",
              "6    Mid West  0.107220"
            ],
            "text/html": [
              "\n",
              "  <div id=\"df-16bb6347-b683-4abb-bc2a-95c719061a7a\" class=\"colab-df-container\">\n",
              "    <div>\n",
              "<style scoped>\n",
              "    .dataframe tbody tr th:only-of-type {\n",
              "        vertical-align: middle;\n",
              "    }\n",
              "\n",
              "    .dataframe tbody tr th {\n",
              "        vertical-align: top;\n",
              "    }\n",
              "\n",
              "    .dataframe thead th {\n",
              "        text-align: right;\n",
              "    }\n",
              "</style>\n",
              "<table border=\"1\" class=\"dataframe\">\n",
              "  <thead>\n",
              "    <tr style=\"text-align: right;\">\n",
              "      <th></th>\n",
              "      <th>Region</th>\n",
              "      <th>ROI</th>\n",
              "    </tr>\n",
              "  </thead>\n",
              "  <tbody>\n",
              "    <tr>\n",
              "      <th>4</th>\n",
              "      <td>Midland</td>\n",
              "      <td>1.014086</td>\n",
              "    </tr>\n",
              "    <tr>\n",
              "      <th>3</th>\n",
              "      <td>West</td>\n",
              "      <td>0.946909</td>\n",
              "    </tr>\n",
              "    <tr>\n",
              "      <th>1</th>\n",
              "      <td>South East</td>\n",
              "      <td>0.774509</td>\n",
              "    </tr>\n",
              "    <tr>\n",
              "      <th>2</th>\n",
              "      <td>South West</td>\n",
              "      <td>0.716933</td>\n",
              "    </tr>\n",
              "    <tr>\n",
              "      <th>7</th>\n",
              "      <td>Border</td>\n",
              "      <td>0.703569</td>\n",
              "    </tr>\n",
              "    <tr>\n",
              "      <th>5</th>\n",
              "      <td>Mid East</td>\n",
              "      <td>0.670463</td>\n",
              "    </tr>\n",
              "    <tr>\n",
              "      <th>0</th>\n",
              "      <td>Dublin</td>\n",
              "      <td>0.659029</td>\n",
              "    </tr>\n",
              "    <tr>\n",
              "      <th>6</th>\n",
              "      <td>Mid West</td>\n",
              "      <td>0.107220</td>\n",
              "    </tr>\n",
              "  </tbody>\n",
              "</table>\n",
              "</div>\n",
              "    <div class=\"colab-df-buttons\">\n",
              "\n",
              "  <div class=\"colab-df-container\">\n",
              "    <button class=\"colab-df-convert\" onclick=\"convertToInteractive('df-16bb6347-b683-4abb-bc2a-95c719061a7a')\"\n",
              "            title=\"Convert this dataframe to an interactive table.\"\n",
              "            style=\"display:none;\">\n",
              "\n",
              "  <svg xmlns=\"http://www.w3.org/2000/svg\" height=\"24px\" viewBox=\"0 -960 960 960\">\n",
              "    <path d=\"M120-120v-720h720v720H120Zm60-500h600v-160H180v160Zm220 220h160v-160H400v160Zm0 220h160v-160H400v160ZM180-400h160v-160H180v160Zm440 0h160v-160H620v160ZM180-180h160v-160H180v160Zm440 0h160v-160H620v160Z\"/>\n",
              "  </svg>\n",
              "    </button>\n",
              "\n",
              "  <style>\n",
              "    .colab-df-container {\n",
              "      display:flex;\n",
              "      gap: 12px;\n",
              "    }\n",
              "\n",
              "    .colab-df-convert {\n",
              "      background-color: #E8F0FE;\n",
              "      border: none;\n",
              "      border-radius: 50%;\n",
              "      cursor: pointer;\n",
              "      display: none;\n",
              "      fill: #1967D2;\n",
              "      height: 32px;\n",
              "      padding: 0 0 0 0;\n",
              "      width: 32px;\n",
              "    }\n",
              "\n",
              "    .colab-df-convert:hover {\n",
              "      background-color: #E2EBFA;\n",
              "      box-shadow: 0px 1px 2px rgba(60, 64, 67, 0.3), 0px 1px 3px 1px rgba(60, 64, 67, 0.15);\n",
              "      fill: #174EA6;\n",
              "    }\n",
              "\n",
              "    .colab-df-buttons div {\n",
              "      margin-bottom: 4px;\n",
              "    }\n",
              "\n",
              "    [theme=dark] .colab-df-convert {\n",
              "      background-color: #3B4455;\n",
              "      fill: #D2E3FC;\n",
              "    }\n",
              "\n",
              "    [theme=dark] .colab-df-convert:hover {\n",
              "      background-color: #434B5C;\n",
              "      box-shadow: 0px 1px 3px 1px rgba(0, 0, 0, 0.15);\n",
              "      filter: drop-shadow(0px 1px 2px rgba(0, 0, 0, 0.3));\n",
              "      fill: #FFFFFF;\n",
              "    }\n",
              "  </style>\n",
              "\n",
              "    <script>\n",
              "      const buttonEl =\n",
              "        document.querySelector('#df-16bb6347-b683-4abb-bc2a-95c719061a7a button.colab-df-convert');\n",
              "      buttonEl.style.display =\n",
              "        google.colab.kernel.accessAllowed ? 'block' : 'none';\n",
              "\n",
              "      async function convertToInteractive(key) {\n",
              "        const element = document.querySelector('#df-16bb6347-b683-4abb-bc2a-95c719061a7a');\n",
              "        const dataTable =\n",
              "          await google.colab.kernel.invokeFunction('convertToInteractive',\n",
              "                                                    [key], {});\n",
              "        if (!dataTable) return;\n",
              "\n",
              "        const docLinkHtml = 'Like what you see? Visit the ' +\n",
              "          '<a target=\"_blank\" href=https://colab.research.google.com/notebooks/data_table.ipynb>data table notebook</a>'\n",
              "          + ' to learn more about interactive tables.';\n",
              "        element.innerHTML = '';\n",
              "        dataTable['output_type'] = 'display_data';\n",
              "        await google.colab.output.renderOutput(dataTable, element);\n",
              "        const docLink = document.createElement('div');\n",
              "        docLink.innerHTML = docLinkHtml;\n",
              "        element.appendChild(docLink);\n",
              "      }\n",
              "    </script>\n",
              "  </div>\n",
              "\n",
              "\n",
              "<div id=\"df-11d4db98-70e6-49c7-809f-f7adbf6cc87f\">\n",
              "  <button class=\"colab-df-quickchart\" onclick=\"quickchart('df-11d4db98-70e6-49c7-809f-f7adbf6cc87f')\"\n",
              "            title=\"Suggest charts\"\n",
              "            style=\"display:none;\">\n",
              "\n",
              "<svg xmlns=\"http://www.w3.org/2000/svg\" height=\"24px\"viewBox=\"0 0 24 24\"\n",
              "     width=\"24px\">\n",
              "    <g>\n",
              "        <path d=\"M19 3H5c-1.1 0-2 .9-2 2v14c0 1.1.9 2 2 2h14c1.1 0 2-.9 2-2V5c0-1.1-.9-2-2-2zM9 17H7v-7h2v7zm4 0h-2V7h2v10zm4 0h-2v-4h2v4z\"/>\n",
              "    </g>\n",
              "</svg>\n",
              "  </button>\n",
              "\n",
              "<style>\n",
              "  .colab-df-quickchart {\n",
              "      --bg-color: #E8F0FE;\n",
              "      --fill-color: #1967D2;\n",
              "      --hover-bg-color: #E2EBFA;\n",
              "      --hover-fill-color: #174EA6;\n",
              "      --disabled-fill-color: #AAA;\n",
              "      --disabled-bg-color: #DDD;\n",
              "  }\n",
              "\n",
              "  [theme=dark] .colab-df-quickchart {\n",
              "      --bg-color: #3B4455;\n",
              "      --fill-color: #D2E3FC;\n",
              "      --hover-bg-color: #434B5C;\n",
              "      --hover-fill-color: #FFFFFF;\n",
              "      --disabled-bg-color: #3B4455;\n",
              "      --disabled-fill-color: #666;\n",
              "  }\n",
              "\n",
              "  .colab-df-quickchart {\n",
              "    background-color: var(--bg-color);\n",
              "    border: none;\n",
              "    border-radius: 50%;\n",
              "    cursor: pointer;\n",
              "    display: none;\n",
              "    fill: var(--fill-color);\n",
              "    height: 32px;\n",
              "    padding: 0;\n",
              "    width: 32px;\n",
              "  }\n",
              "\n",
              "  .colab-df-quickchart:hover {\n",
              "    background-color: var(--hover-bg-color);\n",
              "    box-shadow: 0 1px 2px rgba(60, 64, 67, 0.3), 0 1px 3px 1px rgba(60, 64, 67, 0.15);\n",
              "    fill: var(--button-hover-fill-color);\n",
              "  }\n",
              "\n",
              "  .colab-df-quickchart-complete:disabled,\n",
              "  .colab-df-quickchart-complete:disabled:hover {\n",
              "    background-color: var(--disabled-bg-color);\n",
              "    fill: var(--disabled-fill-color);\n",
              "    box-shadow: none;\n",
              "  }\n",
              "\n",
              "  .colab-df-spinner {\n",
              "    border: 2px solid var(--fill-color);\n",
              "    border-color: transparent;\n",
              "    border-bottom-color: var(--fill-color);\n",
              "    animation:\n",
              "      spin 1s steps(1) infinite;\n",
              "  }\n",
              "\n",
              "  @keyframes spin {\n",
              "    0% {\n",
              "      border-color: transparent;\n",
              "      border-bottom-color: var(--fill-color);\n",
              "      border-left-color: var(--fill-color);\n",
              "    }\n",
              "    20% {\n",
              "      border-color: transparent;\n",
              "      border-left-color: var(--fill-color);\n",
              "      border-top-color: var(--fill-color);\n",
              "    }\n",
              "    30% {\n",
              "      border-color: transparent;\n",
              "      border-left-color: var(--fill-color);\n",
              "      border-top-color: var(--fill-color);\n",
              "      border-right-color: var(--fill-color);\n",
              "    }\n",
              "    40% {\n",
              "      border-color: transparent;\n",
              "      border-right-color: var(--fill-color);\n",
              "      border-top-color: var(--fill-color);\n",
              "    }\n",
              "    60% {\n",
              "      border-color: transparent;\n",
              "      border-right-color: var(--fill-color);\n",
              "    }\n",
              "    80% {\n",
              "      border-color: transparent;\n",
              "      border-right-color: var(--fill-color);\n",
              "      border-bottom-color: var(--fill-color);\n",
              "    }\n",
              "    90% {\n",
              "      border-color: transparent;\n",
              "      border-bottom-color: var(--fill-color);\n",
              "    }\n",
              "  }\n",
              "</style>\n",
              "\n",
              "  <script>\n",
              "    async function quickchart(key) {\n",
              "      const quickchartButtonEl =\n",
              "        document.querySelector('#' + key + ' button');\n",
              "      quickchartButtonEl.disabled = true;  // To prevent multiple clicks.\n",
              "      quickchartButtonEl.classList.add('colab-df-spinner');\n",
              "      try {\n",
              "        const charts = await google.colab.kernel.invokeFunction(\n",
              "            'suggestCharts', [key], {});\n",
              "      } catch (error) {\n",
              "        console.error('Error during call to suggestCharts:', error);\n",
              "      }\n",
              "      quickchartButtonEl.classList.remove('colab-df-spinner');\n",
              "      quickchartButtonEl.classList.add('colab-df-quickchart-complete');\n",
              "    }\n",
              "    (() => {\n",
              "      let quickchartButtonEl =\n",
              "        document.querySelector('#df-11d4db98-70e6-49c7-809f-f7adbf6cc87f button');\n",
              "      quickchartButtonEl.style.display =\n",
              "        google.colab.kernel.accessAllowed ? 'block' : 'none';\n",
              "    })();\n",
              "  </script>\n",
              "</div>\n",
              "    </div>\n",
              "  </div>\n"
            ],
            "application/vnd.google.colaboratory.intrinsic+json": {
              "type": "dataframe",
              "summary": "{\n  \"name\": \"pd\",\n  \"rows\": 8,\n  \"fields\": [\n    {\n      \"column\": \"Region\",\n      \"properties\": {\n        \"dtype\": \"string\",\n        \"num_unique_values\": 8,\n        \"samples\": [\n          \"West\",\n          \"Mid East\",\n          \"Midland\"\n        ],\n        \"semantic_type\": \"\",\n        \"description\": \"\"\n      }\n    },\n    {\n      \"column\": \"ROI\",\n      \"properties\": {\n        \"dtype\": \"number\",\n        \"std\": 0.2723960990442493,\n        \"min\": 0.10722002865138958,\n        \"max\": 1.0140861096828166,\n        \"num_unique_values\": 8,\n        \"samples\": [\n          0.9469086786752959,\n          0.6704633076761507,\n          1.0140861096828166\n        ],\n        \"semantic_type\": \"\",\n        \"description\": \"\"\n      }\n    }\n  ]\n}"
            }
          },
          "metadata": {},
          "execution_count": 259
        }
      ]
    }
  ]
}
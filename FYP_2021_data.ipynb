{
  "nbformat": 4,
  "nbformat_minor": 0,
  "metadata": {
    "colab": {
      "provenance": [],
      "toc_visible": true,
      "authorship_tag": "ABX9TyNvX/LNcdtPsmOzRfg0ygJH",
      "include_colab_link": true
    },
    "kernelspec": {
      "name": "python3",
      "display_name": "Python 3"
    },
    "language_info": {
      "name": "python"
    }
  },
  "cells": [
    {
      "cell_type": "markdown",
      "metadata": {
        "id": "view-in-github",
        "colab_type": "text"
      },
      "source": [
        "<a href=\"https://colab.research.google.com/github/Aelamin19/Business-Analytics/blob/main/FYP_2021_data.ipynb\" target=\"_parent\"><img src=\"https://colab.research.google.com/assets/colab-badge.svg\" alt=\"Open In Colab\"/></a>"
      ]
    },
    {
      "cell_type": "code",
      "source": [
        "import pandas as pd\n",
        "import matplotlib.pyplot as plt\n",
        "import numpy as np\n",
        "import xgboost as xgb\n",
        "from xgboost import XGBRegressor\n",
        "from xgboost import XGBRFRegressor"
      ],
      "metadata": {
        "id": "hvOd_2pZyGak"
      },
      "execution_count": null,
      "outputs": []
    },
    {
      "cell_type": "code",
      "execution_count": null,
      "metadata": {
        "id": "_lpeNACYx8LM"
      },
      "outputs": [],
      "source": [
        "rent_df = pd.read_csv(\"/content/avg monthly rent 2008-2022.csv\")\n",
        "d_i_df = pd.read_csv(\"/content/Disposable income 2021.csv\")\n",
        "h_p_df = pd.read_csv(\"/content/House purchases.csv\")\n",
        "crime_df = pd.read_csv('/content/recorded_crime_ireland.csv')"
      ]
    },
    {
      "cell_type": "markdown",
      "source": [
        "#Data preprocessing - Rent df"
      ],
      "metadata": {
        "id": "AEvgNNaewSoU"
      }
    },
    {
      "cell_type": "code",
      "source": [
        "rent_df"
      ],
      "metadata": {
        "id": "m3_ubfm-yBXl",
        "colab": {
          "base_uri": "https://localhost:8080/",
          "height": 1000
        },
        "outputId": "dae646e8-b663-478c-991a-0b07b2534f8a"
      },
      "execution_count": null,
      "outputs": [
        {
          "output_type": "execute_result",
          "data": {
            "text/plain": [
              "                        STATISTIC Label  Year Number of Bedrooms  \\\n",
              "0       RTB Average Monthly Rent Report  2008            One bed   \n",
              "1       RTB Average Monthly Rent Report  2008            One bed   \n",
              "2       RTB Average Monthly Rent Report  2008            One bed   \n",
              "3       RTB Average Monthly Rent Report  2008            One bed   \n",
              "4       RTB Average Monthly Rent Report  2008            One bed   \n",
              "...                                 ...   ...                ...   \n",
              "200695  RTB Average Monthly Rent Report  2022      Four plus bed   \n",
              "200696  RTB Average Monthly Rent Report  2022      Four plus bed   \n",
              "200697  RTB Average Monthly Rent Report  2022      Four plus bed   \n",
              "200698  RTB Average Monthly Rent Report  2022      Four plus bed   \n",
              "200699  RTB Average Monthly Rent Report  2022      Four plus bed   \n",
              "\n",
              "         Property Type                      Location  UNIT  VALUE  \n",
              "0       Detached house                        Carlow  Euro    NaN  \n",
              "1       Detached house                   Carlow Town  Euro    NaN  \n",
              "2       Detached house         Graiguecullen, Carlow  Euro    NaN  \n",
              "3       Detached house                Tullow, Carlow  Euro    NaN  \n",
              "4       Detached house                         Cavan  Euro    NaN  \n",
              "...                ...                           ...   ...    ...  \n",
              "200695     Other flats              Delgany, Wicklow  Euro    NaN  \n",
              "200696     Other flats           Greystones, Wicklow  Euro    NaN  \n",
              "200697     Other flats             Kilcoole, Wicklow  Euro    NaN  \n",
              "200698     Other flats  Newtownmountkennedy, Wicklow  Euro    NaN  \n",
              "200699     Other flats              Rathnew, Wicklow  Euro    NaN  \n",
              "\n",
              "[200700 rows x 7 columns]"
            ],
            "text/html": [
              "\n",
              "  <div id=\"df-e9841311-905e-4d1a-a76c-078d43361cdd\" class=\"colab-df-container\">\n",
              "    <div>\n",
              "<style scoped>\n",
              "    .dataframe tbody tr th:only-of-type {\n",
              "        vertical-align: middle;\n",
              "    }\n",
              "\n",
              "    .dataframe tbody tr th {\n",
              "        vertical-align: top;\n",
              "    }\n",
              "\n",
              "    .dataframe thead th {\n",
              "        text-align: right;\n",
              "    }\n",
              "</style>\n",
              "<table border=\"1\" class=\"dataframe\">\n",
              "  <thead>\n",
              "    <tr style=\"text-align: right;\">\n",
              "      <th></th>\n",
              "      <th>STATISTIC Label</th>\n",
              "      <th>Year</th>\n",
              "      <th>Number of Bedrooms</th>\n",
              "      <th>Property Type</th>\n",
              "      <th>Location</th>\n",
              "      <th>UNIT</th>\n",
              "      <th>VALUE</th>\n",
              "    </tr>\n",
              "  </thead>\n",
              "  <tbody>\n",
              "    <tr>\n",
              "      <th>0</th>\n",
              "      <td>RTB Average Monthly Rent Report</td>\n",
              "      <td>2008</td>\n",
              "      <td>One bed</td>\n",
              "      <td>Detached house</td>\n",
              "      <td>Carlow</td>\n",
              "      <td>Euro</td>\n",
              "      <td>NaN</td>\n",
              "    </tr>\n",
              "    <tr>\n",
              "      <th>1</th>\n",
              "      <td>RTB Average Monthly Rent Report</td>\n",
              "      <td>2008</td>\n",
              "      <td>One bed</td>\n",
              "      <td>Detached house</td>\n",
              "      <td>Carlow Town</td>\n",
              "      <td>Euro</td>\n",
              "      <td>NaN</td>\n",
              "    </tr>\n",
              "    <tr>\n",
              "      <th>2</th>\n",
              "      <td>RTB Average Monthly Rent Report</td>\n",
              "      <td>2008</td>\n",
              "      <td>One bed</td>\n",
              "      <td>Detached house</td>\n",
              "      <td>Graiguecullen, Carlow</td>\n",
              "      <td>Euro</td>\n",
              "      <td>NaN</td>\n",
              "    </tr>\n",
              "    <tr>\n",
              "      <th>3</th>\n",
              "      <td>RTB Average Monthly Rent Report</td>\n",
              "      <td>2008</td>\n",
              "      <td>One bed</td>\n",
              "      <td>Detached house</td>\n",
              "      <td>Tullow, Carlow</td>\n",
              "      <td>Euro</td>\n",
              "      <td>NaN</td>\n",
              "    </tr>\n",
              "    <tr>\n",
              "      <th>4</th>\n",
              "      <td>RTB Average Monthly Rent Report</td>\n",
              "      <td>2008</td>\n",
              "      <td>One bed</td>\n",
              "      <td>Detached house</td>\n",
              "      <td>Cavan</td>\n",
              "      <td>Euro</td>\n",
              "      <td>NaN</td>\n",
              "    </tr>\n",
              "    <tr>\n",
              "      <th>...</th>\n",
              "      <td>...</td>\n",
              "      <td>...</td>\n",
              "      <td>...</td>\n",
              "      <td>...</td>\n",
              "      <td>...</td>\n",
              "      <td>...</td>\n",
              "      <td>...</td>\n",
              "    </tr>\n",
              "    <tr>\n",
              "      <th>200695</th>\n",
              "      <td>RTB Average Monthly Rent Report</td>\n",
              "      <td>2022</td>\n",
              "      <td>Four plus bed</td>\n",
              "      <td>Other flats</td>\n",
              "      <td>Delgany, Wicklow</td>\n",
              "      <td>Euro</td>\n",
              "      <td>NaN</td>\n",
              "    </tr>\n",
              "    <tr>\n",
              "      <th>200696</th>\n",
              "      <td>RTB Average Monthly Rent Report</td>\n",
              "      <td>2022</td>\n",
              "      <td>Four plus bed</td>\n",
              "      <td>Other flats</td>\n",
              "      <td>Greystones, Wicklow</td>\n",
              "      <td>Euro</td>\n",
              "      <td>NaN</td>\n",
              "    </tr>\n",
              "    <tr>\n",
              "      <th>200697</th>\n",
              "      <td>RTB Average Monthly Rent Report</td>\n",
              "      <td>2022</td>\n",
              "      <td>Four plus bed</td>\n",
              "      <td>Other flats</td>\n",
              "      <td>Kilcoole, Wicklow</td>\n",
              "      <td>Euro</td>\n",
              "      <td>NaN</td>\n",
              "    </tr>\n",
              "    <tr>\n",
              "      <th>200698</th>\n",
              "      <td>RTB Average Monthly Rent Report</td>\n",
              "      <td>2022</td>\n",
              "      <td>Four plus bed</td>\n",
              "      <td>Other flats</td>\n",
              "      <td>Newtownmountkennedy, Wicklow</td>\n",
              "      <td>Euro</td>\n",
              "      <td>NaN</td>\n",
              "    </tr>\n",
              "    <tr>\n",
              "      <th>200699</th>\n",
              "      <td>RTB Average Monthly Rent Report</td>\n",
              "      <td>2022</td>\n",
              "      <td>Four plus bed</td>\n",
              "      <td>Other flats</td>\n",
              "      <td>Rathnew, Wicklow</td>\n",
              "      <td>Euro</td>\n",
              "      <td>NaN</td>\n",
              "    </tr>\n",
              "  </tbody>\n",
              "</table>\n",
              "<p>200700 rows × 7 columns</p>\n",
              "</div>\n",
              "    <div class=\"colab-df-buttons\">\n",
              "\n",
              "  <div class=\"colab-df-container\">\n",
              "    <button class=\"colab-df-convert\" onclick=\"convertToInteractive('df-e9841311-905e-4d1a-a76c-078d43361cdd')\"\n",
              "            title=\"Convert this dataframe to an interactive table.\"\n",
              "            style=\"display:none;\">\n",
              "\n",
              "  <svg xmlns=\"http://www.w3.org/2000/svg\" height=\"24px\" viewBox=\"0 -960 960 960\">\n",
              "    <path d=\"M120-120v-720h720v720H120Zm60-500h600v-160H180v160Zm220 220h160v-160H400v160Zm0 220h160v-160H400v160ZM180-400h160v-160H180v160Zm440 0h160v-160H620v160ZM180-180h160v-160H180v160Zm440 0h160v-160H620v160Z\"/>\n",
              "  </svg>\n",
              "    </button>\n",
              "\n",
              "  <style>\n",
              "    .colab-df-container {\n",
              "      display:flex;\n",
              "      gap: 12px;\n",
              "    }\n",
              "\n",
              "    .colab-df-convert {\n",
              "      background-color: #E8F0FE;\n",
              "      border: none;\n",
              "      border-radius: 50%;\n",
              "      cursor: pointer;\n",
              "      display: none;\n",
              "      fill: #1967D2;\n",
              "      height: 32px;\n",
              "      padding: 0 0 0 0;\n",
              "      width: 32px;\n",
              "    }\n",
              "\n",
              "    .colab-df-convert:hover {\n",
              "      background-color: #E2EBFA;\n",
              "      box-shadow: 0px 1px 2px rgba(60, 64, 67, 0.3), 0px 1px 3px 1px rgba(60, 64, 67, 0.15);\n",
              "      fill: #174EA6;\n",
              "    }\n",
              "\n",
              "    .colab-df-buttons div {\n",
              "      margin-bottom: 4px;\n",
              "    }\n",
              "\n",
              "    [theme=dark] .colab-df-convert {\n",
              "      background-color: #3B4455;\n",
              "      fill: #D2E3FC;\n",
              "    }\n",
              "\n",
              "    [theme=dark] .colab-df-convert:hover {\n",
              "      background-color: #434B5C;\n",
              "      box-shadow: 0px 1px 3px 1px rgba(0, 0, 0, 0.15);\n",
              "      filter: drop-shadow(0px 1px 2px rgba(0, 0, 0, 0.3));\n",
              "      fill: #FFFFFF;\n",
              "    }\n",
              "  </style>\n",
              "\n",
              "    <script>\n",
              "      const buttonEl =\n",
              "        document.querySelector('#df-e9841311-905e-4d1a-a76c-078d43361cdd button.colab-df-convert');\n",
              "      buttonEl.style.display =\n",
              "        google.colab.kernel.accessAllowed ? 'block' : 'none';\n",
              "\n",
              "      async function convertToInteractive(key) {\n",
              "        const element = document.querySelector('#df-e9841311-905e-4d1a-a76c-078d43361cdd');\n",
              "        const dataTable =\n",
              "          await google.colab.kernel.invokeFunction('convertToInteractive',\n",
              "                                                    [key], {});\n",
              "        if (!dataTable) return;\n",
              "\n",
              "        const docLinkHtml = 'Like what you see? Visit the ' +\n",
              "          '<a target=\"_blank\" href=https://colab.research.google.com/notebooks/data_table.ipynb>data table notebook</a>'\n",
              "          + ' to learn more about interactive tables.';\n",
              "        element.innerHTML = '';\n",
              "        dataTable['output_type'] = 'display_data';\n",
              "        await google.colab.output.renderOutput(dataTable, element);\n",
              "        const docLink = document.createElement('div');\n",
              "        docLink.innerHTML = docLinkHtml;\n",
              "        element.appendChild(docLink);\n",
              "      }\n",
              "    </script>\n",
              "  </div>\n",
              "\n",
              "\n",
              "<div id=\"df-b286c742-3d13-4426-9e01-1fe8fc1a1027\">\n",
              "  <button class=\"colab-df-quickchart\" onclick=\"quickchart('df-b286c742-3d13-4426-9e01-1fe8fc1a1027')\"\n",
              "            title=\"Suggest charts\"\n",
              "            style=\"display:none;\">\n",
              "\n",
              "<svg xmlns=\"http://www.w3.org/2000/svg\" height=\"24px\"viewBox=\"0 0 24 24\"\n",
              "     width=\"24px\">\n",
              "    <g>\n",
              "        <path d=\"M19 3H5c-1.1 0-2 .9-2 2v14c0 1.1.9 2 2 2h14c1.1 0 2-.9 2-2V5c0-1.1-.9-2-2-2zM9 17H7v-7h2v7zm4 0h-2V7h2v10zm4 0h-2v-4h2v4z\"/>\n",
              "    </g>\n",
              "</svg>\n",
              "  </button>\n",
              "\n",
              "<style>\n",
              "  .colab-df-quickchart {\n",
              "      --bg-color: #E8F0FE;\n",
              "      --fill-color: #1967D2;\n",
              "      --hover-bg-color: #E2EBFA;\n",
              "      --hover-fill-color: #174EA6;\n",
              "      --disabled-fill-color: #AAA;\n",
              "      --disabled-bg-color: #DDD;\n",
              "  }\n",
              "\n",
              "  [theme=dark] .colab-df-quickchart {\n",
              "      --bg-color: #3B4455;\n",
              "      --fill-color: #D2E3FC;\n",
              "      --hover-bg-color: #434B5C;\n",
              "      --hover-fill-color: #FFFFFF;\n",
              "      --disabled-bg-color: #3B4455;\n",
              "      --disabled-fill-color: #666;\n",
              "  }\n",
              "\n",
              "  .colab-df-quickchart {\n",
              "    background-color: var(--bg-color);\n",
              "    border: none;\n",
              "    border-radius: 50%;\n",
              "    cursor: pointer;\n",
              "    display: none;\n",
              "    fill: var(--fill-color);\n",
              "    height: 32px;\n",
              "    padding: 0;\n",
              "    width: 32px;\n",
              "  }\n",
              "\n",
              "  .colab-df-quickchart:hover {\n",
              "    background-color: var(--hover-bg-color);\n",
              "    box-shadow: 0 1px 2px rgba(60, 64, 67, 0.3), 0 1px 3px 1px rgba(60, 64, 67, 0.15);\n",
              "    fill: var(--button-hover-fill-color);\n",
              "  }\n",
              "\n",
              "  .colab-df-quickchart-complete:disabled,\n",
              "  .colab-df-quickchart-complete:disabled:hover {\n",
              "    background-color: var(--disabled-bg-color);\n",
              "    fill: var(--disabled-fill-color);\n",
              "    box-shadow: none;\n",
              "  }\n",
              "\n",
              "  .colab-df-spinner {\n",
              "    border: 2px solid var(--fill-color);\n",
              "    border-color: transparent;\n",
              "    border-bottom-color: var(--fill-color);\n",
              "    animation:\n",
              "      spin 1s steps(1) infinite;\n",
              "  }\n",
              "\n",
              "  @keyframes spin {\n",
              "    0% {\n",
              "      border-color: transparent;\n",
              "      border-bottom-color: var(--fill-color);\n",
              "      border-left-color: var(--fill-color);\n",
              "    }\n",
              "    20% {\n",
              "      border-color: transparent;\n",
              "      border-left-color: var(--fill-color);\n",
              "      border-top-color: var(--fill-color);\n",
              "    }\n",
              "    30% {\n",
              "      border-color: transparent;\n",
              "      border-left-color: var(--fill-color);\n",
              "      border-top-color: var(--fill-color);\n",
              "      border-right-color: var(--fill-color);\n",
              "    }\n",
              "    40% {\n",
              "      border-color: transparent;\n",
              "      border-right-color: var(--fill-color);\n",
              "      border-top-color: var(--fill-color);\n",
              "    }\n",
              "    60% {\n",
              "      border-color: transparent;\n",
              "      border-right-color: var(--fill-color);\n",
              "    }\n",
              "    80% {\n",
              "      border-color: transparent;\n",
              "      border-right-color: var(--fill-color);\n",
              "      border-bottom-color: var(--fill-color);\n",
              "    }\n",
              "    90% {\n",
              "      border-color: transparent;\n",
              "      border-bottom-color: var(--fill-color);\n",
              "    }\n",
              "  }\n",
              "</style>\n",
              "\n",
              "  <script>\n",
              "    async function quickchart(key) {\n",
              "      const quickchartButtonEl =\n",
              "        document.querySelector('#' + key + ' button');\n",
              "      quickchartButtonEl.disabled = true;  // To prevent multiple clicks.\n",
              "      quickchartButtonEl.classList.add('colab-df-spinner');\n",
              "      try {\n",
              "        const charts = await google.colab.kernel.invokeFunction(\n",
              "            'suggestCharts', [key], {});\n",
              "      } catch (error) {\n",
              "        console.error('Error during call to suggestCharts:', error);\n",
              "      }\n",
              "      quickchartButtonEl.classList.remove('colab-df-spinner');\n",
              "      quickchartButtonEl.classList.add('colab-df-quickchart-complete');\n",
              "    }\n",
              "    (() => {\n",
              "      let quickchartButtonEl =\n",
              "        document.querySelector('#df-b286c742-3d13-4426-9e01-1fe8fc1a1027 button');\n",
              "      quickchartButtonEl.style.display =\n",
              "        google.colab.kernel.accessAllowed ? 'block' : 'none';\n",
              "    })();\n",
              "  </script>\n",
              "</div>\n",
              "    </div>\n",
              "  </div>\n"
            ],
            "application/vnd.google.colaboratory.intrinsic+json": {
              "type": "dataframe",
              "variable_name": "rent_df"
            }
          },
          "metadata": {},
          "execution_count": 3
        }
      ]
    },
    {
      "cell_type": "code",
      "source": [
        "#The 'All properties' value is not needed, so it will be removed\n",
        "rent_df = rent_df.drop(rent_df[rent_df['Property Type'] == 'All property types'].index)"
      ],
      "metadata": {
        "id": "5jaQicFuvZwr"
      },
      "execution_count": null,
      "outputs": []
    },
    {
      "cell_type": "code",
      "source": [
        "#Now, unnecessary columns will be removed\n",
        "rent_df = rent_df.drop(\"STATISTIC Label\", axis = \"columns\")\n",
        "rent_df = rent_df.drop(\"UNIT\", axis = \"columns\")"
      ],
      "metadata": {
        "id": "sItokGkFvesV"
      },
      "execution_count": null,
      "outputs": []
    },
    {
      "cell_type": "code",
      "source": [
        "#The rows with null values will be removed\n",
        "rent_df.dropna(subset=[\"VALUE\"], inplace=True)"
      ],
      "metadata": {
        "id": "Rr81c9Ujmk1v"
      },
      "execution_count": null,
      "outputs": []
    },
    {
      "cell_type": "markdown",
      "source": [
        "##creating a \"regions\" column"
      ],
      "metadata": {
        "id": "4gOOuuZlvreb"
      }
    },
    {
      "cell_type": "code",
      "source": [
        "#try with * if not working\n",
        "def get_region(county, region):\n",
        "    if county in region[\"Dublin\"]:\n",
        "        return 'Dublin'\n",
        "    if county in region[\"Border\"]:\n",
        "        return 'Border'\n",
        "    elif county in region[\"West\"]:\n",
        "        return 'West'\n",
        "    elif county in region[\"Mid_West\"]:\n",
        "        return 'Mid_West'\n",
        "    elif county in region[\"Mid_East\"]:\n",
        "        return 'Mid_East'\n",
        "    elif county in region[\"South_East\"]:\n",
        "        return 'South_East'\n",
        "    elif county in region[\"South_West\"]:\n",
        "        return 'South_West'\n",
        "    elif county in region[\"Midland\"]:\n",
        "        return \"Midland\"\n",
        "    else:\n",
        "        return None"
      ],
      "metadata": {
        "id": "kjEo32ISvo1k"
      },
      "execution_count": null,
      "outputs": []
    },
    {
      "cell_type": "code",
      "source": [
        "Dublin = [\"Dublin\", \"Dún Laoghaire-Rathdown\", \"South-Dublin\", \"Fingal\"]\n",
        "Border = [\"Cavan\", \"Donegal\", \"Leitrim\", \"Monaghan\", \"Sligo\"]\n",
        "West = [\"Mayo\", \"Roscommon\", \"Galway\"]\n",
        "Mid_West = [\"Clare\", \"Tipperary\", \"Limerick\"]\n",
        "Mid_East = [\"Kildare\", \"Louth\", \"Meath\", \"Wicklow\"]\n",
        "South_East = [\"Carlow\", \"Kilkenny\", \"Wexford\", \"Waterford\"]\n",
        "South_West = [\"Kerry\", \"Cork\"]\n",
        "Midland = [\"Laois\", \"Longford\", \"Offaly\", \"Westmeath\"]"
      ],
      "metadata": {
        "id": "_cfxAuP-v0Cm"
      },
      "execution_count": null,
      "outputs": []
    },
    {
      "cell_type": "code",
      "source": [
        "region = {\"Dublin\": Dublin, \"Border\": Border, \"West\": West, \"Mid_West\": Mid_West, \"Mid_East\": Mid_East, \"South_East\": South_East, \"South_West\": South_West, \"Midland\": Midland}\n",
        "rent_df['region'] = rent_df[\"Location\"].apply(get_region, args=(region,))\n",
        "rent_df.head(10)"
      ],
      "metadata": {
        "colab": {
          "base_uri": "https://localhost:8080/",
          "height": 502
        },
        "id": "6SFhRtBWv2vp",
        "outputId": "33dac312-5e3c-4b3c-f2e1-69193a9489ad"
      },
      "execution_count": null,
      "outputs": [
        {
          "output_type": "execute_result",
          "data": {
            "text/plain": [
              "     Year Number of Bedrooms        Property Type   Location    VALUE  \\\n",
              "20   2008            One bed       Detached house       Cork   556.54   \n",
              "71   2008            One bed       Detached house     Dublin  1031.97   \n",
              "238  2008            One bed       Detached house     Galway   518.02   \n",
              "466  2008            One bed  Semi detached house       Cork   624.69   \n",
              "467  2008            One bed  Semi detached house  Cork City   680.40   \n",
              "517  2008            One bed  Semi detached house     Dublin   855.05   \n",
              "561  2008            One bed  Semi detached house   Dublin 3   745.08   \n",
              "570  2008            One bed  Semi detached house   Dublin 4   911.54   \n",
              "582  2008            One bed  Semi detached house   Dublin 6   801.92   \n",
              "594  2008            One bed  Semi detached house   Dublin 7   642.81   \n",
              "\n",
              "         region  \n",
              "20   South_West  \n",
              "71       Dublin  \n",
              "238        West  \n",
              "466  South_West  \n",
              "467        None  \n",
              "517      Dublin  \n",
              "561        None  \n",
              "570        None  \n",
              "582        None  \n",
              "594        None  "
            ],
            "text/html": [
              "\n",
              "  <div id=\"df-76be3e18-a4d1-487e-9289-bb6a3664169c\" class=\"colab-df-container\">\n",
              "    <div>\n",
              "<style scoped>\n",
              "    .dataframe tbody tr th:only-of-type {\n",
              "        vertical-align: middle;\n",
              "    }\n",
              "\n",
              "    .dataframe tbody tr th {\n",
              "        vertical-align: top;\n",
              "    }\n",
              "\n",
              "    .dataframe thead th {\n",
              "        text-align: right;\n",
              "    }\n",
              "</style>\n",
              "<table border=\"1\" class=\"dataframe\">\n",
              "  <thead>\n",
              "    <tr style=\"text-align: right;\">\n",
              "      <th></th>\n",
              "      <th>Year</th>\n",
              "      <th>Number of Bedrooms</th>\n",
              "      <th>Property Type</th>\n",
              "      <th>Location</th>\n",
              "      <th>VALUE</th>\n",
              "      <th>region</th>\n",
              "    </tr>\n",
              "  </thead>\n",
              "  <tbody>\n",
              "    <tr>\n",
              "      <th>20</th>\n",
              "      <td>2008</td>\n",
              "      <td>One bed</td>\n",
              "      <td>Detached house</td>\n",
              "      <td>Cork</td>\n",
              "      <td>556.54</td>\n",
              "      <td>South_West</td>\n",
              "    </tr>\n",
              "    <tr>\n",
              "      <th>71</th>\n",
              "      <td>2008</td>\n",
              "      <td>One bed</td>\n",
              "      <td>Detached house</td>\n",
              "      <td>Dublin</td>\n",
              "      <td>1031.97</td>\n",
              "      <td>Dublin</td>\n",
              "    </tr>\n",
              "    <tr>\n",
              "      <th>238</th>\n",
              "      <td>2008</td>\n",
              "      <td>One bed</td>\n",
              "      <td>Detached house</td>\n",
              "      <td>Galway</td>\n",
              "      <td>518.02</td>\n",
              "      <td>West</td>\n",
              "    </tr>\n",
              "    <tr>\n",
              "      <th>466</th>\n",
              "      <td>2008</td>\n",
              "      <td>One bed</td>\n",
              "      <td>Semi detached house</td>\n",
              "      <td>Cork</td>\n",
              "      <td>624.69</td>\n",
              "      <td>South_West</td>\n",
              "    </tr>\n",
              "    <tr>\n",
              "      <th>467</th>\n",
              "      <td>2008</td>\n",
              "      <td>One bed</td>\n",
              "      <td>Semi detached house</td>\n",
              "      <td>Cork City</td>\n",
              "      <td>680.40</td>\n",
              "      <td>None</td>\n",
              "    </tr>\n",
              "    <tr>\n",
              "      <th>517</th>\n",
              "      <td>2008</td>\n",
              "      <td>One bed</td>\n",
              "      <td>Semi detached house</td>\n",
              "      <td>Dublin</td>\n",
              "      <td>855.05</td>\n",
              "      <td>Dublin</td>\n",
              "    </tr>\n",
              "    <tr>\n",
              "      <th>561</th>\n",
              "      <td>2008</td>\n",
              "      <td>One bed</td>\n",
              "      <td>Semi detached house</td>\n",
              "      <td>Dublin 3</td>\n",
              "      <td>745.08</td>\n",
              "      <td>None</td>\n",
              "    </tr>\n",
              "    <tr>\n",
              "      <th>570</th>\n",
              "      <td>2008</td>\n",
              "      <td>One bed</td>\n",
              "      <td>Semi detached house</td>\n",
              "      <td>Dublin 4</td>\n",
              "      <td>911.54</td>\n",
              "      <td>None</td>\n",
              "    </tr>\n",
              "    <tr>\n",
              "      <th>582</th>\n",
              "      <td>2008</td>\n",
              "      <td>One bed</td>\n",
              "      <td>Semi detached house</td>\n",
              "      <td>Dublin 6</td>\n",
              "      <td>801.92</td>\n",
              "      <td>None</td>\n",
              "    </tr>\n",
              "    <tr>\n",
              "      <th>594</th>\n",
              "      <td>2008</td>\n",
              "      <td>One bed</td>\n",
              "      <td>Semi detached house</td>\n",
              "      <td>Dublin 7</td>\n",
              "      <td>642.81</td>\n",
              "      <td>None</td>\n",
              "    </tr>\n",
              "  </tbody>\n",
              "</table>\n",
              "</div>\n",
              "    <div class=\"colab-df-buttons\">\n",
              "\n",
              "  <div class=\"colab-df-container\">\n",
              "    <button class=\"colab-df-convert\" onclick=\"convertToInteractive('df-76be3e18-a4d1-487e-9289-bb6a3664169c')\"\n",
              "            title=\"Convert this dataframe to an interactive table.\"\n",
              "            style=\"display:none;\">\n",
              "\n",
              "  <svg xmlns=\"http://www.w3.org/2000/svg\" height=\"24px\" viewBox=\"0 -960 960 960\">\n",
              "    <path d=\"M120-120v-720h720v720H120Zm60-500h600v-160H180v160Zm220 220h160v-160H400v160Zm0 220h160v-160H400v160ZM180-400h160v-160H180v160Zm440 0h160v-160H620v160ZM180-180h160v-160H180v160Zm440 0h160v-160H620v160Z\"/>\n",
              "  </svg>\n",
              "    </button>\n",
              "\n",
              "  <style>\n",
              "    .colab-df-container {\n",
              "      display:flex;\n",
              "      gap: 12px;\n",
              "    }\n",
              "\n",
              "    .colab-df-convert {\n",
              "      background-color: #E8F0FE;\n",
              "      border: none;\n",
              "      border-radius: 50%;\n",
              "      cursor: pointer;\n",
              "      display: none;\n",
              "      fill: #1967D2;\n",
              "      height: 32px;\n",
              "      padding: 0 0 0 0;\n",
              "      width: 32px;\n",
              "    }\n",
              "\n",
              "    .colab-df-convert:hover {\n",
              "      background-color: #E2EBFA;\n",
              "      box-shadow: 0px 1px 2px rgba(60, 64, 67, 0.3), 0px 1px 3px 1px rgba(60, 64, 67, 0.15);\n",
              "      fill: #174EA6;\n",
              "    }\n",
              "\n",
              "    .colab-df-buttons div {\n",
              "      margin-bottom: 4px;\n",
              "    }\n",
              "\n",
              "    [theme=dark] .colab-df-convert {\n",
              "      background-color: #3B4455;\n",
              "      fill: #D2E3FC;\n",
              "    }\n",
              "\n",
              "    [theme=dark] .colab-df-convert:hover {\n",
              "      background-color: #434B5C;\n",
              "      box-shadow: 0px 1px 3px 1px rgba(0, 0, 0, 0.15);\n",
              "      filter: drop-shadow(0px 1px 2px rgba(0, 0, 0, 0.3));\n",
              "      fill: #FFFFFF;\n",
              "    }\n",
              "  </style>\n",
              "\n",
              "    <script>\n",
              "      const buttonEl =\n",
              "        document.querySelector('#df-76be3e18-a4d1-487e-9289-bb6a3664169c button.colab-df-convert');\n",
              "      buttonEl.style.display =\n",
              "        google.colab.kernel.accessAllowed ? 'block' : 'none';\n",
              "\n",
              "      async function convertToInteractive(key) {\n",
              "        const element = document.querySelector('#df-76be3e18-a4d1-487e-9289-bb6a3664169c');\n",
              "        const dataTable =\n",
              "          await google.colab.kernel.invokeFunction('convertToInteractive',\n",
              "                                                    [key], {});\n",
              "        if (!dataTable) return;\n",
              "\n",
              "        const docLinkHtml = 'Like what you see? Visit the ' +\n",
              "          '<a target=\"_blank\" href=https://colab.research.google.com/notebooks/data_table.ipynb>data table notebook</a>'\n",
              "          + ' to learn more about interactive tables.';\n",
              "        element.innerHTML = '';\n",
              "        dataTable['output_type'] = 'display_data';\n",
              "        await google.colab.output.renderOutput(dataTable, element);\n",
              "        const docLink = document.createElement('div');\n",
              "        docLink.innerHTML = docLinkHtml;\n",
              "        element.appendChild(docLink);\n",
              "      }\n",
              "    </script>\n",
              "  </div>\n",
              "\n",
              "\n",
              "<div id=\"df-d7a991fd-cf32-49c1-99b2-6836a788dfb6\">\n",
              "  <button class=\"colab-df-quickchart\" onclick=\"quickchart('df-d7a991fd-cf32-49c1-99b2-6836a788dfb6')\"\n",
              "            title=\"Suggest charts\"\n",
              "            style=\"display:none;\">\n",
              "\n",
              "<svg xmlns=\"http://www.w3.org/2000/svg\" height=\"24px\"viewBox=\"0 0 24 24\"\n",
              "     width=\"24px\">\n",
              "    <g>\n",
              "        <path d=\"M19 3H5c-1.1 0-2 .9-2 2v14c0 1.1.9 2 2 2h14c1.1 0 2-.9 2-2V5c0-1.1-.9-2-2-2zM9 17H7v-7h2v7zm4 0h-2V7h2v10zm4 0h-2v-4h2v4z\"/>\n",
              "    </g>\n",
              "</svg>\n",
              "  </button>\n",
              "\n",
              "<style>\n",
              "  .colab-df-quickchart {\n",
              "      --bg-color: #E8F0FE;\n",
              "      --fill-color: #1967D2;\n",
              "      --hover-bg-color: #E2EBFA;\n",
              "      --hover-fill-color: #174EA6;\n",
              "      --disabled-fill-color: #AAA;\n",
              "      --disabled-bg-color: #DDD;\n",
              "  }\n",
              "\n",
              "  [theme=dark] .colab-df-quickchart {\n",
              "      --bg-color: #3B4455;\n",
              "      --fill-color: #D2E3FC;\n",
              "      --hover-bg-color: #434B5C;\n",
              "      --hover-fill-color: #FFFFFF;\n",
              "      --disabled-bg-color: #3B4455;\n",
              "      --disabled-fill-color: #666;\n",
              "  }\n",
              "\n",
              "  .colab-df-quickchart {\n",
              "    background-color: var(--bg-color);\n",
              "    border: none;\n",
              "    border-radius: 50%;\n",
              "    cursor: pointer;\n",
              "    display: none;\n",
              "    fill: var(--fill-color);\n",
              "    height: 32px;\n",
              "    padding: 0;\n",
              "    width: 32px;\n",
              "  }\n",
              "\n",
              "  .colab-df-quickchart:hover {\n",
              "    background-color: var(--hover-bg-color);\n",
              "    box-shadow: 0 1px 2px rgba(60, 64, 67, 0.3), 0 1px 3px 1px rgba(60, 64, 67, 0.15);\n",
              "    fill: var(--button-hover-fill-color);\n",
              "  }\n",
              "\n",
              "  .colab-df-quickchart-complete:disabled,\n",
              "  .colab-df-quickchart-complete:disabled:hover {\n",
              "    background-color: var(--disabled-bg-color);\n",
              "    fill: var(--disabled-fill-color);\n",
              "    box-shadow: none;\n",
              "  }\n",
              "\n",
              "  .colab-df-spinner {\n",
              "    border: 2px solid var(--fill-color);\n",
              "    border-color: transparent;\n",
              "    border-bottom-color: var(--fill-color);\n",
              "    animation:\n",
              "      spin 1s steps(1) infinite;\n",
              "  }\n",
              "\n",
              "  @keyframes spin {\n",
              "    0% {\n",
              "      border-color: transparent;\n",
              "      border-bottom-color: var(--fill-color);\n",
              "      border-left-color: var(--fill-color);\n",
              "    }\n",
              "    20% {\n",
              "      border-color: transparent;\n",
              "      border-left-color: var(--fill-color);\n",
              "      border-top-color: var(--fill-color);\n",
              "    }\n",
              "    30% {\n",
              "      border-color: transparent;\n",
              "      border-left-color: var(--fill-color);\n",
              "      border-top-color: var(--fill-color);\n",
              "      border-right-color: var(--fill-color);\n",
              "    }\n",
              "    40% {\n",
              "      border-color: transparent;\n",
              "      border-right-color: var(--fill-color);\n",
              "      border-top-color: var(--fill-color);\n",
              "    }\n",
              "    60% {\n",
              "      border-color: transparent;\n",
              "      border-right-color: var(--fill-color);\n",
              "    }\n",
              "    80% {\n",
              "      border-color: transparent;\n",
              "      border-right-color: var(--fill-color);\n",
              "      border-bottom-color: var(--fill-color);\n",
              "    }\n",
              "    90% {\n",
              "      border-color: transparent;\n",
              "      border-bottom-color: var(--fill-color);\n",
              "    }\n",
              "  }\n",
              "</style>\n",
              "\n",
              "  <script>\n",
              "    async function quickchart(key) {\n",
              "      const quickchartButtonEl =\n",
              "        document.querySelector('#' + key + ' button');\n",
              "      quickchartButtonEl.disabled = true;  // To prevent multiple clicks.\n",
              "      quickchartButtonEl.classList.add('colab-df-spinner');\n",
              "      try {\n",
              "        const charts = await google.colab.kernel.invokeFunction(\n",
              "            'suggestCharts', [key], {});\n",
              "      } catch (error) {\n",
              "        console.error('Error during call to suggestCharts:', error);\n",
              "      }\n",
              "      quickchartButtonEl.classList.remove('colab-df-spinner');\n",
              "      quickchartButtonEl.classList.add('colab-df-quickchart-complete');\n",
              "    }\n",
              "    (() => {\n",
              "      let quickchartButtonEl =\n",
              "        document.querySelector('#df-d7a991fd-cf32-49c1-99b2-6836a788dfb6 button');\n",
              "      quickchartButtonEl.style.display =\n",
              "        google.colab.kernel.accessAllowed ? 'block' : 'none';\n",
              "    })();\n",
              "  </script>\n",
              "</div>\n",
              "    </div>\n",
              "  </div>\n"
            ],
            "application/vnd.google.colaboratory.intrinsic+json": {
              "type": "dataframe",
              "variable_name": "rent_df",
              "summary": "{\n  \"name\": \"rent_df\",\n  \"rows\": 48533,\n  \"fields\": [\n    {\n      \"column\": \"Year\",\n      \"properties\": {\n        \"dtype\": \"number\",\n        \"std\": 4,\n        \"min\": 2008,\n        \"max\": 2022,\n        \"num_unique_values\": 15,\n        \"samples\": [\n          2017,\n          2019,\n          2008\n        ],\n        \"semantic_type\": \"\",\n        \"description\": \"\"\n      }\n    },\n    {\n      \"column\": \"Number of Bedrooms\",\n      \"properties\": {\n        \"dtype\": \"category\",\n        \"num_unique_values\": 6,\n        \"samples\": [\n          \"One bed\",\n          \"Two bed\",\n          \"Four plus bed\"\n        ],\n        \"semantic_type\": \"\",\n        \"description\": \"\"\n      }\n    },\n    {\n      \"column\": \"Property Type\",\n      \"properties\": {\n        \"dtype\": \"category\",\n        \"num_unique_values\": 5,\n        \"samples\": [\n          \"Semi detached house\",\n          \"Other flats\",\n          \"Terrace house\"\n        ],\n        \"semantic_type\": \"\",\n        \"description\": \"\"\n      }\n    },\n    {\n      \"column\": \"Location\",\n      \"properties\": {\n        \"dtype\": \"category\",\n        \"num_unique_values\": 420,\n        \"samples\": [\n          \"Portlaoise, Laois\",\n          \"Mountmellick, Laois\",\n          \"Saggart, Dublin\"\n        ],\n        \"semantic_type\": \"\",\n        \"description\": \"\"\n      }\n    },\n    {\n      \"column\": \"VALUE\",\n      \"properties\": {\n        \"dtype\": \"number\",\n        \"std\": 456.2269884267387,\n        \"min\": 233.67,\n        \"max\": 6385.74,\n        \"num_unique_values\": 39952,\n        \"samples\": [\n          616.0,\n          582.1,\n          984.05\n        ],\n        \"semantic_type\": \"\",\n        \"description\": \"\"\n      }\n    },\n    {\n      \"column\": \"region\",\n      \"properties\": {\n        \"dtype\": \"category\",\n        \"num_unique_values\": 8,\n        \"samples\": [\n          \"Dublin\",\n          \"South_East\",\n          \"South_West\"\n        ],\n        \"semantic_type\": \"\",\n        \"description\": \"\"\n      }\n    }\n  ]\n}"
            }
          },
          "metadata": {},
          "execution_count": 9
        }
      ]
    },
    {
      "cell_type": "code",
      "source": [
        "rent_df['region'].unique()"
      ],
      "metadata": {
        "colab": {
          "base_uri": "https://localhost:8080/"
        },
        "id": "N4zbmU3WWA3J",
        "outputId": "d7c892cb-e324-4b98-8cea-20586c419345"
      },
      "execution_count": null,
      "outputs": [
        {
          "output_type": "execute_result",
          "data": {
            "text/plain": [
              "array(['South_West', 'Dublin', 'West', None, 'Mid_East', 'Mid_West',\n",
              "       'South_East', 'Border', 'Midland'], dtype=object)"
            ]
          },
          "metadata": {},
          "execution_count": 10
        }
      ]
    },
    {
      "cell_type": "code",
      "source": [
        "rent_df.rename(columns = {\"VALUE\": \"rent_value\"},\n",
        "          inplace = True)"
      ],
      "metadata": {
        "id": "qusJeCdOv43G"
      },
      "execution_count": null,
      "outputs": []
    },
    {
      "cell_type": "code",
      "source": [
        "#The columns with counties will now be removed because the regions are much better to work with\n",
        "rent_df = rent_df.drop(\"Location\", axis = \"columns\")"
      ],
      "metadata": {
        "id": "X4UcumcBv75y"
      },
      "execution_count": null,
      "outputs": []
    },
    {
      "cell_type": "markdown",
      "source": [
        "##Changing categorical columns to become useful"
      ],
      "metadata": {
        "id": "frxCoC6UwD7n"
      }
    },
    {
      "cell_type": "code",
      "source": [
        "rent_df = rent_df.drop(rent_df[rent_df['Number of Bedrooms'] == '1 to 2 bed'].index)\n",
        "rent_df = rent_df.drop(rent_df[rent_df['Number of Bedrooms'] == '1 to 3 bed'].index)\n",
        "#Lets now assign weights for the number of bedrooms\n",
        "rent_df[\"Number of Bedrooms\"] = rent_df[\"Number of Bedrooms\"].map({\"Four plus bed\": 4,\n",
        "                                                                   \"Three bed\": 3,\n",
        "                                                                   \"Two bed\": 2,\n",
        "                                                                   \"One bed\": 1})"
      ],
      "metadata": {
        "id": "4G0mUyh8v-WW"
      },
      "execution_count": null,
      "outputs": []
    },
    {
      "cell_type": "code",
      "source": [
        "#rent_df = rent_df.join(pd.get_dummies(rent_df[\"Number of Bedrooms\"])).drop([\"Number of Bedrooms\"], axis=1)\n",
        "rent_df = rent_df.join(pd.get_dummies(rent_df[\"Property Type\"])).drop([\"Property Type\"], axis=1)"
      ],
      "metadata": {
        "id": "dU_smNEqwDBd"
      },
      "execution_count": null,
      "outputs": []
    },
    {
      "cell_type": "code",
      "source": [
        "rent_df = rent_df.replace({True: 1, False: 0})"
      ],
      "metadata": {
        "id": "PcLgJIMmmLwM"
      },
      "execution_count": null,
      "outputs": []
    },
    {
      "cell_type": "markdown",
      "source": [
        "#Data Preprocessing - Disposable Income"
      ],
      "metadata": {
        "id": "I252NUZFjYUD"
      }
    },
    {
      "cell_type": "code",
      "source": [
        "#Now, unnecessary columns will be removed\n",
        "d_i_df = d_i_df.drop(\"Statistic Label\", axis = \"columns\")\n",
        "d_i_df = d_i_df.drop(\"UNIT\", axis = \"columns\")"
      ],
      "metadata": {
        "id": "LnLdSl5njZul"
      },
      "execution_count": null,
      "outputs": []
    },
    {
      "cell_type": "code",
      "source": [
        "d_i_df.rename(columns = {\"VALUE\": \"avg_disposable_income\"},\n",
        "          inplace = True)"
      ],
      "metadata": {
        "id": "PX22K1Gujdcr"
      },
      "execution_count": null,
      "outputs": []
    },
    {
      "cell_type": "code",
      "source": [
        "d_i_df.rename(columns = {'NUTS 3 Region':'region'}, inplace = True)"
      ],
      "metadata": {
        "id": "naOJG6o-sLLi"
      },
      "execution_count": null,
      "outputs": []
    },
    {
      "cell_type": "code",
      "source": [
        "d_i_df"
      ],
      "metadata": {
        "colab": {
          "base_uri": "https://localhost:8080/",
          "height": 300
        },
        "id": "6c357rrpr83p",
        "outputId": "f4ba4326-d489-4f25-959a-8280b55b3cff"
      },
      "execution_count": null,
      "outputs": [
        {
          "output_type": "execute_result",
          "data": {
            "text/plain": [
              "   Year      region  avg_disposable_income\n",
              "0  2021      Border                8450.09\n",
              "1  2021     Midland                6699.88\n",
              "2  2021        West               10783.13\n",
              "3  2021      Dublin               39684.85\n",
              "4  2021    Mid-East               17434.03\n",
              "5  2021    Mid-West               11853.13\n",
              "6  2021  South-East                9980.96\n",
              "7  2021  South-West               17448.48"
            ],
            "text/html": [
              "\n",
              "  <div id=\"df-9b4c49cb-1748-476f-be38-8765e91125f5\" class=\"colab-df-container\">\n",
              "    <div>\n",
              "<style scoped>\n",
              "    .dataframe tbody tr th:only-of-type {\n",
              "        vertical-align: middle;\n",
              "    }\n",
              "\n",
              "    .dataframe tbody tr th {\n",
              "        vertical-align: top;\n",
              "    }\n",
              "\n",
              "    .dataframe thead th {\n",
              "        text-align: right;\n",
              "    }\n",
              "</style>\n",
              "<table border=\"1\" class=\"dataframe\">\n",
              "  <thead>\n",
              "    <tr style=\"text-align: right;\">\n",
              "      <th></th>\n",
              "      <th>Year</th>\n",
              "      <th>region</th>\n",
              "      <th>avg_disposable_income</th>\n",
              "    </tr>\n",
              "  </thead>\n",
              "  <tbody>\n",
              "    <tr>\n",
              "      <th>0</th>\n",
              "      <td>2021</td>\n",
              "      <td>Border</td>\n",
              "      <td>8450.09</td>\n",
              "    </tr>\n",
              "    <tr>\n",
              "      <th>1</th>\n",
              "      <td>2021</td>\n",
              "      <td>Midland</td>\n",
              "      <td>6699.88</td>\n",
              "    </tr>\n",
              "    <tr>\n",
              "      <th>2</th>\n",
              "      <td>2021</td>\n",
              "      <td>West</td>\n",
              "      <td>10783.13</td>\n",
              "    </tr>\n",
              "    <tr>\n",
              "      <th>3</th>\n",
              "      <td>2021</td>\n",
              "      <td>Dublin</td>\n",
              "      <td>39684.85</td>\n",
              "    </tr>\n",
              "    <tr>\n",
              "      <th>4</th>\n",
              "      <td>2021</td>\n",
              "      <td>Mid-East</td>\n",
              "      <td>17434.03</td>\n",
              "    </tr>\n",
              "    <tr>\n",
              "      <th>5</th>\n",
              "      <td>2021</td>\n",
              "      <td>Mid-West</td>\n",
              "      <td>11853.13</td>\n",
              "    </tr>\n",
              "    <tr>\n",
              "      <th>6</th>\n",
              "      <td>2021</td>\n",
              "      <td>South-East</td>\n",
              "      <td>9980.96</td>\n",
              "    </tr>\n",
              "    <tr>\n",
              "      <th>7</th>\n",
              "      <td>2021</td>\n",
              "      <td>South-West</td>\n",
              "      <td>17448.48</td>\n",
              "    </tr>\n",
              "  </tbody>\n",
              "</table>\n",
              "</div>\n",
              "    <div class=\"colab-df-buttons\">\n",
              "\n",
              "  <div class=\"colab-df-container\">\n",
              "    <button class=\"colab-df-convert\" onclick=\"convertToInteractive('df-9b4c49cb-1748-476f-be38-8765e91125f5')\"\n",
              "            title=\"Convert this dataframe to an interactive table.\"\n",
              "            style=\"display:none;\">\n",
              "\n",
              "  <svg xmlns=\"http://www.w3.org/2000/svg\" height=\"24px\" viewBox=\"0 -960 960 960\">\n",
              "    <path d=\"M120-120v-720h720v720H120Zm60-500h600v-160H180v160Zm220 220h160v-160H400v160Zm0 220h160v-160H400v160ZM180-400h160v-160H180v160Zm440 0h160v-160H620v160ZM180-180h160v-160H180v160Zm440 0h160v-160H620v160Z\"/>\n",
              "  </svg>\n",
              "    </button>\n",
              "\n",
              "  <style>\n",
              "    .colab-df-container {\n",
              "      display:flex;\n",
              "      gap: 12px;\n",
              "    }\n",
              "\n",
              "    .colab-df-convert {\n",
              "      background-color: #E8F0FE;\n",
              "      border: none;\n",
              "      border-radius: 50%;\n",
              "      cursor: pointer;\n",
              "      display: none;\n",
              "      fill: #1967D2;\n",
              "      height: 32px;\n",
              "      padding: 0 0 0 0;\n",
              "      width: 32px;\n",
              "    }\n",
              "\n",
              "    .colab-df-convert:hover {\n",
              "      background-color: #E2EBFA;\n",
              "      box-shadow: 0px 1px 2px rgba(60, 64, 67, 0.3), 0px 1px 3px 1px rgba(60, 64, 67, 0.15);\n",
              "      fill: #174EA6;\n",
              "    }\n",
              "\n",
              "    .colab-df-buttons div {\n",
              "      margin-bottom: 4px;\n",
              "    }\n",
              "\n",
              "    [theme=dark] .colab-df-convert {\n",
              "      background-color: #3B4455;\n",
              "      fill: #D2E3FC;\n",
              "    }\n",
              "\n",
              "    [theme=dark] .colab-df-convert:hover {\n",
              "      background-color: #434B5C;\n",
              "      box-shadow: 0px 1px 3px 1px rgba(0, 0, 0, 0.15);\n",
              "      filter: drop-shadow(0px 1px 2px rgba(0, 0, 0, 0.3));\n",
              "      fill: #FFFFFF;\n",
              "    }\n",
              "  </style>\n",
              "\n",
              "    <script>\n",
              "      const buttonEl =\n",
              "        document.querySelector('#df-9b4c49cb-1748-476f-be38-8765e91125f5 button.colab-df-convert');\n",
              "      buttonEl.style.display =\n",
              "        google.colab.kernel.accessAllowed ? 'block' : 'none';\n",
              "\n",
              "      async function convertToInteractive(key) {\n",
              "        const element = document.querySelector('#df-9b4c49cb-1748-476f-be38-8765e91125f5');\n",
              "        const dataTable =\n",
              "          await google.colab.kernel.invokeFunction('convertToInteractive',\n",
              "                                                    [key], {});\n",
              "        if (!dataTable) return;\n",
              "\n",
              "        const docLinkHtml = 'Like what you see? Visit the ' +\n",
              "          '<a target=\"_blank\" href=https://colab.research.google.com/notebooks/data_table.ipynb>data table notebook</a>'\n",
              "          + ' to learn more about interactive tables.';\n",
              "        element.innerHTML = '';\n",
              "        dataTable['output_type'] = 'display_data';\n",
              "        await google.colab.output.renderOutput(dataTable, element);\n",
              "        const docLink = document.createElement('div');\n",
              "        docLink.innerHTML = docLinkHtml;\n",
              "        element.appendChild(docLink);\n",
              "      }\n",
              "    </script>\n",
              "  </div>\n",
              "\n",
              "\n",
              "<div id=\"df-afd8d1e5-ff36-439c-a559-c6dc5700eb09\">\n",
              "  <button class=\"colab-df-quickchart\" onclick=\"quickchart('df-afd8d1e5-ff36-439c-a559-c6dc5700eb09')\"\n",
              "            title=\"Suggest charts\"\n",
              "            style=\"display:none;\">\n",
              "\n",
              "<svg xmlns=\"http://www.w3.org/2000/svg\" height=\"24px\"viewBox=\"0 0 24 24\"\n",
              "     width=\"24px\">\n",
              "    <g>\n",
              "        <path d=\"M19 3H5c-1.1 0-2 .9-2 2v14c0 1.1.9 2 2 2h14c1.1 0 2-.9 2-2V5c0-1.1-.9-2-2-2zM9 17H7v-7h2v7zm4 0h-2V7h2v10zm4 0h-2v-4h2v4z\"/>\n",
              "    </g>\n",
              "</svg>\n",
              "  </button>\n",
              "\n",
              "<style>\n",
              "  .colab-df-quickchart {\n",
              "      --bg-color: #E8F0FE;\n",
              "      --fill-color: #1967D2;\n",
              "      --hover-bg-color: #E2EBFA;\n",
              "      --hover-fill-color: #174EA6;\n",
              "      --disabled-fill-color: #AAA;\n",
              "      --disabled-bg-color: #DDD;\n",
              "  }\n",
              "\n",
              "  [theme=dark] .colab-df-quickchart {\n",
              "      --bg-color: #3B4455;\n",
              "      --fill-color: #D2E3FC;\n",
              "      --hover-bg-color: #434B5C;\n",
              "      --hover-fill-color: #FFFFFF;\n",
              "      --disabled-bg-color: #3B4455;\n",
              "      --disabled-fill-color: #666;\n",
              "  }\n",
              "\n",
              "  .colab-df-quickchart {\n",
              "    background-color: var(--bg-color);\n",
              "    border: none;\n",
              "    border-radius: 50%;\n",
              "    cursor: pointer;\n",
              "    display: none;\n",
              "    fill: var(--fill-color);\n",
              "    height: 32px;\n",
              "    padding: 0;\n",
              "    width: 32px;\n",
              "  }\n",
              "\n",
              "  .colab-df-quickchart:hover {\n",
              "    background-color: var(--hover-bg-color);\n",
              "    box-shadow: 0 1px 2px rgba(60, 64, 67, 0.3), 0 1px 3px 1px rgba(60, 64, 67, 0.15);\n",
              "    fill: var(--button-hover-fill-color);\n",
              "  }\n",
              "\n",
              "  .colab-df-quickchart-complete:disabled,\n",
              "  .colab-df-quickchart-complete:disabled:hover {\n",
              "    background-color: var(--disabled-bg-color);\n",
              "    fill: var(--disabled-fill-color);\n",
              "    box-shadow: none;\n",
              "  }\n",
              "\n",
              "  .colab-df-spinner {\n",
              "    border: 2px solid var(--fill-color);\n",
              "    border-color: transparent;\n",
              "    border-bottom-color: var(--fill-color);\n",
              "    animation:\n",
              "      spin 1s steps(1) infinite;\n",
              "  }\n",
              "\n",
              "  @keyframes spin {\n",
              "    0% {\n",
              "      border-color: transparent;\n",
              "      border-bottom-color: var(--fill-color);\n",
              "      border-left-color: var(--fill-color);\n",
              "    }\n",
              "    20% {\n",
              "      border-color: transparent;\n",
              "      border-left-color: var(--fill-color);\n",
              "      border-top-color: var(--fill-color);\n",
              "    }\n",
              "    30% {\n",
              "      border-color: transparent;\n",
              "      border-left-color: var(--fill-color);\n",
              "      border-top-color: var(--fill-color);\n",
              "      border-right-color: var(--fill-color);\n",
              "    }\n",
              "    40% {\n",
              "      border-color: transparent;\n",
              "      border-right-color: var(--fill-color);\n",
              "      border-top-color: var(--fill-color);\n",
              "    }\n",
              "    60% {\n",
              "      border-color: transparent;\n",
              "      border-right-color: var(--fill-color);\n",
              "    }\n",
              "    80% {\n",
              "      border-color: transparent;\n",
              "      border-right-color: var(--fill-color);\n",
              "      border-bottom-color: var(--fill-color);\n",
              "    }\n",
              "    90% {\n",
              "      border-color: transparent;\n",
              "      border-bottom-color: var(--fill-color);\n",
              "    }\n",
              "  }\n",
              "</style>\n",
              "\n",
              "  <script>\n",
              "    async function quickchart(key) {\n",
              "      const quickchartButtonEl =\n",
              "        document.querySelector('#' + key + ' button');\n",
              "      quickchartButtonEl.disabled = true;  // To prevent multiple clicks.\n",
              "      quickchartButtonEl.classList.add('colab-df-spinner');\n",
              "      try {\n",
              "        const charts = await google.colab.kernel.invokeFunction(\n",
              "            'suggestCharts', [key], {});\n",
              "      } catch (error) {\n",
              "        console.error('Error during call to suggestCharts:', error);\n",
              "      }\n",
              "      quickchartButtonEl.classList.remove('colab-df-spinner');\n",
              "      quickchartButtonEl.classList.add('colab-df-quickchart-complete');\n",
              "    }\n",
              "    (() => {\n",
              "      let quickchartButtonEl =\n",
              "        document.querySelector('#df-afd8d1e5-ff36-439c-a559-c6dc5700eb09 button');\n",
              "      quickchartButtonEl.style.display =\n",
              "        google.colab.kernel.accessAllowed ? 'block' : 'none';\n",
              "    })();\n",
              "  </script>\n",
              "</div>\n",
              "    </div>\n",
              "  </div>\n"
            ],
            "application/vnd.google.colaboratory.intrinsic+json": {
              "type": "dataframe",
              "variable_name": "d_i_df",
              "summary": "{\n  \"name\": \"d_i_df\",\n  \"rows\": 8,\n  \"fields\": [\n    {\n      \"column\": \"Year\",\n      \"properties\": {\n        \"dtype\": \"number\",\n        \"std\": 0,\n        \"min\": 2021,\n        \"max\": 2021,\n        \"num_unique_values\": 1,\n        \"samples\": [\n          2021\n        ],\n        \"semantic_type\": \"\",\n        \"description\": \"\"\n      }\n    },\n    {\n      \"column\": \"region\",\n      \"properties\": {\n        \"dtype\": \"string\",\n        \"num_unique_values\": 8,\n        \"samples\": [\n          \"Midland\"\n        ],\n        \"semantic_type\": \"\",\n        \"description\": \"\"\n      }\n    },\n    {\n      \"column\": \"avg_disposable_income\",\n      \"properties\": {\n        \"dtype\": \"number\",\n        \"std\": 10591.431640373185,\n        \"min\": 6699.88,\n        \"max\": 39684.85,\n        \"num_unique_values\": 8,\n        \"samples\": [\n          6699.88\n        ],\n        \"semantic_type\": \"\",\n        \"description\": \"\"\n      }\n    }\n  ]\n}"
            }
          },
          "metadata": {},
          "execution_count": 19
        }
      ]
    },
    {
      "cell_type": "code",
      "source": [
        "d_i_df['region'].replace('Mid-East', 'Mid_East', inplace=True)\n",
        "d_i_df['region'].replace('Mid-West', 'Mid_West', inplace=True)\n",
        "d_i_df['region'].replace('South-East', 'South_East', inplace=True)\n",
        "d_i_df['region'].replace('South-West', 'South_West', inplace=True)"
      ],
      "metadata": {
        "id": "lsnNb608Wjzf"
      },
      "execution_count": null,
      "outputs": []
    },
    {
      "cell_type": "markdown",
      "source": [
        "#Data Preprocessing - House Purchases"
      ],
      "metadata": {
        "id": "N6WxYBgbj2_E"
      }
    },
    {
      "cell_type": "code",
      "source": [
        "h_p_df = h_p_df.drop(\"Statistic Label\", axis = \"columns\")\n",
        "h_p_df = h_p_df.drop(\"UNIT\", axis = \"columns\")"
      ],
      "metadata": {
        "id": "mkhdpI61j3oV"
      },
      "execution_count": null,
      "outputs": []
    },
    {
      "cell_type": "code",
      "source": [
        "#removing the letters from the month column to make it a year column\n",
        "h_p_df['Month'] = h_p_df['Month'].str.replace('\\D', '', regex=True)"
      ],
      "metadata": {
        "id": "kf-szcyFj6RD"
      },
      "execution_count": null,
      "outputs": []
    },
    {
      "cell_type": "code",
      "source": [
        "h_p_df.rename(columns = {\"Month\": \"Year\"},\n",
        "          inplace = True)"
      ],
      "metadata": {
        "id": "XB8_Fb_Mj7jk"
      },
      "execution_count": null,
      "outputs": []
    },
    {
      "cell_type": "code",
      "source": [
        "h_p_df.rename(columns = {\"VALUE\": \"house_purchase_price\"},\n",
        "          inplace = True)"
      ],
      "metadata": {
        "id": "9COsUAe_j8rD"
      },
      "execution_count": null,
      "outputs": []
    },
    {
      "cell_type": "code",
      "source": [
        "h_p_df.rename(columns = {\"RPPI Region\": \"County\"},\n",
        "          inplace = True)"
      ],
      "metadata": {
        "id": "6s8BGlmLkAN7"
      },
      "execution_count": null,
      "outputs": []
    },
    {
      "cell_type": "code",
      "source": [
        "h_p_df['Year'] = h_p_df['Year'].astype('int')"
      ],
      "metadata": {
        "id": "SWTHEbSlkBKD"
      },
      "execution_count": null,
      "outputs": []
    },
    {
      "cell_type": "markdown",
      "source": [
        "##creating a \"regions\" column"
      ],
      "metadata": {
        "id": "bnfhNCdZkGPV"
      }
    },
    {
      "cell_type": "code",
      "source": [
        "#The dataset has counties as well as regions\n",
        "#The regions will be removed because the counties differ from my created regions\n",
        "h_p_df = h_p_df.drop(h_p_df[h_p_df['County'] == 'Border Excluding Louth'].index)\n",
        "h_p_df = h_p_df.drop(h_p_df[h_p_df['County'] == 'South-East excluding South Tipperary'].index)\n",
        "h_p_df = h_p_df.drop(h_p_df[h_p_df['County'] == 'West'].index)\n",
        "h_p_df = h_p_df.drop(h_p_df[h_p_df['County'] == 'Mid-East including Louth'].index)\n",
        "h_p_df = h_p_df.drop(h_p_df[h_p_df['County'] == 'Mid-West including South Tipperary'].index)\n",
        "h_p_df = h_p_df.drop(h_p_df[h_p_df['County'] == 'South-East excluding South Tipperary'].index)\n",
        "h_p_df = h_p_df.drop(h_p_df[h_p_df['County'] == 'South-West'].index)\n",
        "h_p_df = h_p_df.drop(h_p_df[h_p_df['County'] == 'Midland'].index)"
      ],
      "metadata": {
        "id": "1wlBGr6ukGvd"
      },
      "execution_count": null,
      "outputs": []
    },
    {
      "cell_type": "code",
      "source": [
        "h_p_df[\"County\"] = h_p_df[\"County\"].str.replace(' City', '')\n",
        "h_p_df[\"County\"] = h_p_df[\"County\"].str.replace(' County', '')"
      ],
      "metadata": {
        "id": "zSEoVqWDkRAL"
      },
      "execution_count": null,
      "outputs": []
    },
    {
      "cell_type": "code",
      "source": [
        "region = {\"Dublin\": Dublin, \"Border\": Border, \"West\": West, \"Mid_West\": Mid_West, \"Mid_East\": Mid_East, \"South_East\": South_East, \"South_West\": South_West, \"Midland\": Midland}\n",
        "h_p_df['region'] = h_p_df[\"County\"].apply(get_region, args=(region,))\n",
        "h_p_df.head(10)"
      ],
      "metadata": {
        "colab": {
          "base_uri": "https://localhost:8080/",
          "height": 418
        },
        "id": "9_IqcP9fkSRq",
        "outputId": "e1d591c4-4c3b-40a0-a451-04f3ea1c2109"
      },
      "execution_count": null,
      "outputs": [
        {
          "output_type": "execute_result",
          "data": {
            "text/plain": [
              "    Year Type of Dwelling Dwelling Status Stamp Duty Event     County  \\\n",
              "1   2010        Apartment             New          Filings      Cavan   \n",
              "2   2010        Apartment             New          Filings    Donegal   \n",
              "3   2010        Apartment             New          Filings    Leitrim   \n",
              "4   2010        Apartment             New          Filings   Monaghan   \n",
              "5   2010        Apartment             New          Filings      Sligo   \n",
              "7   2010        Apartment             New          Filings      Laois   \n",
              "8   2010        Apartment             New          Filings   Longford   \n",
              "9   2010        Apartment             New          Filings     Offaly   \n",
              "10  2010        Apartment             New          Filings  Westmeath   \n",
              "12  2010        Apartment             New          Filings     Galway   \n",
              "\n",
              "    house_purchase_price   region  \n",
              "1                    NaN   Border  \n",
              "2                    NaN   Border  \n",
              "3                    NaN   Border  \n",
              "4                    NaN   Border  \n",
              "5               170250.0   Border  \n",
              "7               199995.0  Midland  \n",
              "8                    NaN  Midland  \n",
              "9                    NaN  Midland  \n",
              "10              256061.0  Midland  \n",
              "12              490000.0     West  "
            ],
            "text/html": [
              "\n",
              "  <div id=\"df-012bf187-78e3-489b-9e4f-ac8a27289208\" class=\"colab-df-container\">\n",
              "    <div>\n",
              "<style scoped>\n",
              "    .dataframe tbody tr th:only-of-type {\n",
              "        vertical-align: middle;\n",
              "    }\n",
              "\n",
              "    .dataframe tbody tr th {\n",
              "        vertical-align: top;\n",
              "    }\n",
              "\n",
              "    .dataframe thead th {\n",
              "        text-align: right;\n",
              "    }\n",
              "</style>\n",
              "<table border=\"1\" class=\"dataframe\">\n",
              "  <thead>\n",
              "    <tr style=\"text-align: right;\">\n",
              "      <th></th>\n",
              "      <th>Year</th>\n",
              "      <th>Type of Dwelling</th>\n",
              "      <th>Dwelling Status</th>\n",
              "      <th>Stamp Duty Event</th>\n",
              "      <th>County</th>\n",
              "      <th>house_purchase_price</th>\n",
              "      <th>region</th>\n",
              "    </tr>\n",
              "  </thead>\n",
              "  <tbody>\n",
              "    <tr>\n",
              "      <th>1</th>\n",
              "      <td>2010</td>\n",
              "      <td>Apartment</td>\n",
              "      <td>New</td>\n",
              "      <td>Filings</td>\n",
              "      <td>Cavan</td>\n",
              "      <td>NaN</td>\n",
              "      <td>Border</td>\n",
              "    </tr>\n",
              "    <tr>\n",
              "      <th>2</th>\n",
              "      <td>2010</td>\n",
              "      <td>Apartment</td>\n",
              "      <td>New</td>\n",
              "      <td>Filings</td>\n",
              "      <td>Donegal</td>\n",
              "      <td>NaN</td>\n",
              "      <td>Border</td>\n",
              "    </tr>\n",
              "    <tr>\n",
              "      <th>3</th>\n",
              "      <td>2010</td>\n",
              "      <td>Apartment</td>\n",
              "      <td>New</td>\n",
              "      <td>Filings</td>\n",
              "      <td>Leitrim</td>\n",
              "      <td>NaN</td>\n",
              "      <td>Border</td>\n",
              "    </tr>\n",
              "    <tr>\n",
              "      <th>4</th>\n",
              "      <td>2010</td>\n",
              "      <td>Apartment</td>\n",
              "      <td>New</td>\n",
              "      <td>Filings</td>\n",
              "      <td>Monaghan</td>\n",
              "      <td>NaN</td>\n",
              "      <td>Border</td>\n",
              "    </tr>\n",
              "    <tr>\n",
              "      <th>5</th>\n",
              "      <td>2010</td>\n",
              "      <td>Apartment</td>\n",
              "      <td>New</td>\n",
              "      <td>Filings</td>\n",
              "      <td>Sligo</td>\n",
              "      <td>170250.0</td>\n",
              "      <td>Border</td>\n",
              "    </tr>\n",
              "    <tr>\n",
              "      <th>7</th>\n",
              "      <td>2010</td>\n",
              "      <td>Apartment</td>\n",
              "      <td>New</td>\n",
              "      <td>Filings</td>\n",
              "      <td>Laois</td>\n",
              "      <td>199995.0</td>\n",
              "      <td>Midland</td>\n",
              "    </tr>\n",
              "    <tr>\n",
              "      <th>8</th>\n",
              "      <td>2010</td>\n",
              "      <td>Apartment</td>\n",
              "      <td>New</td>\n",
              "      <td>Filings</td>\n",
              "      <td>Longford</td>\n",
              "      <td>NaN</td>\n",
              "      <td>Midland</td>\n",
              "    </tr>\n",
              "    <tr>\n",
              "      <th>9</th>\n",
              "      <td>2010</td>\n",
              "      <td>Apartment</td>\n",
              "      <td>New</td>\n",
              "      <td>Filings</td>\n",
              "      <td>Offaly</td>\n",
              "      <td>NaN</td>\n",
              "      <td>Midland</td>\n",
              "    </tr>\n",
              "    <tr>\n",
              "      <th>10</th>\n",
              "      <td>2010</td>\n",
              "      <td>Apartment</td>\n",
              "      <td>New</td>\n",
              "      <td>Filings</td>\n",
              "      <td>Westmeath</td>\n",
              "      <td>256061.0</td>\n",
              "      <td>Midland</td>\n",
              "    </tr>\n",
              "    <tr>\n",
              "      <th>12</th>\n",
              "      <td>2010</td>\n",
              "      <td>Apartment</td>\n",
              "      <td>New</td>\n",
              "      <td>Filings</td>\n",
              "      <td>Galway</td>\n",
              "      <td>490000.0</td>\n",
              "      <td>West</td>\n",
              "    </tr>\n",
              "  </tbody>\n",
              "</table>\n",
              "</div>\n",
              "    <div class=\"colab-df-buttons\">\n",
              "\n",
              "  <div class=\"colab-df-container\">\n",
              "    <button class=\"colab-df-convert\" onclick=\"convertToInteractive('df-012bf187-78e3-489b-9e4f-ac8a27289208')\"\n",
              "            title=\"Convert this dataframe to an interactive table.\"\n",
              "            style=\"display:none;\">\n",
              "\n",
              "  <svg xmlns=\"http://www.w3.org/2000/svg\" height=\"24px\" viewBox=\"0 -960 960 960\">\n",
              "    <path d=\"M120-120v-720h720v720H120Zm60-500h600v-160H180v160Zm220 220h160v-160H400v160Zm0 220h160v-160H400v160ZM180-400h160v-160H180v160Zm440 0h160v-160H620v160ZM180-180h160v-160H180v160Zm440 0h160v-160H620v160Z\"/>\n",
              "  </svg>\n",
              "    </button>\n",
              "\n",
              "  <style>\n",
              "    .colab-df-container {\n",
              "      display:flex;\n",
              "      gap: 12px;\n",
              "    }\n",
              "\n",
              "    .colab-df-convert {\n",
              "      background-color: #E8F0FE;\n",
              "      border: none;\n",
              "      border-radius: 50%;\n",
              "      cursor: pointer;\n",
              "      display: none;\n",
              "      fill: #1967D2;\n",
              "      height: 32px;\n",
              "      padding: 0 0 0 0;\n",
              "      width: 32px;\n",
              "    }\n",
              "\n",
              "    .colab-df-convert:hover {\n",
              "      background-color: #E2EBFA;\n",
              "      box-shadow: 0px 1px 2px rgba(60, 64, 67, 0.3), 0px 1px 3px 1px rgba(60, 64, 67, 0.15);\n",
              "      fill: #174EA6;\n",
              "    }\n",
              "\n",
              "    .colab-df-buttons div {\n",
              "      margin-bottom: 4px;\n",
              "    }\n",
              "\n",
              "    [theme=dark] .colab-df-convert {\n",
              "      background-color: #3B4455;\n",
              "      fill: #D2E3FC;\n",
              "    }\n",
              "\n",
              "    [theme=dark] .colab-df-convert:hover {\n",
              "      background-color: #434B5C;\n",
              "      box-shadow: 0px 1px 3px 1px rgba(0, 0, 0, 0.15);\n",
              "      filter: drop-shadow(0px 1px 2px rgba(0, 0, 0, 0.3));\n",
              "      fill: #FFFFFF;\n",
              "    }\n",
              "  </style>\n",
              "\n",
              "    <script>\n",
              "      const buttonEl =\n",
              "        document.querySelector('#df-012bf187-78e3-489b-9e4f-ac8a27289208 button.colab-df-convert');\n",
              "      buttonEl.style.display =\n",
              "        google.colab.kernel.accessAllowed ? 'block' : 'none';\n",
              "\n",
              "      async function convertToInteractive(key) {\n",
              "        const element = document.querySelector('#df-012bf187-78e3-489b-9e4f-ac8a27289208');\n",
              "        const dataTable =\n",
              "          await google.colab.kernel.invokeFunction('convertToInteractive',\n",
              "                                                    [key], {});\n",
              "        if (!dataTable) return;\n",
              "\n",
              "        const docLinkHtml = 'Like what you see? Visit the ' +\n",
              "          '<a target=\"_blank\" href=https://colab.research.google.com/notebooks/data_table.ipynb>data table notebook</a>'\n",
              "          + ' to learn more about interactive tables.';\n",
              "        element.innerHTML = '';\n",
              "        dataTable['output_type'] = 'display_data';\n",
              "        await google.colab.output.renderOutput(dataTable, element);\n",
              "        const docLink = document.createElement('div');\n",
              "        docLink.innerHTML = docLinkHtml;\n",
              "        element.appendChild(docLink);\n",
              "      }\n",
              "    </script>\n",
              "  </div>\n",
              "\n",
              "\n",
              "<div id=\"df-c90d0715-753f-458f-8591-59a5983122f8\">\n",
              "  <button class=\"colab-df-quickchart\" onclick=\"quickchart('df-c90d0715-753f-458f-8591-59a5983122f8')\"\n",
              "            title=\"Suggest charts\"\n",
              "            style=\"display:none;\">\n",
              "\n",
              "<svg xmlns=\"http://www.w3.org/2000/svg\" height=\"24px\"viewBox=\"0 0 24 24\"\n",
              "     width=\"24px\">\n",
              "    <g>\n",
              "        <path d=\"M19 3H5c-1.1 0-2 .9-2 2v14c0 1.1.9 2 2 2h14c1.1 0 2-.9 2-2V5c0-1.1-.9-2-2-2zM9 17H7v-7h2v7zm4 0h-2V7h2v10zm4 0h-2v-4h2v4z\"/>\n",
              "    </g>\n",
              "</svg>\n",
              "  </button>\n",
              "\n",
              "<style>\n",
              "  .colab-df-quickchart {\n",
              "      --bg-color: #E8F0FE;\n",
              "      --fill-color: #1967D2;\n",
              "      --hover-bg-color: #E2EBFA;\n",
              "      --hover-fill-color: #174EA6;\n",
              "      --disabled-fill-color: #AAA;\n",
              "      --disabled-bg-color: #DDD;\n",
              "  }\n",
              "\n",
              "  [theme=dark] .colab-df-quickchart {\n",
              "      --bg-color: #3B4455;\n",
              "      --fill-color: #D2E3FC;\n",
              "      --hover-bg-color: #434B5C;\n",
              "      --hover-fill-color: #FFFFFF;\n",
              "      --disabled-bg-color: #3B4455;\n",
              "      --disabled-fill-color: #666;\n",
              "  }\n",
              "\n",
              "  .colab-df-quickchart {\n",
              "    background-color: var(--bg-color);\n",
              "    border: none;\n",
              "    border-radius: 50%;\n",
              "    cursor: pointer;\n",
              "    display: none;\n",
              "    fill: var(--fill-color);\n",
              "    height: 32px;\n",
              "    padding: 0;\n",
              "    width: 32px;\n",
              "  }\n",
              "\n",
              "  .colab-df-quickchart:hover {\n",
              "    background-color: var(--hover-bg-color);\n",
              "    box-shadow: 0 1px 2px rgba(60, 64, 67, 0.3), 0 1px 3px 1px rgba(60, 64, 67, 0.15);\n",
              "    fill: var(--button-hover-fill-color);\n",
              "  }\n",
              "\n",
              "  .colab-df-quickchart-complete:disabled,\n",
              "  .colab-df-quickchart-complete:disabled:hover {\n",
              "    background-color: var(--disabled-bg-color);\n",
              "    fill: var(--disabled-fill-color);\n",
              "    box-shadow: none;\n",
              "  }\n",
              "\n",
              "  .colab-df-spinner {\n",
              "    border: 2px solid var(--fill-color);\n",
              "    border-color: transparent;\n",
              "    border-bottom-color: var(--fill-color);\n",
              "    animation:\n",
              "      spin 1s steps(1) infinite;\n",
              "  }\n",
              "\n",
              "  @keyframes spin {\n",
              "    0% {\n",
              "      border-color: transparent;\n",
              "      border-bottom-color: var(--fill-color);\n",
              "      border-left-color: var(--fill-color);\n",
              "    }\n",
              "    20% {\n",
              "      border-color: transparent;\n",
              "      border-left-color: var(--fill-color);\n",
              "      border-top-color: var(--fill-color);\n",
              "    }\n",
              "    30% {\n",
              "      border-color: transparent;\n",
              "      border-left-color: var(--fill-color);\n",
              "      border-top-color: var(--fill-color);\n",
              "      border-right-color: var(--fill-color);\n",
              "    }\n",
              "    40% {\n",
              "      border-color: transparent;\n",
              "      border-right-color: var(--fill-color);\n",
              "      border-top-color: var(--fill-color);\n",
              "    }\n",
              "    60% {\n",
              "      border-color: transparent;\n",
              "      border-right-color: var(--fill-color);\n",
              "    }\n",
              "    80% {\n",
              "      border-color: transparent;\n",
              "      border-right-color: var(--fill-color);\n",
              "      border-bottom-color: var(--fill-color);\n",
              "    }\n",
              "    90% {\n",
              "      border-color: transparent;\n",
              "      border-bottom-color: var(--fill-color);\n",
              "    }\n",
              "  }\n",
              "</style>\n",
              "\n",
              "  <script>\n",
              "    async function quickchart(key) {\n",
              "      const quickchartButtonEl =\n",
              "        document.querySelector('#' + key + ' button');\n",
              "      quickchartButtonEl.disabled = true;  // To prevent multiple clicks.\n",
              "      quickchartButtonEl.classList.add('colab-df-spinner');\n",
              "      try {\n",
              "        const charts = await google.colab.kernel.invokeFunction(\n",
              "            'suggestCharts', [key], {});\n",
              "      } catch (error) {\n",
              "        console.error('Error during call to suggestCharts:', error);\n",
              "      }\n",
              "      quickchartButtonEl.classList.remove('colab-df-spinner');\n",
              "      quickchartButtonEl.classList.add('colab-df-quickchart-complete');\n",
              "    }\n",
              "    (() => {\n",
              "      let quickchartButtonEl =\n",
              "        document.querySelector('#df-c90d0715-753f-458f-8591-59a5983122f8 button');\n",
              "      quickchartButtonEl.style.display =\n",
              "        google.colab.kernel.accessAllowed ? 'block' : 'none';\n",
              "    })();\n",
              "  </script>\n",
              "</div>\n",
              "    </div>\n",
              "  </div>\n"
            ],
            "application/vnd.google.colaboratory.intrinsic+json": {
              "type": "dataframe",
              "variable_name": "h_p_df",
              "summary": "{\n  \"name\": \"h_p_df\",\n  \"rows\": 42432,\n  \"fields\": [\n    {\n      \"column\": \"Year\",\n      \"properties\": {\n        \"dtype\": \"number\",\n        \"std\": 3,\n        \"min\": 2010,\n        \"max\": 2022,\n        \"num_unique_values\": 13,\n        \"samples\": [\n          2021,\n          2019,\n          2010\n        ],\n        \"semantic_type\": \"\",\n        \"description\": \"\"\n      }\n    },\n    {\n      \"column\": \"Type of Dwelling\",\n      \"properties\": {\n        \"dtype\": \"category\",\n        \"num_unique_values\": 2,\n        \"samples\": [\n          \"House\",\n          \"Apartment\"\n        ],\n        \"semantic_type\": \"\",\n        \"description\": \"\"\n      }\n    },\n    {\n      \"column\": \"Dwelling Status\",\n      \"properties\": {\n        \"dtype\": \"category\",\n        \"num_unique_values\": 2,\n        \"samples\": [\n          \"Existing\",\n          \"New\"\n        ],\n        \"semantic_type\": \"\",\n        \"description\": \"\"\n      }\n    },\n    {\n      \"column\": \"Stamp Duty Event\",\n      \"properties\": {\n        \"dtype\": \"category\",\n        \"num_unique_values\": 2,\n        \"samples\": [\n          \"Executions\",\n          \"Filings\"\n        ],\n        \"semantic_type\": \"\",\n        \"description\": \"\"\n      }\n    },\n    {\n      \"column\": \"County\",\n      \"properties\": {\n        \"dtype\": \"category\",\n        \"num_unique_values\": 29,\n        \"samples\": [\n          \"Cork\",\n          \"Kildare\"\n        ],\n        \"semantic_type\": \"\",\n        \"description\": \"\"\n      }\n    },\n    {\n      \"column\": \"house_purchase_price\",\n      \"properties\": {\n        \"dtype\": \"number\",\n        \"std\": 137957.4393254437,\n        \"min\": 8513.0,\n        \"max\": 2326750.0,\n        \"num_unique_values\": 27200,\n        \"samples\": [\n          148087.0,\n          291317.0\n        ],\n        \"semantic_type\": \"\",\n        \"description\": \"\"\n      }\n    },\n    {\n      \"column\": \"region\",\n      \"properties\": {\n        \"dtype\": \"category\",\n        \"num_unique_values\": 8,\n        \"samples\": [\n          \"Midland\",\n          \"Mid_West\"\n        ],\n        \"semantic_type\": \"\",\n        \"description\": \"\"\n      }\n    }\n  ]\n}"
            }
          },
          "metadata": {},
          "execution_count": 29
        }
      ]
    },
    {
      "cell_type": "code",
      "source": [
        "h_p_df['region'].unique()"
      ],
      "metadata": {
        "colab": {
          "base_uri": "https://localhost:8080/"
        },
        "id": "7Da49PpQVe42",
        "outputId": "3d2f42f5-a3bf-4a84-b562-7ee23f23241a"
      },
      "execution_count": null,
      "outputs": [
        {
          "output_type": "execute_result",
          "data": {
            "text/plain": [
              "array(['Border', 'Midland', 'West', 'Dublin', None, 'Mid_East',\n",
              "       'Mid_West', 'South_East', 'South_West'], dtype=object)"
            ]
          },
          "metadata": {},
          "execution_count": 30
        }
      ]
    },
    {
      "cell_type": "code",
      "source": [
        "#The columns with counties will now be removed because the regions are much better to work with\n",
        "h_p_df = h_p_df.drop(\"County\", axis = \"columns\")"
      ],
      "metadata": {
        "id": "zYWrNOYYkUs7"
      },
      "execution_count": null,
      "outputs": []
    },
    {
      "cell_type": "code",
      "source": [
        "#The rows with null values will be removed\n",
        "h_p_df.dropna(subset=[\"house_purchase_price\"], inplace=True)\n",
        "h_p_df.dropna(subset=[\"region\"], inplace=True)"
      ],
      "metadata": {
        "id": "7zjitGxOkXXf"
      },
      "execution_count": null,
      "outputs": []
    },
    {
      "cell_type": "markdown",
      "source": [
        "#Data Preprocessing - Crime df"
      ],
      "metadata": {
        "id": "yTI8YVI6kWfd"
      }
    },
    {
      "cell_type": "code",
      "source": [
        "year = []\n",
        "for i in crime_df['Quarter']:\n",
        "  year.append(i[:4])"
      ],
      "metadata": {
        "id": "7Bomt8UJp7_o"
      },
      "execution_count": null,
      "outputs": []
    },
    {
      "cell_type": "code",
      "source": [
        "crime_df['Year'] = year"
      ],
      "metadata": {
        "id": "wPbtQ9PUp9Vv"
      },
      "execution_count": null,
      "outputs": []
    },
    {
      "cell_type": "code",
      "source": [
        "crime_df.rename(columns = {'VALUE':'Number_of_Crimes'}, inplace = True)"
      ],
      "metadata": {
        "id": "5GWFhAouqAfY"
      },
      "execution_count": null,
      "outputs": []
    },
    {
      "cell_type": "markdown",
      "source": [
        "##creating a \"regions\" column"
      ],
      "metadata": {
        "id": "ke-rHHQSqF2B"
      }
    },
    {
      "cell_type": "code",
      "source": [
        "Dublin = [\"D.M.R. South Central Garda Division\", \"D.M.R. North Central Garda Division\", \"D.M.R. Northern Garda Division\", \"D.M.R. Southern Garda Division\", \"D.M.R. Eastern Garda Division\", \"D.M.R. Western Garda Division\"]\n",
        "Border = [\"Cavan/Monaghan Garda Division\", \"Donegal Garda Division\", \"Sligo/Leitrim Garda Division\"]\n",
        "West = [\"Mayo Garda Division\", \"Roscommon/Longford Garda Division\", \"Galway Garda Division\"]\n",
        "Mid_West = [\"Clare Garda Division\", \"Tipperary Garda Division\", \"Limerick Garda Division\"]\n",
        "Mid_East = [\"Kildare Garda Division\", \"Louth Garda Division\", \"Meath Garda Division\", \"Wicklow Garda Division\"]\n",
        "South_East = [\"Kilkenny/Carlow Garda Division\", \"Wexford Garda Division\", \"Waterford Garda Division\"]\n",
        "South_West = [\"Kerry Garda Division\", \"Cork City Garda Division\", \"Cork West Garda Division\"]\n",
        "Midland = [\"Laois/Offaly Garda Division\", \"Westmeath Garda Division\"]"
      ],
      "metadata": {
        "id": "rHGrUo97qFah"
      },
      "execution_count": null,
      "outputs": []
    },
    {
      "cell_type": "code",
      "source": [
        "region = {\"Dublin\": Dublin, \"Border\": Border, \"West\": West, \"Mid_West\": Mid_West, \"Mid_East\": Mid_East, \"South_East\": South_East, \"South_West\": South_West, \"Midland\": Midland}\n",
        "crime_df['region'] = crime_df[\"Garda Division\"].apply(get_region, args=(region,))"
      ],
      "metadata": {
        "id": "G1C6rVPHqCg_"
      },
      "execution_count": null,
      "outputs": []
    },
    {
      "cell_type": "markdown",
      "source": [
        "##Adding all crimes of each type for each region"
      ],
      "metadata": {
        "id": "0ujryB3sqP0Z"
      }
    },
    {
      "cell_type": "code",
      "source": [
        "crime_df_2 = crime_df.groupby([\"Type of Offence\", \"Year\", \"region\"])[\"Number_of_Crimes\"].sum().reset_index()"
      ],
      "metadata": {
        "id": "A5sek5KyqQUJ"
      },
      "execution_count": null,
      "outputs": []
    },
    {
      "cell_type": "markdown",
      "source": [
        "**Crimes of lower severity are removed**"
      ],
      "metadata": {
        "id": "Sc8jXWOZqWXy"
      }
    },
    {
      "cell_type": "code",
      "source": [
        "crime_df_2 = crime_df_2.drop(crime_df_2[crime_df_2['Type of Offence'] == 'Litter offences'].index)\n",
        "crime_df_2 = crime_df_2.drop(crime_df_2[crime_df_2['Type of Offence'] == 'False alarm/interference with aircraft or air transport facilities'].index)\n",
        "crime_df_2 = crime_df_2.drop(crime_df_2[crime_df_2['Type of Offence'] == 'Disorderly conduct'].index)"
      ],
      "metadata": {
        "id": "JpJT_ZIOqYIa"
      },
      "execution_count": null,
      "outputs": []
    },
    {
      "cell_type": "code",
      "source": [
        "crime_df_2 = crime_df_2.drop(['Type of Offence'], axis=1)"
      ],
      "metadata": {
        "id": "thhuzVWyqaNY"
      },
      "execution_count": null,
      "outputs": []
    },
    {
      "cell_type": "markdown",
      "source": [
        "#Merging the dataframes into 1 dataframe"
      ],
      "metadata": {
        "id": "FysQGFF7rE8Y"
      }
    },
    {
      "cell_type": "markdown",
      "source": [
        "##Data preprocessing - combined df"
      ],
      "metadata": {
        "id": "rPwbkoBSrHBX"
      }
    },
    {
      "cell_type": "code",
      "source": [
        "cb_df = pd.merge(rent_df, d_i_df, on= ['Year', \"region\"])\n",
        "cb_df = pd.merge(cb_df, h_p_df, on= ['Year', \"region\"])"
      ],
      "metadata": {
        "id": "LH0btYE9rEnl"
      },
      "execution_count": null,
      "outputs": []
    },
    {
      "cell_type": "code",
      "source": [
        "crime_df_2 = crime_df.groupby([\"Year\", \"region\"])[\"Number_of_Crimes\"].sum().reset_index()"
      ],
      "metadata": {
        "id": "WBwoIBtvkH_x"
      },
      "execution_count": null,
      "outputs": []
    },
    {
      "cell_type": "code",
      "source": [
        "cb_df['Year'].dtypes"
      ],
      "metadata": {
        "colab": {
          "base_uri": "https://localhost:8080/"
        },
        "id": "DPU03SYmrLzK",
        "outputId": "30358c36-79e9-4e34-88cf-e1280ae5c783"
      },
      "execution_count": null,
      "outputs": [
        {
          "output_type": "execute_result",
          "data": {
            "text/plain": [
              "dtype('int64')"
            ]
          },
          "metadata": {},
          "execution_count": 43
        }
      ]
    },
    {
      "cell_type": "code",
      "source": [
        "crime_df_2['Year'].dtypes"
      ],
      "metadata": {
        "colab": {
          "base_uri": "https://localhost:8080/"
        },
        "id": "va-7x7arrOHJ",
        "outputId": "cf3e0686-ad10-4f17-81de-c44abf5df8ee"
      },
      "execution_count": null,
      "outputs": [
        {
          "output_type": "execute_result",
          "data": {
            "text/plain": [
              "dtype('O')"
            ]
          },
          "metadata": {},
          "execution_count": 44
        }
      ]
    },
    {
      "cell_type": "code",
      "source": [
        "crime_df_2[\"Year\"] = crime_df_2[\"Year\"].astype(int)"
      ],
      "metadata": {
        "id": "91R9AiySrPkJ"
      },
      "execution_count": null,
      "outputs": []
    },
    {
      "cell_type": "code",
      "source": [
        "cb_df = cb_df.drop(\"Type of Dwelling\", axis = \"columns\")\n",
        "cb_df = cb_df.drop(\"Dwelling Status\", axis = \"columns\")\n",
        "cb_df = cb_df.drop(\"Stamp Duty Event\", axis = \"columns\")"
      ],
      "metadata": {
        "id": "RcpnSKE9rRo3"
      },
      "execution_count": null,
      "outputs": []
    },
    {
      "cell_type": "markdown",
      "source": [
        "###Sample of the dataset taken"
      ],
      "metadata": {
        "id": "3rwzqclqrXhh"
      }
    },
    {
      "cell_type": "markdown",
      "source": [
        "The full combined dataset is too large to be combined with the crime dataset (not enough RAM in my device) so a sample will be taken"
      ],
      "metadata": {
        "id": "o-yW0_MjrZ8P"
      }
    },
    {
      "cell_type": "code",
      "source": [
        "#The merged dataset is too large, so a sample is taken\n",
        "cb_sample_df = cb_df.sample(frac=0.4)"
      ],
      "metadata": {
        "id": "Ice74WBhrbMQ"
      },
      "execution_count": null,
      "outputs": []
    },
    {
      "cell_type": "code",
      "source": [
        "cb_sample_df = cb_sample_df.sort_values('Year')"
      ],
      "metadata": {
        "id": "we_c5p1YrcGo"
      },
      "execution_count": null,
      "outputs": []
    },
    {
      "cell_type": "code",
      "source": [
        "cb_sample_df = pd.merge(cb_sample_df, crime_df_2, on= ['Year', \"region\"])"
      ],
      "metadata": {
        "id": "7MK0bwtNriq_"
      },
      "execution_count": null,
      "outputs": []
    },
    {
      "cell_type": "code",
      "source": [
        "cb_sample_df"
      ],
      "metadata": {
        "colab": {
          "base_uri": "https://localhost:8080/",
          "height": 478
        },
        "id": "FnSy770Vsx5n",
        "outputId": "21485635-e5a3-4c23-df42-2761427c21b6"
      },
      "execution_count": null,
      "outputs": [
        {
          "output_type": "execute_result",
          "data": {
            "text/plain": [
              "       Year  Number of Bedrooms  rent_value    region  Apartment  \\\n",
              "0      2021                   3     1205.19  Mid_East          0   \n",
              "1      2021                   4     1620.53  Mid_East          0   \n",
              "2      2021                   3     1439.21  Mid_East          0   \n",
              "3      2021                   4     1765.80  Mid_East          0   \n",
              "4      2021                   1      831.94  Mid_East          0   \n",
              "...     ...                 ...         ...       ...        ...   \n",
              "43347  2021                   4     1342.31  Mid_West          0   \n",
              "43348  2021                   2      861.82  Mid_West          0   \n",
              "43349  2021                   1      679.57  Mid_West          0   \n",
              "43350  2021                   4     1414.52  Mid_West          0   \n",
              "43351  2021                   3      788.10  Mid_West          1   \n",
              "\n",
              "       Detached house  Other flats  Semi detached house  Terrace house  \\\n",
              "0                   1            0                    0              0   \n",
              "1                   0            0                    1              0   \n",
              "2                   0            0                    0              1   \n",
              "3                   0            0                    1              0   \n",
              "4                   0            1                    0              0   \n",
              "...               ...          ...                  ...            ...   \n",
              "43347               0            0                    0              1   \n",
              "43348               0            0                    1              0   \n",
              "43349               0            1                    0              0   \n",
              "43350               0            0                    1              0   \n",
              "43351               0            0                    0              0   \n",
              "\n",
              "       avg_disposable_income  house_purchase_price  Number_of_Crimes  \n",
              "0                   17434.03              202857.0             42748  \n",
              "1                   17434.03              259999.0             42748  \n",
              "2                   17434.03              142156.0             42748  \n",
              "3                   17434.03              328777.0             42748  \n",
              "4                   17434.03              266068.0             42748  \n",
              "...                      ...                   ...               ...  \n",
              "43347               11853.13              151050.0             34251  \n",
              "43348               11853.13              378581.0             34251  \n",
              "43349               11853.13              257460.0             34251  \n",
              "43350               11853.13              224984.0             34251  \n",
              "43351               11853.13              253121.0             34251  \n",
              "\n",
              "[43352 rows x 12 columns]"
            ],
            "text/html": [
              "\n",
              "  <div id=\"df-555f36a7-3e8e-400e-85ab-03dfec325813\" class=\"colab-df-container\">\n",
              "    <div>\n",
              "<style scoped>\n",
              "    .dataframe tbody tr th:only-of-type {\n",
              "        vertical-align: middle;\n",
              "    }\n",
              "\n",
              "    .dataframe tbody tr th {\n",
              "        vertical-align: top;\n",
              "    }\n",
              "\n",
              "    .dataframe thead th {\n",
              "        text-align: right;\n",
              "    }\n",
              "</style>\n",
              "<table border=\"1\" class=\"dataframe\">\n",
              "  <thead>\n",
              "    <tr style=\"text-align: right;\">\n",
              "      <th></th>\n",
              "      <th>Year</th>\n",
              "      <th>Number of Bedrooms</th>\n",
              "      <th>rent_value</th>\n",
              "      <th>region</th>\n",
              "      <th>Apartment</th>\n",
              "      <th>Detached house</th>\n",
              "      <th>Other flats</th>\n",
              "      <th>Semi detached house</th>\n",
              "      <th>Terrace house</th>\n",
              "      <th>avg_disposable_income</th>\n",
              "      <th>house_purchase_price</th>\n",
              "      <th>Number_of_Crimes</th>\n",
              "    </tr>\n",
              "  </thead>\n",
              "  <tbody>\n",
              "    <tr>\n",
              "      <th>0</th>\n",
              "      <td>2021</td>\n",
              "      <td>3</td>\n",
              "      <td>1205.19</td>\n",
              "      <td>Mid_East</td>\n",
              "      <td>0</td>\n",
              "      <td>1</td>\n",
              "      <td>0</td>\n",
              "      <td>0</td>\n",
              "      <td>0</td>\n",
              "      <td>17434.03</td>\n",
              "      <td>202857.0</td>\n",
              "      <td>42748</td>\n",
              "    </tr>\n",
              "    <tr>\n",
              "      <th>1</th>\n",
              "      <td>2021</td>\n",
              "      <td>4</td>\n",
              "      <td>1620.53</td>\n",
              "      <td>Mid_East</td>\n",
              "      <td>0</td>\n",
              "      <td>0</td>\n",
              "      <td>0</td>\n",
              "      <td>1</td>\n",
              "      <td>0</td>\n",
              "      <td>17434.03</td>\n",
              "      <td>259999.0</td>\n",
              "      <td>42748</td>\n",
              "    </tr>\n",
              "    <tr>\n",
              "      <th>2</th>\n",
              "      <td>2021</td>\n",
              "      <td>3</td>\n",
              "      <td>1439.21</td>\n",
              "      <td>Mid_East</td>\n",
              "      <td>0</td>\n",
              "      <td>0</td>\n",
              "      <td>0</td>\n",
              "      <td>0</td>\n",
              "      <td>1</td>\n",
              "      <td>17434.03</td>\n",
              "      <td>142156.0</td>\n",
              "      <td>42748</td>\n",
              "    </tr>\n",
              "    <tr>\n",
              "      <th>3</th>\n",
              "      <td>2021</td>\n",
              "      <td>4</td>\n",
              "      <td>1765.80</td>\n",
              "      <td>Mid_East</td>\n",
              "      <td>0</td>\n",
              "      <td>0</td>\n",
              "      <td>0</td>\n",
              "      <td>1</td>\n",
              "      <td>0</td>\n",
              "      <td>17434.03</td>\n",
              "      <td>328777.0</td>\n",
              "      <td>42748</td>\n",
              "    </tr>\n",
              "    <tr>\n",
              "      <th>4</th>\n",
              "      <td>2021</td>\n",
              "      <td>1</td>\n",
              "      <td>831.94</td>\n",
              "      <td>Mid_East</td>\n",
              "      <td>0</td>\n",
              "      <td>0</td>\n",
              "      <td>1</td>\n",
              "      <td>0</td>\n",
              "      <td>0</td>\n",
              "      <td>17434.03</td>\n",
              "      <td>266068.0</td>\n",
              "      <td>42748</td>\n",
              "    </tr>\n",
              "    <tr>\n",
              "      <th>...</th>\n",
              "      <td>...</td>\n",
              "      <td>...</td>\n",
              "      <td>...</td>\n",
              "      <td>...</td>\n",
              "      <td>...</td>\n",
              "      <td>...</td>\n",
              "      <td>...</td>\n",
              "      <td>...</td>\n",
              "      <td>...</td>\n",
              "      <td>...</td>\n",
              "      <td>...</td>\n",
              "      <td>...</td>\n",
              "    </tr>\n",
              "    <tr>\n",
              "      <th>43347</th>\n",
              "      <td>2021</td>\n",
              "      <td>4</td>\n",
              "      <td>1342.31</td>\n",
              "      <td>Mid_West</td>\n",
              "      <td>0</td>\n",
              "      <td>0</td>\n",
              "      <td>0</td>\n",
              "      <td>0</td>\n",
              "      <td>1</td>\n",
              "      <td>11853.13</td>\n",
              "      <td>151050.0</td>\n",
              "      <td>34251</td>\n",
              "    </tr>\n",
              "    <tr>\n",
              "      <th>43348</th>\n",
              "      <td>2021</td>\n",
              "      <td>2</td>\n",
              "      <td>861.82</td>\n",
              "      <td>Mid_West</td>\n",
              "      <td>0</td>\n",
              "      <td>0</td>\n",
              "      <td>0</td>\n",
              "      <td>1</td>\n",
              "      <td>0</td>\n",
              "      <td>11853.13</td>\n",
              "      <td>378581.0</td>\n",
              "      <td>34251</td>\n",
              "    </tr>\n",
              "    <tr>\n",
              "      <th>43349</th>\n",
              "      <td>2021</td>\n",
              "      <td>1</td>\n",
              "      <td>679.57</td>\n",
              "      <td>Mid_West</td>\n",
              "      <td>0</td>\n",
              "      <td>0</td>\n",
              "      <td>1</td>\n",
              "      <td>0</td>\n",
              "      <td>0</td>\n",
              "      <td>11853.13</td>\n",
              "      <td>257460.0</td>\n",
              "      <td>34251</td>\n",
              "    </tr>\n",
              "    <tr>\n",
              "      <th>43350</th>\n",
              "      <td>2021</td>\n",
              "      <td>4</td>\n",
              "      <td>1414.52</td>\n",
              "      <td>Mid_West</td>\n",
              "      <td>0</td>\n",
              "      <td>0</td>\n",
              "      <td>0</td>\n",
              "      <td>1</td>\n",
              "      <td>0</td>\n",
              "      <td>11853.13</td>\n",
              "      <td>224984.0</td>\n",
              "      <td>34251</td>\n",
              "    </tr>\n",
              "    <tr>\n",
              "      <th>43351</th>\n",
              "      <td>2021</td>\n",
              "      <td>3</td>\n",
              "      <td>788.10</td>\n",
              "      <td>Mid_West</td>\n",
              "      <td>1</td>\n",
              "      <td>0</td>\n",
              "      <td>0</td>\n",
              "      <td>0</td>\n",
              "      <td>0</td>\n",
              "      <td>11853.13</td>\n",
              "      <td>253121.0</td>\n",
              "      <td>34251</td>\n",
              "    </tr>\n",
              "  </tbody>\n",
              "</table>\n",
              "<p>43352 rows × 12 columns</p>\n",
              "</div>\n",
              "    <div class=\"colab-df-buttons\">\n",
              "\n",
              "  <div class=\"colab-df-container\">\n",
              "    <button class=\"colab-df-convert\" onclick=\"convertToInteractive('df-555f36a7-3e8e-400e-85ab-03dfec325813')\"\n",
              "            title=\"Convert this dataframe to an interactive table.\"\n",
              "            style=\"display:none;\">\n",
              "\n",
              "  <svg xmlns=\"http://www.w3.org/2000/svg\" height=\"24px\" viewBox=\"0 -960 960 960\">\n",
              "    <path d=\"M120-120v-720h720v720H120Zm60-500h600v-160H180v160Zm220 220h160v-160H400v160Zm0 220h160v-160H400v160ZM180-400h160v-160H180v160Zm440 0h160v-160H620v160ZM180-180h160v-160H180v160Zm440 0h160v-160H620v160Z\"/>\n",
              "  </svg>\n",
              "    </button>\n",
              "\n",
              "  <style>\n",
              "    .colab-df-container {\n",
              "      display:flex;\n",
              "      gap: 12px;\n",
              "    }\n",
              "\n",
              "    .colab-df-convert {\n",
              "      background-color: #E8F0FE;\n",
              "      border: none;\n",
              "      border-radius: 50%;\n",
              "      cursor: pointer;\n",
              "      display: none;\n",
              "      fill: #1967D2;\n",
              "      height: 32px;\n",
              "      padding: 0 0 0 0;\n",
              "      width: 32px;\n",
              "    }\n",
              "\n",
              "    .colab-df-convert:hover {\n",
              "      background-color: #E2EBFA;\n",
              "      box-shadow: 0px 1px 2px rgba(60, 64, 67, 0.3), 0px 1px 3px 1px rgba(60, 64, 67, 0.15);\n",
              "      fill: #174EA6;\n",
              "    }\n",
              "\n",
              "    .colab-df-buttons div {\n",
              "      margin-bottom: 4px;\n",
              "    }\n",
              "\n",
              "    [theme=dark] .colab-df-convert {\n",
              "      background-color: #3B4455;\n",
              "      fill: #D2E3FC;\n",
              "    }\n",
              "\n",
              "    [theme=dark] .colab-df-convert:hover {\n",
              "      background-color: #434B5C;\n",
              "      box-shadow: 0px 1px 3px 1px rgba(0, 0, 0, 0.15);\n",
              "      filter: drop-shadow(0px 1px 2px rgba(0, 0, 0, 0.3));\n",
              "      fill: #FFFFFF;\n",
              "    }\n",
              "  </style>\n",
              "\n",
              "    <script>\n",
              "      const buttonEl =\n",
              "        document.querySelector('#df-555f36a7-3e8e-400e-85ab-03dfec325813 button.colab-df-convert');\n",
              "      buttonEl.style.display =\n",
              "        google.colab.kernel.accessAllowed ? 'block' : 'none';\n",
              "\n",
              "      async function convertToInteractive(key) {\n",
              "        const element = document.querySelector('#df-555f36a7-3e8e-400e-85ab-03dfec325813');\n",
              "        const dataTable =\n",
              "          await google.colab.kernel.invokeFunction('convertToInteractive',\n",
              "                                                    [key], {});\n",
              "        if (!dataTable) return;\n",
              "\n",
              "        const docLinkHtml = 'Like what you see? Visit the ' +\n",
              "          '<a target=\"_blank\" href=https://colab.research.google.com/notebooks/data_table.ipynb>data table notebook</a>'\n",
              "          + ' to learn more about interactive tables.';\n",
              "        element.innerHTML = '';\n",
              "        dataTable['output_type'] = 'display_data';\n",
              "        await google.colab.output.renderOutput(dataTable, element);\n",
              "        const docLink = document.createElement('div');\n",
              "        docLink.innerHTML = docLinkHtml;\n",
              "        element.appendChild(docLink);\n",
              "      }\n",
              "    </script>\n",
              "  </div>\n",
              "\n",
              "\n",
              "<div id=\"df-5c1f51e2-de14-4dec-a7e7-2c4b9523b431\">\n",
              "  <button class=\"colab-df-quickchart\" onclick=\"quickchart('df-5c1f51e2-de14-4dec-a7e7-2c4b9523b431')\"\n",
              "            title=\"Suggest charts\"\n",
              "            style=\"display:none;\">\n",
              "\n",
              "<svg xmlns=\"http://www.w3.org/2000/svg\" height=\"24px\"viewBox=\"0 0 24 24\"\n",
              "     width=\"24px\">\n",
              "    <g>\n",
              "        <path d=\"M19 3H5c-1.1 0-2 .9-2 2v14c0 1.1.9 2 2 2h14c1.1 0 2-.9 2-2V5c0-1.1-.9-2-2-2zM9 17H7v-7h2v7zm4 0h-2V7h2v10zm4 0h-2v-4h2v4z\"/>\n",
              "    </g>\n",
              "</svg>\n",
              "  </button>\n",
              "\n",
              "<style>\n",
              "  .colab-df-quickchart {\n",
              "      --bg-color: #E8F0FE;\n",
              "      --fill-color: #1967D2;\n",
              "      --hover-bg-color: #E2EBFA;\n",
              "      --hover-fill-color: #174EA6;\n",
              "      --disabled-fill-color: #AAA;\n",
              "      --disabled-bg-color: #DDD;\n",
              "  }\n",
              "\n",
              "  [theme=dark] .colab-df-quickchart {\n",
              "      --bg-color: #3B4455;\n",
              "      --fill-color: #D2E3FC;\n",
              "      --hover-bg-color: #434B5C;\n",
              "      --hover-fill-color: #FFFFFF;\n",
              "      --disabled-bg-color: #3B4455;\n",
              "      --disabled-fill-color: #666;\n",
              "  }\n",
              "\n",
              "  .colab-df-quickchart {\n",
              "    background-color: var(--bg-color);\n",
              "    border: none;\n",
              "    border-radius: 50%;\n",
              "    cursor: pointer;\n",
              "    display: none;\n",
              "    fill: var(--fill-color);\n",
              "    height: 32px;\n",
              "    padding: 0;\n",
              "    width: 32px;\n",
              "  }\n",
              "\n",
              "  .colab-df-quickchart:hover {\n",
              "    background-color: var(--hover-bg-color);\n",
              "    box-shadow: 0 1px 2px rgba(60, 64, 67, 0.3), 0 1px 3px 1px rgba(60, 64, 67, 0.15);\n",
              "    fill: var(--button-hover-fill-color);\n",
              "  }\n",
              "\n",
              "  .colab-df-quickchart-complete:disabled,\n",
              "  .colab-df-quickchart-complete:disabled:hover {\n",
              "    background-color: var(--disabled-bg-color);\n",
              "    fill: var(--disabled-fill-color);\n",
              "    box-shadow: none;\n",
              "  }\n",
              "\n",
              "  .colab-df-spinner {\n",
              "    border: 2px solid var(--fill-color);\n",
              "    border-color: transparent;\n",
              "    border-bottom-color: var(--fill-color);\n",
              "    animation:\n",
              "      spin 1s steps(1) infinite;\n",
              "  }\n",
              "\n",
              "  @keyframes spin {\n",
              "    0% {\n",
              "      border-color: transparent;\n",
              "      border-bottom-color: var(--fill-color);\n",
              "      border-left-color: var(--fill-color);\n",
              "    }\n",
              "    20% {\n",
              "      border-color: transparent;\n",
              "      border-left-color: var(--fill-color);\n",
              "      border-top-color: var(--fill-color);\n",
              "    }\n",
              "    30% {\n",
              "      border-color: transparent;\n",
              "      border-left-color: var(--fill-color);\n",
              "      border-top-color: var(--fill-color);\n",
              "      border-right-color: var(--fill-color);\n",
              "    }\n",
              "    40% {\n",
              "      border-color: transparent;\n",
              "      border-right-color: var(--fill-color);\n",
              "      border-top-color: var(--fill-color);\n",
              "    }\n",
              "    60% {\n",
              "      border-color: transparent;\n",
              "      border-right-color: var(--fill-color);\n",
              "    }\n",
              "    80% {\n",
              "      border-color: transparent;\n",
              "      border-right-color: var(--fill-color);\n",
              "      border-bottom-color: var(--fill-color);\n",
              "    }\n",
              "    90% {\n",
              "      border-color: transparent;\n",
              "      border-bottom-color: var(--fill-color);\n",
              "    }\n",
              "  }\n",
              "</style>\n",
              "\n",
              "  <script>\n",
              "    async function quickchart(key) {\n",
              "      const quickchartButtonEl =\n",
              "        document.querySelector('#' + key + ' button');\n",
              "      quickchartButtonEl.disabled = true;  // To prevent multiple clicks.\n",
              "      quickchartButtonEl.classList.add('colab-df-spinner');\n",
              "      try {\n",
              "        const charts = await google.colab.kernel.invokeFunction(\n",
              "            'suggestCharts', [key], {});\n",
              "      } catch (error) {\n",
              "        console.error('Error during call to suggestCharts:', error);\n",
              "      }\n",
              "      quickchartButtonEl.classList.remove('colab-df-spinner');\n",
              "      quickchartButtonEl.classList.add('colab-df-quickchart-complete');\n",
              "    }\n",
              "    (() => {\n",
              "      let quickchartButtonEl =\n",
              "        document.querySelector('#df-5c1f51e2-de14-4dec-a7e7-2c4b9523b431 button');\n",
              "      quickchartButtonEl.style.display =\n",
              "        google.colab.kernel.accessAllowed ? 'block' : 'none';\n",
              "    })();\n",
              "  </script>\n",
              "</div>\n",
              "    </div>\n",
              "  </div>\n"
            ],
            "application/vnd.google.colaboratory.intrinsic+json": {
              "type": "dataframe",
              "variable_name": "cb_sample_df",
              "summary": "{\n  \"name\": \"cb_sample_df\",\n  \"rows\": 43352,\n  \"fields\": [\n    {\n      \"column\": \"Year\",\n      \"properties\": {\n        \"dtype\": \"number\",\n        \"std\": 0,\n        \"min\": 2021,\n        \"max\": 2021,\n        \"num_unique_values\": 1,\n        \"samples\": [\n          2021\n        ],\n        \"semantic_type\": \"\",\n        \"description\": \"\"\n      }\n    },\n    {\n      \"column\": \"Number of Bedrooms\",\n      \"properties\": {\n        \"dtype\": \"number\",\n        \"std\": 0,\n        \"min\": 1,\n        \"max\": 4,\n        \"num_unique_values\": 4,\n        \"samples\": [\n          4\n        ],\n        \"semantic_type\": \"\",\n        \"description\": \"\"\n      }\n    },\n    {\n      \"column\": \"rent_value\",\n      \"properties\": {\n        \"dtype\": \"number\",\n        \"std\": 400.20199375111315,\n        \"min\": 405.91,\n        \"max\": 3052.21,\n        \"num_unique_values\": 331,\n        \"samples\": [\n          1291.3\n        ],\n        \"semantic_type\": \"\",\n        \"description\": \"\"\n      }\n    },\n    {\n      \"column\": \"region\",\n      \"properties\": {\n        \"dtype\": \"category\",\n        \"num_unique_values\": 8,\n        \"samples\": [\n          \"Midland\"\n        ],\n        \"semantic_type\": \"\",\n        \"description\": \"\"\n      }\n    },\n    {\n      \"column\": \"Apartment\",\n      \"properties\": {\n        \"dtype\": \"number\",\n        \"std\": 0,\n        \"min\": 0,\n        \"max\": 1,\n        \"num_unique_values\": 2,\n        \"samples\": [\n          1\n        ],\n        \"semantic_type\": \"\",\n        \"description\": \"\"\n      }\n    },\n    {\n      \"column\": \"Detached house\",\n      \"properties\": {\n        \"dtype\": \"number\",\n        \"std\": 0,\n        \"min\": 0,\n        \"max\": 1,\n        \"num_unique_values\": 2,\n        \"samples\": [\n          0\n        ],\n        \"semantic_type\": \"\",\n        \"description\": \"\"\n      }\n    },\n    {\n      \"column\": \"Other flats\",\n      \"properties\": {\n        \"dtype\": \"number\",\n        \"std\": 0,\n        \"min\": 0,\n        \"max\": 1,\n        \"num_unique_values\": 2,\n        \"samples\": [\n          1\n        ],\n        \"semantic_type\": \"\",\n        \"description\": \"\"\n      }\n    },\n    {\n      \"column\": \"Semi detached house\",\n      \"properties\": {\n        \"dtype\": \"number\",\n        \"std\": 0,\n        \"min\": 0,\n        \"max\": 1,\n        \"num_unique_values\": 2,\n        \"samples\": [\n          1\n        ],\n        \"semantic_type\": \"\",\n        \"description\": \"\"\n      }\n    },\n    {\n      \"column\": \"Terrace house\",\n      \"properties\": {\n        \"dtype\": \"number\",\n        \"std\": 0,\n        \"min\": 0,\n        \"max\": 1,\n        \"num_unique_values\": 2,\n        \"samples\": [\n          1\n        ],\n        \"semantic_type\": \"\",\n        \"description\": \"\"\n      }\n    },\n    {\n      \"column\": \"avg_disposable_income\",\n      \"properties\": {\n        \"dtype\": \"number\",\n        \"std\": 8110.102231301568,\n        \"min\": 6699.88,\n        \"max\": 39684.85,\n        \"num_unique_values\": 8,\n        \"samples\": [\n          6699.88\n        ],\n        \"semantic_type\": \"\",\n        \"description\": \"\"\n      }\n    },\n    {\n      \"column\": \"house_purchase_price\",\n      \"properties\": {\n        \"dtype\": \"number\",\n        \"std\": 145144.96018312554,\n        \"min\": 34050.0,\n        \"max\": 1626047.0,\n        \"num_unique_values\": 2434,\n        \"samples\": [\n          146775.0\n        ],\n        \"semantic_type\": \"\",\n        \"description\": \"\"\n      }\n    },\n    {\n      \"column\": \"Number_of_Crimes\",\n      \"properties\": {\n        \"dtype\": \"number\",\n        \"std\": 32525,\n        \"min\": 15894,\n        \"max\": 151249,\n        \"num_unique_values\": 8,\n        \"samples\": [\n          15894\n        ],\n        \"semantic_type\": \"\",\n        \"description\": \"\"\n      }\n    }\n  ]\n}"
            }
          },
          "metadata": {},
          "execution_count": 50
        }
      ]
    },
    {
      "cell_type": "code",
      "source": [
        "cb_sample_df['region'].unique()"
      ],
      "metadata": {
        "colab": {
          "base_uri": "https://localhost:8080/"
        },
        "id": "0AK5qnd5UqTr",
        "outputId": "77f64b1e-c495-4b26-c25c-9ee67c95cf4f"
      },
      "execution_count": null,
      "outputs": [
        {
          "output_type": "execute_result",
          "data": {
            "text/plain": [
              "array(['Mid_East', 'Midland', 'South_East', 'Border', 'West',\n",
              "       'South_West', 'Dublin', 'Mid_West'], dtype=object)"
            ]
          },
          "metadata": {},
          "execution_count": 51
        }
      ]
    },
    {
      "cell_type": "code",
      "source": [
        "cb_sample_df = cb_sample_df.join(pd.get_dummies(cb_sample_df[\"region\"])).drop([\"region\"], axis=1)"
      ],
      "metadata": {
        "id": "TU57J5u3RaKV"
      },
      "execution_count": null,
      "outputs": []
    },
    {
      "cell_type": "code",
      "source": [
        "X_cb1_2021 = cb_sample_df.drop([\"house_purchase_price\"], axis=1)\n",
        "#The house purchase price is set as the target variable\n",
        "y_cb1_2021 = cb_sample_df['house_purchase_price']"
      ],
      "metadata": {
        "id": "Zlps7UriDmEL"
      },
      "execution_count": null,
      "outputs": []
    },
    {
      "cell_type": "code",
      "source": [
        "import pickle\n",
        "loaded_XGB_house_price_model = pickle.load(open('/content/xgb_house_price.pkl', 'rb'))"
      ],
      "metadata": {
        "id": "EclYMWiSFLVd"
      },
      "execution_count": null,
      "outputs": []
    },
    {
      "cell_type": "code",
      "source": [
        "X_cb1_2021"
      ],
      "metadata": {
        "colab": {
          "base_uri": "https://localhost:8080/",
          "height": 478
        },
        "id": "wCQnUAq-G3IK",
        "outputId": "fafd8224-dfce-4b30-c1c2-24130c660b70"
      },
      "execution_count": null,
      "outputs": [
        {
          "output_type": "execute_result",
          "data": {
            "text/plain": [
              "       Year  Number of Bedrooms  rent_value  Apartment  Detached house  \\\n",
              "0      2021                   3     1205.19          0               1   \n",
              "1      2021                   4     1620.53          0               0   \n",
              "2      2021                   3     1439.21          0               0   \n",
              "3      2021                   4     1765.80          0               0   \n",
              "4      2021                   1      831.94          0               0   \n",
              "...     ...                 ...         ...        ...             ...   \n",
              "43347  2021                   4     1342.31          0               0   \n",
              "43348  2021                   2      861.82          0               0   \n",
              "43349  2021                   1      679.57          0               0   \n",
              "43350  2021                   4     1414.52          0               0   \n",
              "43351  2021                   3      788.10          1               0   \n",
              "\n",
              "       Other flats  Semi detached house  Terrace house  avg_disposable_income  \\\n",
              "0                0                    0              0               17434.03   \n",
              "1                0                    1              0               17434.03   \n",
              "2                0                    0              1               17434.03   \n",
              "3                0                    1              0               17434.03   \n",
              "4                1                    0              0               17434.03   \n",
              "...            ...                  ...            ...                    ...   \n",
              "43347            0                    0              1               11853.13   \n",
              "43348            0                    1              0               11853.13   \n",
              "43349            1                    0              0               11853.13   \n",
              "43350            0                    1              0               11853.13   \n",
              "43351            0                    0              0               11853.13   \n",
              "\n",
              "       Number_of_Crimes  Border  Dublin  Mid_East  Mid_West  Midland  \\\n",
              "0                 42748   False   False      True     False    False   \n",
              "1                 42748   False   False      True     False    False   \n",
              "2                 42748   False   False      True     False    False   \n",
              "3                 42748   False   False      True     False    False   \n",
              "4                 42748   False   False      True     False    False   \n",
              "...                 ...     ...     ...       ...       ...      ...   \n",
              "43347             34251   False   False     False      True    False   \n",
              "43348             34251   False   False     False      True    False   \n",
              "43349             34251   False   False     False      True    False   \n",
              "43350             34251   False   False     False      True    False   \n",
              "43351             34251   False   False     False      True    False   \n",
              "\n",
              "       South_East  South_West   West  \n",
              "0           False       False  False  \n",
              "1           False       False  False  \n",
              "2           False       False  False  \n",
              "3           False       False  False  \n",
              "4           False       False  False  \n",
              "...           ...         ...    ...  \n",
              "43347       False       False  False  \n",
              "43348       False       False  False  \n",
              "43349       False       False  False  \n",
              "43350       False       False  False  \n",
              "43351       False       False  False  \n",
              "\n",
              "[43352 rows x 18 columns]"
            ],
            "text/html": [
              "\n",
              "  <div id=\"df-2ae8f94e-94f9-4097-bc7b-3a6b00c59dd2\" class=\"colab-df-container\">\n",
              "    <div>\n",
              "<style scoped>\n",
              "    .dataframe tbody tr th:only-of-type {\n",
              "        vertical-align: middle;\n",
              "    }\n",
              "\n",
              "    .dataframe tbody tr th {\n",
              "        vertical-align: top;\n",
              "    }\n",
              "\n",
              "    .dataframe thead th {\n",
              "        text-align: right;\n",
              "    }\n",
              "</style>\n",
              "<table border=\"1\" class=\"dataframe\">\n",
              "  <thead>\n",
              "    <tr style=\"text-align: right;\">\n",
              "      <th></th>\n",
              "      <th>Year</th>\n",
              "      <th>Number of Bedrooms</th>\n",
              "      <th>rent_value</th>\n",
              "      <th>Apartment</th>\n",
              "      <th>Detached house</th>\n",
              "      <th>Other flats</th>\n",
              "      <th>Semi detached house</th>\n",
              "      <th>Terrace house</th>\n",
              "      <th>avg_disposable_income</th>\n",
              "      <th>Number_of_Crimes</th>\n",
              "      <th>Border</th>\n",
              "      <th>Dublin</th>\n",
              "      <th>Mid_East</th>\n",
              "      <th>Mid_West</th>\n",
              "      <th>Midland</th>\n",
              "      <th>South_East</th>\n",
              "      <th>South_West</th>\n",
              "      <th>West</th>\n",
              "    </tr>\n",
              "  </thead>\n",
              "  <tbody>\n",
              "    <tr>\n",
              "      <th>0</th>\n",
              "      <td>2021</td>\n",
              "      <td>3</td>\n",
              "      <td>1205.19</td>\n",
              "      <td>0</td>\n",
              "      <td>1</td>\n",
              "      <td>0</td>\n",
              "      <td>0</td>\n",
              "      <td>0</td>\n",
              "      <td>17434.03</td>\n",
              "      <td>42748</td>\n",
              "      <td>False</td>\n",
              "      <td>False</td>\n",
              "      <td>True</td>\n",
              "      <td>False</td>\n",
              "      <td>False</td>\n",
              "      <td>False</td>\n",
              "      <td>False</td>\n",
              "      <td>False</td>\n",
              "    </tr>\n",
              "    <tr>\n",
              "      <th>1</th>\n",
              "      <td>2021</td>\n",
              "      <td>4</td>\n",
              "      <td>1620.53</td>\n",
              "      <td>0</td>\n",
              "      <td>0</td>\n",
              "      <td>0</td>\n",
              "      <td>1</td>\n",
              "      <td>0</td>\n",
              "      <td>17434.03</td>\n",
              "      <td>42748</td>\n",
              "      <td>False</td>\n",
              "      <td>False</td>\n",
              "      <td>True</td>\n",
              "      <td>False</td>\n",
              "      <td>False</td>\n",
              "      <td>False</td>\n",
              "      <td>False</td>\n",
              "      <td>False</td>\n",
              "    </tr>\n",
              "    <tr>\n",
              "      <th>2</th>\n",
              "      <td>2021</td>\n",
              "      <td>3</td>\n",
              "      <td>1439.21</td>\n",
              "      <td>0</td>\n",
              "      <td>0</td>\n",
              "      <td>0</td>\n",
              "      <td>0</td>\n",
              "      <td>1</td>\n",
              "      <td>17434.03</td>\n",
              "      <td>42748</td>\n",
              "      <td>False</td>\n",
              "      <td>False</td>\n",
              "      <td>True</td>\n",
              "      <td>False</td>\n",
              "      <td>False</td>\n",
              "      <td>False</td>\n",
              "      <td>False</td>\n",
              "      <td>False</td>\n",
              "    </tr>\n",
              "    <tr>\n",
              "      <th>3</th>\n",
              "      <td>2021</td>\n",
              "      <td>4</td>\n",
              "      <td>1765.80</td>\n",
              "      <td>0</td>\n",
              "      <td>0</td>\n",
              "      <td>0</td>\n",
              "      <td>1</td>\n",
              "      <td>0</td>\n",
              "      <td>17434.03</td>\n",
              "      <td>42748</td>\n",
              "      <td>False</td>\n",
              "      <td>False</td>\n",
              "      <td>True</td>\n",
              "      <td>False</td>\n",
              "      <td>False</td>\n",
              "      <td>False</td>\n",
              "      <td>False</td>\n",
              "      <td>False</td>\n",
              "    </tr>\n",
              "    <tr>\n",
              "      <th>4</th>\n",
              "      <td>2021</td>\n",
              "      <td>1</td>\n",
              "      <td>831.94</td>\n",
              "      <td>0</td>\n",
              "      <td>0</td>\n",
              "      <td>1</td>\n",
              "      <td>0</td>\n",
              "      <td>0</td>\n",
              "      <td>17434.03</td>\n",
              "      <td>42748</td>\n",
              "      <td>False</td>\n",
              "      <td>False</td>\n",
              "      <td>True</td>\n",
              "      <td>False</td>\n",
              "      <td>False</td>\n",
              "      <td>False</td>\n",
              "      <td>False</td>\n",
              "      <td>False</td>\n",
              "    </tr>\n",
              "    <tr>\n",
              "      <th>...</th>\n",
              "      <td>...</td>\n",
              "      <td>...</td>\n",
              "      <td>...</td>\n",
              "      <td>...</td>\n",
              "      <td>...</td>\n",
              "      <td>...</td>\n",
              "      <td>...</td>\n",
              "      <td>...</td>\n",
              "      <td>...</td>\n",
              "      <td>...</td>\n",
              "      <td>...</td>\n",
              "      <td>...</td>\n",
              "      <td>...</td>\n",
              "      <td>...</td>\n",
              "      <td>...</td>\n",
              "      <td>...</td>\n",
              "      <td>...</td>\n",
              "      <td>...</td>\n",
              "    </tr>\n",
              "    <tr>\n",
              "      <th>43347</th>\n",
              "      <td>2021</td>\n",
              "      <td>4</td>\n",
              "      <td>1342.31</td>\n",
              "      <td>0</td>\n",
              "      <td>0</td>\n",
              "      <td>0</td>\n",
              "      <td>0</td>\n",
              "      <td>1</td>\n",
              "      <td>11853.13</td>\n",
              "      <td>34251</td>\n",
              "      <td>False</td>\n",
              "      <td>False</td>\n",
              "      <td>False</td>\n",
              "      <td>True</td>\n",
              "      <td>False</td>\n",
              "      <td>False</td>\n",
              "      <td>False</td>\n",
              "      <td>False</td>\n",
              "    </tr>\n",
              "    <tr>\n",
              "      <th>43348</th>\n",
              "      <td>2021</td>\n",
              "      <td>2</td>\n",
              "      <td>861.82</td>\n",
              "      <td>0</td>\n",
              "      <td>0</td>\n",
              "      <td>0</td>\n",
              "      <td>1</td>\n",
              "      <td>0</td>\n",
              "      <td>11853.13</td>\n",
              "      <td>34251</td>\n",
              "      <td>False</td>\n",
              "      <td>False</td>\n",
              "      <td>False</td>\n",
              "      <td>True</td>\n",
              "      <td>False</td>\n",
              "      <td>False</td>\n",
              "      <td>False</td>\n",
              "      <td>False</td>\n",
              "    </tr>\n",
              "    <tr>\n",
              "      <th>43349</th>\n",
              "      <td>2021</td>\n",
              "      <td>1</td>\n",
              "      <td>679.57</td>\n",
              "      <td>0</td>\n",
              "      <td>0</td>\n",
              "      <td>1</td>\n",
              "      <td>0</td>\n",
              "      <td>0</td>\n",
              "      <td>11853.13</td>\n",
              "      <td>34251</td>\n",
              "      <td>False</td>\n",
              "      <td>False</td>\n",
              "      <td>False</td>\n",
              "      <td>True</td>\n",
              "      <td>False</td>\n",
              "      <td>False</td>\n",
              "      <td>False</td>\n",
              "      <td>False</td>\n",
              "    </tr>\n",
              "    <tr>\n",
              "      <th>43350</th>\n",
              "      <td>2021</td>\n",
              "      <td>4</td>\n",
              "      <td>1414.52</td>\n",
              "      <td>0</td>\n",
              "      <td>0</td>\n",
              "      <td>0</td>\n",
              "      <td>1</td>\n",
              "      <td>0</td>\n",
              "      <td>11853.13</td>\n",
              "      <td>34251</td>\n",
              "      <td>False</td>\n",
              "      <td>False</td>\n",
              "      <td>False</td>\n",
              "      <td>True</td>\n",
              "      <td>False</td>\n",
              "      <td>False</td>\n",
              "      <td>False</td>\n",
              "      <td>False</td>\n",
              "    </tr>\n",
              "    <tr>\n",
              "      <th>43351</th>\n",
              "      <td>2021</td>\n",
              "      <td>3</td>\n",
              "      <td>788.10</td>\n",
              "      <td>1</td>\n",
              "      <td>0</td>\n",
              "      <td>0</td>\n",
              "      <td>0</td>\n",
              "      <td>0</td>\n",
              "      <td>11853.13</td>\n",
              "      <td>34251</td>\n",
              "      <td>False</td>\n",
              "      <td>False</td>\n",
              "      <td>False</td>\n",
              "      <td>True</td>\n",
              "      <td>False</td>\n",
              "      <td>False</td>\n",
              "      <td>False</td>\n",
              "      <td>False</td>\n",
              "    </tr>\n",
              "  </tbody>\n",
              "</table>\n",
              "<p>43352 rows × 18 columns</p>\n",
              "</div>\n",
              "    <div class=\"colab-df-buttons\">\n",
              "\n",
              "  <div class=\"colab-df-container\">\n",
              "    <button class=\"colab-df-convert\" onclick=\"convertToInteractive('df-2ae8f94e-94f9-4097-bc7b-3a6b00c59dd2')\"\n",
              "            title=\"Convert this dataframe to an interactive table.\"\n",
              "            style=\"display:none;\">\n",
              "\n",
              "  <svg xmlns=\"http://www.w3.org/2000/svg\" height=\"24px\" viewBox=\"0 -960 960 960\">\n",
              "    <path d=\"M120-120v-720h720v720H120Zm60-500h600v-160H180v160Zm220 220h160v-160H400v160Zm0 220h160v-160H400v160ZM180-400h160v-160H180v160Zm440 0h160v-160H620v160ZM180-180h160v-160H180v160Zm440 0h160v-160H620v160Z\"/>\n",
              "  </svg>\n",
              "    </button>\n",
              "\n",
              "  <style>\n",
              "    .colab-df-container {\n",
              "      display:flex;\n",
              "      gap: 12px;\n",
              "    }\n",
              "\n",
              "    .colab-df-convert {\n",
              "      background-color: #E8F0FE;\n",
              "      border: none;\n",
              "      border-radius: 50%;\n",
              "      cursor: pointer;\n",
              "      display: none;\n",
              "      fill: #1967D2;\n",
              "      height: 32px;\n",
              "      padding: 0 0 0 0;\n",
              "      width: 32px;\n",
              "    }\n",
              "\n",
              "    .colab-df-convert:hover {\n",
              "      background-color: #E2EBFA;\n",
              "      box-shadow: 0px 1px 2px rgba(60, 64, 67, 0.3), 0px 1px 3px 1px rgba(60, 64, 67, 0.15);\n",
              "      fill: #174EA6;\n",
              "    }\n",
              "\n",
              "    .colab-df-buttons div {\n",
              "      margin-bottom: 4px;\n",
              "    }\n",
              "\n",
              "    [theme=dark] .colab-df-convert {\n",
              "      background-color: #3B4455;\n",
              "      fill: #D2E3FC;\n",
              "    }\n",
              "\n",
              "    [theme=dark] .colab-df-convert:hover {\n",
              "      background-color: #434B5C;\n",
              "      box-shadow: 0px 1px 3px 1px rgba(0, 0, 0, 0.15);\n",
              "      filter: drop-shadow(0px 1px 2px rgba(0, 0, 0, 0.3));\n",
              "      fill: #FFFFFF;\n",
              "    }\n",
              "  </style>\n",
              "\n",
              "    <script>\n",
              "      const buttonEl =\n",
              "        document.querySelector('#df-2ae8f94e-94f9-4097-bc7b-3a6b00c59dd2 button.colab-df-convert');\n",
              "      buttonEl.style.display =\n",
              "        google.colab.kernel.accessAllowed ? 'block' : 'none';\n",
              "\n",
              "      async function convertToInteractive(key) {\n",
              "        const element = document.querySelector('#df-2ae8f94e-94f9-4097-bc7b-3a6b00c59dd2');\n",
              "        const dataTable =\n",
              "          await google.colab.kernel.invokeFunction('convertToInteractive',\n",
              "                                                    [key], {});\n",
              "        if (!dataTable) return;\n",
              "\n",
              "        const docLinkHtml = 'Like what you see? Visit the ' +\n",
              "          '<a target=\"_blank\" href=https://colab.research.google.com/notebooks/data_table.ipynb>data table notebook</a>'\n",
              "          + ' to learn more about interactive tables.';\n",
              "        element.innerHTML = '';\n",
              "        dataTable['output_type'] = 'display_data';\n",
              "        await google.colab.output.renderOutput(dataTable, element);\n",
              "        const docLink = document.createElement('div');\n",
              "        docLink.innerHTML = docLinkHtml;\n",
              "        element.appendChild(docLink);\n",
              "      }\n",
              "    </script>\n",
              "  </div>\n",
              "\n",
              "\n",
              "<div id=\"df-9885e447-d767-42a4-a101-47a08bb7571b\">\n",
              "  <button class=\"colab-df-quickchart\" onclick=\"quickchart('df-9885e447-d767-42a4-a101-47a08bb7571b')\"\n",
              "            title=\"Suggest charts\"\n",
              "            style=\"display:none;\">\n",
              "\n",
              "<svg xmlns=\"http://www.w3.org/2000/svg\" height=\"24px\"viewBox=\"0 0 24 24\"\n",
              "     width=\"24px\">\n",
              "    <g>\n",
              "        <path d=\"M19 3H5c-1.1 0-2 .9-2 2v14c0 1.1.9 2 2 2h14c1.1 0 2-.9 2-2V5c0-1.1-.9-2-2-2zM9 17H7v-7h2v7zm4 0h-2V7h2v10zm4 0h-2v-4h2v4z\"/>\n",
              "    </g>\n",
              "</svg>\n",
              "  </button>\n",
              "\n",
              "<style>\n",
              "  .colab-df-quickchart {\n",
              "      --bg-color: #E8F0FE;\n",
              "      --fill-color: #1967D2;\n",
              "      --hover-bg-color: #E2EBFA;\n",
              "      --hover-fill-color: #174EA6;\n",
              "      --disabled-fill-color: #AAA;\n",
              "      --disabled-bg-color: #DDD;\n",
              "  }\n",
              "\n",
              "  [theme=dark] .colab-df-quickchart {\n",
              "      --bg-color: #3B4455;\n",
              "      --fill-color: #D2E3FC;\n",
              "      --hover-bg-color: #434B5C;\n",
              "      --hover-fill-color: #FFFFFF;\n",
              "      --disabled-bg-color: #3B4455;\n",
              "      --disabled-fill-color: #666;\n",
              "  }\n",
              "\n",
              "  .colab-df-quickchart {\n",
              "    background-color: var(--bg-color);\n",
              "    border: none;\n",
              "    border-radius: 50%;\n",
              "    cursor: pointer;\n",
              "    display: none;\n",
              "    fill: var(--fill-color);\n",
              "    height: 32px;\n",
              "    padding: 0;\n",
              "    width: 32px;\n",
              "  }\n",
              "\n",
              "  .colab-df-quickchart:hover {\n",
              "    background-color: var(--hover-bg-color);\n",
              "    box-shadow: 0 1px 2px rgba(60, 64, 67, 0.3), 0 1px 3px 1px rgba(60, 64, 67, 0.15);\n",
              "    fill: var(--button-hover-fill-color);\n",
              "  }\n",
              "\n",
              "  .colab-df-quickchart-complete:disabled,\n",
              "  .colab-df-quickchart-complete:disabled:hover {\n",
              "    background-color: var(--disabled-bg-color);\n",
              "    fill: var(--disabled-fill-color);\n",
              "    box-shadow: none;\n",
              "  }\n",
              "\n",
              "  .colab-df-spinner {\n",
              "    border: 2px solid var(--fill-color);\n",
              "    border-color: transparent;\n",
              "    border-bottom-color: var(--fill-color);\n",
              "    animation:\n",
              "      spin 1s steps(1) infinite;\n",
              "  }\n",
              "\n",
              "  @keyframes spin {\n",
              "    0% {\n",
              "      border-color: transparent;\n",
              "      border-bottom-color: var(--fill-color);\n",
              "      border-left-color: var(--fill-color);\n",
              "    }\n",
              "    20% {\n",
              "      border-color: transparent;\n",
              "      border-left-color: var(--fill-color);\n",
              "      border-top-color: var(--fill-color);\n",
              "    }\n",
              "    30% {\n",
              "      border-color: transparent;\n",
              "      border-left-color: var(--fill-color);\n",
              "      border-top-color: var(--fill-color);\n",
              "      border-right-color: var(--fill-color);\n",
              "    }\n",
              "    40% {\n",
              "      border-color: transparent;\n",
              "      border-right-color: var(--fill-color);\n",
              "      border-top-color: var(--fill-color);\n",
              "    }\n",
              "    60% {\n",
              "      border-color: transparent;\n",
              "      border-right-color: var(--fill-color);\n",
              "    }\n",
              "    80% {\n",
              "      border-color: transparent;\n",
              "      border-right-color: var(--fill-color);\n",
              "      border-bottom-color: var(--fill-color);\n",
              "    }\n",
              "    90% {\n",
              "      border-color: transparent;\n",
              "      border-bottom-color: var(--fill-color);\n",
              "    }\n",
              "  }\n",
              "</style>\n",
              "\n",
              "  <script>\n",
              "    async function quickchart(key) {\n",
              "      const quickchartButtonEl =\n",
              "        document.querySelector('#' + key + ' button');\n",
              "      quickchartButtonEl.disabled = true;  // To prevent multiple clicks.\n",
              "      quickchartButtonEl.classList.add('colab-df-spinner');\n",
              "      try {\n",
              "        const charts = await google.colab.kernel.invokeFunction(\n",
              "            'suggestCharts', [key], {});\n",
              "      } catch (error) {\n",
              "        console.error('Error during call to suggestCharts:', error);\n",
              "      }\n",
              "      quickchartButtonEl.classList.remove('colab-df-spinner');\n",
              "      quickchartButtonEl.classList.add('colab-df-quickchart-complete');\n",
              "    }\n",
              "    (() => {\n",
              "      let quickchartButtonEl =\n",
              "        document.querySelector('#df-9885e447-d767-42a4-a101-47a08bb7571b button');\n",
              "      quickchartButtonEl.style.display =\n",
              "        google.colab.kernel.accessAllowed ? 'block' : 'none';\n",
              "    })();\n",
              "  </script>\n",
              "</div>\n",
              "    </div>\n",
              "  </div>\n"
            ],
            "application/vnd.google.colaboratory.intrinsic+json": {
              "type": "dataframe",
              "variable_name": "X_cb1_2021",
              "summary": "{\n  \"name\": \"X_cb1_2021\",\n  \"rows\": 43352,\n  \"fields\": [\n    {\n      \"column\": \"Year\",\n      \"properties\": {\n        \"dtype\": \"number\",\n        \"std\": 0,\n        \"min\": 2021,\n        \"max\": 2021,\n        \"num_unique_values\": 1,\n        \"samples\": [\n          2021\n        ],\n        \"semantic_type\": \"\",\n        \"description\": \"\"\n      }\n    },\n    {\n      \"column\": \"Number of Bedrooms\",\n      \"properties\": {\n        \"dtype\": \"number\",\n        \"std\": 0,\n        \"min\": 1,\n        \"max\": 4,\n        \"num_unique_values\": 4,\n        \"samples\": [\n          4\n        ],\n        \"semantic_type\": \"\",\n        \"description\": \"\"\n      }\n    },\n    {\n      \"column\": \"rent_value\",\n      \"properties\": {\n        \"dtype\": \"number\",\n        \"std\": 400.20199375111315,\n        \"min\": 405.91,\n        \"max\": 3052.21,\n        \"num_unique_values\": 331,\n        \"samples\": [\n          1291.3\n        ],\n        \"semantic_type\": \"\",\n        \"description\": \"\"\n      }\n    },\n    {\n      \"column\": \"Apartment\",\n      \"properties\": {\n        \"dtype\": \"number\",\n        \"std\": 0,\n        \"min\": 0,\n        \"max\": 1,\n        \"num_unique_values\": 2,\n        \"samples\": [\n          1\n        ],\n        \"semantic_type\": \"\",\n        \"description\": \"\"\n      }\n    },\n    {\n      \"column\": \"Detached house\",\n      \"properties\": {\n        \"dtype\": \"number\",\n        \"std\": 0,\n        \"min\": 0,\n        \"max\": 1,\n        \"num_unique_values\": 2,\n        \"samples\": [\n          0\n        ],\n        \"semantic_type\": \"\",\n        \"description\": \"\"\n      }\n    },\n    {\n      \"column\": \"Other flats\",\n      \"properties\": {\n        \"dtype\": \"number\",\n        \"std\": 0,\n        \"min\": 0,\n        \"max\": 1,\n        \"num_unique_values\": 2,\n        \"samples\": [\n          1\n        ],\n        \"semantic_type\": \"\",\n        \"description\": \"\"\n      }\n    },\n    {\n      \"column\": \"Semi detached house\",\n      \"properties\": {\n        \"dtype\": \"number\",\n        \"std\": 0,\n        \"min\": 0,\n        \"max\": 1,\n        \"num_unique_values\": 2,\n        \"samples\": [\n          1\n        ],\n        \"semantic_type\": \"\",\n        \"description\": \"\"\n      }\n    },\n    {\n      \"column\": \"Terrace house\",\n      \"properties\": {\n        \"dtype\": \"number\",\n        \"std\": 0,\n        \"min\": 0,\n        \"max\": 1,\n        \"num_unique_values\": 2,\n        \"samples\": [\n          1\n        ],\n        \"semantic_type\": \"\",\n        \"description\": \"\"\n      }\n    },\n    {\n      \"column\": \"avg_disposable_income\",\n      \"properties\": {\n        \"dtype\": \"number\",\n        \"std\": 8110.102231301568,\n        \"min\": 6699.88,\n        \"max\": 39684.85,\n        \"num_unique_values\": 8,\n        \"samples\": [\n          6699.88\n        ],\n        \"semantic_type\": \"\",\n        \"description\": \"\"\n      }\n    },\n    {\n      \"column\": \"Number_of_Crimes\",\n      \"properties\": {\n        \"dtype\": \"number\",\n        \"std\": 32525,\n        \"min\": 15894,\n        \"max\": 151249,\n        \"num_unique_values\": 8,\n        \"samples\": [\n          15894\n        ],\n        \"semantic_type\": \"\",\n        \"description\": \"\"\n      }\n    },\n    {\n      \"column\": \"Border\",\n      \"properties\": {\n        \"dtype\": \"boolean\",\n        \"num_unique_values\": 2,\n        \"samples\": [\n          true\n        ],\n        \"semantic_type\": \"\",\n        \"description\": \"\"\n      }\n    },\n    {\n      \"column\": \"Dublin\",\n      \"properties\": {\n        \"dtype\": \"boolean\",\n        \"num_unique_values\": 2,\n        \"samples\": [\n          true\n        ],\n        \"semantic_type\": \"\",\n        \"description\": \"\"\n      }\n    },\n    {\n      \"column\": \"Mid_East\",\n      \"properties\": {\n        \"dtype\": \"boolean\",\n        \"num_unique_values\": 2,\n        \"samples\": [\n          false\n        ],\n        \"semantic_type\": \"\",\n        \"description\": \"\"\n      }\n    },\n    {\n      \"column\": \"Mid_West\",\n      \"properties\": {\n        \"dtype\": \"boolean\",\n        \"num_unique_values\": 2,\n        \"samples\": [\n          true\n        ],\n        \"semantic_type\": \"\",\n        \"description\": \"\"\n      }\n    },\n    {\n      \"column\": \"Midland\",\n      \"properties\": {\n        \"dtype\": \"boolean\",\n        \"num_unique_values\": 2,\n        \"samples\": [\n          true\n        ],\n        \"semantic_type\": \"\",\n        \"description\": \"\"\n      }\n    },\n    {\n      \"column\": \"South_East\",\n      \"properties\": {\n        \"dtype\": \"boolean\",\n        \"num_unique_values\": 2,\n        \"samples\": [\n          true\n        ],\n        \"semantic_type\": \"\",\n        \"description\": \"\"\n      }\n    },\n    {\n      \"column\": \"South_West\",\n      \"properties\": {\n        \"dtype\": \"boolean\",\n        \"num_unique_values\": 2,\n        \"samples\": [\n          true\n        ],\n        \"semantic_type\": \"\",\n        \"description\": \"\"\n      }\n    },\n    {\n      \"column\": \"West\",\n      \"properties\": {\n        \"dtype\": \"boolean\",\n        \"num_unique_values\": 2,\n        \"samples\": [\n          true\n        ],\n        \"semantic_type\": \"\",\n        \"description\": \"\"\n      }\n    }\n  ]\n}"
            }
          },
          "metadata": {},
          "execution_count": 55
        }
      ]
    },
    {
      "cell_type": "code",
      "source": [
        "pred_house_price_2021 = loaded_XGB_house_price_model.predict(X_cb1_2021)"
      ],
      "metadata": {
        "id": "G0EtiH8jF_LV"
      },
      "execution_count": null,
      "outputs": []
    },
    {
      "cell_type": "code",
      "source": [
        "pred_house_price_2021[:20]"
      ],
      "metadata": {
        "colab": {
          "base_uri": "https://localhost:8080/"
        },
        "id": "SDYwvesCUb7u",
        "outputId": "cc931537-6b0e-4015-816f-6ca55249a9ca"
      },
      "execution_count": null,
      "outputs": [
        {
          "output_type": "execute_result",
          "data": {
            "text/plain": [
              "array([318845.5 , 312061.9 , 317095.25, 313138.7 , 318032.62, 319936.16,\n",
              "       315714.53, 319936.16, 317334.97, 309514.9 , 319936.16, 305776.3 ,\n",
              "       309514.9 , 319936.16, 319936.16, 318802.88, 319936.16, 313707.22,\n",
              "       313995.16, 319936.16], dtype=float32)"
            ]
          },
          "metadata": {},
          "execution_count": 57
        }
      ]
    },
    {
      "cell_type": "code",
      "source": [
        "X_cb2_2021 = cb_sample_df.drop([\"rent_value\"], axis=1)\n",
        "#The house purchase price is set as the target variable\n",
        "y_cb2_2021 = cb_sample_df['rent_value']"
      ],
      "metadata": {
        "id": "18XW0UPrXryD"
      },
      "execution_count": null,
      "outputs": []
    },
    {
      "cell_type": "code",
      "source": [
        "#X_train_cb2_2021, X_test_cb2_2021, y_train_cb2_2021, y_test_cb2_2021 = train_test_split(X_cb2_2021,y_cb2_2021, test_size= 0.2)"
      ],
      "metadata": {
        "id": "R9eOh4LXxsCX"
      },
      "execution_count": null,
      "outputs": []
    },
    {
      "cell_type": "code",
      "source": [
        "#reg_xgb2 = xgb.XGBRegressor(n_estimators= 1000, early_stopping_rounds= 50) #stops early if no improvment after 50 trees\n",
        "#reg_xgb2.fit(X_train_cb2_2021, y_train_cb2_2021,\n",
        "#           eval_set=[(X_train_cb2_2021, y_train_cb2_2021), (X_test_cb2_2021, y_test_cb2_2021)],\n",
        "#           verbose=10)"
      ],
      "metadata": {
        "id": "upzLHJJC1Op_"
      },
      "execution_count": null,
      "outputs": []
    },
    {
      "cell_type": "code",
      "source": [
        "#reg_xgb2.score(X_test_cb2_2021, y_test_cb2_2021)"
      ],
      "metadata": {
        "id": "slQKe9u110oh"
      },
      "execution_count": null,
      "outputs": []
    },
    {
      "cell_type": "code",
      "source": [
        "#import pickle\n",
        "#filename = 'xgb_rent_price.pkl'\n",
        "#pickle.dump(reg_xgb2, open(filename, 'wb'))"
      ],
      "metadata": {
        "id": "OfQNCeA69cct"
      },
      "execution_count": null,
      "outputs": []
    },
    {
      "cell_type": "code",
      "source": [
        "import pickle\n",
        "loaded_XGB_rent_price_model = pickle.load(open('/content/xgb_rent_price.pkl', 'rb'))"
      ],
      "metadata": {
        "id": "63B1UGORXlpx"
      },
      "execution_count": null,
      "outputs": []
    },
    {
      "cell_type": "code",
      "source": [
        "pred_rent_price_2021 = loaded_XGB_rent_price_model.predict(X_cb2_2021)"
      ],
      "metadata": {
        "id": "M8IY6KLWX-xg"
      },
      "execution_count": null,
      "outputs": []
    },
    {
      "cell_type": "code",
      "source": [
        "pred_rent_price_2021[:20]"
      ],
      "metadata": {
        "colab": {
          "base_uri": "https://localhost:8080/"
        },
        "id": "IMu8o_v0YhIJ",
        "outputId": "64b31baf-3ec6-4ad7-dc5a-2d45a19b2aca"
      },
      "execution_count": null,
      "outputs": [
        {
          "output_type": "execute_result",
          "data": {
            "text/plain": [
              "array([1264.3203 , 1531.0012 , 1316.9421 , 1531.0012 ,  776.2837 ,\n",
              "        991.18567, 1531.0012 , 1289.5907 , 1619.0416 , 1143.3479 ,\n",
              "       1250.8264 , 1144.8297 , 1144.9855 , 1037.6317 , 1259.5663 ,\n",
              "       1621.2225 , 1250.8264 , 1311.4164 , 1175.9313 , 1177.5688 ],\n",
              "      dtype=float32)"
            ]
          },
          "metadata": {},
          "execution_count": 65
        }
      ]
    },
    {
      "cell_type": "markdown",
      "source": [
        "#Dividing the df by region"
      ],
      "metadata": {
        "id": "5qaoABMjQa4Y"
      }
    },
    {
      "cell_type": "code",
      "source": [
        "Dublin_df = cb_sample_df.loc[cb_sample_df['Dublin']==1]\n",
        "South_East_df = cb_sample_df.loc[cb_sample_df['South_East']==1]\n",
        "South_west_df = cb_sample_df.loc[cb_sample_df['South_West']==1]\n",
        "West_df = cb_sample_df.loc[cb_sample_df['West']==1]\n",
        "Midland_df = cb_sample_df.loc[cb_sample_df['Midland']==1]\n",
        "Mid_East_df = cb_sample_df.loc[cb_sample_df['Mid_East']==1]\n",
        "Mid_West_df = cb_sample_df.loc[cb_sample_df['Mid_West']==1]\n",
        "Border_df = cb_sample_df.loc[cb_sample_df['Border']==1]\n"
      ],
      "metadata": {
        "id": "ckNGiTzvQaSD"
      },
      "execution_count": null,
      "outputs": []
    },
    {
      "cell_type": "code",
      "source": [
        "#Dublin_df"
      ],
      "metadata": {
        "id": "C5lIV33SxiMY"
      },
      "execution_count": null,
      "outputs": []
    },
    {
      "cell_type": "markdown",
      "source": [
        "#Predicting values for Dublin df"
      ],
      "metadata": {
        "id": "mNoncKxf5LWZ"
      }
    },
    {
      "cell_type": "code",
      "source": [
        "X_Dub_HP = Dublin_df.drop([\"house_purchase_price\"], axis=1)\n",
        "#The house purchase price is set as the target variable\n",
        "y_Dub_HP = Dublin_df['house_purchase_price']"
      ],
      "metadata": {
        "id": "8of7_QpG5VE-"
      },
      "execution_count": null,
      "outputs": []
    },
    {
      "cell_type": "code",
      "source": [
        "X_Dub_R = Dublin_df.drop([\"rent_value\"], axis=1)\n",
        "#The rent price is set as the target variable\n",
        "y_Dub_R = Dublin_df['rent_value']"
      ],
      "metadata": {
        "id": "5iJFgO1D5ooA"
      },
      "execution_count": null,
      "outputs": []
    },
    {
      "cell_type": "code",
      "source": [
        "pred_Dub_HP = loaded_XGB_house_price_model.predict(X_Dub_HP)"
      ],
      "metadata": {
        "id": "znw9hpAO5Bvs"
      },
      "execution_count": null,
      "outputs": []
    },
    {
      "cell_type": "code",
      "source": [
        "pred_Dub_R = loaded_XGB_rent_price_model.predict(X_Dub_R)"
      ],
      "metadata": {
        "id": "T0eGJQK07IG0"
      },
      "execution_count": null,
      "outputs": []
    },
    {
      "cell_type": "code",
      "source": [
        "loaded_XGB_house_price_model.score(X_Dub_HP, y_Dub_HP)"
      ],
      "metadata": {
        "colab": {
          "base_uri": "https://localhost:8080/"
        },
        "id": "vTU_o9Mf9CHz",
        "outputId": "981b5058-1df0-4246-c6fb-9d03d0f13627"
      },
      "execution_count": null,
      "outputs": [
        {
          "output_type": "execute_result",
          "data": {
            "text/plain": [
              "-0.013207571117842987"
            ]
          },
          "metadata": {},
          "execution_count": 72
        }
      ]
    },
    {
      "cell_type": "code",
      "source": [
        "loaded_XGB_rent_price_model.score(X_Dub_R, y_Dub_R)"
      ],
      "metadata": {
        "colab": {
          "base_uri": "https://localhost:8080/"
        },
        "id": "1Snv--RP9bPE",
        "outputId": "138ccd00-55af-4a48-ef22-5f018fd585ef"
      },
      "execution_count": null,
      "outputs": [
        {
          "output_type": "execute_result",
          "data": {
            "text/plain": [
              "0.9994959739431862"
            ]
          },
          "metadata": {},
          "execution_count": 73
        }
      ]
    },
    {
      "cell_type": "code",
      "source": [
        "pred_Dub_HP[:20]"
      ],
      "metadata": {
        "colab": {
          "base_uri": "https://localhost:8080/"
        },
        "id": "o1llOm0o7Z7y",
        "outputId": "9234e5b0-4d42-485e-8660-f4f5278a65c6"
      },
      "execution_count": null,
      "outputs": [
        {
          "output_type": "execute_result",
          "data": {
            "text/plain": [
              "array([545665.3 , 549729.9 , 530502.1 , 530558.7 , 517665.38, 586810.  ,\n",
              "       545665.3 , 549222.6 , 540932.6 , 530502.1 , 586810.  , 530502.1 ,\n",
              "       548925.25, 549222.6 , 559569.7 , 539061.7 , 545665.3 , 543759.2 ,\n",
              "       549222.6 , 530558.7 ], dtype=float32)"
            ]
          },
          "metadata": {},
          "execution_count": 74
        }
      ]
    },
    {
      "cell_type": "code",
      "source": [
        "pred_Dub_R[:20]"
      ],
      "metadata": {
        "colab": {
          "base_uri": "https://localhost:8080/"
        },
        "id": "nRcWWYQh7sef",
        "outputId": "a1537c5c-2aac-4080-fca5-0d90805d442e"
      },
      "execution_count": null,
      "outputs": [
        {
          "output_type": "execute_result",
          "data": {
            "text/plain": [
              "array([2509.225 , 1322.4833, 1173.3014, 1700.3173, 1408.8883, 2250.4734,\n",
              "       2395.0337, 1492.5576, 1918.148 , 1173.3014, 2250.4734, 1173.3014,\n",
              "       1080.3907, 1492.5576, 2125.5012, 3027.5188, 2395.0337, 1847.989 ,\n",
              "       1492.5576, 1700.3173], dtype=float32)"
            ]
          },
          "metadata": {},
          "execution_count": 75
        }
      ]
    },
    {
      "cell_type": "code",
      "source": [
        "#Find the average (mean) of a list\n",
        "def Average(list):\n",
        "  return sum(list) / len(list)"
      ],
      "metadata": {
        "id": "G0TNkXDi8FZa"
      },
      "execution_count": null,
      "outputs": []
    },
    {
      "cell_type": "code",
      "source": [
        "#Find the median of a list\n",
        "def Median(list):\n",
        "  list.sort()\n",
        "  mid = len(list) // 2\n",
        "  res = (list[mid] + list[~mid]) / 2\n",
        "  return res"
      ],
      "metadata": {
        "id": "XJWfHxeXeG5E"
      },
      "execution_count": null,
      "outputs": []
    },
    {
      "cell_type": "code",
      "source": [
        "pred_average_HP_Dub = Average(pred_Dub_HP)\n",
        "pred_average_HP_Dub\n",
        "\n",
        "pred_median_HP_Dub = Median(pred_Dub_HP)\n",
        "pred_median_HP_Dub"
      ],
      "metadata": {
        "colab": {
          "base_uri": "https://localhost:8080/"
        },
        "id": "kCFacnPS4yP7",
        "outputId": "9a9bca79-cfe5-405e-b6e3-32f096147f80"
      },
      "execution_count": null,
      "outputs": [
        {
          "output_type": "execute_result",
          "data": {
            "text/plain": [
              "548925.25"
            ]
          },
          "metadata": {},
          "execution_count": 78
        }
      ]
    },
    {
      "cell_type": "code",
      "source": [
        "pred_average_R_Dub = Average(pred_Dub_R)\n",
        "pred_average_R_Dub\n",
        "\n",
        "pred_median_R_Dub = Median(pred_Dub_R)\n",
        "pred_median_R_Dub"
      ],
      "metadata": {
        "colab": {
          "base_uri": "https://localhost:8080/"
        },
        "id": "IgCr72_B8T-b",
        "outputId": "7df24a57-c797-4268-f9ef-c69c69738233"
      },
      "execution_count": null,
      "outputs": [
        {
          "output_type": "execute_result",
          "data": {
            "text/plain": [
              "1847.989013671875"
            ]
          },
          "metadata": {},
          "execution_count": 79
        }
      ]
    },
    {
      "cell_type": "markdown",
      "source": [
        "#Predicting values for South East df"
      ],
      "metadata": {
        "id": "P27s9ZWawgAq"
      }
    },
    {
      "cell_type": "code",
      "source": [
        "X_SE_HP = South_East_df.drop([\"house_purchase_price\"], axis=1)\n",
        "#The house purchase price is set as the target variable\n",
        "y_SE_HP = South_East_df['house_purchase_price']"
      ],
      "metadata": {
        "id": "oi5C7Nbewp8w"
      },
      "execution_count": null,
      "outputs": []
    },
    {
      "cell_type": "code",
      "source": [
        "X_SE_R = South_East_df.drop([\"rent_value\"], axis=1)\n",
        "#The rent price is set as the target variable\n",
        "y_SE_R = South_East_df['rent_value']"
      ],
      "metadata": {
        "id": "RUtrN5oR0vDz"
      },
      "execution_count": null,
      "outputs": []
    },
    {
      "cell_type": "code",
      "source": [
        "pred_SE_HP = loaded_XGB_house_price_model.predict(X_SE_HP)"
      ],
      "metadata": {
        "id": "IwgDVA8u1D5K"
      },
      "execution_count": null,
      "outputs": []
    },
    {
      "cell_type": "code",
      "source": [
        "pred_SE_R = loaded_XGB_rent_price_model.predict(X_SE_R)"
      ],
      "metadata": {
        "id": "UTIxctZX1MKt"
      },
      "execution_count": null,
      "outputs": []
    },
    {
      "cell_type": "code",
      "source": [
        "loaded_XGB_house_price_model.score(X_SE_HP, y_SE_HP)"
      ],
      "metadata": {
        "colab": {
          "base_uri": "https://localhost:8080/"
        },
        "id": "J5xNmEKq3z8d",
        "outputId": "7843e050-9d79-461d-8a9c-47f0c5f3c373"
      },
      "execution_count": null,
      "outputs": [
        {
          "output_type": "execute_result",
          "data": {
            "text/plain": [
              "-0.00028351763448042355"
            ]
          },
          "metadata": {},
          "execution_count": 84
        }
      ]
    },
    {
      "cell_type": "code",
      "source": [
        "loaded_XGB_rent_price_model.score(X_SE_R, y_SE_R)"
      ],
      "metadata": {
        "colab": {
          "base_uri": "https://localhost:8080/"
        },
        "id": "-MTh5OEI35rk",
        "outputId": "6f046a90-2ebe-448f-8711-9c74d1760def"
      },
      "execution_count": null,
      "outputs": [
        {
          "output_type": "execute_result",
          "data": {
            "text/plain": [
              "0.8783159017248365"
            ]
          },
          "metadata": {},
          "execution_count": 85
        }
      ]
    },
    {
      "cell_type": "code",
      "source": [
        "pred_average_HP_SE = Average(pred_SE_HP)\n",
        "pred_average_HP_SE\n",
        "\n",
        "pred_median_HP_SE = Median(pred_SE_HP)\n",
        "pred_median_HP_SE"
      ],
      "metadata": {
        "colab": {
          "base_uri": "https://localhost:8080/"
        },
        "id": "LsUQXTU87LB1",
        "outputId": "7e93de38-2e1e-4696-ebb7-fa4160f9d0f6"
      },
      "execution_count": null,
      "outputs": [
        {
          "output_type": "execute_result",
          "data": {
            "text/plain": [
              "224642.421875"
            ]
          },
          "metadata": {},
          "execution_count": 86
        }
      ]
    },
    {
      "cell_type": "code",
      "source": [
        "pred_average_R_SE = Average(pred_SE_R)\n",
        "pred_average_R_SE\n",
        "\n",
        "pred_median_R_SE = Median(pred_SE_R)\n",
        "pred_median_R_SE"
      ],
      "metadata": {
        "colab": {
          "base_uri": "https://localhost:8080/"
        },
        "id": "sthgbqDf7aBw",
        "outputId": "5400221f-eb8a-4964-f0f9-c3cfd0cf204e"
      },
      "execution_count": null,
      "outputs": [
        {
          "output_type": "execute_result",
          "data": {
            "text/plain": [
              "862.7412109375"
            ]
          },
          "metadata": {},
          "execution_count": 87
        }
      ]
    },
    {
      "cell_type": "markdown",
      "source": [
        "#Predicting values for South West df"
      ],
      "metadata": {
        "id": "PAZAIPWW4lMf"
      }
    },
    {
      "cell_type": "code",
      "source": [
        "X_SW_HP = South_west_df.drop([\"house_purchase_price\"], axis=1)\n",
        "#The house purchase price is set as the target variable\n",
        "y_SW_HP = South_west_df['house_purchase_price']"
      ],
      "metadata": {
        "id": "r9Kjbw4Z4kqq"
      },
      "execution_count": null,
      "outputs": []
    },
    {
      "cell_type": "code",
      "source": [
        "X_SW_R = South_west_df.drop([\"rent_value\"], axis=1)\n",
        "#The rent price is set as the target variable\n",
        "y_SW_R = South_west_df['rent_value']"
      ],
      "metadata": {
        "id": "fVIIc7P86cgM"
      },
      "execution_count": null,
      "outputs": []
    },
    {
      "cell_type": "code",
      "source": [
        "pred_SW_HP = loaded_XGB_house_price_model.predict(X_SW_HP)"
      ],
      "metadata": {
        "id": "ZVROZmLp7DMc"
      },
      "execution_count": null,
      "outputs": []
    },
    {
      "cell_type": "code",
      "source": [
        "pred_SW_R = loaded_XGB_rent_price_model.predict(X_SW_R)"
      ],
      "metadata": {
        "id": "PEfkqmBA75UT"
      },
      "execution_count": null,
      "outputs": []
    },
    {
      "cell_type": "code",
      "source": [
        "loaded_XGB_house_price_model.score(X_SW_HP, y_SW_HP)"
      ],
      "metadata": {
        "colab": {
          "base_uri": "https://localhost:8080/"
        },
        "id": "ayosTuxp8JdU",
        "outputId": "2a54a36f-7e5b-4e13-f874-36e86fced59d"
      },
      "execution_count": null,
      "outputs": [
        {
          "output_type": "execute_result",
          "data": {
            "text/plain": [
              "-0.006258153174688363"
            ]
          },
          "metadata": {},
          "execution_count": 92
        }
      ]
    },
    {
      "cell_type": "code",
      "source": [
        "loaded_XGB_rent_price_model.score(X_SW_R, y_SW_R)"
      ],
      "metadata": {
        "colab": {
          "base_uri": "https://localhost:8080/"
        },
        "id": "9q6Ch5HG70CJ",
        "outputId": "ef542a1c-dd28-4e10-b7f0-22082a16f786"
      },
      "execution_count": null,
      "outputs": [
        {
          "output_type": "execute_result",
          "data": {
            "text/plain": [
              "0.6629077675737597"
            ]
          },
          "metadata": {},
          "execution_count": 93
        }
      ]
    },
    {
      "cell_type": "code",
      "source": [
        "pred_average_HP_SW = Average(pred_SW_HP)\n",
        "pred_average_HP_SW\n",
        "\n",
        "pred_median_HP_SW = Median(pred_SW_HP)\n",
        "pred_median_HP_SW"
      ],
      "metadata": {
        "colab": {
          "base_uri": "https://localhost:8080/"
        },
        "id": "bWuaRFzO8LqO",
        "outputId": "3db0f69c-9cee-45a7-b8fc-505b9a45a215"
      },
      "execution_count": null,
      "outputs": [
        {
          "output_type": "execute_result",
          "data": {
            "text/plain": [
              "287130.9375"
            ]
          },
          "metadata": {},
          "execution_count": 94
        }
      ]
    },
    {
      "cell_type": "code",
      "source": [
        "pred_average_R_SW = Average(pred_SW_R)\n",
        "pred_average_R_SW\n",
        "\n",
        "pred_median_R_SW = Median(pred_SW_R)\n",
        "pred_median_R_SW"
      ],
      "metadata": {
        "colab": {
          "base_uri": "https://localhost:8080/"
        },
        "id": "I8B_0JKm8LR0",
        "outputId": "f1abecf7-9567-4d96-a621-50e96fde2a48"
      },
      "execution_count": null,
      "outputs": [
        {
          "output_type": "execute_result",
          "data": {
            "text/plain": [
              "932.8089599609375"
            ]
          },
          "metadata": {},
          "execution_count": 95
        }
      ]
    },
    {
      "cell_type": "markdown",
      "source": [
        "#Predicting values for West DF"
      ],
      "metadata": {
        "id": "0s3urHkv8icG"
      }
    },
    {
      "cell_type": "code",
      "source": [
        "X_W_HP = West_df.drop([\"house_purchase_price\"], axis=1)\n",
        "#The house purchase price is set as the target variable\n",
        "y_W_HP = West_df['house_purchase_price']"
      ],
      "metadata": {
        "id": "cX8AP_qW8qhE"
      },
      "execution_count": null,
      "outputs": []
    },
    {
      "cell_type": "code",
      "source": [
        "X_W_R = West_df.drop([\"rent_value\"], axis=1)\n",
        "#The rent price is set as the target variable\n",
        "y_W_R = West_df['rent_value']"
      ],
      "metadata": {
        "id": "5yGX2fwr80bw"
      },
      "execution_count": null,
      "outputs": []
    },
    {
      "cell_type": "code",
      "source": [
        "pred_W_HP = loaded_XGB_house_price_model.predict(X_W_HP)"
      ],
      "metadata": {
        "id": "QCeyR1g99EiW"
      },
      "execution_count": null,
      "outputs": []
    },
    {
      "cell_type": "code",
      "source": [
        "pred_W_R = loaded_XGB_rent_price_model.predict(X_W_R)"
      ],
      "metadata": {
        "id": "ieOqKzI99HQl"
      },
      "execution_count": null,
      "outputs": []
    },
    {
      "cell_type": "code",
      "source": [
        "loaded_XGB_house_price_model.score(X_W_HP, y_W_HP)"
      ],
      "metadata": {
        "colab": {
          "base_uri": "https://localhost:8080/"
        },
        "id": "_4KORMuN9NSk",
        "outputId": "b143710d-feb2-4607-f1f2-9aecdbe58f66"
      },
      "execution_count": null,
      "outputs": [
        {
          "output_type": "execute_result",
          "data": {
            "text/plain": [
              "-0.0010570596198853366"
            ]
          },
          "metadata": {},
          "execution_count": 100
        }
      ]
    },
    {
      "cell_type": "code",
      "source": [
        "loaded_XGB_rent_price_model.score(X_W_R, y_W_R)"
      ],
      "metadata": {
        "colab": {
          "base_uri": "https://localhost:8080/"
        },
        "id": "ikzL61RM9Pue",
        "outputId": "faf0ef52-ffe3-43ff-f828-966ba174fe1a"
      },
      "execution_count": null,
      "outputs": [
        {
          "output_type": "execute_result",
          "data": {
            "text/plain": [
              "0.46920396592966374"
            ]
          },
          "metadata": {},
          "execution_count": 101
        }
      ]
    },
    {
      "cell_type": "code",
      "source": [
        "pred_average_HP_W = Average(pred_W_HP)\n",
        "pred_average_HP_W\n",
        "\n",
        "pred_median_HP_W = Median(pred_W_HP)\n",
        "pred_median_HP_W"
      ],
      "metadata": {
        "colab": {
          "base_uri": "https://localhost:8080/"
        },
        "id": "VPEEOkiN9f46",
        "outputId": "0cec4ab1-d465-4bc5-afff-a8bbe80a5df6"
      },
      "execution_count": null,
      "outputs": [
        {
          "output_type": "execute_result",
          "data": {
            "text/plain": [
              "233663.53125"
            ]
          },
          "metadata": {},
          "execution_count": 102
        }
      ]
    },
    {
      "cell_type": "code",
      "source": [
        "pred_average_R_W = Average(pred_W_R)\n",
        "pred_average_R_W\n",
        "\n",
        "pred_median_R_W = Median(pred_W_R)\n",
        "pred_median_R_W"
      ],
      "metadata": {
        "colab": {
          "base_uri": "https://localhost:8080/"
        },
        "id": "tZ8W52A79f1W",
        "outputId": "618b9555-6344-4bde-e226-70da5006b637"
      },
      "execution_count": null,
      "outputs": [
        {
          "output_type": "execute_result",
          "data": {
            "text/plain": [
              "852.5133666992188"
            ]
          },
          "metadata": {},
          "execution_count": 103
        }
      ]
    },
    {
      "cell_type": "markdown",
      "source": [
        "#Predicting values for Midland df"
      ],
      "metadata": {
        "id": "OrW5702BSxEx"
      }
    },
    {
      "cell_type": "code",
      "source": [
        "X_M_HP = Midland_df.drop([\"house_purchase_price\"], axis=1)\n",
        "#The house purchase price is set as the target variable\n",
        "y_M_HP = Midland_df['house_purchase_price']"
      ],
      "metadata": {
        "id": "sFTXtMqISzVO"
      },
      "execution_count": null,
      "outputs": []
    },
    {
      "cell_type": "code",
      "source": [
        "X_M_R = Midland_df.drop([\"rent_value\"], axis=1)\n",
        "#The rent price is set as the target variable\n",
        "y_M_R = Midland_df['rent_value']"
      ],
      "metadata": {
        "id": "Bu3euZP9S34i"
      },
      "execution_count": null,
      "outputs": []
    },
    {
      "cell_type": "code",
      "source": [
        "pred_M_HP = loaded_XGB_house_price_model.predict(X_M_HP)"
      ],
      "metadata": {
        "id": "qlAja680TCwm"
      },
      "execution_count": null,
      "outputs": []
    },
    {
      "cell_type": "code",
      "source": [
        "pred_M_R = loaded_XGB_rent_price_model.predict(X_M_R)"
      ],
      "metadata": {
        "id": "HJry40F6THhT"
      },
      "execution_count": null,
      "outputs": []
    },
    {
      "cell_type": "code",
      "source": [
        "loaded_XGB_house_price_model.score(X_M_HP, y_M_HP)"
      ],
      "metadata": {
        "colab": {
          "base_uri": "https://localhost:8080/"
        },
        "id": "Nm_Of2uOTLy0",
        "outputId": "48814384-16c3-49ec-eeea-ff36de49627a"
      },
      "execution_count": null,
      "outputs": [
        {
          "output_type": "execute_result",
          "data": {
            "text/plain": [
              "-0.0029710426304885296"
            ]
          },
          "metadata": {},
          "execution_count": 108
        }
      ]
    },
    {
      "cell_type": "code",
      "source": [
        "loaded_XGB_rent_price_model.score(X_M_R, y_M_R)"
      ],
      "metadata": {
        "colab": {
          "base_uri": "https://localhost:8080/"
        },
        "id": "ura66pp_TRTq",
        "outputId": "7232814a-86e2-43e0-e06e-89a9f9695471"
      },
      "execution_count": null,
      "outputs": [
        {
          "output_type": "execute_result",
          "data": {
            "text/plain": [
              "0.6439635512334918"
            ]
          },
          "metadata": {},
          "execution_count": 109
        }
      ]
    },
    {
      "cell_type": "code",
      "source": [
        "pred_average_HP_M = Average(pred_M_HP)\n",
        "pred_average_HP_M\n",
        "\n",
        "pred_median_HP_M = Median(pred_M_HP)\n",
        "pred_median_HP_M"
      ],
      "metadata": {
        "colab": {
          "base_uri": "https://localhost:8080/"
        },
        "id": "OPwZOSkpTTnO",
        "outputId": "2a101b2c-6157-4a32-e491-da6b2ba16a79"
      },
      "execution_count": null,
      "outputs": [
        {
          "output_type": "execute_result",
          "data": {
            "text/plain": [
              "193774.125"
            ]
          },
          "metadata": {},
          "execution_count": 110
        }
      ]
    },
    {
      "cell_type": "code",
      "source": [
        "pred_average_R_M = Average(pred_M_R)\n",
        "pred_average_R_M\n",
        "\n",
        "pred_median_R_M = Median(pred_M_R)\n",
        "pred_median_R_M"
      ],
      "metadata": {
        "colab": {
          "base_uri": "https://localhost:8080/"
        },
        "id": "LSgYgnkiTVvB",
        "outputId": "2727659b-6206-4655-d039-4591429c4322"
      },
      "execution_count": null,
      "outputs": [
        {
          "output_type": "execute_result",
          "data": {
            "text/plain": [
              "852.0408325195312"
            ]
          },
          "metadata": {},
          "execution_count": 111
        }
      ]
    },
    {
      "cell_type": "markdown",
      "source": [
        "#Predicting values for Mid East DF"
      ],
      "metadata": {
        "id": "uP16aPGITe-O"
      }
    },
    {
      "cell_type": "code",
      "source": [
        "X_ME_HP = Mid_East_df.drop([\"house_purchase_price\"], axis=1)\n",
        "#The house purchase price is set as the target variable\n",
        "y_ME_HP = Mid_East_df['house_purchase_price']"
      ],
      "metadata": {
        "id": "oSRAQ_18TnLk"
      },
      "execution_count": null,
      "outputs": []
    },
    {
      "cell_type": "code",
      "source": [
        "X_ME_R = Mid_East_df.drop([\"rent_value\"], axis=1)\n",
        "#The rent price is set as the target variable\n",
        "y_ME_R = Mid_East_df['rent_value']"
      ],
      "metadata": {
        "id": "h6xe1Q1oTtj2"
      },
      "execution_count": null,
      "outputs": []
    },
    {
      "cell_type": "code",
      "source": [
        "pred_ME_HP = loaded_XGB_house_price_model.predict(X_ME_HP)"
      ],
      "metadata": {
        "id": "uhuzoHGjT-hk"
      },
      "execution_count": null,
      "outputs": []
    },
    {
      "cell_type": "code",
      "source": [
        "pred_ME_R = loaded_XGB_rent_price_model.predict(X_ME_R)"
      ],
      "metadata": {
        "id": "7Q4oT51NUCFX"
      },
      "execution_count": null,
      "outputs": []
    },
    {
      "cell_type": "code",
      "source": [
        "loaded_XGB_house_price_model.score(X_ME_HP, y_ME_HP)"
      ],
      "metadata": {
        "colab": {
          "base_uri": "https://localhost:8080/"
        },
        "id": "vS3Tu2vYUD9J",
        "outputId": "497a754a-d75c-40d1-d873-3b8d594c221e"
      },
      "execution_count": null,
      "outputs": [
        {
          "output_type": "execute_result",
          "data": {
            "text/plain": [
              "-0.002813716585696957"
            ]
          },
          "metadata": {},
          "execution_count": 116
        }
      ]
    },
    {
      "cell_type": "code",
      "source": [
        "loaded_XGB_rent_price_model.score(X_ME_R, y_ME_R)"
      ],
      "metadata": {
        "colab": {
          "base_uri": "https://localhost:8080/"
        },
        "id": "qJqnRIQAUF_Q",
        "outputId": "16921c0f-7d7f-4c02-a339-f4942d7759a7"
      },
      "execution_count": null,
      "outputs": [
        {
          "output_type": "execute_result",
          "data": {
            "text/plain": [
              "0.787235965226775"
            ]
          },
          "metadata": {},
          "execution_count": 117
        }
      ]
    },
    {
      "cell_type": "code",
      "source": [
        "pred_average_HP_ME = Average(pred_ME_HP)\n",
        "pred_average_HP_ME\n",
        "\n",
        "pred_median_HP_ME = Median(pred_ME_HP)\n",
        "pred_median_HP_ME"
      ],
      "metadata": {
        "colab": {
          "base_uri": "https://localhost:8080/"
        },
        "id": "AEHaue8QUH4q",
        "outputId": "69a80719-d602-41ee-b45e-c44c74a149ec"
      },
      "execution_count": null,
      "outputs": [
        {
          "output_type": "execute_result",
          "data": {
            "text/plain": [
              "316024.34375"
            ]
          },
          "metadata": {},
          "execution_count": 118
        }
      ]
    },
    {
      "cell_type": "code",
      "source": [
        "pred_average_R_ME = Average(pred_ME_R)\n",
        "pred_average_R_ME\n",
        "\n",
        "pred_median_R_ME = Median(pred_ME_R)\n",
        "pred_median_R_ME"
      ],
      "metadata": {
        "colab": {
          "base_uri": "https://localhost:8080/"
        },
        "id": "MG-y0SrgUJG9",
        "outputId": "e9223a31-0402-4170-c4d1-57563bdf88e8"
      },
      "execution_count": null,
      "outputs": [
        {
          "output_type": "execute_result",
          "data": {
            "text/plain": [
              "1259.7220458984375"
            ]
          },
          "metadata": {},
          "execution_count": 119
        }
      ]
    },
    {
      "cell_type": "markdown",
      "source": [
        "#Predicting values for Mid West DF"
      ],
      "metadata": {
        "id": "NZyjYqfLUplJ"
      }
    },
    {
      "cell_type": "code",
      "source": [
        "X_MW_HP = Mid_West_df.drop([\"house_purchase_price\"], axis=1)\n",
        "#The house purchase price is set as the target variable\n",
        "y_MW_HP = Mid_West_df['house_purchase_price']"
      ],
      "metadata": {
        "id": "FeZUdjUzUw8e"
      },
      "execution_count": null,
      "outputs": []
    },
    {
      "cell_type": "code",
      "source": [
        "X_MW_R = Mid_West_df.drop([\"rent_value\"], axis=1)\n",
        "#The rent price is set as the target variable\n",
        "y_MW_R = Mid_West_df['rent_value']"
      ],
      "metadata": {
        "id": "j5DNX6qjU09F"
      },
      "execution_count": null,
      "outputs": []
    },
    {
      "cell_type": "code",
      "source": [
        "pred_MW_HP = loaded_XGB_house_price_model.predict(X_MW_HP)"
      ],
      "metadata": {
        "id": "xMm06tavU3PN"
      },
      "execution_count": null,
      "outputs": []
    },
    {
      "cell_type": "code",
      "source": [
        "pred_MW_R = loaded_XGB_rent_price_model.predict(X_MW_R)"
      ],
      "metadata": {
        "id": "XwkiBJPuVHTt"
      },
      "execution_count": null,
      "outputs": []
    },
    {
      "cell_type": "code",
      "source": [
        "loaded_XGB_house_price_model.score(X_MW_HP, y_MW_HP)"
      ],
      "metadata": {
        "colab": {
          "base_uri": "https://localhost:8080/"
        },
        "id": "F3LtKpiuVMcc",
        "outputId": "b18fee91-2742-46c7-d827-7dcbffbcc9a2"
      },
      "execution_count": null,
      "outputs": [
        {
          "output_type": "execute_result",
          "data": {
            "text/plain": [
              "-0.001335600362528444"
            ]
          },
          "metadata": {},
          "execution_count": 124
        }
      ]
    },
    {
      "cell_type": "code",
      "source": [
        "loaded_XGB_rent_price_model.score(X_MW_R, y_MW_R)"
      ],
      "metadata": {
        "colab": {
          "base_uri": "https://localhost:8080/"
        },
        "id": "dwmAiYZFVN5f",
        "outputId": "8be2c25c-aab9-406f-a292-b4d08717c189"
      },
      "execution_count": null,
      "outputs": [
        {
          "output_type": "execute_result",
          "data": {
            "text/plain": [
              "0.6185413877852808"
            ]
          },
          "metadata": {},
          "execution_count": 125
        }
      ]
    },
    {
      "cell_type": "code",
      "source": [
        "pred_average_HP_MW = Average(pred_MW_HP)\n",
        "pred_average_HP_MW\n",
        "\n",
        "pred_median_HP_MW = Median(pred_MW_HP)\n",
        "pred_median_HP_MW"
      ],
      "metadata": {
        "colab": {
          "base_uri": "https://localhost:8080/"
        },
        "id": "alILV9qcVPr4",
        "outputId": "b08fce2e-d2ec-42be-c631-f7f706555c18"
      },
      "execution_count": null,
      "outputs": [
        {
          "output_type": "execute_result",
          "data": {
            "text/plain": [
              "210562.09375"
            ]
          },
          "metadata": {},
          "execution_count": 126
        }
      ]
    },
    {
      "cell_type": "code",
      "source": [
        "pred_average_R_MW = Average(pred_MW_R)\n",
        "pred_average_R_MW\n",
        "\n",
        "pred_median_R_MW = Median(pred_MW_R)\n",
        "pred_median_R_MW"
      ],
      "metadata": {
        "colab": {
          "base_uri": "https://localhost:8080/"
        },
        "id": "VgtOVU3-VRgO",
        "outputId": "f66bc561-3840-4983-fb18-b62f8b65e046"
      },
      "execution_count": null,
      "outputs": [
        {
          "output_type": "execute_result",
          "data": {
            "text/plain": [
              "819.36181640625"
            ]
          },
          "metadata": {},
          "execution_count": 127
        }
      ]
    },
    {
      "cell_type": "markdown",
      "source": [
        "#Predicting values for Border DF"
      ],
      "metadata": {
        "id": "wrtbkgWyVbSF"
      }
    },
    {
      "cell_type": "code",
      "source": [
        "X_B_HP = Border_df.drop([\"house_purchase_price\"], axis=1)\n",
        "#The house purchase price is set as the target variable\n",
        "y_B_HP = Border_df['house_purchase_price']"
      ],
      "metadata": {
        "id": "OD_V2-KTVmEb"
      },
      "execution_count": null,
      "outputs": []
    },
    {
      "cell_type": "code",
      "source": [
        "X_B_R = Border_df.drop([\"rent_value\"], axis=1)\n",
        "#The rent price is set as the target variable\n",
        "y_B_R = Border_df['rent_value']"
      ],
      "metadata": {
        "id": "dGc51BdZVqlf"
      },
      "execution_count": null,
      "outputs": []
    },
    {
      "cell_type": "code",
      "source": [
        "pred_B_HP = loaded_XGB_house_price_model.predict(X_B_HP)"
      ],
      "metadata": {
        "id": "T-S-a0_cVt_y"
      },
      "execution_count": null,
      "outputs": []
    },
    {
      "cell_type": "code",
      "source": [
        "pred_B_R = loaded_XGB_rent_price_model.predict(X_B_R)"
      ],
      "metadata": {
        "id": "GT0luxluVyoi"
      },
      "execution_count": null,
      "outputs": []
    },
    {
      "cell_type": "code",
      "source": [
        "loaded_XGB_house_price_model.score(X_B_HP, y_B_HP)"
      ],
      "metadata": {
        "colab": {
          "base_uri": "https://localhost:8080/"
        },
        "id": "gSZ0OUyfV2CK",
        "outputId": "62a2fb57-9db3-4c36-d791-2aadc4d2ae62"
      },
      "execution_count": null,
      "outputs": [
        {
          "output_type": "execute_result",
          "data": {
            "text/plain": [
              "-0.004054673930421693"
            ]
          },
          "metadata": {},
          "execution_count": 132
        }
      ]
    },
    {
      "cell_type": "code",
      "source": [
        "loaded_XGB_rent_price_model.score(X_B_R, y_B_R)"
      ],
      "metadata": {
        "colab": {
          "base_uri": "https://localhost:8080/"
        },
        "id": "fTwSf6i7V4mS",
        "outputId": "836f3237-59ce-4d09-9110-d4f9b54b0cce"
      },
      "execution_count": null,
      "outputs": [
        {
          "output_type": "execute_result",
          "data": {
            "text/plain": [
              "0.6890973078088336"
            ]
          },
          "metadata": {},
          "execution_count": 133
        }
      ]
    },
    {
      "cell_type": "code",
      "source": [
        "pred_average_HP_B = Average(pred_B_HP)\n",
        "pred_average_HP_B\n",
        "\n",
        "pred_median_HP_B = Median(pred_B_HP)\n",
        "pred_median_HP_B"
      ],
      "metadata": {
        "colab": {
          "base_uri": "https://localhost:8080/"
        },
        "id": "VdFdeXxOV7Ms",
        "outputId": "b465d147-21cc-4d7b-857c-542fd78d7e5a"
      },
      "execution_count": null,
      "outputs": [
        {
          "output_type": "execute_result",
          "data": {
            "text/plain": [
              "160388.890625"
            ]
          },
          "metadata": {},
          "execution_count": 134
        }
      ]
    },
    {
      "cell_type": "code",
      "source": [
        "pred_average_R_B = Average(pred_B_R)\n",
        "pred_average_R_B\n",
        "\n",
        "pred_median_R_B = Median(pred_B_R)\n",
        "pred_median_R_B"
      ],
      "metadata": {
        "colab": {
          "base_uri": "https://localhost:8080/"
        },
        "id": "qBwNGCkeV9Ly",
        "outputId": "0dba0299-b9f1-41de-b1d4-dcde89706e1e"
      },
      "execution_count": null,
      "outputs": [
        {
          "output_type": "execute_result",
          "data": {
            "text/plain": [
              "670.8225708007812"
            ]
          },
          "metadata": {},
          "execution_count": 135
        }
      ]
    },
    {
      "cell_type": "markdown",
      "source": [
        "#Creating tables to display the predicted average house/rent values for all region"
      ],
      "metadata": {
        "id": "moz7Ol9xBJ9O"
      }
    },
    {
      "cell_type": "code",
      "source": [
        "Avg_pred_values = {'Region': ['Dublin', 'South_East', 'South_West', 'West', 'Midland', 'Mid_East', 'Mid_West', 'Border'],\n",
        "              'Avg House Price': [pred_average_HP_Dub, pred_average_HP_SE, pred_average_HP_SW, pred_average_HP_W, pred_average_HP_M, pred_average_HP_ME, pred_average_HP_MW, pred_average_HP_B],\n",
        "              'Avg Rent Price': [pred_average_R_Dub, pred_average_R_SE, pred_average_R_SW, pred_average_R_W, pred_average_R_M, pred_average_R_ME, pred_average_R_MW, pred_average_R_B],\n",
        "              'Median House price': [pred_median_HP_Dub, pred_median_HP_SE, pred_median_HP_SW, pred_median_HP_W, pred_median_HP_M, pred_median_HP_ME, pred_median_HP_MW, pred_median_HP_B],\n",
        "              'Median rent price': [pred_median_R_Dub, pred_median_R_SE, pred_median_R_SW, pred_median_R_W, pred_median_R_M, pred_median_R_ME, pred_median_R_MW, pred_median_R_B]}"
      ],
      "metadata": {
        "id": "13UxlHOcBVr8"
      },
      "execution_count": null,
      "outputs": []
    },
    {
      "cell_type": "code",
      "source": [
        "Avg_pred_val_DF = pd.DataFrame.from_dict(Avg_pred_values)\n",
        "Avg_pred_val_DF"
      ],
      "metadata": {
        "colab": {
          "base_uri": "https://localhost:8080/",
          "height": 317
        },
        "id": "94WnRXJuDUkf",
        "outputId": "acc143f0-739f-4c75-8e78-9605265c351a"
      },
      "execution_count": null,
      "outputs": [
        {
          "output_type": "execute_result",
          "data": {
            "text/plain": [
              "       Region  Avg House Price  Avg Rent Price  Median House price  \\\n",
              "0      Dublin    551365.297689     1903.579496       548925.250000   \n",
              "1  South_East    223996.446480      888.812897       224642.421875   \n",
              "2  South_West    286616.165733     1003.579783       287130.937500   \n",
              "3        West    232484.082701      877.343633       233663.531250   \n",
              "4     Midland    193755.751465      836.384354       193774.125000   \n",
              "5    Mid_East    315160.047847     1240.947547       316024.343750   \n",
              "6    Mid_West    210872.507132      854.320055       210562.093750   \n",
              "7      Border    160629.944129      670.275815       160388.890625   \n",
              "\n",
              "   Median rent price  \n",
              "0        1847.989014  \n",
              "1         862.741211  \n",
              "2         932.808960  \n",
              "3         852.513367  \n",
              "4         852.040833  \n",
              "5        1259.722046  \n",
              "6         819.361816  \n",
              "7         670.822571  "
            ],
            "text/html": [
              "\n",
              "  <div id=\"df-cd6e8b9d-b3ca-42d2-95b0-b0f162bd2dea\" class=\"colab-df-container\">\n",
              "    <div>\n",
              "<style scoped>\n",
              "    .dataframe tbody tr th:only-of-type {\n",
              "        vertical-align: middle;\n",
              "    }\n",
              "\n",
              "    .dataframe tbody tr th {\n",
              "        vertical-align: top;\n",
              "    }\n",
              "\n",
              "    .dataframe thead th {\n",
              "        text-align: right;\n",
              "    }\n",
              "</style>\n",
              "<table border=\"1\" class=\"dataframe\">\n",
              "  <thead>\n",
              "    <tr style=\"text-align: right;\">\n",
              "      <th></th>\n",
              "      <th>Region</th>\n",
              "      <th>Avg House Price</th>\n",
              "      <th>Avg Rent Price</th>\n",
              "      <th>Median House price</th>\n",
              "      <th>Median rent price</th>\n",
              "    </tr>\n",
              "  </thead>\n",
              "  <tbody>\n",
              "    <tr>\n",
              "      <th>0</th>\n",
              "      <td>Dublin</td>\n",
              "      <td>551365.297689</td>\n",
              "      <td>1903.579496</td>\n",
              "      <td>548925.250000</td>\n",
              "      <td>1847.989014</td>\n",
              "    </tr>\n",
              "    <tr>\n",
              "      <th>1</th>\n",
              "      <td>South_East</td>\n",
              "      <td>223996.446480</td>\n",
              "      <td>888.812897</td>\n",
              "      <td>224642.421875</td>\n",
              "      <td>862.741211</td>\n",
              "    </tr>\n",
              "    <tr>\n",
              "      <th>2</th>\n",
              "      <td>South_West</td>\n",
              "      <td>286616.165733</td>\n",
              "      <td>1003.579783</td>\n",
              "      <td>287130.937500</td>\n",
              "      <td>932.808960</td>\n",
              "    </tr>\n",
              "    <tr>\n",
              "      <th>3</th>\n",
              "      <td>West</td>\n",
              "      <td>232484.082701</td>\n",
              "      <td>877.343633</td>\n",
              "      <td>233663.531250</td>\n",
              "      <td>852.513367</td>\n",
              "    </tr>\n",
              "    <tr>\n",
              "      <th>4</th>\n",
              "      <td>Midland</td>\n",
              "      <td>193755.751465</td>\n",
              "      <td>836.384354</td>\n",
              "      <td>193774.125000</td>\n",
              "      <td>852.040833</td>\n",
              "    </tr>\n",
              "    <tr>\n",
              "      <th>5</th>\n",
              "      <td>Mid_East</td>\n",
              "      <td>315160.047847</td>\n",
              "      <td>1240.947547</td>\n",
              "      <td>316024.343750</td>\n",
              "      <td>1259.722046</td>\n",
              "    </tr>\n",
              "    <tr>\n",
              "      <th>6</th>\n",
              "      <td>Mid_West</td>\n",
              "      <td>210872.507132</td>\n",
              "      <td>854.320055</td>\n",
              "      <td>210562.093750</td>\n",
              "      <td>819.361816</td>\n",
              "    </tr>\n",
              "    <tr>\n",
              "      <th>7</th>\n",
              "      <td>Border</td>\n",
              "      <td>160629.944129</td>\n",
              "      <td>670.275815</td>\n",
              "      <td>160388.890625</td>\n",
              "      <td>670.822571</td>\n",
              "    </tr>\n",
              "  </tbody>\n",
              "</table>\n",
              "</div>\n",
              "    <div class=\"colab-df-buttons\">\n",
              "\n",
              "  <div class=\"colab-df-container\">\n",
              "    <button class=\"colab-df-convert\" onclick=\"convertToInteractive('df-cd6e8b9d-b3ca-42d2-95b0-b0f162bd2dea')\"\n",
              "            title=\"Convert this dataframe to an interactive table.\"\n",
              "            style=\"display:none;\">\n",
              "\n",
              "  <svg xmlns=\"http://www.w3.org/2000/svg\" height=\"24px\" viewBox=\"0 -960 960 960\">\n",
              "    <path d=\"M120-120v-720h720v720H120Zm60-500h600v-160H180v160Zm220 220h160v-160H400v160Zm0 220h160v-160H400v160ZM180-400h160v-160H180v160Zm440 0h160v-160H620v160ZM180-180h160v-160H180v160Zm440 0h160v-160H620v160Z\"/>\n",
              "  </svg>\n",
              "    </button>\n",
              "\n",
              "  <style>\n",
              "    .colab-df-container {\n",
              "      display:flex;\n",
              "      gap: 12px;\n",
              "    }\n",
              "\n",
              "    .colab-df-convert {\n",
              "      background-color: #E8F0FE;\n",
              "      border: none;\n",
              "      border-radius: 50%;\n",
              "      cursor: pointer;\n",
              "      display: none;\n",
              "      fill: #1967D2;\n",
              "      height: 32px;\n",
              "      padding: 0 0 0 0;\n",
              "      width: 32px;\n",
              "    }\n",
              "\n",
              "    .colab-df-convert:hover {\n",
              "      background-color: #E2EBFA;\n",
              "      box-shadow: 0px 1px 2px rgba(60, 64, 67, 0.3), 0px 1px 3px 1px rgba(60, 64, 67, 0.15);\n",
              "      fill: #174EA6;\n",
              "    }\n",
              "\n",
              "    .colab-df-buttons div {\n",
              "      margin-bottom: 4px;\n",
              "    }\n",
              "\n",
              "    [theme=dark] .colab-df-convert {\n",
              "      background-color: #3B4455;\n",
              "      fill: #D2E3FC;\n",
              "    }\n",
              "\n",
              "    [theme=dark] .colab-df-convert:hover {\n",
              "      background-color: #434B5C;\n",
              "      box-shadow: 0px 1px 3px 1px rgba(0, 0, 0, 0.15);\n",
              "      filter: drop-shadow(0px 1px 2px rgba(0, 0, 0, 0.3));\n",
              "      fill: #FFFFFF;\n",
              "    }\n",
              "  </style>\n",
              "\n",
              "    <script>\n",
              "      const buttonEl =\n",
              "        document.querySelector('#df-cd6e8b9d-b3ca-42d2-95b0-b0f162bd2dea button.colab-df-convert');\n",
              "      buttonEl.style.display =\n",
              "        google.colab.kernel.accessAllowed ? 'block' : 'none';\n",
              "\n",
              "      async function convertToInteractive(key) {\n",
              "        const element = document.querySelector('#df-cd6e8b9d-b3ca-42d2-95b0-b0f162bd2dea');\n",
              "        const dataTable =\n",
              "          await google.colab.kernel.invokeFunction('convertToInteractive',\n",
              "                                                    [key], {});\n",
              "        if (!dataTable) return;\n",
              "\n",
              "        const docLinkHtml = 'Like what you see? Visit the ' +\n",
              "          '<a target=\"_blank\" href=https://colab.research.google.com/notebooks/data_table.ipynb>data table notebook</a>'\n",
              "          + ' to learn more about interactive tables.';\n",
              "        element.innerHTML = '';\n",
              "        dataTable['output_type'] = 'display_data';\n",
              "        await google.colab.output.renderOutput(dataTable, element);\n",
              "        const docLink = document.createElement('div');\n",
              "        docLink.innerHTML = docLinkHtml;\n",
              "        element.appendChild(docLink);\n",
              "      }\n",
              "    </script>\n",
              "  </div>\n",
              "\n",
              "\n",
              "<div id=\"df-197f5939-dc99-42e1-9e76-5184fbcd607e\">\n",
              "  <button class=\"colab-df-quickchart\" onclick=\"quickchart('df-197f5939-dc99-42e1-9e76-5184fbcd607e')\"\n",
              "            title=\"Suggest charts\"\n",
              "            style=\"display:none;\">\n",
              "\n",
              "<svg xmlns=\"http://www.w3.org/2000/svg\" height=\"24px\"viewBox=\"0 0 24 24\"\n",
              "     width=\"24px\">\n",
              "    <g>\n",
              "        <path d=\"M19 3H5c-1.1 0-2 .9-2 2v14c0 1.1.9 2 2 2h14c1.1 0 2-.9 2-2V5c0-1.1-.9-2-2-2zM9 17H7v-7h2v7zm4 0h-2V7h2v10zm4 0h-2v-4h2v4z\"/>\n",
              "    </g>\n",
              "</svg>\n",
              "  </button>\n",
              "\n",
              "<style>\n",
              "  .colab-df-quickchart {\n",
              "      --bg-color: #E8F0FE;\n",
              "      --fill-color: #1967D2;\n",
              "      --hover-bg-color: #E2EBFA;\n",
              "      --hover-fill-color: #174EA6;\n",
              "      --disabled-fill-color: #AAA;\n",
              "      --disabled-bg-color: #DDD;\n",
              "  }\n",
              "\n",
              "  [theme=dark] .colab-df-quickchart {\n",
              "      --bg-color: #3B4455;\n",
              "      --fill-color: #D2E3FC;\n",
              "      --hover-bg-color: #434B5C;\n",
              "      --hover-fill-color: #FFFFFF;\n",
              "      --disabled-bg-color: #3B4455;\n",
              "      --disabled-fill-color: #666;\n",
              "  }\n",
              "\n",
              "  .colab-df-quickchart {\n",
              "    background-color: var(--bg-color);\n",
              "    border: none;\n",
              "    border-radius: 50%;\n",
              "    cursor: pointer;\n",
              "    display: none;\n",
              "    fill: var(--fill-color);\n",
              "    height: 32px;\n",
              "    padding: 0;\n",
              "    width: 32px;\n",
              "  }\n",
              "\n",
              "  .colab-df-quickchart:hover {\n",
              "    background-color: var(--hover-bg-color);\n",
              "    box-shadow: 0 1px 2px rgba(60, 64, 67, 0.3), 0 1px 3px 1px rgba(60, 64, 67, 0.15);\n",
              "    fill: var(--button-hover-fill-color);\n",
              "  }\n",
              "\n",
              "  .colab-df-quickchart-complete:disabled,\n",
              "  .colab-df-quickchart-complete:disabled:hover {\n",
              "    background-color: var(--disabled-bg-color);\n",
              "    fill: var(--disabled-fill-color);\n",
              "    box-shadow: none;\n",
              "  }\n",
              "\n",
              "  .colab-df-spinner {\n",
              "    border: 2px solid var(--fill-color);\n",
              "    border-color: transparent;\n",
              "    border-bottom-color: var(--fill-color);\n",
              "    animation:\n",
              "      spin 1s steps(1) infinite;\n",
              "  }\n",
              "\n",
              "  @keyframes spin {\n",
              "    0% {\n",
              "      border-color: transparent;\n",
              "      border-bottom-color: var(--fill-color);\n",
              "      border-left-color: var(--fill-color);\n",
              "    }\n",
              "    20% {\n",
              "      border-color: transparent;\n",
              "      border-left-color: var(--fill-color);\n",
              "      border-top-color: var(--fill-color);\n",
              "    }\n",
              "    30% {\n",
              "      border-color: transparent;\n",
              "      border-left-color: var(--fill-color);\n",
              "      border-top-color: var(--fill-color);\n",
              "      border-right-color: var(--fill-color);\n",
              "    }\n",
              "    40% {\n",
              "      border-color: transparent;\n",
              "      border-right-color: var(--fill-color);\n",
              "      border-top-color: var(--fill-color);\n",
              "    }\n",
              "    60% {\n",
              "      border-color: transparent;\n",
              "      border-right-color: var(--fill-color);\n",
              "    }\n",
              "    80% {\n",
              "      border-color: transparent;\n",
              "      border-right-color: var(--fill-color);\n",
              "      border-bottom-color: var(--fill-color);\n",
              "    }\n",
              "    90% {\n",
              "      border-color: transparent;\n",
              "      border-bottom-color: var(--fill-color);\n",
              "    }\n",
              "  }\n",
              "</style>\n",
              "\n",
              "  <script>\n",
              "    async function quickchart(key) {\n",
              "      const quickchartButtonEl =\n",
              "        document.querySelector('#' + key + ' button');\n",
              "      quickchartButtonEl.disabled = true;  // To prevent multiple clicks.\n",
              "      quickchartButtonEl.classList.add('colab-df-spinner');\n",
              "      try {\n",
              "        const charts = await google.colab.kernel.invokeFunction(\n",
              "            'suggestCharts', [key], {});\n",
              "      } catch (error) {\n",
              "        console.error('Error during call to suggestCharts:', error);\n",
              "      }\n",
              "      quickchartButtonEl.classList.remove('colab-df-spinner');\n",
              "      quickchartButtonEl.classList.add('colab-df-quickchart-complete');\n",
              "    }\n",
              "    (() => {\n",
              "      let quickchartButtonEl =\n",
              "        document.querySelector('#df-197f5939-dc99-42e1-9e76-5184fbcd607e button');\n",
              "      quickchartButtonEl.style.display =\n",
              "        google.colab.kernel.accessAllowed ? 'block' : 'none';\n",
              "    })();\n",
              "  </script>\n",
              "</div>\n",
              "    </div>\n",
              "  </div>\n"
            ],
            "application/vnd.google.colaboratory.intrinsic+json": {
              "type": "dataframe",
              "variable_name": "Avg_pred_val_DF",
              "summary": "{\n  \"name\": \"Avg_pred_val_DF\",\n  \"rows\": 8,\n  \"fields\": [\n    {\n      \"column\": \"Region\",\n      \"properties\": {\n        \"dtype\": \"string\",\n        \"num_unique_values\": 8,\n        \"samples\": [\n          \"South_East\",\n          \"Mid_East\",\n          \"Dublin\"\n        ],\n        \"semantic_type\": \"\",\n        \"description\": \"\"\n      }\n    },\n    {\n      \"column\": \"Avg House Price\",\n      \"properties\": {\n        \"dtype\": \"number\",\n        \"std\": 123200.82669035182,\n        \"min\": 160629.9441293615,\n        \"max\": 551365.2976893816,\n        \"num_unique_values\": 8,\n        \"samples\": [\n          223996.44648048174,\n          315160.0478468499,\n          551365.2976893816\n        ],\n        \"semantic_type\": \"\",\n        \"description\": \"\"\n      }\n    },\n    {\n      \"column\": \"Avg Rent Price\",\n      \"properties\": {\n        \"dtype\": \"number\",\n        \"std\": 387.1456875574294,\n        \"min\": 670.2758149206421,\n        \"max\": 1903.5794963447668,\n        \"num_unique_values\": 8,\n        \"samples\": [\n          888.8128968828006,\n          1240.9475471394312,\n          1903.5794963447668\n        ],\n        \"semantic_type\": \"\",\n        \"description\": \"\"\n      }\n    },\n    {\n      \"column\": \"Median House price\",\n      \"properties\": {\n        \"dtype\": \"number\",\n        \"std\": 122426.6265176845,\n        \"min\": 160388.890625,\n        \"max\": 548925.25,\n        \"num_unique_values\": 8,\n        \"samples\": [\n          224642.421875,\n          316024.34375,\n          548925.25\n        ],\n        \"semantic_type\": \"\",\n        \"description\": \"\"\n      }\n    },\n    {\n      \"column\": \"Median rent price\",\n      \"properties\": {\n        \"dtype\": \"number\",\n        \"std\": 376.70131773188166,\n        \"min\": 670.8225708007812,\n        \"max\": 1847.989013671875,\n        \"num_unique_values\": 8,\n        \"samples\": [\n          862.7412109375,\n          1259.7220458984375,\n          1847.989013671875\n        ],\n        \"semantic_type\": \"\",\n        \"description\": \"\"\n      }\n    }\n  ]\n}"
            }
          },
          "metadata": {},
          "execution_count": 137
        }
      ]
    },
    {
      "cell_type": "code",
      "source": [
        "cb_sample_df"
      ],
      "metadata": {
        "colab": {
          "base_uri": "https://localhost:8080/",
          "height": 478
        },
        "id": "4cIdwidUICyU",
        "outputId": "20cec225-a605-4e0d-dfff-43f9ad5e305f"
      },
      "execution_count": null,
      "outputs": [
        {
          "output_type": "execute_result",
          "data": {
            "text/plain": [
              "       Year  Number of Bedrooms  rent_value  Apartment  Detached house  \\\n",
              "0      2021                   3     1205.19          0               1   \n",
              "1      2021                   4     1620.53          0               0   \n",
              "2      2021                   3     1439.21          0               0   \n",
              "3      2021                   4     1765.80          0               0   \n",
              "4      2021                   1      831.94          0               0   \n",
              "...     ...                 ...         ...        ...             ...   \n",
              "43347  2021                   4     1342.31          0               0   \n",
              "43348  2021                   2      861.82          0               0   \n",
              "43349  2021                   1      679.57          0               0   \n",
              "43350  2021                   4     1414.52          0               0   \n",
              "43351  2021                   3      788.10          1               0   \n",
              "\n",
              "       Other flats  Semi detached house  Terrace house  avg_disposable_income  \\\n",
              "0                0                    0              0               17434.03   \n",
              "1                0                    1              0               17434.03   \n",
              "2                0                    0              1               17434.03   \n",
              "3                0                    1              0               17434.03   \n",
              "4                1                    0              0               17434.03   \n",
              "...            ...                  ...            ...                    ...   \n",
              "43347            0                    0              1               11853.13   \n",
              "43348            0                    1              0               11853.13   \n",
              "43349            1                    0              0               11853.13   \n",
              "43350            0                    1              0               11853.13   \n",
              "43351            0                    0              0               11853.13   \n",
              "\n",
              "       house_purchase_price  Number_of_Crimes  Border  Dublin  Mid_East  \\\n",
              "0                  202857.0             42748   False   False      True   \n",
              "1                  259999.0             42748   False   False      True   \n",
              "2                  142156.0             42748   False   False      True   \n",
              "3                  328777.0             42748   False   False      True   \n",
              "4                  266068.0             42748   False   False      True   \n",
              "...                     ...               ...     ...     ...       ...   \n",
              "43347              151050.0             34251   False   False     False   \n",
              "43348              378581.0             34251   False   False     False   \n",
              "43349              257460.0             34251   False   False     False   \n",
              "43350              224984.0             34251   False   False     False   \n",
              "43351              253121.0             34251   False   False     False   \n",
              "\n",
              "       Mid_West  Midland  South_East  South_West   West  \n",
              "0         False    False       False       False  False  \n",
              "1         False    False       False       False  False  \n",
              "2         False    False       False       False  False  \n",
              "3         False    False       False       False  False  \n",
              "4         False    False       False       False  False  \n",
              "...         ...      ...         ...         ...    ...  \n",
              "43347      True    False       False       False  False  \n",
              "43348      True    False       False       False  False  \n",
              "43349      True    False       False       False  False  \n",
              "43350      True    False       False       False  False  \n",
              "43351      True    False       False       False  False  \n",
              "\n",
              "[43352 rows x 19 columns]"
            ],
            "text/html": [
              "\n",
              "  <div id=\"df-3340e094-64c4-4c8d-a5ac-a0744b3b47a6\" class=\"colab-df-container\">\n",
              "    <div>\n",
              "<style scoped>\n",
              "    .dataframe tbody tr th:only-of-type {\n",
              "        vertical-align: middle;\n",
              "    }\n",
              "\n",
              "    .dataframe tbody tr th {\n",
              "        vertical-align: top;\n",
              "    }\n",
              "\n",
              "    .dataframe thead th {\n",
              "        text-align: right;\n",
              "    }\n",
              "</style>\n",
              "<table border=\"1\" class=\"dataframe\">\n",
              "  <thead>\n",
              "    <tr style=\"text-align: right;\">\n",
              "      <th></th>\n",
              "      <th>Year</th>\n",
              "      <th>Number of Bedrooms</th>\n",
              "      <th>rent_value</th>\n",
              "      <th>Apartment</th>\n",
              "      <th>Detached house</th>\n",
              "      <th>Other flats</th>\n",
              "      <th>Semi detached house</th>\n",
              "      <th>Terrace house</th>\n",
              "      <th>avg_disposable_income</th>\n",
              "      <th>house_purchase_price</th>\n",
              "      <th>Number_of_Crimes</th>\n",
              "      <th>Border</th>\n",
              "      <th>Dublin</th>\n",
              "      <th>Mid_East</th>\n",
              "      <th>Mid_West</th>\n",
              "      <th>Midland</th>\n",
              "      <th>South_East</th>\n",
              "      <th>South_West</th>\n",
              "      <th>West</th>\n",
              "    </tr>\n",
              "  </thead>\n",
              "  <tbody>\n",
              "    <tr>\n",
              "      <th>0</th>\n",
              "      <td>2021</td>\n",
              "      <td>3</td>\n",
              "      <td>1205.19</td>\n",
              "      <td>0</td>\n",
              "      <td>1</td>\n",
              "      <td>0</td>\n",
              "      <td>0</td>\n",
              "      <td>0</td>\n",
              "      <td>17434.03</td>\n",
              "      <td>202857.0</td>\n",
              "      <td>42748</td>\n",
              "      <td>False</td>\n",
              "      <td>False</td>\n",
              "      <td>True</td>\n",
              "      <td>False</td>\n",
              "      <td>False</td>\n",
              "      <td>False</td>\n",
              "      <td>False</td>\n",
              "      <td>False</td>\n",
              "    </tr>\n",
              "    <tr>\n",
              "      <th>1</th>\n",
              "      <td>2021</td>\n",
              "      <td>4</td>\n",
              "      <td>1620.53</td>\n",
              "      <td>0</td>\n",
              "      <td>0</td>\n",
              "      <td>0</td>\n",
              "      <td>1</td>\n",
              "      <td>0</td>\n",
              "      <td>17434.03</td>\n",
              "      <td>259999.0</td>\n",
              "      <td>42748</td>\n",
              "      <td>False</td>\n",
              "      <td>False</td>\n",
              "      <td>True</td>\n",
              "      <td>False</td>\n",
              "      <td>False</td>\n",
              "      <td>False</td>\n",
              "      <td>False</td>\n",
              "      <td>False</td>\n",
              "    </tr>\n",
              "    <tr>\n",
              "      <th>2</th>\n",
              "      <td>2021</td>\n",
              "      <td>3</td>\n",
              "      <td>1439.21</td>\n",
              "      <td>0</td>\n",
              "      <td>0</td>\n",
              "      <td>0</td>\n",
              "      <td>0</td>\n",
              "      <td>1</td>\n",
              "      <td>17434.03</td>\n",
              "      <td>142156.0</td>\n",
              "      <td>42748</td>\n",
              "      <td>False</td>\n",
              "      <td>False</td>\n",
              "      <td>True</td>\n",
              "      <td>False</td>\n",
              "      <td>False</td>\n",
              "      <td>False</td>\n",
              "      <td>False</td>\n",
              "      <td>False</td>\n",
              "    </tr>\n",
              "    <tr>\n",
              "      <th>3</th>\n",
              "      <td>2021</td>\n",
              "      <td>4</td>\n",
              "      <td>1765.80</td>\n",
              "      <td>0</td>\n",
              "      <td>0</td>\n",
              "      <td>0</td>\n",
              "      <td>1</td>\n",
              "      <td>0</td>\n",
              "      <td>17434.03</td>\n",
              "      <td>328777.0</td>\n",
              "      <td>42748</td>\n",
              "      <td>False</td>\n",
              "      <td>False</td>\n",
              "      <td>True</td>\n",
              "      <td>False</td>\n",
              "      <td>False</td>\n",
              "      <td>False</td>\n",
              "      <td>False</td>\n",
              "      <td>False</td>\n",
              "    </tr>\n",
              "    <tr>\n",
              "      <th>4</th>\n",
              "      <td>2021</td>\n",
              "      <td>1</td>\n",
              "      <td>831.94</td>\n",
              "      <td>0</td>\n",
              "      <td>0</td>\n",
              "      <td>1</td>\n",
              "      <td>0</td>\n",
              "      <td>0</td>\n",
              "      <td>17434.03</td>\n",
              "      <td>266068.0</td>\n",
              "      <td>42748</td>\n",
              "      <td>False</td>\n",
              "      <td>False</td>\n",
              "      <td>True</td>\n",
              "      <td>False</td>\n",
              "      <td>False</td>\n",
              "      <td>False</td>\n",
              "      <td>False</td>\n",
              "      <td>False</td>\n",
              "    </tr>\n",
              "    <tr>\n",
              "      <th>...</th>\n",
              "      <td>...</td>\n",
              "      <td>...</td>\n",
              "      <td>...</td>\n",
              "      <td>...</td>\n",
              "      <td>...</td>\n",
              "      <td>...</td>\n",
              "      <td>...</td>\n",
              "      <td>...</td>\n",
              "      <td>...</td>\n",
              "      <td>...</td>\n",
              "      <td>...</td>\n",
              "      <td>...</td>\n",
              "      <td>...</td>\n",
              "      <td>...</td>\n",
              "      <td>...</td>\n",
              "      <td>...</td>\n",
              "      <td>...</td>\n",
              "      <td>...</td>\n",
              "      <td>...</td>\n",
              "    </tr>\n",
              "    <tr>\n",
              "      <th>43347</th>\n",
              "      <td>2021</td>\n",
              "      <td>4</td>\n",
              "      <td>1342.31</td>\n",
              "      <td>0</td>\n",
              "      <td>0</td>\n",
              "      <td>0</td>\n",
              "      <td>0</td>\n",
              "      <td>1</td>\n",
              "      <td>11853.13</td>\n",
              "      <td>151050.0</td>\n",
              "      <td>34251</td>\n",
              "      <td>False</td>\n",
              "      <td>False</td>\n",
              "      <td>False</td>\n",
              "      <td>True</td>\n",
              "      <td>False</td>\n",
              "      <td>False</td>\n",
              "      <td>False</td>\n",
              "      <td>False</td>\n",
              "    </tr>\n",
              "    <tr>\n",
              "      <th>43348</th>\n",
              "      <td>2021</td>\n",
              "      <td>2</td>\n",
              "      <td>861.82</td>\n",
              "      <td>0</td>\n",
              "      <td>0</td>\n",
              "      <td>0</td>\n",
              "      <td>1</td>\n",
              "      <td>0</td>\n",
              "      <td>11853.13</td>\n",
              "      <td>378581.0</td>\n",
              "      <td>34251</td>\n",
              "      <td>False</td>\n",
              "      <td>False</td>\n",
              "      <td>False</td>\n",
              "      <td>True</td>\n",
              "      <td>False</td>\n",
              "      <td>False</td>\n",
              "      <td>False</td>\n",
              "      <td>False</td>\n",
              "    </tr>\n",
              "    <tr>\n",
              "      <th>43349</th>\n",
              "      <td>2021</td>\n",
              "      <td>1</td>\n",
              "      <td>679.57</td>\n",
              "      <td>0</td>\n",
              "      <td>0</td>\n",
              "      <td>1</td>\n",
              "      <td>0</td>\n",
              "      <td>0</td>\n",
              "      <td>11853.13</td>\n",
              "      <td>257460.0</td>\n",
              "      <td>34251</td>\n",
              "      <td>False</td>\n",
              "      <td>False</td>\n",
              "      <td>False</td>\n",
              "      <td>True</td>\n",
              "      <td>False</td>\n",
              "      <td>False</td>\n",
              "      <td>False</td>\n",
              "      <td>False</td>\n",
              "    </tr>\n",
              "    <tr>\n",
              "      <th>43350</th>\n",
              "      <td>2021</td>\n",
              "      <td>4</td>\n",
              "      <td>1414.52</td>\n",
              "      <td>0</td>\n",
              "      <td>0</td>\n",
              "      <td>0</td>\n",
              "      <td>1</td>\n",
              "      <td>0</td>\n",
              "      <td>11853.13</td>\n",
              "      <td>224984.0</td>\n",
              "      <td>34251</td>\n",
              "      <td>False</td>\n",
              "      <td>False</td>\n",
              "      <td>False</td>\n",
              "      <td>True</td>\n",
              "      <td>False</td>\n",
              "      <td>False</td>\n",
              "      <td>False</td>\n",
              "      <td>False</td>\n",
              "    </tr>\n",
              "    <tr>\n",
              "      <th>43351</th>\n",
              "      <td>2021</td>\n",
              "      <td>3</td>\n",
              "      <td>788.10</td>\n",
              "      <td>1</td>\n",
              "      <td>0</td>\n",
              "      <td>0</td>\n",
              "      <td>0</td>\n",
              "      <td>0</td>\n",
              "      <td>11853.13</td>\n",
              "      <td>253121.0</td>\n",
              "      <td>34251</td>\n",
              "      <td>False</td>\n",
              "      <td>False</td>\n",
              "      <td>False</td>\n",
              "      <td>True</td>\n",
              "      <td>False</td>\n",
              "      <td>False</td>\n",
              "      <td>False</td>\n",
              "      <td>False</td>\n",
              "    </tr>\n",
              "  </tbody>\n",
              "</table>\n",
              "<p>43352 rows × 19 columns</p>\n",
              "</div>\n",
              "    <div class=\"colab-df-buttons\">\n",
              "\n",
              "  <div class=\"colab-df-container\">\n",
              "    <button class=\"colab-df-convert\" onclick=\"convertToInteractive('df-3340e094-64c4-4c8d-a5ac-a0744b3b47a6')\"\n",
              "            title=\"Convert this dataframe to an interactive table.\"\n",
              "            style=\"display:none;\">\n",
              "\n",
              "  <svg xmlns=\"http://www.w3.org/2000/svg\" height=\"24px\" viewBox=\"0 -960 960 960\">\n",
              "    <path d=\"M120-120v-720h720v720H120Zm60-500h600v-160H180v160Zm220 220h160v-160H400v160Zm0 220h160v-160H400v160ZM180-400h160v-160H180v160Zm440 0h160v-160H620v160ZM180-180h160v-160H180v160Zm440 0h160v-160H620v160Z\"/>\n",
              "  </svg>\n",
              "    </button>\n",
              "\n",
              "  <style>\n",
              "    .colab-df-container {\n",
              "      display:flex;\n",
              "      gap: 12px;\n",
              "    }\n",
              "\n",
              "    .colab-df-convert {\n",
              "      background-color: #E8F0FE;\n",
              "      border: none;\n",
              "      border-radius: 50%;\n",
              "      cursor: pointer;\n",
              "      display: none;\n",
              "      fill: #1967D2;\n",
              "      height: 32px;\n",
              "      padding: 0 0 0 0;\n",
              "      width: 32px;\n",
              "    }\n",
              "\n",
              "    .colab-df-convert:hover {\n",
              "      background-color: #E2EBFA;\n",
              "      box-shadow: 0px 1px 2px rgba(60, 64, 67, 0.3), 0px 1px 3px 1px rgba(60, 64, 67, 0.15);\n",
              "      fill: #174EA6;\n",
              "    }\n",
              "\n",
              "    .colab-df-buttons div {\n",
              "      margin-bottom: 4px;\n",
              "    }\n",
              "\n",
              "    [theme=dark] .colab-df-convert {\n",
              "      background-color: #3B4455;\n",
              "      fill: #D2E3FC;\n",
              "    }\n",
              "\n",
              "    [theme=dark] .colab-df-convert:hover {\n",
              "      background-color: #434B5C;\n",
              "      box-shadow: 0px 1px 3px 1px rgba(0, 0, 0, 0.15);\n",
              "      filter: drop-shadow(0px 1px 2px rgba(0, 0, 0, 0.3));\n",
              "      fill: #FFFFFF;\n",
              "    }\n",
              "  </style>\n",
              "\n",
              "    <script>\n",
              "      const buttonEl =\n",
              "        document.querySelector('#df-3340e094-64c4-4c8d-a5ac-a0744b3b47a6 button.colab-df-convert');\n",
              "      buttonEl.style.display =\n",
              "        google.colab.kernel.accessAllowed ? 'block' : 'none';\n",
              "\n",
              "      async function convertToInteractive(key) {\n",
              "        const element = document.querySelector('#df-3340e094-64c4-4c8d-a5ac-a0744b3b47a6');\n",
              "        const dataTable =\n",
              "          await google.colab.kernel.invokeFunction('convertToInteractive',\n",
              "                                                    [key], {});\n",
              "        if (!dataTable) return;\n",
              "\n",
              "        const docLinkHtml = 'Like what you see? Visit the ' +\n",
              "          '<a target=\"_blank\" href=https://colab.research.google.com/notebooks/data_table.ipynb>data table notebook</a>'\n",
              "          + ' to learn more about interactive tables.';\n",
              "        element.innerHTML = '';\n",
              "        dataTable['output_type'] = 'display_data';\n",
              "        await google.colab.output.renderOutput(dataTable, element);\n",
              "        const docLink = document.createElement('div');\n",
              "        docLink.innerHTML = docLinkHtml;\n",
              "        element.appendChild(docLink);\n",
              "      }\n",
              "    </script>\n",
              "  </div>\n",
              "\n",
              "\n",
              "<div id=\"df-259acde0-4eb1-4a28-b32d-0d317c454f7d\">\n",
              "  <button class=\"colab-df-quickchart\" onclick=\"quickchart('df-259acde0-4eb1-4a28-b32d-0d317c454f7d')\"\n",
              "            title=\"Suggest charts\"\n",
              "            style=\"display:none;\">\n",
              "\n",
              "<svg xmlns=\"http://www.w3.org/2000/svg\" height=\"24px\"viewBox=\"0 0 24 24\"\n",
              "     width=\"24px\">\n",
              "    <g>\n",
              "        <path d=\"M19 3H5c-1.1 0-2 .9-2 2v14c0 1.1.9 2 2 2h14c1.1 0 2-.9 2-2V5c0-1.1-.9-2-2-2zM9 17H7v-7h2v7zm4 0h-2V7h2v10zm4 0h-2v-4h2v4z\"/>\n",
              "    </g>\n",
              "</svg>\n",
              "  </button>\n",
              "\n",
              "<style>\n",
              "  .colab-df-quickchart {\n",
              "      --bg-color: #E8F0FE;\n",
              "      --fill-color: #1967D2;\n",
              "      --hover-bg-color: #E2EBFA;\n",
              "      --hover-fill-color: #174EA6;\n",
              "      --disabled-fill-color: #AAA;\n",
              "      --disabled-bg-color: #DDD;\n",
              "  }\n",
              "\n",
              "  [theme=dark] .colab-df-quickchart {\n",
              "      --bg-color: #3B4455;\n",
              "      --fill-color: #D2E3FC;\n",
              "      --hover-bg-color: #434B5C;\n",
              "      --hover-fill-color: #FFFFFF;\n",
              "      --disabled-bg-color: #3B4455;\n",
              "      --disabled-fill-color: #666;\n",
              "  }\n",
              "\n",
              "  .colab-df-quickchart {\n",
              "    background-color: var(--bg-color);\n",
              "    border: none;\n",
              "    border-radius: 50%;\n",
              "    cursor: pointer;\n",
              "    display: none;\n",
              "    fill: var(--fill-color);\n",
              "    height: 32px;\n",
              "    padding: 0;\n",
              "    width: 32px;\n",
              "  }\n",
              "\n",
              "  .colab-df-quickchart:hover {\n",
              "    background-color: var(--hover-bg-color);\n",
              "    box-shadow: 0 1px 2px rgba(60, 64, 67, 0.3), 0 1px 3px 1px rgba(60, 64, 67, 0.15);\n",
              "    fill: var(--button-hover-fill-color);\n",
              "  }\n",
              "\n",
              "  .colab-df-quickchart-complete:disabled,\n",
              "  .colab-df-quickchart-complete:disabled:hover {\n",
              "    background-color: var(--disabled-bg-color);\n",
              "    fill: var(--disabled-fill-color);\n",
              "    box-shadow: none;\n",
              "  }\n",
              "\n",
              "  .colab-df-spinner {\n",
              "    border: 2px solid var(--fill-color);\n",
              "    border-color: transparent;\n",
              "    border-bottom-color: var(--fill-color);\n",
              "    animation:\n",
              "      spin 1s steps(1) infinite;\n",
              "  }\n",
              "\n",
              "  @keyframes spin {\n",
              "    0% {\n",
              "      border-color: transparent;\n",
              "      border-bottom-color: var(--fill-color);\n",
              "      border-left-color: var(--fill-color);\n",
              "    }\n",
              "    20% {\n",
              "      border-color: transparent;\n",
              "      border-left-color: var(--fill-color);\n",
              "      border-top-color: var(--fill-color);\n",
              "    }\n",
              "    30% {\n",
              "      border-color: transparent;\n",
              "      border-left-color: var(--fill-color);\n",
              "      border-top-color: var(--fill-color);\n",
              "      border-right-color: var(--fill-color);\n",
              "    }\n",
              "    40% {\n",
              "      border-color: transparent;\n",
              "      border-right-color: var(--fill-color);\n",
              "      border-top-color: var(--fill-color);\n",
              "    }\n",
              "    60% {\n",
              "      border-color: transparent;\n",
              "      border-right-color: var(--fill-color);\n",
              "    }\n",
              "    80% {\n",
              "      border-color: transparent;\n",
              "      border-right-color: var(--fill-color);\n",
              "      border-bottom-color: var(--fill-color);\n",
              "    }\n",
              "    90% {\n",
              "      border-color: transparent;\n",
              "      border-bottom-color: var(--fill-color);\n",
              "    }\n",
              "  }\n",
              "</style>\n",
              "\n",
              "  <script>\n",
              "    async function quickchart(key) {\n",
              "      const quickchartButtonEl =\n",
              "        document.querySelector('#' + key + ' button');\n",
              "      quickchartButtonEl.disabled = true;  // To prevent multiple clicks.\n",
              "      quickchartButtonEl.classList.add('colab-df-spinner');\n",
              "      try {\n",
              "        const charts = await google.colab.kernel.invokeFunction(\n",
              "            'suggestCharts', [key], {});\n",
              "      } catch (error) {\n",
              "        console.error('Error during call to suggestCharts:', error);\n",
              "      }\n",
              "      quickchartButtonEl.classList.remove('colab-df-spinner');\n",
              "      quickchartButtonEl.classList.add('colab-df-quickchart-complete');\n",
              "    }\n",
              "    (() => {\n",
              "      let quickchartButtonEl =\n",
              "        document.querySelector('#df-259acde0-4eb1-4a28-b32d-0d317c454f7d button');\n",
              "      quickchartButtonEl.style.display =\n",
              "        google.colab.kernel.accessAllowed ? 'block' : 'none';\n",
              "    })();\n",
              "  </script>\n",
              "</div>\n",
              "    </div>\n",
              "  </div>\n"
            ],
            "application/vnd.google.colaboratory.intrinsic+json": {
              "type": "dataframe",
              "variable_name": "cb_sample_df",
              "summary": "{\n  \"name\": \"cb_sample_df\",\n  \"rows\": 43352,\n  \"fields\": [\n    {\n      \"column\": \"Year\",\n      \"properties\": {\n        \"dtype\": \"number\",\n        \"std\": 0,\n        \"min\": 2021,\n        \"max\": 2021,\n        \"num_unique_values\": 1,\n        \"samples\": [\n          2021\n        ],\n        \"semantic_type\": \"\",\n        \"description\": \"\"\n      }\n    },\n    {\n      \"column\": \"Number of Bedrooms\",\n      \"properties\": {\n        \"dtype\": \"number\",\n        \"std\": 0,\n        \"min\": 1,\n        \"max\": 4,\n        \"num_unique_values\": 4,\n        \"samples\": [\n          4\n        ],\n        \"semantic_type\": \"\",\n        \"description\": \"\"\n      }\n    },\n    {\n      \"column\": \"rent_value\",\n      \"properties\": {\n        \"dtype\": \"number\",\n        \"std\": 400.20199375111315,\n        \"min\": 405.91,\n        \"max\": 3052.21,\n        \"num_unique_values\": 331,\n        \"samples\": [\n          1291.3\n        ],\n        \"semantic_type\": \"\",\n        \"description\": \"\"\n      }\n    },\n    {\n      \"column\": \"Apartment\",\n      \"properties\": {\n        \"dtype\": \"number\",\n        \"std\": 0,\n        \"min\": 0,\n        \"max\": 1,\n        \"num_unique_values\": 2,\n        \"samples\": [\n          1\n        ],\n        \"semantic_type\": \"\",\n        \"description\": \"\"\n      }\n    },\n    {\n      \"column\": \"Detached house\",\n      \"properties\": {\n        \"dtype\": \"number\",\n        \"std\": 0,\n        \"min\": 0,\n        \"max\": 1,\n        \"num_unique_values\": 2,\n        \"samples\": [\n          0\n        ],\n        \"semantic_type\": \"\",\n        \"description\": \"\"\n      }\n    },\n    {\n      \"column\": \"Other flats\",\n      \"properties\": {\n        \"dtype\": \"number\",\n        \"std\": 0,\n        \"min\": 0,\n        \"max\": 1,\n        \"num_unique_values\": 2,\n        \"samples\": [\n          1\n        ],\n        \"semantic_type\": \"\",\n        \"description\": \"\"\n      }\n    },\n    {\n      \"column\": \"Semi detached house\",\n      \"properties\": {\n        \"dtype\": \"number\",\n        \"std\": 0,\n        \"min\": 0,\n        \"max\": 1,\n        \"num_unique_values\": 2,\n        \"samples\": [\n          1\n        ],\n        \"semantic_type\": \"\",\n        \"description\": \"\"\n      }\n    },\n    {\n      \"column\": \"Terrace house\",\n      \"properties\": {\n        \"dtype\": \"number\",\n        \"std\": 0,\n        \"min\": 0,\n        \"max\": 1,\n        \"num_unique_values\": 2,\n        \"samples\": [\n          1\n        ],\n        \"semantic_type\": \"\",\n        \"description\": \"\"\n      }\n    },\n    {\n      \"column\": \"avg_disposable_income\",\n      \"properties\": {\n        \"dtype\": \"number\",\n        \"std\": 8110.102231301568,\n        \"min\": 6699.88,\n        \"max\": 39684.85,\n        \"num_unique_values\": 8,\n        \"samples\": [\n          6699.88\n        ],\n        \"semantic_type\": \"\",\n        \"description\": \"\"\n      }\n    },\n    {\n      \"column\": \"house_purchase_price\",\n      \"properties\": {\n        \"dtype\": \"number\",\n        \"std\": 145144.96018312554,\n        \"min\": 34050.0,\n        \"max\": 1626047.0,\n        \"num_unique_values\": 2434,\n        \"samples\": [\n          146775.0\n        ],\n        \"semantic_type\": \"\",\n        \"description\": \"\"\n      }\n    },\n    {\n      \"column\": \"Number_of_Crimes\",\n      \"properties\": {\n        \"dtype\": \"number\",\n        \"std\": 32525,\n        \"min\": 15894,\n        \"max\": 151249,\n        \"num_unique_values\": 8,\n        \"samples\": [\n          15894\n        ],\n        \"semantic_type\": \"\",\n        \"description\": \"\"\n      }\n    },\n    {\n      \"column\": \"Border\",\n      \"properties\": {\n        \"dtype\": \"boolean\",\n        \"num_unique_values\": 2,\n        \"samples\": [\n          true\n        ],\n        \"semantic_type\": \"\",\n        \"description\": \"\"\n      }\n    },\n    {\n      \"column\": \"Dublin\",\n      \"properties\": {\n        \"dtype\": \"boolean\",\n        \"num_unique_values\": 2,\n        \"samples\": [\n          true\n        ],\n        \"semantic_type\": \"\",\n        \"description\": \"\"\n      }\n    },\n    {\n      \"column\": \"Mid_East\",\n      \"properties\": {\n        \"dtype\": \"boolean\",\n        \"num_unique_values\": 2,\n        \"samples\": [\n          false\n        ],\n        \"semantic_type\": \"\",\n        \"description\": \"\"\n      }\n    },\n    {\n      \"column\": \"Mid_West\",\n      \"properties\": {\n        \"dtype\": \"boolean\",\n        \"num_unique_values\": 2,\n        \"samples\": [\n          true\n        ],\n        \"semantic_type\": \"\",\n        \"description\": \"\"\n      }\n    },\n    {\n      \"column\": \"Midland\",\n      \"properties\": {\n        \"dtype\": \"boolean\",\n        \"num_unique_values\": 2,\n        \"samples\": [\n          true\n        ],\n        \"semantic_type\": \"\",\n        \"description\": \"\"\n      }\n    },\n    {\n      \"column\": \"South_East\",\n      \"properties\": {\n        \"dtype\": \"boolean\",\n        \"num_unique_values\": 2,\n        \"samples\": [\n          true\n        ],\n        \"semantic_type\": \"\",\n        \"description\": \"\"\n      }\n    },\n    {\n      \"column\": \"South_West\",\n      \"properties\": {\n        \"dtype\": \"boolean\",\n        \"num_unique_values\": 2,\n        \"samples\": [\n          true\n        ],\n        \"semantic_type\": \"\",\n        \"description\": \"\"\n      }\n    },\n    {\n      \"column\": \"West\",\n      \"properties\": {\n        \"dtype\": \"boolean\",\n        \"num_unique_values\": 2,\n        \"samples\": [\n          true\n        ],\n        \"semantic_type\": \"\",\n        \"description\": \"\"\n      }\n    }\n  ]\n}"
            }
          },
          "metadata": {},
          "execution_count": 138
        }
      ]
    },
    {
      "cell_type": "markdown",
      "source": [
        "##calculating the averages of the actual values"
      ],
      "metadata": {
        "id": "otI1DvxJMvCO"
      }
    },
    {
      "cell_type": "code",
      "source": [
        "Dub_house_prices = Dublin_df['house_purchase_price']\n",
        "Dub_rent_prices = Dublin_df['rent_value']\n"
      ],
      "metadata": {
        "id": "pOuEWY0yK1uJ"
      },
      "execution_count": null,
      "outputs": []
    },
    {
      "cell_type": "code",
      "source": [
        "Dub_rent_prices"
      ],
      "metadata": {
        "colab": {
          "base_uri": "https://localhost:8080/"
        },
        "id": "fn996aMFk73C",
        "outputId": "5d7d3d73-5d74-4483-cafe-6a2cda67ad53"
      },
      "execution_count": null,
      "outputs": [
        {
          "output_type": "execute_result",
          "data": {
            "text/plain": [
              "35875    2529.68\n",
              "35876    1322.19\n",
              "35877    1175.95\n",
              "35878    1705.97\n",
              "35879    1416.01\n",
              "          ...   \n",
              "38959    1705.97\n",
              "38960    1496.47\n",
              "38961    1767.90\n",
              "38962    1322.19\n",
              "38963    1322.19\n",
              "Name: rent_value, Length: 3089, dtype: float64"
            ]
          },
          "metadata": {},
          "execution_count": 140
        }
      ]
    },
    {
      "cell_type": "code",
      "source": [
        "average_HP_Dub = Average(Dub_house_prices)\n",
        "average_R_Dub = Average(Dub_rent_prices)\n",
        "\n",
        "median_HP_Dub = Median(Dub_house_prices.tolist())\n",
        "median_R_Dub = Median(Dub_rent_prices.tolist())"
      ],
      "metadata": {
        "id": "yMPxbVf4Oi8O"
      },
      "execution_count": null,
      "outputs": []
    },
    {
      "cell_type": "code",
      "source": [
        "SE_house_prices = South_East_df['house_purchase_price']\n",
        "SE_rent_prices = South_East_df['rent_value']"
      ],
      "metadata": {
        "id": "nI4pRk8NM5ue"
      },
      "execution_count": null,
      "outputs": []
    },
    {
      "cell_type": "code",
      "source": [
        "average_HP_SE = Average(SE_house_prices)\n",
        "average_R_SE = Average(SE_rent_prices)\n",
        "\n",
        "median_HP_SE = Median(SE_house_prices.tolist())\n",
        "median_R_SE = Median(SE_rent_prices.tolist())"
      ],
      "metadata": {
        "id": "ZbOBvoeHOuJv"
      },
      "execution_count": null,
      "outputs": []
    },
    {
      "cell_type": "code",
      "source": [
        "SW_house_prices = South_west_df['house_purchase_price']\n",
        "SW_rent_prices = South_west_df['rent_value']"
      ],
      "metadata": {
        "id": "Rmdqur4ONC2I"
      },
      "execution_count": null,
      "outputs": []
    },
    {
      "cell_type": "code",
      "source": [
        "average_HP_SW = Average(SW_house_prices)\n",
        "average_R_SW = Average(SW_rent_prices)\n",
        "\n",
        "median_HP_SW = Median(SW_house_prices.tolist())\n",
        "median_R_SW = Median(SW_rent_prices.tolist())"
      ],
      "metadata": {
        "id": "HjiLwZJ6Owr_"
      },
      "execution_count": null,
      "outputs": []
    },
    {
      "cell_type": "code",
      "source": [
        "W_house_prices = West_df['house_purchase_price']\n",
        "W_rent_prices = West_df['rent_value']"
      ],
      "metadata": {
        "id": "dnmyevJgNUFD"
      },
      "execution_count": null,
      "outputs": []
    },
    {
      "cell_type": "code",
      "source": [
        "average_HP_W = Average(W_house_prices)\n",
        "average_R_W = Average(W_rent_prices)\n",
        "\n",
        "median_HP_W = Median(W_house_prices.tolist())\n",
        "median_R_W = Median(W_rent_prices.tolist())"
      ],
      "metadata": {
        "id": "H8ocuJQLOy4u"
      },
      "execution_count": null,
      "outputs": []
    },
    {
      "cell_type": "code",
      "source": [
        "M_house_prices = Midland_df['house_purchase_price']\n",
        "M_rent_prices = Midland_df['rent_value']"
      ],
      "metadata": {
        "id": "tpi4m24sOM2v"
      },
      "execution_count": null,
      "outputs": []
    },
    {
      "cell_type": "code",
      "source": [
        "average_HP_M = Average(M_house_prices)\n",
        "average_R_M = Average(M_rent_prices)\n",
        "\n",
        "median_HP_M = Median(M_house_prices.tolist())\n",
        "median_R_M = Median(M_rent_prices.tolist())"
      ],
      "metadata": {
        "id": "99iR3D9DO19q"
      },
      "execution_count": null,
      "outputs": []
    },
    {
      "cell_type": "code",
      "source": [
        "ME_house_prices = Mid_East_df['house_purchase_price']\n",
        "ME_rent_prices = Mid_East_df['rent_value']"
      ],
      "metadata": {
        "id": "3GFFBt2ANe_Y"
      },
      "execution_count": null,
      "outputs": []
    },
    {
      "cell_type": "code",
      "source": [
        "average_HP_ME = Average(ME_house_prices)\n",
        "average_R_ME = Average(ME_rent_prices)\n",
        "\n",
        "median_HP_ME = Median(ME_house_prices.tolist())\n",
        "median_R_ME = Median(ME_rent_prices.tolist())"
      ],
      "metadata": {
        "id": "WTLY2Bf3O5Is"
      },
      "execution_count": null,
      "outputs": []
    },
    {
      "cell_type": "code",
      "source": [
        "MW_house_prices = Mid_West_df['house_purchase_price']\n",
        "MW_rent_prices = Mid_West_df['rent_value']"
      ],
      "metadata": {
        "id": "PWnifXcdN8fW"
      },
      "execution_count": null,
      "outputs": []
    },
    {
      "cell_type": "code",
      "source": [
        "average_HP_MW = Average(MW_house_prices)\n",
        "average_R_MW = Average(MW_rent_prices)\n",
        "\n",
        "median_HP_MW = Median(MW_house_prices.tolist())\n",
        "median_R_MW = Median(MW_rent_prices.tolist())"
      ],
      "metadata": {
        "id": "hoZewIiMO7zS"
      },
      "execution_count": null,
      "outputs": []
    },
    {
      "cell_type": "code",
      "source": [
        "B_house_prices = Border_df['house_purchase_price']\n",
        "B_rent_prices = Border_df['rent_value']"
      ],
      "metadata": {
        "id": "CNZyjJmPOTyy"
      },
      "execution_count": null,
      "outputs": []
    },
    {
      "cell_type": "code",
      "source": [
        "average_HP_B = Average(B_house_prices)\n",
        "average_R_B = Average(B_rent_prices)\n",
        "\n",
        "median_HP_B = Median(B_house_prices.tolist())\n",
        "median_R_B = Median(B_rent_prices.tolist())"
      ],
      "metadata": {
        "id": "ogomkXvOPOOG"
      },
      "execution_count": null,
      "outputs": []
    },
    {
      "cell_type": "markdown",
      "source": [
        "##calculating values for ROI calculation - Dublin"
      ],
      "metadata": {
        "id": "XTPEiKsRnV72"
      }
    },
    {
      "cell_type": "code",
      "source": [
        "Dub_rent_total_2016_to_2020 = 102872.64\n",
        "Dub_purchase_price_2016 = 401540.43"
      ],
      "metadata": {
        "id": "ATf0BLf0oWKu"
      },
      "execution_count": null,
      "outputs": []
    },
    {
      "cell_type": "code",
      "source": [
        "Dub_purchase_price_2021 = Average(Dublin_df['house_purchase_price'])\n",
        "\n",
        "Dub_avg_rent_2021 = Average(Dublin_df['rent_value'])"
      ],
      "metadata": {
        "id": "Cb_9wjcwndhp"
      },
      "execution_count": null,
      "outputs": []
    },
    {
      "cell_type": "code",
      "source": [
        "Dub_rent_total_2016_to_2021 = Dub_rent_total_2016_to_2020 + Dub_avg_rent_2021"
      ],
      "metadata": {
        "id": "f50uAJrOp8Qm"
      },
      "execution_count": null,
      "outputs": []
    },
    {
      "cell_type": "code",
      "source": [
        "Dub_ROI = (Dub_rent_total_2016_to_2021 + Dub_purchase_price_2021 - Dub_purchase_price_2016) / Dub_purchase_price_2016"
      ],
      "metadata": {
        "id": "eLVP06fgpqcK"
      },
      "execution_count": null,
      "outputs": []
    },
    {
      "cell_type": "code",
      "source": [
        "Dub_ROI"
      ],
      "metadata": {
        "colab": {
          "base_uri": "https://localhost:8080/"
        },
        "id": "j0ulhxlbqmwn",
        "outputId": "795e1f6d-5c93-4b1f-c1d0-be43471da941"
      },
      "execution_count": null,
      "outputs": [
        {
          "output_type": "execute_result",
          "data": {
            "text/plain": [
              "0.6760885429892833"
            ]
          },
          "metadata": {},
          "execution_count": 160
        }
      ]
    },
    {
      "cell_type": "markdown",
      "source": [
        "##calculating values for ROI calculation - South East"
      ],
      "metadata": {
        "id": "VrD6sxKxq4QA"
      }
    },
    {
      "cell_type": "code",
      "source": [
        "SE_rent_total_2016_to_2020 = 44245.220272406616\n",
        "SE_purchase_price_2016 = 152112.25336597307"
      ],
      "metadata": {
        "id": "EUbygrP5q7pN"
      },
      "execution_count": null,
      "outputs": []
    },
    {
      "cell_type": "code",
      "source": [
        "SE_purchase_price_2021 = Average(South_East_df['house_purchase_price'])\n",
        "\n",
        "SE_avg_rent_2021 = Average(South_East_df['rent_value'])"
      ],
      "metadata": {
        "id": "ek1sse4Ls6j6"
      },
      "execution_count": null,
      "outputs": []
    },
    {
      "cell_type": "code",
      "source": [
        "SE_rent_total_2016_to_2021 = SE_rent_total_2016_to_2020 + SE_avg_rent_2021"
      ],
      "metadata": {
        "id": "J6s5iIF1tWN_"
      },
      "execution_count": null,
      "outputs": []
    },
    {
      "cell_type": "code",
      "source": [
        "SE_ROI = (SE_rent_total_2016_to_2021 + SE_purchase_price_2021 - SE_purchase_price_2016) / SE_purchase_price_2016"
      ],
      "metadata": {
        "id": "XnG5FRogtgO6"
      },
      "execution_count": null,
      "outputs": []
    },
    {
      "cell_type": "code",
      "source": [
        "SE_ROI"
      ],
      "metadata": {
        "colab": {
          "base_uri": "https://localhost:8080/"
        },
        "id": "Sg3CHIhMtr2S",
        "outputId": "ef858303-cf4f-4fc2-d3ec-9b0f22899177"
      },
      "execution_count": null,
      "outputs": [
        {
          "output_type": "execute_result",
          "data": {
            "text/plain": [
              "0.7641733817413229"
            ]
          },
          "metadata": {},
          "execution_count": 165
        }
      ]
    },
    {
      "cell_type": "markdown",
      "source": [
        "##calculating values for ROI calculation - South West"
      ],
      "metadata": {
        "id": "LizKQnSdtxsp"
      }
    },
    {
      "cell_type": "code",
      "source": [
        "SW_rent_total_2016_to_2020 = 49086.96596310081\n",
        "SW_purchase_price_2016 = 196364.09"
      ],
      "metadata": {
        "id": "SwreHbWFt4yI"
      },
      "execution_count": null,
      "outputs": []
    },
    {
      "cell_type": "code",
      "source": [
        "SW_purchase_price_2021 = Average(South_west_df['house_purchase_price'])\n",
        "\n",
        "SW_avg_rent_2021 = Average(South_west_df['rent_value'])"
      ],
      "metadata": {
        "id": "kJcahGIpt8Kk"
      },
      "execution_count": null,
      "outputs": []
    },
    {
      "cell_type": "code",
      "source": [
        "SW_rent_total_2016_to_2021 = SW_rent_total_2016_to_2020 + SW_avg_rent_2021"
      ],
      "metadata": {
        "id": "9kxQHTDUt-qr"
      },
      "execution_count": null,
      "outputs": []
    },
    {
      "cell_type": "code",
      "source": [
        "SW_ROI = (SW_rent_total_2016_to_2021 + SW_purchase_price_2021 - SW_purchase_price_2016) / SW_purchase_price_2016"
      ],
      "metadata": {
        "id": "jvH9jtOUuBue"
      },
      "execution_count": null,
      "outputs": []
    },
    {
      "cell_type": "code",
      "source": [
        "SW_ROI"
      ],
      "metadata": {
        "colab": {
          "base_uri": "https://localhost:8080/"
        },
        "id": "smUkR483t2aS",
        "outputId": "829aa650-f788-428e-ac92-e006a3d5f340"
      },
      "execution_count": null,
      "outputs": [
        {
          "output_type": "execute_result",
          "data": {
            "text/plain": [
              "0.7094826089350531"
            ]
          },
          "metadata": {},
          "execution_count": 170
        }
      ]
    },
    {
      "cell_type": "markdown",
      "source": [
        "##calculating values for ROI calculation - West"
      ],
      "metadata": {
        "id": "cVAs-aukwM9j"
      }
    },
    {
      "cell_type": "code",
      "source": [
        "W_rent_total_2016_to_2020 = 43510.09184654853\n",
        "W_purchase_price_2016 = 142578.45635910225"
      ],
      "metadata": {
        "id": "g4OcTMarwTXP"
      },
      "execution_count": null,
      "outputs": []
    },
    {
      "cell_type": "code",
      "source": [
        "W_purchase_price_2021 = Average(West_df['house_purchase_price'])\n",
        "\n",
        "W_avg_rent_2021 = Average(West_df['rent_value'])"
      ],
      "metadata": {
        "id": "eTpwT-i6wV8J"
      },
      "execution_count": null,
      "outputs": []
    },
    {
      "cell_type": "code",
      "source": [
        "W_rent_total_2016_to_2021 = W_rent_total_2016_to_2020 + W_avg_rent_2021"
      ],
      "metadata": {
        "id": "wgOr0-wbwYki"
      },
      "execution_count": null,
      "outputs": []
    },
    {
      "cell_type": "code",
      "source": [
        "W_ROI = (W_rent_total_2016_to_2021 + W_purchase_price_2021 - W_purchase_price_2016) / W_purchase_price_2016"
      ],
      "metadata": {
        "id": "sSM59oCwwcG_"
      },
      "execution_count": null,
      "outputs": []
    },
    {
      "cell_type": "code",
      "source": [
        "W_ROI"
      ],
      "metadata": {
        "colab": {
          "base_uri": "https://localhost:8080/"
        },
        "id": "ITdXmCOOweP-",
        "outputId": "fde29c13-4a3c-49a7-82e9-fbf6698d98d7"
      },
      "execution_count": null,
      "outputs": [
        {
          "output_type": "execute_result",
          "data": {
            "text/plain": [
              "0.9582126896443987"
            ]
          },
          "metadata": {},
          "execution_count": 175
        }
      ]
    },
    {
      "cell_type": "markdown",
      "source": [
        "##calculating values for ROI calculation - Midland"
      ],
      "metadata": {
        "id": "dF-kchwRyDLR"
      }
    },
    {
      "cell_type": "code",
      "source": [
        "M_rent_total_2016_to_2020 = 41085.698267321\n",
        "M_purchase_price_2016 = 115475.1993006993"
      ],
      "metadata": {
        "id": "vZx7XlULyI1f"
      },
      "execution_count": null,
      "outputs": []
    },
    {
      "cell_type": "code",
      "source": [
        "M_purchase_price_2021 = Average(Midland_df['house_purchase_price'])\n",
        "\n",
        "M_avg_rent_2021 = Average(Midland_df['rent_value'])"
      ],
      "metadata": {
        "id": "54hPv8D_yIlb"
      },
      "execution_count": null,
      "outputs": []
    },
    {
      "cell_type": "code",
      "source": [
        "M_rent_total_2016_to_2021 = M_rent_total_2016_to_2020 + M_avg_rent_2021"
      ],
      "metadata": {
        "id": "RHDAtU9lyNVx"
      },
      "execution_count": null,
      "outputs": []
    },
    {
      "cell_type": "code",
      "source": [
        "M_ROI = (M_rent_total_2016_to_2021 + M_purchase_price_2021 - M_purchase_price_2016) / M_purchase_price_2016"
      ],
      "metadata": {
        "id": "XXf6Fhp4yU05"
      },
      "execution_count": null,
      "outputs": []
    },
    {
      "cell_type": "code",
      "source": [
        "M_ROI"
      ],
      "metadata": {
        "colab": {
          "base_uri": "https://localhost:8080/"
        },
        "id": "qD7ctKc1yTVo",
        "outputId": "b965564a-8054-4095-b009-f3fb7e7a9a37"
      },
      "execution_count": null,
      "outputs": [
        {
          "output_type": "execute_result",
          "data": {
            "text/plain": [
              "1.0130698930221156"
            ]
          },
          "metadata": {},
          "execution_count": 180
        }
      ]
    },
    {
      "cell_type": "markdown",
      "source": [
        "##calculating values for ROI calculation - Mid East"
      ],
      "metadata": {
        "id": "k8ML464Fz3U7"
      }
    },
    {
      "cell_type": "code",
      "source": [
        "ME_rent_total_2016_to_2020 = 62415.22103008344\n",
        "ME_purchase_price_2016 = 228611.41341463415"
      ],
      "metadata": {
        "id": "vrHd4x_Vz684"
      },
      "execution_count": null,
      "outputs": []
    },
    {
      "cell_type": "code",
      "source": [
        "ME_purchase_price_2021 = Average(Mid_East_df['house_purchase_price'])\n",
        "\n",
        "ME_avg_rent_2021 = Average(Mid_East_df['rent_value'])"
      ],
      "metadata": {
        "id": "KhRgpwiJz8w6"
      },
      "execution_count": null,
      "outputs": []
    },
    {
      "cell_type": "code",
      "source": [
        "ME_rent_total_2016_to_2021 = ME_rent_total_2016_to_2020 + ME_avg_rent_2021"
      ],
      "metadata": {
        "id": "152MJPO_z-jv"
      },
      "execution_count": null,
      "outputs": []
    },
    {
      "cell_type": "code",
      "source": [
        "ME_ROI = (ME_rent_total_2016_to_2021 + ME_purchase_price_2021 - ME_purchase_price_2016) / ME_purchase_price_2016"
      ],
      "metadata": {
        "id": "-Sou7Snz0AQl"
      },
      "execution_count": null,
      "outputs": []
    },
    {
      "cell_type": "code",
      "source": [
        "ME_ROI"
      ],
      "metadata": {
        "colab": {
          "base_uri": "https://localhost:8080/"
        },
        "id": "Pc-iAZoq0WLv",
        "outputId": "4773b231-280c-46e8-c756-cdc7d806c09e"
      },
      "execution_count": null,
      "outputs": [
        {
          "output_type": "execute_result",
          "data": {
            "text/plain": [
              "0.6687089099114182"
            ]
          },
          "metadata": {},
          "execution_count": 185
        }
      ]
    },
    {
      "cell_type": "markdown",
      "source": [
        "##calculating values for ROI calculation - Mid West"
      ],
      "metadata": {
        "id": "mh4ImO-B0lbo"
      }
    },
    {
      "cell_type": "code",
      "source": [
        "MW_rent_total_2016_to_2020 = 42715.73155905846\n",
        "MW_purchase_price_2016 = 228611.41341463415"
      ],
      "metadata": {
        "id": "l3hgTkpR1JsV"
      },
      "execution_count": null,
      "outputs": []
    },
    {
      "cell_type": "code",
      "source": [
        "MW_purchase_price_2021 = Average(Mid_West_df['house_purchase_price'])\n",
        "\n",
        "MW_avg_rent_2021 = Average(Mid_West_df['rent_value'])"
      ],
      "metadata": {
        "id": "1qmUCrBe1VXP"
      },
      "execution_count": null,
      "outputs": []
    },
    {
      "cell_type": "code",
      "source": [
        "MW_rent_total_2016_to_2021 = MW_rent_total_2016_to_2020 + MW_avg_rent_2021"
      ],
      "metadata": {
        "id": "ONbBBgU-1dqg"
      },
      "execution_count": null,
      "outputs": []
    },
    {
      "cell_type": "code",
      "source": [
        "MW_ROI = (MW_rent_total_2016_to_2021 + MW_purchase_price_2021 - MW_purchase_price_2016) / MW_purchase_price_2016"
      ],
      "metadata": {
        "id": "2HVLMuAS1f7g"
      },
      "execution_count": null,
      "outputs": []
    },
    {
      "cell_type": "code",
      "source": [
        "MW_ROI"
      ],
      "metadata": {
        "colab": {
          "base_uri": "https://localhost:8080/"
        },
        "id": "Rzn9RX0_0nib",
        "outputId": "9e588613-172e-47f7-cd58-9553b63a0870"
      },
      "execution_count": null,
      "outputs": [
        {
          "output_type": "execute_result",
          "data": {
            "text/plain": [
              "0.10437924862245108"
            ]
          },
          "metadata": {},
          "execution_count": 190
        }
      ]
    },
    {
      "cell_type": "markdown",
      "source": [
        "##calculating values for ROI calculation - Border"
      ],
      "metadata": {
        "id": "4LagQfyN2Pxw"
      }
    },
    {
      "cell_type": "code",
      "source": [
        "B_rent_total_2016_to_2020 = 34375.09392053289\n",
        "B_purchase_price_2016 = 112483.06155398587"
      ],
      "metadata": {
        "id": "8qMKPVCI2Rxg"
      },
      "execution_count": null,
      "outputs": []
    },
    {
      "cell_type": "code",
      "source": [
        "B_purchase_price_2021 = Average(Border_df['house_purchase_price'])\n",
        "\n",
        "B_avg_rent_2021 = Average(Border_df['rent_value'])"
      ],
      "metadata": {
        "id": "1xrdfp8u2Upx"
      },
      "execution_count": null,
      "outputs": []
    },
    {
      "cell_type": "code",
      "source": [
        "B_rent_total_2016_to_2021 = B_rent_total_2016_to_2020 + B_avg_rent_2021"
      ],
      "metadata": {
        "id": "e2t88PQN2W19"
      },
      "execution_count": null,
      "outputs": []
    },
    {
      "cell_type": "code",
      "source": [
        "B_ROI = (B_rent_total_2016_to_2021 + B_purchase_price_2021 - B_purchase_price_2016) / B_purchase_price_2016"
      ],
      "metadata": {
        "id": "YB0Dovj82ZSA"
      },
      "execution_count": null,
      "outputs": []
    },
    {
      "cell_type": "code",
      "source": [
        "B_ROI"
      ],
      "metadata": {
        "colab": {
          "base_uri": "https://localhost:8080/"
        },
        "id": "c2stUeBn2p1X",
        "outputId": "c8040116-f00c-4ca3-d460-2273565cac5e"
      },
      "execution_count": null,
      "outputs": [
        {
          "output_type": "execute_result",
          "data": {
            "text/plain": [
              "0.7158227479677992"
            ]
          },
          "metadata": {},
          "execution_count": 195
        }
      ]
    },
    {
      "cell_type": "markdown",
      "source": [
        "#Creating tables to display the actual average house/rent values for all region"
      ],
      "metadata": {
        "id": "MNTQxvnDRD1C"
      }
    },
    {
      "cell_type": "code",
      "source": [
        "Actual_values = {'Region': ['Dublin', 'South_East', 'South_West', 'West', 'Midland', 'Mid_East', 'Mid_West', 'Border'],\n",
        "              'Avg House Price': [average_HP_Dub, average_HP_SE, average_HP_SW, average_HP_W, average_HP_M, average_HP_ME, average_HP_MW, average_HP_B],\n",
        "              'Avg Rent Price': [average_R_Dub, average_R_SE, average_R_SW, average_R_W, average_R_M, average_R_ME, average_R_MW, average_R_B],\n",
        "              'Median House price': [median_HP_Dub, median_HP_SE, median_HP_SW, median_HP_W, median_HP_M, median_HP_ME, median_HP_MW, median_HP_B],\n",
        "              'Median rent price': [median_R_Dub, median_R_SE, median_R_SW, median_R_W, median_R_M, median_R_ME, median_R_MW, median_R_B]}"
      ],
      "metadata": {
        "id": "tK11yPtVRcb-"
      },
      "execution_count": null,
      "outputs": []
    },
    {
      "cell_type": "code",
      "source": [
        "Act_Val_DF = pd.DataFrame.from_dict(Actual_values)\n",
        "Act_Val_DF"
      ],
      "metadata": {
        "colab": {
          "base_uri": "https://localhost:8080/",
          "height": 317
        },
        "id": "6OVu2GkSR30m",
        "outputId": "d09c5903-9d81-4e4d-abea-1f6e03d2d1de"
      },
      "execution_count": null,
      "outputs": [
        {
          "output_type": "execute_result",
          "data": {
            "text/plain": [
              "       Region  Avg House Price  Avg Rent Price  Median House price  \\\n",
              "0      Dublin    568231.717384     1912.956886            522554.0   \n",
              "1  South_East    223219.048823      888.119330            227813.0   \n",
              "2  South_West    285589.567898     1004.463014            269205.0   \n",
              "3        West    234816.330925      872.519740            225593.0   \n",
              "4     Midland    190537.632198      836.316637            187179.0   \n",
              "5    Mid_East    317824.452011     1246.229432            312237.0   \n",
              "6    Mid_West    208905.827484      852.141930            207084.0   \n",
              "7      Border    157959.768476      666.133379            155538.0   \n",
              "\n",
              "   Median rent price  \n",
              "0            1858.88  \n",
              "1             861.02  \n",
              "2             931.91  \n",
              "3             774.33  \n",
              "4             846.61  \n",
              "5            1216.72  \n",
              "6             806.46  \n",
              "7             659.85  "
            ],
            "text/html": [
              "\n",
              "  <div id=\"df-e33df602-1a9c-4c3a-b6cb-d0c04c5b9d69\" class=\"colab-df-container\">\n",
              "    <div>\n",
              "<style scoped>\n",
              "    .dataframe tbody tr th:only-of-type {\n",
              "        vertical-align: middle;\n",
              "    }\n",
              "\n",
              "    .dataframe tbody tr th {\n",
              "        vertical-align: top;\n",
              "    }\n",
              "\n",
              "    .dataframe thead th {\n",
              "        text-align: right;\n",
              "    }\n",
              "</style>\n",
              "<table border=\"1\" class=\"dataframe\">\n",
              "  <thead>\n",
              "    <tr style=\"text-align: right;\">\n",
              "      <th></th>\n",
              "      <th>Region</th>\n",
              "      <th>Avg House Price</th>\n",
              "      <th>Avg Rent Price</th>\n",
              "      <th>Median House price</th>\n",
              "      <th>Median rent price</th>\n",
              "    </tr>\n",
              "  </thead>\n",
              "  <tbody>\n",
              "    <tr>\n",
              "      <th>0</th>\n",
              "      <td>Dublin</td>\n",
              "      <td>568231.717384</td>\n",
              "      <td>1912.956886</td>\n",
              "      <td>522554.0</td>\n",
              "      <td>1858.88</td>\n",
              "    </tr>\n",
              "    <tr>\n",
              "      <th>1</th>\n",
              "      <td>South_East</td>\n",
              "      <td>223219.048823</td>\n",
              "      <td>888.119330</td>\n",
              "      <td>227813.0</td>\n",
              "      <td>861.02</td>\n",
              "    </tr>\n",
              "    <tr>\n",
              "      <th>2</th>\n",
              "      <td>South_West</td>\n",
              "      <td>285589.567898</td>\n",
              "      <td>1004.463014</td>\n",
              "      <td>269205.0</td>\n",
              "      <td>931.91</td>\n",
              "    </tr>\n",
              "    <tr>\n",
              "      <th>3</th>\n",
              "      <td>West</td>\n",
              "      <td>234816.330925</td>\n",
              "      <td>872.519740</td>\n",
              "      <td>225593.0</td>\n",
              "      <td>774.33</td>\n",
              "    </tr>\n",
              "    <tr>\n",
              "      <th>4</th>\n",
              "      <td>Midland</td>\n",
              "      <td>190537.632198</td>\n",
              "      <td>836.316637</td>\n",
              "      <td>187179.0</td>\n",
              "      <td>846.61</td>\n",
              "    </tr>\n",
              "    <tr>\n",
              "      <th>5</th>\n",
              "      <td>Mid_East</td>\n",
              "      <td>317824.452011</td>\n",
              "      <td>1246.229432</td>\n",
              "      <td>312237.0</td>\n",
              "      <td>1216.72</td>\n",
              "    </tr>\n",
              "    <tr>\n",
              "      <th>6</th>\n",
              "      <td>Mid_West</td>\n",
              "      <td>208905.827484</td>\n",
              "      <td>852.141930</td>\n",
              "      <td>207084.0</td>\n",
              "      <td>806.46</td>\n",
              "    </tr>\n",
              "    <tr>\n",
              "      <th>7</th>\n",
              "      <td>Border</td>\n",
              "      <td>157959.768476</td>\n",
              "      <td>666.133379</td>\n",
              "      <td>155538.0</td>\n",
              "      <td>659.85</td>\n",
              "    </tr>\n",
              "  </tbody>\n",
              "</table>\n",
              "</div>\n",
              "    <div class=\"colab-df-buttons\">\n",
              "\n",
              "  <div class=\"colab-df-container\">\n",
              "    <button class=\"colab-df-convert\" onclick=\"convertToInteractive('df-e33df602-1a9c-4c3a-b6cb-d0c04c5b9d69')\"\n",
              "            title=\"Convert this dataframe to an interactive table.\"\n",
              "            style=\"display:none;\">\n",
              "\n",
              "  <svg xmlns=\"http://www.w3.org/2000/svg\" height=\"24px\" viewBox=\"0 -960 960 960\">\n",
              "    <path d=\"M120-120v-720h720v720H120Zm60-500h600v-160H180v160Zm220 220h160v-160H400v160Zm0 220h160v-160H400v160ZM180-400h160v-160H180v160Zm440 0h160v-160H620v160ZM180-180h160v-160H180v160Zm440 0h160v-160H620v160Z\"/>\n",
              "  </svg>\n",
              "    </button>\n",
              "\n",
              "  <style>\n",
              "    .colab-df-container {\n",
              "      display:flex;\n",
              "      gap: 12px;\n",
              "    }\n",
              "\n",
              "    .colab-df-convert {\n",
              "      background-color: #E8F0FE;\n",
              "      border: none;\n",
              "      border-radius: 50%;\n",
              "      cursor: pointer;\n",
              "      display: none;\n",
              "      fill: #1967D2;\n",
              "      height: 32px;\n",
              "      padding: 0 0 0 0;\n",
              "      width: 32px;\n",
              "    }\n",
              "\n",
              "    .colab-df-convert:hover {\n",
              "      background-color: #E2EBFA;\n",
              "      box-shadow: 0px 1px 2px rgba(60, 64, 67, 0.3), 0px 1px 3px 1px rgba(60, 64, 67, 0.15);\n",
              "      fill: #174EA6;\n",
              "    }\n",
              "\n",
              "    .colab-df-buttons div {\n",
              "      margin-bottom: 4px;\n",
              "    }\n",
              "\n",
              "    [theme=dark] .colab-df-convert {\n",
              "      background-color: #3B4455;\n",
              "      fill: #D2E3FC;\n",
              "    }\n",
              "\n",
              "    [theme=dark] .colab-df-convert:hover {\n",
              "      background-color: #434B5C;\n",
              "      box-shadow: 0px 1px 3px 1px rgba(0, 0, 0, 0.15);\n",
              "      filter: drop-shadow(0px 1px 2px rgba(0, 0, 0, 0.3));\n",
              "      fill: #FFFFFF;\n",
              "    }\n",
              "  </style>\n",
              "\n",
              "    <script>\n",
              "      const buttonEl =\n",
              "        document.querySelector('#df-e33df602-1a9c-4c3a-b6cb-d0c04c5b9d69 button.colab-df-convert');\n",
              "      buttonEl.style.display =\n",
              "        google.colab.kernel.accessAllowed ? 'block' : 'none';\n",
              "\n",
              "      async function convertToInteractive(key) {\n",
              "        const element = document.querySelector('#df-e33df602-1a9c-4c3a-b6cb-d0c04c5b9d69');\n",
              "        const dataTable =\n",
              "          await google.colab.kernel.invokeFunction('convertToInteractive',\n",
              "                                                    [key], {});\n",
              "        if (!dataTable) return;\n",
              "\n",
              "        const docLinkHtml = 'Like what you see? Visit the ' +\n",
              "          '<a target=\"_blank\" href=https://colab.research.google.com/notebooks/data_table.ipynb>data table notebook</a>'\n",
              "          + ' to learn more about interactive tables.';\n",
              "        element.innerHTML = '';\n",
              "        dataTable['output_type'] = 'display_data';\n",
              "        await google.colab.output.renderOutput(dataTable, element);\n",
              "        const docLink = document.createElement('div');\n",
              "        docLink.innerHTML = docLinkHtml;\n",
              "        element.appendChild(docLink);\n",
              "      }\n",
              "    </script>\n",
              "  </div>\n",
              "\n",
              "\n",
              "<div id=\"df-ad4c13eb-2ea8-48be-8436-60779de53ef6\">\n",
              "  <button class=\"colab-df-quickchart\" onclick=\"quickchart('df-ad4c13eb-2ea8-48be-8436-60779de53ef6')\"\n",
              "            title=\"Suggest charts\"\n",
              "            style=\"display:none;\">\n",
              "\n",
              "<svg xmlns=\"http://www.w3.org/2000/svg\" height=\"24px\"viewBox=\"0 0 24 24\"\n",
              "     width=\"24px\">\n",
              "    <g>\n",
              "        <path d=\"M19 3H5c-1.1 0-2 .9-2 2v14c0 1.1.9 2 2 2h14c1.1 0 2-.9 2-2V5c0-1.1-.9-2-2-2zM9 17H7v-7h2v7zm4 0h-2V7h2v10zm4 0h-2v-4h2v4z\"/>\n",
              "    </g>\n",
              "</svg>\n",
              "  </button>\n",
              "\n",
              "<style>\n",
              "  .colab-df-quickchart {\n",
              "      --bg-color: #E8F0FE;\n",
              "      --fill-color: #1967D2;\n",
              "      --hover-bg-color: #E2EBFA;\n",
              "      --hover-fill-color: #174EA6;\n",
              "      --disabled-fill-color: #AAA;\n",
              "      --disabled-bg-color: #DDD;\n",
              "  }\n",
              "\n",
              "  [theme=dark] .colab-df-quickchart {\n",
              "      --bg-color: #3B4455;\n",
              "      --fill-color: #D2E3FC;\n",
              "      --hover-bg-color: #434B5C;\n",
              "      --hover-fill-color: #FFFFFF;\n",
              "      --disabled-bg-color: #3B4455;\n",
              "      --disabled-fill-color: #666;\n",
              "  }\n",
              "\n",
              "  .colab-df-quickchart {\n",
              "    background-color: var(--bg-color);\n",
              "    border: none;\n",
              "    border-radius: 50%;\n",
              "    cursor: pointer;\n",
              "    display: none;\n",
              "    fill: var(--fill-color);\n",
              "    height: 32px;\n",
              "    padding: 0;\n",
              "    width: 32px;\n",
              "  }\n",
              "\n",
              "  .colab-df-quickchart:hover {\n",
              "    background-color: var(--hover-bg-color);\n",
              "    box-shadow: 0 1px 2px rgba(60, 64, 67, 0.3), 0 1px 3px 1px rgba(60, 64, 67, 0.15);\n",
              "    fill: var(--button-hover-fill-color);\n",
              "  }\n",
              "\n",
              "  .colab-df-quickchart-complete:disabled,\n",
              "  .colab-df-quickchart-complete:disabled:hover {\n",
              "    background-color: var(--disabled-bg-color);\n",
              "    fill: var(--disabled-fill-color);\n",
              "    box-shadow: none;\n",
              "  }\n",
              "\n",
              "  .colab-df-spinner {\n",
              "    border: 2px solid var(--fill-color);\n",
              "    border-color: transparent;\n",
              "    border-bottom-color: var(--fill-color);\n",
              "    animation:\n",
              "      spin 1s steps(1) infinite;\n",
              "  }\n",
              "\n",
              "  @keyframes spin {\n",
              "    0% {\n",
              "      border-color: transparent;\n",
              "      border-bottom-color: var(--fill-color);\n",
              "      border-left-color: var(--fill-color);\n",
              "    }\n",
              "    20% {\n",
              "      border-color: transparent;\n",
              "      border-left-color: var(--fill-color);\n",
              "      border-top-color: var(--fill-color);\n",
              "    }\n",
              "    30% {\n",
              "      border-color: transparent;\n",
              "      border-left-color: var(--fill-color);\n",
              "      border-top-color: var(--fill-color);\n",
              "      border-right-color: var(--fill-color);\n",
              "    }\n",
              "    40% {\n",
              "      border-color: transparent;\n",
              "      border-right-color: var(--fill-color);\n",
              "      border-top-color: var(--fill-color);\n",
              "    }\n",
              "    60% {\n",
              "      border-color: transparent;\n",
              "      border-right-color: var(--fill-color);\n",
              "    }\n",
              "    80% {\n",
              "      border-color: transparent;\n",
              "      border-right-color: var(--fill-color);\n",
              "      border-bottom-color: var(--fill-color);\n",
              "    }\n",
              "    90% {\n",
              "      border-color: transparent;\n",
              "      border-bottom-color: var(--fill-color);\n",
              "    }\n",
              "  }\n",
              "</style>\n",
              "\n",
              "  <script>\n",
              "    async function quickchart(key) {\n",
              "      const quickchartButtonEl =\n",
              "        document.querySelector('#' + key + ' button');\n",
              "      quickchartButtonEl.disabled = true;  // To prevent multiple clicks.\n",
              "      quickchartButtonEl.classList.add('colab-df-spinner');\n",
              "      try {\n",
              "        const charts = await google.colab.kernel.invokeFunction(\n",
              "            'suggestCharts', [key], {});\n",
              "      } catch (error) {\n",
              "        console.error('Error during call to suggestCharts:', error);\n",
              "      }\n",
              "      quickchartButtonEl.classList.remove('colab-df-spinner');\n",
              "      quickchartButtonEl.classList.add('colab-df-quickchart-complete');\n",
              "    }\n",
              "    (() => {\n",
              "      let quickchartButtonEl =\n",
              "        document.querySelector('#df-ad4c13eb-2ea8-48be-8436-60779de53ef6 button');\n",
              "      quickchartButtonEl.style.display =\n",
              "        google.colab.kernel.accessAllowed ? 'block' : 'none';\n",
              "    })();\n",
              "  </script>\n",
              "</div>\n",
              "    </div>\n",
              "  </div>\n"
            ],
            "application/vnd.google.colaboratory.intrinsic+json": {
              "type": "dataframe",
              "variable_name": "Act_Val_DF",
              "summary": "{\n  \"name\": \"Act_Val_DF\",\n  \"rows\": 8,\n  \"fields\": [\n    {\n      \"column\": \"Region\",\n      \"properties\": {\n        \"dtype\": \"string\",\n        \"num_unique_values\": 8,\n        \"samples\": [\n          \"South_East\",\n          \"Mid_East\",\n          \"Dublin\"\n        ],\n        \"semantic_type\": \"\",\n        \"description\": \"\"\n      }\n    },\n    {\n      \"column\": \"Avg House Price\",\n      \"properties\": {\n        \"dtype\": \"number\",\n        \"std\": 129508.30206515045,\n        \"min\": 157959.76847589048,\n        \"max\": 568231.7173842668,\n        \"num_unique_values\": 8,\n        \"samples\": [\n          223219.0488227647,\n          317824.4520107239,\n          568231.7173842668\n        ],\n        \"semantic_type\": \"\",\n        \"description\": \"\"\n      }\n    },\n    {\n      \"column\": \"Avg Rent Price\",\n      \"properties\": {\n        \"dtype\": \"number\",\n        \"std\": 391.57320411962127,\n        \"min\": 666.1333789677683,\n        \"max\": 1912.9568857235477,\n        \"num_unique_values\": 8,\n        \"samples\": [\n          888.1193297703321,\n          1246.2294316353778,\n          1912.9568857235477\n        ],\n        \"semantic_type\": \"\",\n        \"description\": \"\"\n      }\n    },\n    {\n      \"column\": \"Median House price\",\n      \"properties\": {\n        \"dtype\": \"number\",\n        \"std\": 115195.9162643457,\n        \"min\": 155538.0,\n        \"max\": 522554.0,\n        \"num_unique_values\": 8,\n        \"samples\": [\n          227813.0,\n          312237.0,\n          522554.0\n        ],\n        \"semantic_type\": \"\",\n        \"description\": \"\"\n      }\n    },\n    {\n      \"column\": \"Median rent price\",\n      \"properties\": {\n        \"dtype\": \"number\",\n        \"std\": 384.7011586654912,\n        \"min\": 659.85,\n        \"max\": 1858.88,\n        \"num_unique_values\": 8,\n        \"samples\": [\n          861.02,\n          1216.72,\n          1858.88\n        ],\n        \"semantic_type\": \"\",\n        \"description\": \"\"\n      }\n    }\n  ]\n}"
            }
          },
          "metadata": {},
          "execution_count": 197
        }
      ]
    },
    {
      "cell_type": "markdown",
      "source": [
        "#Comparing predicted values to actual values"
      ],
      "metadata": {
        "id": "Vv8bMA8fF-7-"
      }
    },
    {
      "cell_type": "code",
      "source": [
        "#plt.rcParams[\"figure.figsize\"] = [7.00, 3.50]\n",
        "#plt.rcParams[\"figure.autolayout\"] = True\n",
        "\n",
        "#ax = Avg_pred_val_DF.plot(x='Avg House Price', y='Avg Rent Price')\n",
        "#Act_Val_DF.plot(ax=ax, x='Avg House Price', y='Avg Rent Price')\n",
        "\n",
        "#plt.hist()\n",
        "#plt.show()"
      ],
      "metadata": {
        "id": "dh79t8dlXDsu"
      },
      "execution_count": null,
      "outputs": []
    },
    {
      "cell_type": "code",
      "source": [
        "# Set region as index\n",
        "Avg_pred_val_DF.set_index('Region', inplace=True)\n",
        "Act_Val_DF.set_index('Region', inplace=True)\n",
        "\n",
        "# Plotting\n",
        "fig, axes = plt.subplots(nrows=2, ncols=1, figsize=(10, 8))\n",
        "\n",
        "# Plotting mean of House Prices\n",
        "Avg_pred_val_DF['Avg House Price'].plot(kind='bar', ax=axes[0], color='skyblue', position=0.5, width=0.4, label='Predicted')\n",
        "Act_Val_DF['Avg House Price'].plot(kind='bar', ax=axes[0], color='salmon', position=-0.5, width=0.4, label='Actual')\n",
        "\n",
        "axes[0].set_title('Mean House Prices')\n",
        "axes[0].set_ylabel('Price')\n",
        "axes[0].legend()\n",
        "\n",
        "# Plotting mean of Rent Prices\n",
        "Avg_pred_val_DF['Avg Rent Price'].plot(kind='bar', ax=axes[1], color='skyblue', position=0.5, width=0.4, label='Predicted')\n",
        "Act_Val_DF['Avg Rent Price'].plot(kind='bar', ax=axes[1], color='salmon', position=-0.5, width=0.4, label='Actual')\n",
        "\n",
        "axes[1].set_title('Mean Rent Prices')\n",
        "axes[1].set_ylabel('Price')\n",
        "axes[1].legend()\n",
        "\n",
        "plt.tight_layout()\n",
        "plt.show()"
      ],
      "metadata": {
        "colab": {
          "base_uri": "https://localhost:8080/",
          "height": 520
        },
        "id": "qUYSdwO9cv6U",
        "outputId": "f6f5968c-52f3-4505-995d-e385afc03a21"
      },
      "execution_count": null,
      "outputs": [
        {
          "output_type": "display_data",
          "data": {
            "text/plain": [
              "<Figure size 1000x800 with 2 Axes>"
            ],
            "image/png": "[encoded data removed]"
          },
          "metadata": {}
        }
      ]
    },
    {
      "cell_type": "code",
      "source": [
        "# Plotting\n",
        "fig, axes = plt.subplots(nrows=2, ncols=1, figsize=(10, 8))\n",
        "\n",
        "# Plotting Median House Prices\n",
        "Avg_pred_val_DF['Median House price'].plot(kind='bar', ax=axes[0], color='skyblue', position=0.5, width=0.4, label='Predicted')\n",
        "Act_Val_DF['Median House price'].plot(kind='bar', ax=axes[0], color='salmon', position=-0.5, width=0.4, label='Actual')\n",
        "\n",
        "axes[0].set_title('Median House Prices')\n",
        "axes[0].set_ylabel('Price')\n",
        "axes[0].legend()\n",
        "\n",
        "# Plotting Median Rent Prices\n",
        "Avg_pred_val_DF['Median rent price'].plot(kind='bar', ax=axes[1], color='skyblue', position=0.5, width=0.4, label='Predicted')\n",
        "Act_Val_DF['Median rent price'].plot(kind='bar', ax=axes[1], color='salmon', position=-0.5, width=0.4, label='Actual')\n",
        "\n",
        "axes[1].set_title('Median Rent Prices')\n",
        "axes[1].set_ylabel('Price')\n",
        "axes[1].legend()\n",
        "\n",
        "plt.tight_layout()\n",
        "plt.show()"
      ],
      "metadata": {
        "colab": {
          "base_uri": "https://localhost:8080/",
          "height": 520
        },
        "id": "CTT131NPrR7T",
        "outputId": "0fed386e-a860-4301-fa0a-2d2a7633e304"
      },
      "execution_count": null,
      "outputs": [
        {
          "output_type": "display_data",
          "data": {
            "text/plain": [
              "<Figure size 1000x800 with 2 Axes>"
            ],
            "image/png": "[encoded data removed]"
          },
          "metadata": {}
        }
      ]
    },
    {
      "cell_type": "markdown",
      "source": [
        "#Displaying the ROI for all regions"
      ],
      "metadata": {
        "id": "J3WsiK1u1ZRn"
      }
    },
    {
      "cell_type": "code",
      "source": [
        "ROI = {'Region': ['Dublin', 'South East', 'South West', 'West', 'Midland', 'Mid East', 'Mid West', 'Border'],\n",
        "       'ROI': [Dub_ROI, SE_ROI, SW_ROI, W_ROI, M_ROI, ME_ROI, MW_ROI, B_ROI]}"
      ],
      "metadata": {
        "id": "1pPtuTdu1k1P"
      },
      "execution_count": null,
      "outputs": []
    },
    {
      "cell_type": "code",
      "source": [
        "pd.DataFrame.from_dict(ROI).sort_values('ROI', ascending = False)"
      ],
      "metadata": {
        "colab": {
          "base_uri": "https://localhost:8080/",
          "height": 300
        },
        "id": "zIgr5WiP2iVu",
        "outputId": "95242641-6ff9-47bf-9929-deedc2fb949e"
      },
      "execution_count": null,
      "outputs": [
        {
          "output_type": "execute_result",
          "data": {
            "text/plain": [
              "       Region       ROI\n",
              "4     Midland  1.013070\n",
              "3        West  0.958213\n",
              "1  South East  0.764173\n",
              "7      Border  0.715823\n",
              "2  South West  0.709483\n",
              "0      Dublin  0.676089\n",
              "5    Mid East  0.668709\n",
              "6    Mid West  0.104379"
            ],
            "text/html": [
              "\n",
              "  <div id=\"df-117f1f9b-d19f-4ee3-ba97-be81b12e3d49\" class=\"colab-df-container\">\n",
              "    <div>\n",
              "<style scoped>\n",
              "    .dataframe tbody tr th:only-of-type {\n",
              "        vertical-align: middle;\n",
              "    }\n",
              "\n",
              "    .dataframe tbody tr th {\n",
              "        vertical-align: top;\n",
              "    }\n",
              "\n",
              "    .dataframe thead th {\n",
              "        text-align: right;\n",
              "    }\n",
              "</style>\n",
              "<table border=\"1\" class=\"dataframe\">\n",
              "  <thead>\n",
              "    <tr style=\"text-align: right;\">\n",
              "      <th></th>\n",
              "      <th>Region</th>\n",
              "      <th>ROI</th>\n",
              "    </tr>\n",
              "  </thead>\n",
              "  <tbody>\n",
              "    <tr>\n",
              "      <th>4</th>\n",
              "      <td>Midland</td>\n",
              "      <td>1.013070</td>\n",
              "    </tr>\n",
              "    <tr>\n",
              "      <th>3</th>\n",
              "      <td>West</td>\n",
              "      <td>0.958213</td>\n",
              "    </tr>\n",
              "    <tr>\n",
              "      <th>1</th>\n",
              "      <td>South East</td>\n",
              "      <td>0.764173</td>\n",
              "    </tr>\n",
              "    <tr>\n",
              "      <th>7</th>\n",
              "      <td>Border</td>\n",
              "      <td>0.715823</td>\n",
              "    </tr>\n",
              "    <tr>\n",
              "      <th>2</th>\n",
              "      <td>South West</td>\n",
              "      <td>0.709483</td>\n",
              "    </tr>\n",
              "    <tr>\n",
              "      <th>0</th>\n",
              "      <td>Dublin</td>\n",
              "      <td>0.676089</td>\n",
              "    </tr>\n",
              "    <tr>\n",
              "      <th>5</th>\n",
              "      <td>Mid East</td>\n",
              "      <td>0.668709</td>\n",
              "    </tr>\n",
              "    <tr>\n",
              "      <th>6</th>\n",
              "      <td>Mid West</td>\n",
              "      <td>0.104379</td>\n",
              "    </tr>\n",
              "  </tbody>\n",
              "</table>\n",
              "</div>\n",
              "    <div class=\"colab-df-buttons\">\n",
              "\n",
              "  <div class=\"colab-df-container\">\n",
              "    <button class=\"colab-df-convert\" onclick=\"convertToInteractive('df-117f1f9b-d19f-4ee3-ba97-be81b12e3d49')\"\n",
              "            title=\"Convert this dataframe to an interactive table.\"\n",
              "            style=\"display:none;\">\n",
              "\n",
              "  <svg xmlns=\"http://www.w3.org/2000/svg\" height=\"24px\" viewBox=\"0 -960 960 960\">\n",
              "    <path d=\"M120-120v-720h720v720H120Zm60-500h600v-160H180v160Zm220 220h160v-160H400v160Zm0 220h160v-160H400v160ZM180-400h160v-160H180v160Zm440 0h160v-160H620v160ZM180-180h160v-160H180v160Zm440 0h160v-160H620v160Z\"/>\n",
              "  </svg>\n",
              "    </button>\n",
              "\n",
              "  <style>\n",
              "    .colab-df-container {\n",
              "      display:flex;\n",
              "      gap: 12px;\n",
              "    }\n",
              "\n",
              "    .colab-df-convert {\n",
              "      background-color: #E8F0FE;\n",
              "      border: none;\n",
              "      border-radius: 50%;\n",
              "      cursor: pointer;\n",
              "      display: none;\n",
              "      fill: #1967D2;\n",
              "      height: 32px;\n",
              "      padding: 0 0 0 0;\n",
              "      width: 32px;\n",
              "    }\n",
              "\n",
              "    .colab-df-convert:hover {\n",
              "      background-color: #E2EBFA;\n",
              "      box-shadow: 0px 1px 2px rgba(60, 64, 67, 0.3), 0px 1px 3px 1px rgba(60, 64, 67, 0.15);\n",
              "      fill: #174EA6;\n",
              "    }\n",
              "\n",
              "    .colab-df-buttons div {\n",
              "      margin-bottom: 4px;\n",
              "    }\n",
              "\n",
              "    [theme=dark] .colab-df-convert {\n",
              "      background-color: #3B4455;\n",
              "      fill: #D2E3FC;\n",
              "    }\n",
              "\n",
              "    [theme=dark] .colab-df-convert:hover {\n",
              "      background-color: #434B5C;\n",
              "      box-shadow: 0px 1px 3px 1px rgba(0, 0, 0, 0.15);\n",
              "      filter: drop-shadow(0px 1px 2px rgba(0, 0, 0, 0.3));\n",
              "      fill: #FFFFFF;\n",
              "    }\n",
              "  </style>\n",
              "\n",
              "    <script>\n",
              "      const buttonEl =\n",
              "        document.querySelector('#df-117f1f9b-d19f-4ee3-ba97-be81b12e3d49 button.colab-df-convert');\n",
              "      buttonEl.style.display =\n",
              "        google.colab.kernel.accessAllowed ? 'block' : 'none';\n",
              "\n",
              "      async function convertToInteractive(key) {\n",
              "        const element = document.querySelector('#df-117f1f9b-d19f-4ee3-ba97-be81b12e3d49');\n",
              "        const dataTable =\n",
              "          await google.colab.kernel.invokeFunction('convertToInteractive',\n",
              "                                                    [key], {});\n",
              "        if (!dataTable) return;\n",
              "\n",
              "        const docLinkHtml = 'Like what you see? Visit the ' +\n",
              "          '<a target=\"_blank\" href=https://colab.research.google.com/notebooks/data_table.ipynb>data table notebook</a>'\n",
              "          + ' to learn more about interactive tables.';\n",
              "        element.innerHTML = '';\n",
              "        dataTable['output_type'] = 'display_data';\n",
              "        await google.colab.output.renderOutput(dataTable, element);\n",
              "        const docLink = document.createElement('div');\n",
              "        docLink.innerHTML = docLinkHtml;\n",
              "        element.appendChild(docLink);\n",
              "      }\n",
              "    </script>\n",
              "  </div>\n",
              "\n",
              "\n",
              "<div id=\"df-33fd107e-f80a-47ba-9f09-ff3fed6e7121\">\n",
              "  <button class=\"colab-df-quickchart\" onclick=\"quickchart('df-33fd107e-f80a-47ba-9f09-ff3fed6e7121')\"\n",
              "            title=\"Suggest charts\"\n",
              "            style=\"display:none;\">\n",
              "\n",
              "<svg xmlns=\"http://www.w3.org/2000/svg\" height=\"24px\"viewBox=\"0 0 24 24\"\n",
              "     width=\"24px\">\n",
              "    <g>\n",
              "        <path d=\"M19 3H5c-1.1 0-2 .9-2 2v14c0 1.1.9 2 2 2h14c1.1 0 2-.9 2-2V5c0-1.1-.9-2-2-2zM9 17H7v-7h2v7zm4 0h-2V7h2v10zm4 0h-2v-4h2v4z\"/>\n",
              "    </g>\n",
              "</svg>\n",
              "  </button>\n",
              "\n",
              "<style>\n",
              "  .colab-df-quickchart {\n",
              "      --bg-color: #E8F0FE;\n",
              "      --fill-color: #1967D2;\n",
              "      --hover-bg-color: #E2EBFA;\n",
              "      --hover-fill-color: #174EA6;\n",
              "      --disabled-fill-color: #AAA;\n",
              "      --disabled-bg-color: #DDD;\n",
              "  }\n",
              "\n",
              "  [theme=dark] .colab-df-quickchart {\n",
              "      --bg-color: #3B4455;\n",
              "      --fill-color: #D2E3FC;\n",
              "      --hover-bg-color: #434B5C;\n",
              "      --hover-fill-color: #FFFFFF;\n",
              "      --disabled-bg-color: #3B4455;\n",
              "      --disabled-fill-color: #666;\n",
              "  }\n",
              "\n",
              "  .colab-df-quickchart {\n",
              "    background-color: var(--bg-color);\n",
              "    border: none;\n",
              "    border-radius: 50%;\n",
              "    cursor: pointer;\n",
              "    display: none;\n",
              "    fill: var(--fill-color);\n",
              "    height: 32px;\n",
              "    padding: 0;\n",
              "    width: 32px;\n",
              "  }\n",
              "\n",
              "  .colab-df-quickchart:hover {\n",
              "    background-color: var(--hover-bg-color);\n",
              "    box-shadow: 0 1px 2px rgba(60, 64, 67, 0.3), 0 1px 3px 1px rgba(60, 64, 67, 0.15);\n",
              "    fill: var(--button-hover-fill-color);\n",
              "  }\n",
              "\n",
              "  .colab-df-quickchart-complete:disabled,\n",
              "  .colab-df-quickchart-complete:disabled:hover {\n",
              "    background-color: var(--disabled-bg-color);\n",
              "    fill: var(--disabled-fill-color);\n",
              "    box-shadow: none;\n",
              "  }\n",
              "\n",
              "  .colab-df-spinner {\n",
              "    border: 2px solid var(--fill-color);\n",
              "    border-color: transparent;\n",
              "    border-bottom-color: var(--fill-color);\n",
              "    animation:\n",
              "      spin 1s steps(1) infinite;\n",
              "  }\n",
              "\n",
              "  @keyframes spin {\n",
              "    0% {\n",
              "      border-color: transparent;\n",
              "      border-bottom-color: var(--fill-color);\n",
              "      border-left-color: var(--fill-color);\n",
              "    }\n",
              "    20% {\n",
              "      border-color: transparent;\n",
              "      border-left-color: var(--fill-color);\n",
              "      border-top-color: var(--fill-color);\n",
              "    }\n",
              "    30% {\n",
              "      border-color: transparent;\n",
              "      border-left-color: var(--fill-color);\n",
              "      border-top-color: var(--fill-color);\n",
              "      border-right-color: var(--fill-color);\n",
              "    }\n",
              "    40% {\n",
              "      border-color: transparent;\n",
              "      border-right-color: var(--fill-color);\n",
              "      border-top-color: var(--fill-color);\n",
              "    }\n",
              "    60% {\n",
              "      border-color: transparent;\n",
              "      border-right-color: var(--fill-color);\n",
              "    }\n",
              "    80% {\n",
              "      border-color: transparent;\n",
              "      border-right-color: var(--fill-color);\n",
              "      border-bottom-color: var(--fill-color);\n",
              "    }\n",
              "    90% {\n",
              "      border-color: transparent;\n",
              "      border-bottom-color: var(--fill-color);\n",
              "    }\n",
              "  }\n",
              "</style>\n",
              "\n",
              "  <script>\n",
              "    async function quickchart(key) {\n",
              "      const quickchartButtonEl =\n",
              "        document.querySelector('#' + key + ' button');\n",
              "      quickchartButtonEl.disabled = true;  // To prevent multiple clicks.\n",
              "      quickchartButtonEl.classList.add('colab-df-spinner');\n",
              "      try {\n",
              "        const charts = await google.colab.kernel.invokeFunction(\n",
              "            'suggestCharts', [key], {});\n",
              "      } catch (error) {\n",
              "        console.error('Error during call to suggestCharts:', error);\n",
              "      }\n",
              "      quickchartButtonEl.classList.remove('colab-df-spinner');\n",
              "      quickchartButtonEl.classList.add('colab-df-quickchart-complete');\n",
              "    }\n",
              "    (() => {\n",
              "      let quickchartButtonEl =\n",
              "        document.querySelector('#df-33fd107e-f80a-47ba-9f09-ff3fed6e7121 button');\n",
              "      quickchartButtonEl.style.display =\n",
              "        google.colab.kernel.accessAllowed ? 'block' : 'none';\n",
              "    })();\n",
              "  </script>\n",
              "</div>\n",
              "    </div>\n",
              "  </div>\n"
            ],
            "application/vnd.google.colaboratory.intrinsic+json": {
              "type": "dataframe",
              "summary": "{\n  \"name\": \"pd\",\n  \"rows\": 8,\n  \"fields\": [\n    {\n      \"column\": \"Region\",\n      \"properties\": {\n        \"dtype\": \"string\",\n        \"num_unique_values\": 8,\n        \"samples\": [\n          \"West\",\n          \"Dublin\",\n          \"Midland\"\n        ],\n        \"semantic_type\": \"\",\n        \"description\": \"\"\n      }\n    },\n    {\n      \"column\": \"ROI\",\n      \"properties\": {\n        \"dtype\": \"number\",\n        \"std\": 0.2739780171550502,\n        \"min\": 0.10437924862245108,\n        \"max\": 1.0130698930221156,\n        \"num_unique_values\": 8,\n        \"samples\": [\n          0.9582126896443987,\n          0.6760885429892833,\n          1.0130698930221156\n        ],\n        \"semantic_type\": \"\",\n        \"description\": \"\"\n      }\n    }\n  ]\n}"
            }
          },
          "metadata": {},
          "execution_count": 204
        }
      ]
    }
  ]
}